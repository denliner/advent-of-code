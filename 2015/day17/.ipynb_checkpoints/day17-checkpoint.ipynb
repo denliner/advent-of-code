{
 "cells": [
  {
   "cell_type": "code",
   "execution_count": 44,
   "id": "094cd886-3b86-432c-a337-bb06d7c1e63c",
   "metadata": {},
   "outputs": [
    {
     "data": {
      "text/plain": [
       "(3, 2, 3)"
      ]
     },
     "execution_count": 44,
     "metadata": {},
     "output_type": "execute_result"
    }
   ],
   "source": [
    "from functools import cache\n",
    "from itertools import combinations\n",
    "with open(\"input.txt\") as f:\n",
    "    inp=list(map(int,f.read().strip().splitlines()))\n",
    "maxx=25\n",
    "def DFS(liters,liste,maxx,rest):\n",
    "    nonT=list(liste)\n",
    "    if(liters>maxx):\n",
    "        return 0\n",
    "    elif(liters==maxx):\n",
    "        print(rest)\n",
    "        return 1\n",
    "    else:\n",
    "        somme=0\n",
    "        for elem in liste:\n",
    "            tup=nonT.copy()\n",
    "            cope=rest.copy()\n",
    "            cope.append(elem)\n",
    "            tup.remove(elem)\n",
    "            somme+=DFS(liters+elem,tuple(tup),maxx,cope)\n",
    "        return somme\n",
    "#reste=list([])\n",
    "#DFS(0,tuple(inp),25,reste)\n",
    "#inp.remove(5)\n",
    "#inp\n",
    "combiALL=[]\n",
    "first=None\n",
    "numberfirst=0\n",
    "over=None\n",
    "for i in range(2,len(inp)+1):\n",
    "    combiALL+=list(combinations(inp,i))\n",
    "#list(combinations(inp,3))+list(combinations(inp,2))+list(combinations(inp,4))+[]\n",
    "count=0\n",
    "for elem in combiALL:\n",
    "    if(sum(elem)==maxx):\n",
    "        if(not over):\n",
    "            leng=len(elem)\n",
    "            if(first and leng>first):\n",
    "                over=True\n",
    "                continue\n",
    "            first=leng\n",
    "            numberfirst+=1\n",
    "        count+=1\n",
    "count,first,numberfirst"
   ]
  }
 ],
 "metadata": {
  "kernelspec": {
   "display_name": "Python 3 (ipykernel)",
   "language": "python",
   "name": "python3"
  },
  "language_info": {
   "codemirror_mode": {
    "name": "ipython",
    "version": 3
   },
   "file_extension": ".py",
   "mimetype": "text/x-python",
   "name": "python",
   "nbconvert_exporter": "python",
   "pygments_lexer": "ipython3",
   "version": "3.11.5"
  }
 },
 "nbformat": 4,
 "nbformat_minor": 5
}
