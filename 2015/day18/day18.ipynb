{
 "cells": [
  {
   "cell_type": "code",
   "execution_count": 1,
   "id": "794de7e7-817f-4670-b0e2-3a34f5da077d",
   "metadata": {},
   "outputs": [
    {
     "data": {
      "text/plain": [
       "781"
      ]
     },
     "execution_count": 1,
     "metadata": {},
     "output_type": "execute_result"
    }
   ],
   "source": [
    "IMP=\"input.txt\"\n",
    "from collections import defaultdict\n",
    "import numpy as np\n",
    "\n",
    "\n",
    "DIRECTION=[(1,0),(0,1),(1,1),(-1,0),\n",
    "           (0,-1),(1,-1),(-1,1),(-1,-1)]\n",
    "grid=defaultdict(int)\n",
    "with  open(IMP) as f:\n",
    "    inpu=f.read().splitlines()\n",
    "MAXX,MAXY=len(inpu),len(inpu[0])\n",
    "for x,elem in enumerate(inpu):\n",
    "    for y,ele in enumerate(elem):\n",
    "        if(ele==\"#\"):\n",
    "            grid[(x,y)]=True\n",
    "\n",
    "def checkElem(grid,coord,isLife):\n",
    "    n=0\n",
    "    neigh=[]\n",
    "    for d in DIRECTION:\n",
    "        newC=(coord[0]+d[0],coord[1]+d[1])\n",
    "        neigh.append(newC)\n",
    "        if(newC in grid):\n",
    "            n+=1\n",
    "    neigh= [x for x in neigh if ((0<=x[0]<MAXX) and (0<=x[1]<MAXY)  )]\n",
    "    if(n==2 or n==3 ):\n",
    "        if(isLife or n==3):\n",
    "            return True,neigh\n",
    "        else:\n",
    "            return False,neigh\n",
    "    else:\n",
    "        return False,neigh\n",
    "\n",
    "checkElem(grid,(0,0),False),MAXX,MAXY\n",
    "\n",
    "def turn(grid):\n",
    "    newG=defaultdict(int)\n",
    "    n=[]\n",
    "    for elem in grid:\n",
    "        isLife,nT=checkElem(grid,elem,True)\n",
    "        n=n+nT \n",
    "        if(isLife):\n",
    "            newG[elem]=True\n",
    "    n= list(set(n))\n",
    "    #print(n)\n",
    "    for elem in n:\n",
    "        life=True if elem in grid else False\n",
    "        isLife,nT=checkElem(grid,elem,life)\n",
    "     #   print(elem,life,isLife)\n",
    "        if(isLife):\n",
    "            newG[elem]=True\n",
    "    return newG\n",
    "\n",
    "def editGrid(grid,isP2):\n",
    "    ng=turn(grid)\n",
    "    #ng=checkElem(grid,(0,2),False)\n",
    "    #,MAXX,MAXY\n",
    "   # g= [[\".\" for x in range(MAXY)] for y in range(MAXX)] \n",
    "    #g=[list(\".\"*MAXY) ]*MAXX\n",
    "    #print(MAXX,MAXY)\n",
    "    if(isP2):\n",
    "        ng[(0,0)]=True\n",
    "        ng[(MAXX-1,MAXY-1)]=True\n",
    "        ng[(MAXX-1,0)]=True\n",
    "        ng[(0,MAXY-1)]=True\n",
    "   # for elem in ng:\n",
    "      #  print(type(elem[0]),elem)\n",
    "  #      g[elem[0]][elem[1]]=\"#\"\n",
    "    \n",
    " #   print(np.matrix(g),\"\\n\")\n",
    "    return ng\n",
    "isP2=True\n",
    "if(isP2):\n",
    "        grid[(0,0)]=True\n",
    "        grid[(MAXX-1,MAXY-1)]=True\n",
    "        grid[(MAXX-1,0)]=True\n",
    "        grid[(0,MAXY-1)]=True\n",
    "for i in range(100):\n",
    "    grid=editGrid(grid,isP2)\n",
    "\n",
    "\n",
    "\n",
    "len(grid.keys())"
   ]
  },
  {
   "cell_type": "code",
   "execution_count": 23,
   "id": "186edebe-8091-47c4-9072-91c5914a9145",
   "metadata": {},
   "outputs": [
    {
     "data": {
      "text/plain": [
       "[2, 2, 3, 3]"
      ]
     },
     "execution_count": 23,
     "metadata": {},
     "output_type": "execute_result"
    }
   ],
   "source": []
  }
 ],
 "metadata": {
  "kernelspec": {
   "display_name": "Python 3 (ipykernel)",
   "language": "python",
   "name": "python3"
  },
  "language_info": {
   "codemirror_mode": {
    "name": "ipython",
    "version": 3
   },
   "file_extension": ".py",
   "mimetype": "text/x-python",
   "name": "python",
   "nbconvert_exporter": "python",
   "pygments_lexer": "ipython3",
   "version": "3.11.6"
  }
 },
 "nbformat": 4,
 "nbformat_minor": 5
}
