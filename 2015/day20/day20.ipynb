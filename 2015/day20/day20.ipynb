{
 "cells": [
  {
   "cell_type": "code",
   "execution_count": 2,
   "id": "1c57a086-0428-4b68-be73-2ac0a0034eb4",
   "metadata": {},
   "outputs": [
    {
     "name": "stdout",
     "output_type": "stream",
     "text": [
      "Part 1: 831600\n",
      "Part 2: 884520\n"
     ]
    }
   ],
   "source": [
    "#It's a bruteforce approach with a fast\n",
    "#get divisior algorithm\n",
    "INPUT=36000000\n",
    "def getDivs(N):\n",
    "    factors = {1}\n",
    "    maxP  = int(N**0.5)\n",
    "    p,inc = 2,1\n",
    "    while p <= maxP:\n",
    "        while N%p==0:\n",
    "            factors.update([f*p for f in factors])\n",
    "            N //= p\n",
    "            maxP = int(N**0.5)\n",
    "        p,inc = p+inc,2\n",
    "    if N>1:\n",
    "        factors.update([f*N for f in factors])\n",
    "    return sorted(factors)   \n",
    "\n",
    "def day20(INPUT):\n",
    "    p1,p2= False,False\n",
    "    for i in range(1,INPUT):\n",
    "        divL=getDivs(i)\n",
    "        divL2P1= [x*10 for x in divL]\n",
    "        divL2P2= [x*11 for x in divL if (i/x)<50]\n",
    "        resultP1=sum(divL2P1)\n",
    "        resultP2=sum(divL2P2)\n",
    "        if(resultP1>=INPUT and not p1):\n",
    "            print(\"Part 1:\",i)\n",
    "            p1=True\n",
    "        if(resultP2>=INPUT and not p2):\n",
    "            print(\"Part 2:\",i)\n",
    "            p2=True\n",
    "        if(p1 and p2):\n",
    "            break\n",
    "day20(INPUT)\n"
   ]
  }
 ],
 "metadata": {
  "kernelspec": {
   "display_name": "Python 3 (ipykernel)",
   "language": "python",
   "name": "python3"
  },
  "language_info": {
   "codemirror_mode": {
    "name": "ipython",
    "version": 3
   },
   "file_extension": ".py",
   "mimetype": "text/x-python",
   "name": "python",
   "nbconvert_exporter": "python",
   "pygments_lexer": "ipython3",
   "version": "3.11.5"
  }
 },
 "nbformat": 4,
 "nbformat_minor": 5
}
