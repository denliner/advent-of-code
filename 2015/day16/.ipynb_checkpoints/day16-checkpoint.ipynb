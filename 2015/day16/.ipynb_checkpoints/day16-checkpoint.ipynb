{
 "cells": [
  {
   "cell_type": "code",
   "execution_count": 5,
   "id": "f296ce3e-8265-4398-b492-a984c5b4ba9e",
   "metadata": {},
   "outputs": [
    {
     "data": {
      "text/plain": [
       "(405,\n",
       " 3,\n",
       " {'children': 3,\n",
       "  'cats': 7,\n",
       "  'samoyeds': 2,\n",
       "  'pomeranians': 3,\n",
       "  'akitas': 0,\n",
       "  'vizslas': 0,\n",
       "  'goldfish': 5,\n",
       "  'trees': 3,\n",
       "  'cars': 2,\n",
       "  'perfumes': 1})"
      ]
     },
     "execution_count": 5,
     "metadata": {},
     "output_type": "execute_result"
    }
   ],
   "source": [
    "import re\n",
    "from collections import defaultdict\n",
    "isP2=True\n",
    "goodSue=\"Sue 0: children: 3, cats: 7, samoyeds: 2, pomeranians: 3, akitas: 0, vizslas: 0, goldfish: 5, trees: 3, cars: 2, perfumes: 1\"\n",
    "\n",
    "listElem=[\"children\",\"cats\", \"samoyeds\",\n",
    " \"pomeranians\", \"akitas\",\"vizslas\",\n",
    " \"goldfish\",\"trees\",\"cars\",\"perfumes\"]\n",
    "\n",
    "grt=[\"cats\",\"trees\"]\n",
    "fw = [\"pomeranians\",\"goldfish\"] \n",
    "dictTest={}\n",
    "for elem in listElem:\n",
    "    dictTest[elem]=0\n",
    "\n",
    "dictTest\n",
    "SueDict=defaultdict(dict)\n",
    "with open(\"input.txt\") as f:\n",
    "    res=f.read().strip().splitlines()\n",
    "\n",
    "\n",
    "name=list(re.findall(\"[^\\d\\W]+\",goodSue))\n",
    "number=list(map(int,re.findall(\"\\d+\",goodSue)))\n",
    "sue=number[0]\n",
    "name,number=name[1:],number[1:]\n",
    "for i,elem in enumerate(name):\n",
    "    dictTest[elem]=number[i]\n",
    "\n",
    "\n",
    "for elem in res:\n",
    "    name=list(re.findall(\"[^\\d\\W]+\",elem))\n",
    "    number=list(map(int,re.findall(\"\\d+\",elem)))\n",
    "    sue=number[0]\n",
    "    name,number=name[1:],number[1:]\n",
    "    for i,elem in enumerate(name):\n",
    "        SueDict[sue][elem]=number[i]\n",
    "    SueDict[sue][\"count\"]=0\n",
    "\n",
    "\n",
    "for elem in SueDict:\n",
    "    for e in dictTest:\n",
    "        if(e in SueDict[elem].keys()):\n",
    "            if(isP2):\n",
    "                if(e in grt):\n",
    "                    if(SueDict[elem][e]>dictTest[e]):\n",
    "                        SueDict[elem][\"count\"]+=1\n",
    "                elif(e in fw):\n",
    "                    if(SueDict[elem][e]<dictTest[e]):\n",
    "                        SueDict[elem][\"count\"]+=1\n",
    "                else:\n",
    "                    if(SueDict[elem][e]==dictTest[e]):\n",
    "                        SueDict[elem][\"count\"]+=1\n",
    "            else:\n",
    "                if(SueDict[elem][e]==dictTest[e]):\n",
    "                        SueDict[elem][\"count\"]+=1\n",
    "\n",
    "#SueDict,dictTest\n",
    "maxx=0\n",
    "idMaxx=0\n",
    "for elem in SueDict:\n",
    "    if(SueDict[elem][\"count\"]>maxx):\n",
    "        idMaxx=elem\n",
    "        maxx=SueDict[elem][\"count\"]\n",
    "\n",
    "\n",
    "idMaxx,maxx,dictTest"
   ]
  },
  {
   "cell_type": "code",
   "execution_count": null,
   "id": "595abd56-c835-4c7e-8247-7ed8a45522ab",
   "metadata": {},
   "outputs": [],
   "source": [
    "\n"
   ]
  }
 ],
 "metadata": {
  "kernelspec": {
   "display_name": "Python 3 (ipykernel)",
   "language": "python",
   "name": "python3"
  },
  "language_info": {
   "codemirror_mode": {
    "name": "ipython",
    "version": 3
   },
   "file_extension": ".py",
   "mimetype": "text/x-python",
   "name": "python",
   "nbconvert_exporter": "python",
   "pygments_lexer": "ipython3",
   "version": "3.11.5"
  }
 },
 "nbformat": 4,
 "nbformat_minor": 5
}
