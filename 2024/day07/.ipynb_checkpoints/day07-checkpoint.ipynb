{
 "cells": [
  {
   "cell_type": "code",
   "execution_count": 9,
   "id": "1d4becac-3128-44a8-88fd-f609b2c66c62",
   "metadata": {},
   "outputs": [
    {
     "data": {
      "text/plain": [
       "125"
      ]
     },
     "execution_count": 9,
     "metadata": {},
     "output_type": "execute_result"
    }
   ],
   "source": [
    "from collections import defaultdict\n",
    "import itertools\n",
    "import operator\n",
    "\n",
    "\n",
    "with open(\"input.txt\") as f:\n",
    "    inp=f.read().splitlines()\n",
    "\n",
    "ops={}\n",
    "\n",
    "def conqOp(a,b):\n",
    "    return int(str(a)+str(b))\n",
    "\n",
    "\n",
    "ope={ \"*\":operator.mul,\"+\":operator.add,\"|\":conqOp}\n",
    "\n",
    "\n",
    "for elem in inp:\n",
    "    temp=list(map(int,elem.replace(\": \",\" \").split()))\n",
    "    ops[temp[0]]=temp[1:]\n",
    "summP1=0\n",
    "for target in ops.keys():\n",
    "    good=False\n",
    "    first=ops[target][0]\n",
    "    rest=ops[target][1:]\n",
    "    lOper=list(itertools.product('*+|', repeat=len(rest)))\n",
    "    for line in lOper:\n",
    "        summ=first\n",
    "        for i,o in enumerate(line):\n",
    "            summ=ope[o](summ,rest[i])\n",
    "        #summ=str(first)\n",
    "        # for i,o in enumerate(line):\n",
    "        #     summ+=o+str(rest[i])\n",
    "        # print(summ)\n",
    "        # summ=eval(summ)\n",
    "        # print(summ)\n",
    "        if(summ==target):\n",
    "        #    print(target)\n",
    "            good=True\n",
    "            summP1+=target\n",
    "            break\n",
    "            \n",
    "        \n",
    "        \n",
    "\n",
    "ops\n",
    "#list(itertools.combinations([\"*\",\"+\"], 2))\n",
    "#ope[\"*\"](2,2)\n",
    "summP1\n",
    "#list(itertools.product('*+', repeat=4))\n",
    "conqOp(12,5)"
   ]
  }
 ],
 "metadata": {
  "kernelspec": {
   "display_name": "PyPy3",
   "language": "python",
   "name": "pypy3"
  },
  "language_info": {
   "codemirror_mode": {
    "name": "ipython",
    "version": 3
   },
   "file_extension": ".py",
   "mimetype": "text/x-python",
   "name": "python",
   "nbconvert_exporter": "python",
   "pygments_lexer": "ipython3",
   "version": "3.10.14"
  }
 },
 "nbformat": 4,
 "nbformat_minor": 5
}
