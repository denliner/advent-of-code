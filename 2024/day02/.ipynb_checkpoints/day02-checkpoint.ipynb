{
 "cells": [
  {
   "cell_type": "code",
   "execution_count": null,
   "id": "fddb6b03-a610-46ce-b332-fd6e61d91d47",
   "metadata": {},
   "outputs": [],
   "source": [
    "from copy import deepcopy\n",
    "\n",
    "with open(\"input.txt\") as f:\n",
    "    inp=f.read().splitlines()\n",
    "    inp=[list(map(int, x.split())) for x in inp]\n",
    "\n",
    "def safeTest(elem):\n",
    "    increase=False\n",
    "    decrease=False\n",
    "    error=0\n",
    "    safe=True\n",
    "    for i,e in enumerate(elem[:-1]):\n",
    "        s=elem[i]-elem[i+1]\n",
    "        if(s<0):\n",
    "            if(increase or abs(s)>3):\n",
    "                safe=False\n",
    "                break\n",
    "            decrease=True\n",
    "        elif(s>0):\n",
    "            if(decrease or abs(s)>3):\n",
    "                safe=False\n",
    "                break\n",
    "            increase=True\n",
    "        else:\n",
    "            safe=False\n",
    "            break\n",
    "    #print(safe,elem)\n",
    "    return 1 if safe else 0\n",
    "\n",
    "inp\n",
    "safeSum=0\n",
    "safeSum2=0\n",
    "for elem in inp:\n",
    "    safeSum+=safeTest(elem)\n",
    "    for i,e in enumerate(elem):\n",
    "        c=deepcopy(elem)\n",
    "        del c[i]\n",
    "        safeP2=safeTest(c)\n",
    "        if(safeP2):\n",
    "            safeSum2+=1\n",
    "            break\n",
    "    \n",
    "safeSum,safeSum2"
   ]
  }
 ],
 "metadata": {
  "kernelspec": {
   "display_name": "PyPy3",
   "language": "python",
   "name": "pypy3"
  },
  "language_info": {
   "codemirror_mode": {
    "name": "ipython",
    "version": 3
   },
   "file_extension": ".py",
   "mimetype": "text/x-python",
   "name": "python",
   "nbconvert_exporter": "python",
   "pygments_lexer": "ipython3",
   "version": "3.10.14"
  }
 },
 "nbformat": 4,
 "nbformat_minor": 5
}
