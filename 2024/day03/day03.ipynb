{
 "cells": [
  {
   "cell_type": "code",
   "execution_count": 12,
   "id": "517d3a7b-a683-4635-973e-f3c3c8d15b86",
   "metadata": {},
   "outputs": [
    {
     "data": {
      "text/plain": [
       "(153469856, 77055967)"
      ]
     },
     "execution_count": 12,
     "metadata": {},
     "output_type": "execute_result"
    }
   ],
   "source": [
    "import re,math\n",
    "p1Exp='mul\\(\\d{1,3},\\d{1,3}\\)'\n",
    "p2Exp='mul\\(\\d{1,3},\\d{1,3}\\)|don\\'t\\(\\)|do\\(\\)'\n",
    "with open(\"input.txt\") as f:\n",
    "    inp=f.read() \n",
    "sumP1=0\n",
    "sumP2=0\n",
    "lMul=re.findall(p1Exp,inp)\n",
    "allOps=re.findall(p2Exp,inp) \n",
    "lMul2=[]\n",
    "enabled=True\n",
    "for elem in allOps:\n",
    "    if elem=='do()':\n",
    "        enabled=True\n",
    "    elif(elem==\"don\\'t()\"):\n",
    "        enabled=False\n",
    "    elif(enabled):\n",
    "        lMul2.append(elem)\n",
    "for elem in lMul:\n",
    "    sumP1+=math.prod(list(map(int, re.findall(\"\\d+\",elem) )))\n",
    "for elem in lMul2:\n",
    "    sumP2+=math.prod(list(map(int, re.findall(\"\\d+\",elem) )))\n",
    "    \n",
    "sumP1,sumP2\n",
    "#allOps,lMul2\n",
    "    "
   ]
  }
 ],
 "metadata": {
  "kernelspec": {
   "display_name": "PyPy3",
   "language": "python",
   "name": "pypy3"
  },
  "language_info": {
   "codemirror_mode": {
    "name": "ipython",
    "version": 3
   },
   "file_extension": ".py",
   "mimetype": "text/x-python",
   "name": "python",
   "nbconvert_exporter": "python",
   "pygments_lexer": "ipython3",
   "version": "3.10.14"
  }
 },
 "nbformat": 4,
 "nbformat_minor": 5
}
