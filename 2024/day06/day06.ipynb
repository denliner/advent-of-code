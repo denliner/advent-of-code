{
 "cells": [
  {
   "cell_type": "code",
   "execution_count": 34,
   "id": "3ab972a4-28ca-4904-beb7-d5f827fbe655",
   "metadata": {},
   "outputs": [
    {
     "data": {
      "text/plain": [
       "(4789, 1304)"
      ]
     },
     "execution_count": 34,
     "metadata": {},
     "output_type": "execute_result"
    }
   ],
   "source": [
    "#part 2 is bruteforced\n",
    "\n",
    "from copy import deepcopy\n",
    "\n",
    "with open(\"input.txt\") as f:\n",
    "    inp=f.read().splitlines()\n",
    "symbole={\"^\":0,\"v\": 2,\"<\":3,\">\":1 }\n",
    "dirr={0:(-1,0),2:(1,0),3:(0,-1),1:(0,1)}\n",
    "path={}\n",
    "inp\n",
    "def goTo(currD,currP,maxX,maxY,w,visited,P2):\n",
    "    newP=(currP[0]+dirr[currD][0],currP[1]+dirr[currD][1])\n",
    "    if(0<=newP[0]<maxX and 0<=newP[1]<maxY):\n",
    "        if(newP in w.keys()):\n",
    "            #print(\"p2\",P2,(currP,(currD+1)%4) )\n",
    "            if(P2):\n",
    "                if ((currP,(currD+1)%4) in visited):\n",
    "        #            print(\"check\")\n",
    "                    return currP,(currD+1)%4,True,False\n",
    "                \n",
    "            return currP,(currD+1)%4,True,True\n",
    "        else:\n",
    "            #print(\"p2\",P2,(newP,currD) in visited)\n",
    "            if(P2):\n",
    "                if((newP,currD) in visited):\n",
    "     #               print(\"check2\")\n",
    "                    return newP,currD,True,False \n",
    "            return newP,currD,True,True\n",
    "    else:\n",
    "        return currP,currD,False,True\n",
    "    \n",
    "    \n",
    "minX,minY = 0,0\n",
    "\n",
    "currD=None\n",
    "currP=None\n",
    "\n",
    "maxX,maxY = len(inp),len(inp[0])\n",
    "wall={}\n",
    "for i,line in enumerate(inp):\n",
    "    for j,elem in enumerate(line):\n",
    "        if(elem==\"#\"):\n",
    "            wall[(i,j)]=True\n",
    "        if(elem in symbole.keys()):\n",
    "            currD=symbole[elem]\n",
    "            currP=(i,j)\n",
    "            path[(i,j)]=True\n",
    "\n",
    "def loop(path,currP,currD,w,P2):\n",
    "    nP=deepcopy(path)\n",
    "    visited=set()\n",
    "    while True:\n",
    "        currP,currD,cond,cond2=goTo(currD,currP,maxX,maxY,w,visited,P2)\n",
    "        if(not cond):\n",
    "            break\n",
    "        if(not cond2):\n",
    "            return 0,False\n",
    "        else:\n",
    "            nP[currP]=True\n",
    "            visited.add((currP,currD))\n",
    "    return len(nP.keys()),True\n",
    "silver,_=loop(path,currP,currD,deepcopy(wall),False)\n",
    "\n",
    "gold=0\n",
    "for i,line in enumerate(inp):\n",
    "    for j,elem in enumerate(line):\n",
    "        if((i,j) in path.keys() ):\n",
    "            continue\n",
    "        #print(i,j)\n",
    "        nW=deepcopy(wall)\n",
    "        nW[(i,j)]=True\n",
    "        _,condition=loop(path,currP,currD,nW,True)\n",
    "        gold+=1 if not condition else 0\n",
    "\n",
    "\n",
    "\n",
    "silver,gold\n"
   ]
  }
 ],
 "metadata": {
  "kernelspec": {
   "display_name": "PyPy3",
   "language": "python",
   "name": "pypy3"
  },
  "language_info": {
   "codemirror_mode": {
    "name": "ipython",
    "version": 3
   },
   "file_extension": ".py",
   "mimetype": "text/x-python",
   "name": "python",
   "nbconvert_exporter": "python",
   "pygments_lexer": "ipython3",
   "version": "3.10.14"
  }
 },
 "nbformat": 4,
 "nbformat_minor": 5
}
