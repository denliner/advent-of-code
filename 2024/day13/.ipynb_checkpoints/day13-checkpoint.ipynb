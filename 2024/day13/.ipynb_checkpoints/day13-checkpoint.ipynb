{
 "cells": [
  {
   "cell_type": "code",
   "execution_count": 4,
   "id": "3e5454f4-5e63-4a6c-a985-44ab28d35f26",
   "metadata": {},
   "outputs": [
    {
     "name": "stdout",
     "output_type": "stream",
     "text": [
      "[29023, 96787395375634]\n"
     ]
    }
   ],
   "source": [
    "import re\n",
    "from sympy import Matrix, solve_linear_system\n",
    "from sympy.abc import a, b\n",
    "INPUT=\"input.txt\"\n",
    "\n",
    "with open(INPUT) as f:\n",
    "    inp=f.read().split(\"\\n\\n\")\n",
    "    inp=[x.splitlines() for x in inp]\n",
    "    inp=[[list(map(int,re.findall(\"\\d+\",y))) for y in x] for x in inp]\n",
    "\n",
    "silverGold=[]\n",
    "for bias in [0,10000000000000]:\n",
    "    summ=0\n",
    "    for eq in inp:\n",
    "        x,y=eq[2]\n",
    "        x1,x2 = eq[0][0],eq[1][0]\n",
    "        y1,y2 = eq[0][1],eq[1][1]\n",
    "        system = Matrix(( (x1,x2,x+bias), (y1,y2, y+bias)))\n",
    "        result=solve_linear_system(system, a, b)\n",
    "        if(result[a].is_integer and result[b].is_integer):\n",
    "            summ+=result[a]*3+result[b]\n",
    "    silverGold.append(summ)\n",
    "print(silverGold)\n"
   ]
  }
 ],
 "metadata": {
  "kernelspec": {
   "display_name": "PyPy3",
   "language": "python",
   "name": "pypy3"
  },
  "language_info": {
   "codemirror_mode": {
    "name": "ipython",
    "version": 3
   },
   "file_extension": ".py",
   "mimetype": "text/x-python",
   "name": "python",
   "nbconvert_exporter": "python",
   "pygments_lexer": "ipython3",
   "version": "3.10.14"
  }
 },
 "nbformat": 4,
 "nbformat_minor": 5
}
