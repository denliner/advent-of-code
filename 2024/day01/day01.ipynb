{
 "cells": [
  {
   "cell_type": "code",
   "execution_count": 7,
   "id": "4040e608-fbe7-453d-9737-1032eb704af8",
   "metadata": {},
   "outputs": [
    {
     "data": {
      "text/plain": [
       "(2113135, 19097157)"
      ]
     },
     "execution_count": 7,
     "metadata": {},
     "output_type": "execute_result"
    }
   ],
   "source": [
    "# inp=\"3   4\\n4   3\\n2   5\\n1   3\\n3   9\\n3   3\"\n",
    "# inp=inp.splitlines()\n",
    "with open(\"input.txt\") as f:\n",
    "    inp=f.read().splitlines()\n",
    "inp=[x.split() for x in inp]\n",
    "first,second=[],[]\n",
    "for elem in inp:\n",
    "    first.append(int(elem[0]))\n",
    "    second.append(int(elem[1]))\n",
    "\n",
    "first.sort(),second.sort()\n",
    "\n",
    "summ,summ2=0,0\n",
    "for i,elem in enumerate(first):\n",
    "    summ+=abs(elem-second[i])\n",
    "    summ2+=(elem*second.count(elem))\n",
    "\n",
    "\n",
    "summ,summ2"
   ]
  }
 ],
 "metadata": {
  "kernelspec": {
   "display_name": "PyPy3",
   "language": "python",
   "name": "pypy3"
  },
  "language_info": {
   "codemirror_mode": {
    "name": "ipython",
    "version": 3
   },
   "file_extension": ".py",
   "mimetype": "text/x-python",
   "name": "python",
   "nbconvert_exporter": "python",
   "pygments_lexer": "ipython3",
   "version": "3.10.14"
  }
 },
 "nbformat": 4,
 "nbformat_minor": 5
}
