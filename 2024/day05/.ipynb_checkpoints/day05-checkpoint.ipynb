{
 "cells": [
  {
   "cell_type": "code",
   "execution_count": 10,
   "id": "529dae24-69be-4a66-a6d2-43d5140296d8",
   "metadata": {},
   "outputs": [
    {
     "data": {
      "text/plain": [
       "(5713, 5180)"
      ]
     },
     "execution_count": 10,
     "metadata": {},
     "output_type": "execute_result"
    }
   ],
   "source": [
    "from collections import defaultdict\n",
    "\n",
    "with open(\"input.txt\") as f:\n",
    "    inp=f.read().split(\"\\n\\n\")\n",
    "rules=inp[0].splitlines()\n",
    "\n",
    "rules=[list(map(int,x.split(\"|\"))) for x in rules ]\n",
    "\n",
    "rDict,rDict2=defaultdict(set),defaultdict(set)\n",
    "for elem in rules:\n",
    "    rDict[elem[1]].add(elem[0])\n",
    "    rDict2[elem[0]].add(elem[1])\n",
    "rDict,rDict2\n",
    "updates=inp[1].splitlines()\n",
    "updates=[list(map(int,x.split(\",\"))) for x in updates ]\n",
    "def checkUp(up):\n",
    "    good=True\n",
    "    mid=len(up)//2\n",
    "  #  print(up)\n",
    "    for i,elem in enumerate(up):\n",
    "        before=up[:i]\n",
    "        after=up[i:]\n",
    "        for r in rDict[elem]:\n",
    "            if r in up:\n",
    "                if(r in before):\n",
    "                    continue\n",
    "                else:\n",
    "                    #print(\"error:\",elem,r,up)\n",
    "                    good=False\n",
    "                    break\n",
    "        if(not good):\n",
    "            break\n",
    "    return (up[mid],True) if good else (0,False)\n",
    "        #print(up[mid])\n",
    "\n",
    "\n",
    "\n",
    "\n",
    "\n",
    "def switchUp(up):\n",
    "    cope=up.copy()\n",
    "    mid=len(up)//2\n",
    "    good=True\n",
    "  #  print(up)\n",
    "    for i,elem in enumerate(up):\n",
    "        before=up[:i]\n",
    "        after=up[i:]\n",
    "        for r in rDict[elem]:\n",
    "            if r in up:\n",
    "                if(r in before):\n",
    "                    continue\n",
    "                else:\n",
    "                    #print(\"error:\",elem,r,up)\n",
    "                    good=False\n",
    "                    indice=cope.index(r)\n",
    "                    cope[i], cope[indice] =  cope[indice], cope[i]\n",
    "                    break\n",
    "        if(not good):\n",
    "            break\n",
    "    if(good):\n",
    "        return up[mid]\n",
    "    else:\n",
    "        return switchUp(cope)\n",
    "        \n",
    "summ=0\n",
    "summ2=0\n",
    "bad=[]\n",
    "for up in updates:\n",
    "    result=checkUp(up)\n",
    "    if(not result[1]):\n",
    "        summ2+=switchUp(up)\n",
    "    else:\n",
    "        summ+=result[0]\n",
    "\n",
    "up\n",
    "summ,summ2"
   ]
  },
  {
   "cell_type": "code",
   "execution_count": 8,
   "id": "050bf481-ea7d-43ef-a3af-92d8485569aa",
   "metadata": {},
   "outputs": [
    {
     "data": {
      "text/plain": [
       "(47, 29, 47)"
      ]
     },
     "execution_count": 8,
     "metadata": {},
     "output_type": "execute_result"
    }
   ],
   "source": [
    "ts=[1,2,2,5,2]\n",
    "ts.index(2)\n",
    "switchUp(bad[0]),switchUp(bad[1]),switchUp(bad[2]) "
   ]
  }
 ],
 "metadata": {
  "kernelspec": {
   "display_name": "PyPy3",
   "language": "python",
   "name": "pypy3"
  },
  "language_info": {
   "codemirror_mode": {
    "name": "ipython",
    "version": 3
   },
   "file_extension": ".py",
   "mimetype": "text/x-python",
   "name": "python",
   "nbconvert_exporter": "python",
   "pygments_lexer": "ipython3",
   "version": "3.10.14"
  }
 },
 "nbformat": 4,
 "nbformat_minor": 5
}
