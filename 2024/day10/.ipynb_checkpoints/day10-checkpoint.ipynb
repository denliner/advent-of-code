{
 "cells": [
  {
   "cell_type": "code",
   "execution_count": 35,
   "id": "bf609d7a-a667-458c-bd19-b89904bb93e3",
   "metadata": {},
   "outputs": [
    {
     "data": {
      "text/plain": [
       "733"
      ]
     },
     "execution_count": 35,
     "metadata": {},
     "output_type": "execute_result"
    }
   ],
   "source": [
    "INPUT=\"input.txt\"\n",
    "DIRR= [(0,1),(0,-1),(1,0),(-1,0)]\n",
    "good={}\n",
    "trail=[]\n",
    "with open(INPUT) as f:\n",
    "    inp=f.read().splitlines()\n",
    "    #inp= [list(map(int,x)) for x in inp]\n",
    "inp\n",
    "#print(\"\\n\".join(inp))\n",
    "ZERO=[]\n",
    "for i in range(len(inp)):\n",
    "    for j in range(len(inp[0])):\n",
    "        if(inp[i][j]==\"0\"):\n",
    "            ZERO.append((i,j))\n",
    "ZERO\n",
    "\n",
    "def checkGood(elem,i,j,mapp,nine,maxI,maxJ):\n",
    "    if(elem==\"9\"):\n",
    "        good[(i,j)]=int(elem)\n",
    "        nine.add((i,j))\n",
    "        return True\n",
    "    else:\n",
    "        check=False\n",
    "        score=0\n",
    "        for d in DIRR:\n",
    "            nI=i+d[0]\n",
    "            nJ=j+d[1]\n",
    "            if( (not 0<=nI<maxI)  or (not 0<=nJ<maxJ) ):\n",
    "                continue\n",
    "            nElem=mapp[nI][nJ]\n",
    "            if(nElem.isnumeric()):\n",
    "                if( (int(elem)-int(nElem)) == -1):   \n",
    "                    first=checkGood(nElem,nI,nJ,mapp,nine,maxI,maxJ)\n",
    "                    if(first):\n",
    "                        check=True\n",
    "                        \n",
    "        if(check):\n",
    "            good[(i,j)]=int(elem)\n",
    "            return True\n",
    "        else:\n",
    "            return False\n",
    "#print(ZERO)           \n",
    "P1=0\n",
    "maxI,maxJ=len(inp),len(inp[0])\n",
    "for n in ZERO:\n",
    "    nine=set()\n",
    "    checkGood(\"0\",n[0],n[1],inp,nine,maxI,maxJ)\n",
    "    P1+=len(nine)\n",
    "    #print(len(nine))\n",
    "#good,trail\n",
    "P1"
   ]
  }
 ],
 "metadata": {
  "kernelspec": {
   "display_name": "PyPy3",
   "language": "python",
   "name": "pypy3"
  },
  "language_info": {
   "codemirror_mode": {
    "name": "ipython",
    "version": 3
   },
   "file_extension": ".py",
   "mimetype": "text/x-python",
   "name": "python",
   "nbconvert_exporter": "python",
   "pygments_lexer": "ipython3",
   "version": "3.10.14"
  }
 },
 "nbformat": 4,
 "nbformat_minor": 5
}
