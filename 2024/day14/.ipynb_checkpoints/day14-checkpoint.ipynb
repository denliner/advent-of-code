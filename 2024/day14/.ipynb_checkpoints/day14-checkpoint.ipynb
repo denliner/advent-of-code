{
 "cells": [
  {
   "cell_type": "code",
   "execution_count": 6,
   "id": "65c8c202-2b4c-4c0a-9f46-ed40e9d18096",
   "metadata": {},
   "outputs": [
    {
     "name": "stdout",
     "output_type": "stream",
     "text": [
      "216027840\n"
     ]
    }
   ],
   "source": [
    "import re,math\n",
    "from PIL import Image\n",
    "import numpy as np\n",
    "from collections import defaultdict\n",
    "INPUT=\"input.txt\"\n",
    "\n",
    "def moveAllRobot(lRobots,maxX,maxY):\n",
    "    nList=[]\n",
    "    for i,robot in enumerate(lRobots):\n",
    "        nRobot=[(((robot[0][0]+robot[1][0])%maxX),\n",
    "                ((robot[0][1]+robot[1][1])%maxY)),robot[1]]\n",
    "        nList.append(nRobot)\n",
    "    return nList\n",
    "    \n",
    "with open(INPUT) as f:\n",
    "    inp=f.read().strip().splitlines()\n",
    "    inp=[list(map(int,re.findall(\"-?\\d+\",x))) for x in inp ]\n",
    "    inp=[[(x[1],x[0]),(x[3],x[2])] for x in inp ]\n",
    "\n",
    "\n",
    "\n",
    "def printAllImage(mapp,num):\n",
    "    nMap=[]\n",
    "    for line in mapp:\n",
    "        nLine=[]\n",
    "        for elem in line:\n",
    "            nElem=0 if elem==0 else 255\n",
    "            nLine.append(nElem)\n",
    "        nMap.append(nLine)\n",
    "    nMap=np.array([np.array(x,dtype=np.uint8) for x in nMap])\n",
    "    im = Image.fromarray(nMap)\n",
    "    im.save(\"result/\"+str(num)+'.png')\n",
    "    return nMap\n",
    "\n",
    "\n",
    "    \n",
    "def getMap(inp,maxX,maxY):\n",
    "    mapDict=defaultdict(int)\n",
    "    for robot in inp:\n",
    "        #print(robot)\n",
    "        mapDict[robot[0]]+=1\n",
    "    mapp=[]\n",
    "    for i in range(maxX):\n",
    "        line=\"\"\n",
    "        for j in range(maxY):\n",
    "            line+=str(mapDict[(i,j)])\n",
    "        mapp.append(line) \n",
    "    return mapp\n",
    "def printMap(inp,maxX,maxY):\n",
    "    mapp=getMap(inp,maxX,maxY)\n",
    "    print(\"\\n\".join(mapp),\"\\n\")\n",
    "\n",
    "                \n",
    "def part1(second,inp,maxX,maxY):\n",
    "    for s in range(second):\n",
    "        mapp=getMap(inp,maxX,maxY)\n",
    "        mapp=[list(map(int,list(x))) for x in mapp]\n",
    "        printAllImage(mapp,s)\n",
    "        inp=moveAllRobot(inp,maxX,maxY)\n",
    "        if(s==99):\n",
    "            midX,midY= maxX//2,maxY//2\n",
    "            mapp=getMap(inp,maxX,maxY)\n",
    "            mapp=[list(map(int,list(x))) for x in mapp]\n",
    "            r=[(-1,midX,-1,midY),(-1,midX,midY,maxY),\n",
    "             (midX,maxX,-1,midY),(midX,maxX,midY,maxY)]\n",
    "            quadrant=[0,0,0,0]\n",
    "            for i,(X1,X2,Y1,Y2) in enumerate(r):\n",
    "                for rob in inp:\n",
    "                    cond1= X1<rob[0][0]<X2\n",
    "                    cond2= Y1<rob[0][1]<Y2\n",
    "                    if(cond1 and cond2):\n",
    "                        quadrant[i]+=1\n",
    "    return math.prod(quadrant)\n",
    "#maxX,maxY=7,11\n",
    "maxX,maxY=103,101\n",
    "#print(inp[10])\n",
    "#printMap(inp,maxX,maxY)\n",
    "d=part1(10000,inp,maxX,maxY)\n",
    "print(d)\n"
   ]
  },
  {
   "cell_type": "code",
   "execution_count": null,
   "id": "5e3fd6ff-19ba-45f8-8659-53c483eb5757",
   "metadata": {},
   "outputs": [],
   "source": []
  }
 ],
 "metadata": {
  "kernelspec": {
   "display_name": "PyPy3",
   "language": "python",
   "name": "pypy3"
  },
  "language_info": {
   "codemirror_mode": {
    "name": "ipython",
    "version": 3
   },
   "file_extension": ".py",
   "mimetype": "text/x-python",
   "name": "python",
   "nbconvert_exporter": "python",
   "pygments_lexer": "ipython3",
   "version": "3.10.14"
  }
 },
 "nbformat": 4,
 "nbformat_minor": 5
}
