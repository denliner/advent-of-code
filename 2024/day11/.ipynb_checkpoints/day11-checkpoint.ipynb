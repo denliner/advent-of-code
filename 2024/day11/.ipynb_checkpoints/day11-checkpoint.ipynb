{
 "cells": [
  {
   "cell_type": "code",
   "execution_count": 2,
   "id": "ed44fffc-4bba-4a78-ac43-880f6b982e7c",
   "metadata": {},
   "outputs": [
    {
     "data": {
      "text/plain": [
       "187738"
      ]
     },
     "execution_count": 2,
     "metadata": {},
     "output_type": "execute_result"
    }
   ],
   "source": [
    "from collections import defaultdict\n",
    "\n",
    "\n",
    "INPUT=\"input.txt\"\n",
    "with open(INPUT) as f:\n",
    "    inp=f.read().strip().split()\n",
    "inp\n",
    "currentLine=inp[:]\n",
    "n=75\n",
    "#print(currentLine)\n",
    "def part1(n,currentLine):\n",
    "    for i in range(n):\n",
    "        newLine=[]\n",
    "        for number in currentLine:\n",
    "            if(number==\"0\"):\n",
    "                newLine.append(\"1\")\n",
    "            else:\n",
    "                lN=len(number)\n",
    "                if(lN%2==0):\n",
    "                    first,second = int(number[:lN//2]),int(number[lN//2:])\n",
    "                    newLine.append(str(first))\n",
    "                    newLine.append(str(second))\n",
    "                else:\n",
    "                    newLine.append(str(int(number)*2024))\n",
    "        #print(i,len(newLine)-len(currentLine),len(newLine))\n",
    "        currentLine=newLine\n",
    "    return len(currentLine)\n",
    "    #print(currentLine)\n",
    "part1(25,currentLine)  \n",
    "def part2(n,currentLine):\n",
    "    dictElem=defaultdict(int)\n",
    "    for elem in currentLine:\n",
    "        dictElem[elem]+=1\n",
    "    for i in range(n):\n",
    "        newDictE=defaultdict(int)\n",
    "        for number in dictElem.keys():\n",
    "            if(number==\"0\"):\n",
    "                newLine.append(\"1\")\n",
    "            else:\n",
    "                lN=len(number)\n",
    "                if(lN%2==0):\n",
    "                    first,second = int(number[:lN//2]),int(number[lN//2:])\n",
    "                    newLine.append(str(first))\n",
    "                    newLine.append(str(second))\n",
    "                else:\n",
    "                    newLine.append(str(int(number)*2024))\n",
    "        #print(i,len(newLine)-len(currentLine),len(newLine))\n",
    "        currentLine=newLine\n",
    "    return len(currentLine)"
   ]
  }
 ],
 "metadata": {
  "kernelspec": {
   "display_name": "PyPy3",
   "language": "python",
   "name": "pypy3"
  },
  "language_info": {
   "codemirror_mode": {
    "name": "ipython",
    "version": 3
   },
   "file_extension": ".py",
   "mimetype": "text/x-python",
   "name": "python",
   "nbconvert_exporter": "python",
   "pygments_lexer": "ipython3",
   "version": "3.10.14"
  }
 },
 "nbformat": 4,
 "nbformat_minor": 5
}
