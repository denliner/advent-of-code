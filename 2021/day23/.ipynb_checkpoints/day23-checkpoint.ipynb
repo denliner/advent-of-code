{
 "cells": [
  {
   "cell_type": "code",
   "execution_count": null,
   "metadata": {},
   "outputs": [],
   "source": [
    "input_=156794823\n",
    "inputtest=389125467\n",
    "inputtest2=32415\n",
    "import numpy as np\n",
    "\n",
    "class Node:\n",
    "    def __init__(self, v=None):\n",
    "        self.v = v\n",
    "        self.n = None\n",
    "def generate_Nodes(liste):\n",
    "    dictionary={}\n",
    "    maximum=max(liste)\n",
    "    minimum=min(liste)\n",
    "    start,last=None,None\n",
    "    for element in liste:\n",
    "        node= Node(element)\n",
    "        if last is not None:\n",
    "            last.n=node\n",
    "        else:\n",
    "            start=node\n",
    "        dictionary[element]=node\n",
    "        last=node\n",
    "    last.n=start\n",
    "    return start,dictionary,minimum,maximum\n",
    "\n",
    "def Round(cups,i,index,cups_size):\n",
    "    #print(\"\\n-- move \"+str(i+1)+\" --\")\n",
    "    currentcup=int(cups[index])\n",
    "    newcup=currentcup\n",
    "    #showcups=cups.copy()\n",
    "    #showcups[index]=\"(\"+str(currentcup)+\")\"\n",
    "    #print(\"cups: \"+ (\" \".join(showcups)))\n",
    "    pick_up=[cups[elem%cups_size] for elem in range(index+1,index+4)]\n",
    "    cups=[elem for elem in cups if elem not in pick_up]\n",
    "    #print(\"pick up: \"+(\",\".join(pick_up))+\"\")\n",
    "    minimum,maximum=int(min(cups)),int(max(cups))\n",
    "    condition=True\n",
    "    while(condition):\n",
    "        newcup-=1\n",
    "        if(newcup<minimum):\n",
    "            newcup=maximum\n",
    "        if(newcup not in pick_up):\n",
    "            condition=False\n",
    "    newPlace=(cups.index(newcup)+1)%cups_size\n",
    "    for j in range(3):\n",
    "        pick_up[j]\n",
    "        #print((newPlace+j)%cups_size)\n",
    "        cups.insert((newPlace+j)%cups_size,pick_up[j])\n",
    "        #print(cups)\n",
    "    #cups[newPlace:newPlace]=pick_up\n",
    "    #print(\"destination: \"+str(newcup)+\"\")\n",
    "    return cups,cups.index(currentcup)+1\n",
    "\n",
    "def Round2(startNode,dictionary,minimum,maximum):\n",
    "    currentcup=startNode\n",
    "    pick_up=[]\n",
    "    next_cup=currentcup.n.n.n.n\n",
    "    pick_up.append(currentcup.n)\n",
    "    pick_up.append(currentcup.n.n)\n",
    "    pick_up.append(currentcup.n.n.n)\n",
    "    newcup=currentcup.v\n",
    "    condition=True\n",
    "    while(condition):\n",
    "        newcup-=1\n",
    "        if(newcup<minimum):\n",
    "            newcup=maximum\n",
    "        if(newcup not in pick_up):\n",
    "            condition=False\n",
    "    newcup=disctionary[newcup]\n",
    "    pick_up[2].n=newcup\n",
    "    newcup.n=pick_up[0]\n",
    "    currentcup.n=next_cup\n",
    "    return next_cup     \n",
    "\n",
    "def day23(cups,n):\n",
    "    cups_size=len(cups)\n",
    "    nextelement=0\n",
    "    for i in range(n):\n",
    "        cups,nextelement=Round(cups,nextelement,nextelement%cups_size,cups_size)\n",
    "    return cups,cups_size\n",
    "\n",
    "\n",
    "def day23_2(cups,n):\n",
    "    cups_size=len(cups)\n",
    "    nextelement=0\n",
    "    for i in range(n):\n",
    "        cups,nextelement=Round(cups,nextelement,nextelement%cups_size,cups_size)\n",
    "    return cups,cups_size\n",
    "\n",
    "\n",
    "def day23p1(input_,n):\n",
    "    cups=list(map(int, list(str(input_)))) \n",
    "    print(cups)\n",
    "    cups,cups_size=day23(cups,n)\n",
    "    indexOf1=cups.index(1)\n",
    "    result = cups[((indexOf1+1)%cups_size):] + cups[:(indexOf1%cups_size)]\n",
    "    return \"\".join(str(x) for x in result)\n",
    "    \n",
    "def day23p2(input_,n):\n",
    "    cups=list(map(int, list(str(input_)))) \n",
    "    maximum=max(cups)+1\n",
    "    cups= deque(cups + list(range(maximum,1000001)))\n",
    "    print(\"done\")\n",
    "    cups,cups_size=day23(cups,n)\n",
    "    indexOf1=cups.index(1)\n",
    "    result = cups[(indexOf1+1)%cups_size] + cups[(indexOf1+2)%cups_size]\n",
    "    return result\n",
    "        "
   ]
  },
  {
   "cell_type": "code",
   "execution_count": null,
   "metadata": {},
   "outputs": [
    {
     "name": "stdout",
     "output_type": "stream",
     "text": [
      "['3', '2', '8', '9', '1', '5', '4', '6', '7']\n",
      "['8', '9', '1']\n",
      "['3', '2', '5', '4', '6', '7']\n",
      "['8', '9', '1']\n",
      "['3', '2', '5', '4', '6', '7', '8', '9', '1']\n",
      "True\n",
      "[3, 8, 9, 1, 2, 5, 4, 6, 7]\n",
      "67384529\n"
     ]
    },
    {
     "data": {
      "text/plain": [
       "10000001"
      ]
     },
     "execution_count": 5,
     "metadata": {},
     "output_type": "execute_result"
    }
   ],
   "source": [
    "import cProfile\n",
    "fd=list(\"389125467\")\n",
    "fd2=list(\"328915467\")\n",
    "print(fd2)\n",
    "print(fd2[2:5])\n",
    "fd2c=fd2[2:5].copy()\n",
    "del fd2[2:5]\n",
    "print(fd2)\n",
    "fd2[fd2.index(\"7\")+1:fd2.index(\"7\")+1]=fd2c\n",
    "print(fd2c)\n",
    "print(fd2)\n",
    "print(str(2) in fd)\n",
    "fd\n",
    "print(day23p1(inputtest,100))\n",
    "10000001\n",
    "#cProfile.run('print(day23p2(inputtest,100))')"
   ]
  },
  {
   "cell_type": "code",
   "execution_count": 74,
   "metadata": {},
   "outputs": [
    {
     "data": {
      "text/plain": [
       "[1, 2, 3]"
      ]
     },
     "execution_count": 74,
     "metadata": {},
     "output_type": "execute_result"
    }
   ],
   "source": [
    "list(range(1,4))"
   ]
  },
  {
   "cell_type": "code",
   "execution_count": null,
   "metadata": {},
   "outputs": [],
   "source": [
    "input_=156794823\n",
    "inputtest=389125467\n",
    "inputtest2=32415\n",
    "import numpy as np\n",
    "\n",
    "class Node:\n",
    "    def __init__(self, v=None):\n",
    "        self.v = v\n",
    "        self.n = None\n",
    "\n",
    "def generate_Nodes(liste):\n",
    "    dictionary={}\n",
    "    maximum=max(liste)\n",
    "    minimum=min(liste)\n",
    "    start,last=None,None\n",
    "    for element in liste:\n",
    "        node= Node(element)\n",
    "        if last is not None:\n",
    "            last.n=node\n",
    "        else:\n",
    "            start=node\n",
    "        dictionary[element]=node\n",
    "        last=node\n",
    "    last.n=start\n",
    "    return start,dictionary,minimum,maximum\n",
    "\n",
    "\n",
    "def Round2(startNode,dictionary,minimum,maximum):\n",
    "    currentcup=startNode\n",
    "    pick_up=[]\n",
    "    head,tail=currentcup.n,currentcup.n.n.n\n",
    "    next_cup=tail.n\n",
    "    \n",
    "    pick_up.append(head.v)\n",
    "    pick_up.append(head.n.v)\n",
    "    pick_up.append(tail.v)\n",
    "    destination=currentcup.v\n",
    "    condition=True\n",
    "    while(condition):\n",
    "        destination-=1\n",
    "        if(destination<minimum):\n",
    "            destination=maximum\n",
    "        if(destination not in pick_up):\n",
    "            condition=False  \n",
    "    newcup=dictionary[destination]\n",
    "    afternewcup=newcup.n\n",
    "    newcup.n=head\n",
    "    tail.n=afternewcup\n",
    "    currentcup.n=next_cup\n",
    "    return next_cup     \n",
    "\n",
    "def day23_2(cups,n):\n",
    "    start,dictionary,minimum,maximum=generate_Nodes(cups)\n",
    "    for i in range(n):\n",
    "        start=Round2(start,dictionary,minimum,maximum)\n",
    "    return dictionary\n",
    "\n",
    "def getResultP1(afterOne):\n",
    "    result=\"\"\n",
    "    while(afterOne.v != 1):\n",
    "        result+=str(afterOne.v)\n",
    "        afterOne=afterOne.n\n",
    "    return result\n",
    "\n",
    "def getResultP2(afterOne):\n",
    "    P1=afterOne.v\n",
    "    P2=afterOne.n.v\n",
    "    print(\"P1=\"+str(P1))\n",
    "    print(\"P2=\"+str(P2))\n",
    "    return P1*P2\n",
    "\n",
    "def day23(cups,n,getResult):\n",
    "    dictionary=day23_2(cups,n)\n",
    "    dictionary[1].n\n",
    "    return getResult(dictionary[1].n)"
   ]
  },
  {
   "cell_type": "code",
   "execution_count": null,
   "metadata": {},
   "outputs": [
    {
     "name": "stdout",
     "output_type": "stream",
     "text": [
      "['3', '2', '8', '9', '1', '5', '4', '6', '7']\n",
      "['8', '9', '1']\n",
      "['3', '2', '5', '4', '6', '7']\n",
      "['8', '9', '1']\n",
      "['3', '2', '5', '4', '6', '7', '8', '9', '1']\n",
      "True\n"
     ]
    },
    {
     "ename": "NameError",
     "evalue": "name 'getResultP1' is not defined",
     "output_type": "error",
     "traceback": [
      "\u001b[1;31m---------------------------------------------------------------------------\u001b[0m",
      "\u001b[1;31mNameError\u001b[0m                                 Traceback (most recent call last)",
      "Cell \u001b[1;32mIn [6], line 15\u001b[0m\n\u001b[0;32m     13\u001b[0m fd\n\u001b[0;32m     14\u001b[0m inputp1\u001b[38;5;241m=\u001b[39m\u001b[38;5;28mlist\u001b[39m(\u001b[38;5;28mmap\u001b[39m(\u001b[38;5;28mint\u001b[39m, \u001b[38;5;28mlist\u001b[39m(\u001b[38;5;28mstr\u001b[39m(input_)))) \n\u001b[1;32m---> 15\u001b[0m \u001b[38;5;28mprint\u001b[39m(day23(inputp1,\u001b[38;5;241m100\u001b[39m,\u001b[43mgetResultP1\u001b[49m))\n\u001b[0;32m     16\u001b[0m \u001b[38;5;241m10000001\u001b[39m\n\u001b[0;32m     17\u001b[0m inputp2\u001b[38;5;241m=\u001b[39m inputp1 \u001b[38;5;241m+\u001b[39m \u001b[38;5;28mlist\u001b[39m(\u001b[38;5;28mrange\u001b[39m(\u001b[38;5;28mmax\u001b[39m(inputp1)\u001b[38;5;241m+\u001b[39m\u001b[38;5;241m1\u001b[39m,\u001b[38;5;241m1000001\u001b[39m))\n",
      "\u001b[1;31mNameError\u001b[0m: name 'getResultP1' is not defined"
     ]
    }
   ],
   "source": [
    "import cProfile\n",
    "fd=list(\"389125467\")\n",
    "fd2=list(\"328915467\")\n",
    "print(fd2)\n",
    "print(fd2[2:5])\n",
    "fd2c=fd2[2:5].copy()\n",
    "del fd2[2:5]\n",
    "print(fd2)\n",
    "fd2[fd2.index(\"7\")+1:fd2.index(\"7\")+1]=fd2c\n",
    "print(fd2c)\n",
    "print(fd2)\n",
    "print(str(2) in fd)\n",
    "fd\n",
    "inputp1=list(map(int, list(str(input_)))) \n",
    "print(day23(inputp1,100,getResultP1))\n",
    "10000001\n",
    "inputp2= inputp1 + list(range(max(inputp1)+1,1000001))\n",
    "cProfile.run('print(day23(inputp2,10000000,getResultP2))')"
   ]
  },
  {
   "cell_type": "code",
   "execution_count": 120,
   "metadata": {},
   "outputs": [
    {
     "name": "stdout",
     "output_type": "stream",
     "text": [
      "[3, 8, 9, 1, 2, 5, 4, 6, 7]\n",
      "9\n",
      "[10, 11, 12, 13, 14, 15, 16, 17, 18, 19, 20, 21, 22, 23, 24, 25, 26, 27, 28, 29, 30, 31, 32, 33, 34, 35, 36, 37, 38, 39, 40, 41, 42, 43, 44, 45, 46, 47, 48, 49, 50, 51, 52, 53, 54, 55, 56, 57, 58, 59, 60, 61, 62, 63, 64, 65, 66, 67, 68, 69, 70, 71, 72, 73, 74, 75, 76, 77, 78, 79, 80, 81, 82, 83, 84, 85, 86, 87, 88, 89, 90, 91, 92, 93, 94, 95, 96, 97, 98, 99]\n"
     ]
    },
    {
     "data": {
      "text/plain": [
       "501"
      ]
     },
     "execution_count": 120,
     "metadata": {},
     "output_type": "execute_result"
    }
   ],
   "source": [
    "inputp2=list(map(int, list(str(inputtest)))) \n",
    "print(inputp2)\n",
    "print(max(inputp2))\n",
    "print(list(range(max(inputp2)+1,100)))\n",
    "inputp2= inputp2 + list(range(max(inputp2)+1,1000001))\n",
    "inputp2[500]"
   ]
  }
 ],
 "metadata": {
  "kernelspec": {
   "display_name": "Python 3 (ipykernel)",
   "language": "python",
   "name": "python3"
  },
  "language_info": {
   "codemirror_mode": {
    "name": "ipython",
    "version": 3
   },
   "file_extension": ".py",
   "mimetype": "text/x-python",
   "name": "python",
   "nbconvert_exporter": "python",
   "pygments_lexer": "ipython3",
   "version": "3.10.6"
  }
 },
 "nbformat": 4,
 "nbformat_minor": 4
}
