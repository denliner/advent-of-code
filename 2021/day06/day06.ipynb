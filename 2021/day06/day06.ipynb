{
 "cells": [
  {
   "cell_type": "code",
   "execution_count": 5,
   "metadata": {},
   "outputs": [
    {
     "data": {
      "text/plain": [
       "1613415325809"
      ]
     },
     "execution_count": 5,
     "metadata": {},
     "output_type": "execute_result"
    }
   ],
   "source": [
    "import re\n",
    "import numpy as np\n",
    "EXAMPLE=\"example.txt\"\n",
    "INPUT=\"input.txt\"\n",
    "\n",
    "with open(INPUT) as f:\n",
    "    input_=list(map(int, list(re.findall('\\-?\\d+', f.read() ))))\n",
    "input_\n",
    "lanthernfishState=[0]*9\n",
    "for elem in input_:\n",
    "    lanthernfishState[elem]+=1\n",
    "\n",
    "def betterPart1(lanthernfishState,days):\n",
    "    for v in range(days):\n",
    "        temp=lanthernfishState[0]\n",
    "        lanthernfishState[0]=lanthernfishState[1]\n",
    "        lanthernfishState[1]=lanthernfishState[2]\n",
    "        lanthernfishState[2]=lanthernfishState[3]\n",
    "        lanthernfishState[3]=lanthernfishState[4]\n",
    "        lanthernfishState[4]=lanthernfishState[5]\n",
    "        lanthernfishState[5]=lanthernfishState[6]\n",
    "        lanthernfishState[6]=lanthernfishState[7]\n",
    "        lanthernfishState[7]=lanthernfishState[8]\n",
    "        lanthernfishState[8]=temp\n",
    "        lanthernfishState[6]+=temp\n",
    "    \n",
    "    return sum(lanthernfishState)\n",
    "\n",
    "def part1(lanternfishs,days):\n",
    "    for v in range(days):\n",
    "        print()\n",
    "        newFish=0\n",
    "        for i,elem in enumerate(lanternfishs):\n",
    "            if(not elem):\n",
    "                lanternfishs[i]=6\n",
    "                newFish+=1\n",
    "            else:\n",
    "                lanternfishs[i]-=1\n",
    "        for i in range(newFish):\n",
    "            lanternfishs.append(8)\n",
    "        print(v,len(lanternfishs))\n",
    "    return len(lanternfishs)\n",
    "betterPart1(lanthernfishState,256)"
   ]
  },
  {
   "cell_type": "code",
   "execution_count": 9,
   "metadata": {},
   "outputs": [
    {
     "data": {
      "text/plain": [
       "74.175"
      ]
     },
     "execution_count": 9,
     "metadata": {},
     "output_type": "execute_result"
    }
   ],
   "source": [
    "5934/80 "
   ]
  }
 ],
 "metadata": {
  "kernelspec": {
   "display_name": "Python 3",
   "language": "python",
   "name": "python3"
  },
  "language_info": {
   "codemirror_mode": {
    "name": "ipython",
    "version": 3
   },
   "file_extension": ".py",
   "mimetype": "text/x-python",
   "name": "python",
   "nbconvert_exporter": "python",
   "pygments_lexer": "ipython3",
   "version": "3.9.0"
  }
 },
 "nbformat": 4,
 "nbformat_minor": 4
}
