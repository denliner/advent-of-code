{
 "cells": [
  {
   "cell_type": "code",
   "execution_count": 39,
   "metadata": {},
   "outputs": [
    {
     "data": {
      "text/plain": [
       "[array([0.9, 1. , 1.1, 1.2, 1.3, 1.4, 1.5, 1.6, 1.7, 1.8, 1.9, 2. , 2.1,\n",
       "        2.2, 2.3, 2.4, 2.5, 2.6, 2.7, 2.8, 2.9, 3. , 3.1, 3.2, 3.3, 3.4,\n",
       "        3.5, 3.6, 3.7, 3.8, 3.9, 4. , 4.1, 4.2, 4.3, 4.4, 4.5, 4.6, 4.7,\n",
       "        4.8, 4.9, 5. , 5.1, 5.2, 5.3, 5.4, 5.5, 5.6, 5.7, 5.8]),\n",
       " array([8. , 7.9, 7.8, 7.7, 7.6, 7.5, 7.4, 7.3, 7.2, 7.1, 7. , 6.9, 6.8,\n",
       "        6.7, 6.6, 6.5, 6.4, 6.3, 6.2, 6.1, 6. , 5.9, 5.8, 5.7, 5.6, 5.5,\n",
       "        5.4, 5.3, 5.2, 5.1, 5. , 4.9, 4.8, 4.7, 4.6, 4.5, 4.4, 4.3, 4.2,\n",
       "        4.1, 4. , 3.9, 3.8, 3.7, 3.6, 3.5, 3.4, 3.3, 3.2, 3.1, 3. , 2.9,\n",
       "        2.8, 2.7, 2.6, 2.5, 2.4, 2.3, 2.2, 2.1, 2. , 1.9, 1.8, 1.7, 1.6,\n",
       "        1.5, 1.4, 1.3, 1.2, 1.1, 1. , 0.9]),\n",
       " array([9.4, 9.3, 9.2, 9.1, 9. , 8.9, 8.8, 8.7, 8.6, 8.5, 8.4, 8.3, 8.2,\n",
       "        8.1, 8. , 7.9, 7.8, 7.7, 7.6, 7.5, 7.4, 7.3, 7.2, 7.1, 7. , 6.9,\n",
       "        6.8, 6.7, 6.6, 6.5, 6.4, 6.3, 6.2, 6.1, 6. , 5.9, 5.8, 5.7, 5.6,\n",
       "        5.5, 5.4, 5.3, 5.2, 5.1, 5. , 4.9, 4.8, 4.7, 4.6, 4.5, 4.4, 4.3,\n",
       "        4.2, 4.1, 4. , 3.9, 3.8, 3.7, 3.6, 3.5]),\n",
       " array([2.2, 2.1]),\n",
       " array([7. , 7.1, 7.2, 7.3, 7.4]),\n",
       " array([6.4, 6.3, 6.2, 6.1, 6. , 5.9, 5.8, 5.7, 5.6, 5.5, 5.4, 5.3, 5.2,\n",
       "        5.1, 5. , 4.9, 4.8, 4.7, 4.6, 4.5, 4.4, 4.3, 4.2, 4.1, 4. , 3.9,\n",
       "        3.8, 3.7, 3.6, 3.5, 3.4, 3.3, 3.2, 3.1, 3. , 2.9, 2.8, 2.7, 2.6,\n",
       "        2.5, 2.4, 2.3, 2.2, 2.1]),\n",
       " array([0.9, 1. , 1.1, 1.2, 1.3, 1.4, 1.5, 1.6, 1.7, 1.8, 1.9, 2. , 2.1,\n",
       "        2.2, 2.3, 2.4, 2.5, 2.6, 2.7, 2.8]),\n",
       " array([3.4, 3.3, 3.2, 3.1, 3. , 2.9, 2.8, 2.7, 2.6, 2.5, 2.4, 2.3, 2.2,\n",
       "        2.1, 2. , 1.9, 1.8, 1.7, 1.6, 1.5]),\n",
       " array([0. , 0.1, 0.2, 0.3, 0.4, 0.5, 0.6, 0.7, 0.8, 0.9, 1. , 1.1, 1.2,\n",
       "        1.3, 1.4, 1.5, 1.6, 1.7, 1.8, 1.9, 2. , 2.1, 2.2, 2.3, 2.4, 2.5,\n",
       "        2.6, 2.7, 2.8, 2.9, 3. , 3.1, 3.2, 3.3, 3.4, 3.5, 3.6, 3.7, 3.8,\n",
       "        3.9, 4. , 4.1, 4.2, 4.3, 4.4, 4.5, 4.6, 4.7, 4.8, 4.9, 5. , 5.1,\n",
       "        5.2, 5.3, 5.4, 5.5, 5.6, 5.7, 5.8, 5.9, 6. , 6.1, 6.2, 6.3, 6.4,\n",
       "        6.5, 6.6, 6.7, 6.8, 6.9, 7. , 7.1, 7.2, 7.3, 7.4, 7.5, 7.6, 7.7,\n",
       "        7.8, 7.9, 8. , 8.1, 8.2, 8.3, 8.4, 8.5, 8.6, 8.7]),\n",
       " array([5.5, 5.6, 5.7, 5.8, 5.9, 6. , 6.1, 6.2, 6.3, 6.4, 6.5, 6.6, 6.7,\n",
       "        6.8, 6.9, 7. , 7.1, 7.2, 7.3, 7.4, 7.5, 7.6, 7.7, 7.8, 7.9, 8. ,\n",
       "        8.1])]"
      ]
     },
     "execution_count": 39,
     "metadata": {},
     "output_type": "execute_result"
    }
   ],
   "source": [
    "import re\n",
    "import numpy as np\n",
    "EXAMPLE=\"example.txt\"\n",
    "\n",
    "def convertToFloat(x,y):\n",
    "    return float(str(x)+'.'+str(y))\n",
    "with open(EXAMPLE) as f:\n",
    "    input_=f.read().splitlines()\n",
    "#input_= [[(y[0:1]),(y[2:3])] for x in input_ for y as list(map(int, list(re.findall('\\-?\\d+', x )))) ] \n",
    "for i,x in enumerate(input_):\n",
    "    y=list(map(int, list(re.findall('\\-?\\d+', x ))))\n",
    "    input_[i]=y\n",
    "\n",
    "input_=np.array(input_)\n",
    "#print(input_[0])\n",
    "#print(str(input_[0][0]))\n",
    "lineSeg=[]\n",
    "for elem in input_:\n",
    "    x,y=convertToFloat(elem[0],elem[1]),convertToFloat(elem[2],elem[3])\n",
    "    if(x>y):\n",
    "        sign=-1\n",
    "    else:\n",
    "        sign=1\n",
    "    lineSeg.append(np.arange(convertToFloat(elem[0],elem[1])\n",
    "          ,convertToFloat(elem[2],elem[3]) ,0.1*sign))\n",
    "lineSeg"
   ]
  },
  {
   "cell_type": "code",
   "execution_count": 1,
   "metadata": {
    "scrolled": false
   },
   "outputs": [
    {
     "name": "stdout",
     "output_type": "stream",
     "text": [
      "(6530681, 9039258)\n",
      "         133638 function calls (133631 primitive calls) in 27.029 seconds\n",
      "\n",
      "   Ordered by: standard name\n",
      "\n",
      "   ncalls  tottime  percall  cumtime  percall filename:lineno(function)\n",
      "    20000   24.809    0.001   24.815    0.001 <ipython-input-1-17aa08214f64>:10(calculateDist)\n",
      "        1    0.100    0.100   26.214   26.214 <ipython-input-1-17aa08214f64>:34(day05)\n",
      "        1    0.042    0.042    0.042    0.042 <ipython-input-1-17aa08214f64>:43(<listcomp>)\n",
      "        1    0.029    0.029    0.029    0.029 <ipython-input-1-17aa08214f64>:44(<listcomp>)\n",
      "        1    0.509    0.509    0.509    0.509 <ipython-input-1-17aa08214f64>:49(<listcomp>)\n",
      "        1    0.625    0.625    0.625    0.625 <ipython-input-1-17aa08214f64>:52(<listcomp>)\n",
      "        1    0.815    0.815   27.029   27.029 <string>:1(<module>)\n",
      "        1    0.000    0.000    0.000    0.000 _bootlocale.py:11(getpreferredencoding)\n",
      "        1    0.000    0.000    0.000    0.000 codecs.py:260(__init__)\n",
      "        1    0.000    0.000    0.001    0.001 cp1252.py:22(decode)\n",
      "        2    0.000    0.000    0.000    0.000 enum.py:289(__call__)\n",
      "        2    0.000    0.000    0.000    0.000 enum.py:580(__new__)\n",
      "        1    0.000    0.000    0.000    0.000 enum.py:852(__and__)\n",
      "        3    0.000    0.000    0.000    0.000 iostream.py:195(schedule)\n",
      "        2    0.000    0.000    0.000    0.000 iostream.py:308(_is_master_process)\n",
      "        2    0.000    0.000    0.000    0.000 iostream.py:321(_schedule_flush)\n",
      "        2    0.000    0.000    0.000    0.000 iostream.py:384(write)\n",
      "        3    0.000    0.000    0.000    0.000 iostream.py:91(_event_pipe)\n",
      "    20000    0.006    0.000    0.034    0.000 re.py:233(findall)\n",
      "    20000    0.006    0.000    0.008    0.000 re.py:289(_compile)\n",
      "        3    0.000    0.000    0.000    0.000 socket.py:432(send)\n",
      "        1    0.000    0.000    0.000    0.000 sre_compile.py:249(_compile_charset)\n",
      "        1    0.000    0.000    0.000    0.000 sre_compile.py:276(_optimize_charset)\n",
      "        2    0.000    0.000    0.000    0.000 sre_compile.py:423(_simple)\n",
      "        2    0.000    0.000    0.000    0.000 sre_compile.py:453(_get_iscased)\n",
      "        1    0.000    0.000    0.000    0.000 sre_compile.py:461(_get_literal_prefix)\n",
      "        1    0.000    0.000    0.000    0.000 sre_compile.py:492(_get_charset_prefix)\n",
      "        1    0.000    0.000    0.000    0.000 sre_compile.py:536(_compile_info)\n",
      "        2    0.000    0.000    0.000    0.000 sre_compile.py:595(isstring)\n",
      "        1    0.000    0.000    0.000    0.000 sre_compile.py:598(_code)\n",
      "      3/1    0.000    0.000    0.000    0.000 sre_compile.py:71(_compile)\n",
      "        1    0.000    0.000    0.000    0.000 sre_compile.py:759(compile)\n",
      "        3    0.000    0.000    0.000    0.000 sre_parse.py:111(__init__)\n",
      "        7    0.000    0.000    0.000    0.000 sre_parse.py:160(__len__)\n",
      "       16    0.000    0.000    0.000    0.000 sre_parse.py:164(__getitem__)\n",
      "        2    0.000    0.000    0.000    0.000 sre_parse.py:168(__setitem__)\n",
      "        2    0.000    0.000    0.000    0.000 sre_parse.py:172(append)\n",
      "      3/1    0.000    0.000    0.000    0.000 sre_parse.py:174(getwidth)\n",
      "        1    0.000    0.000    0.000    0.000 sre_parse.py:224(__init__)\n",
      "        5    0.000    0.000    0.000    0.000 sre_parse.py:233(__next)\n",
      "        3    0.000    0.000    0.000    0.000 sre_parse.py:249(match)\n",
      "        4    0.000    0.000    0.000    0.000 sre_parse.py:254(get)\n",
      "        3    0.000    0.000    0.000    0.000 sre_parse.py:286(tell)\n",
      "        2    0.000    0.000    0.000    0.000 sre_parse.py:355(_escape)\n",
      "        1    0.000    0.000    0.000    0.000 sre_parse.py:435(_parse_sub)\n",
      "        1    0.000    0.000    0.000    0.000 sre_parse.py:493(_parse)\n",
      "        1    0.000    0.000    0.000    0.000 sre_parse.py:76(__init__)\n",
      "        2    0.000    0.000    0.000    0.000 sre_parse.py:81(groups)\n",
      "        1    0.000    0.000    0.000    0.000 sre_parse.py:921(fix_flags)\n",
      "        1    0.000    0.000    0.000    0.000 sre_parse.py:937(parse)\n",
      "        3    0.000    0.000    0.000    0.000 threading.py:1035(_wait_for_tstate_lock)\n",
      "        3    0.000    0.000    0.000    0.000 threading.py:1089(is_alive)\n",
      "        3    0.000    0.000    0.000    0.000 threading.py:529(is_set)\n",
      "        1    0.001    0.001    0.001    0.001 {built-in method _codecs.charmap_decode}\n",
      "        1    0.000    0.000    0.000    0.000 {built-in method _locale._getdefaultlocale}\n",
      "        1    0.000    0.000    0.000    0.000 {built-in method _sre.compile}\n",
      "     6591    0.001    0.000    0.001    0.000 {built-in method builtins.abs}\n",
      "        1    0.000    0.000   27.029   27.029 {built-in method builtins.exec}\n",
      "    20024    0.002    0.000    0.002    0.000 {built-in method builtins.isinstance}\n",
      "    30/27    0.000    0.000    0.000    0.000 {built-in method builtins.len}\n",
      "    13409    0.002    0.000    0.002    0.000 {built-in method builtins.max}\n",
      "    13416    0.003    0.000    0.003    0.000 {built-in method builtins.min}\n",
      "        1    0.000    0.000    0.000    0.000 {built-in method builtins.ord}\n",
      "        1    0.000    0.000    0.000    0.000 {built-in method builtins.print}\n",
      "        1    0.000    0.000    0.000    0.000 {built-in method io.open}\n",
      "        2    0.000    0.000    0.000    0.000 {built-in method nt.getpid}\n",
      "        3    0.058    0.019    0.058    0.019 {built-in method numpy.array}\n",
      "        1    0.000    0.000    0.000    0.000 {method '__exit__' of '_io._IOBase' objects}\n",
      "        3    0.000    0.000    0.000    0.000 {method 'acquire' of '_thread.lock' objects}\n",
      "        3    0.000    0.000    0.000    0.000 {method 'append' of 'collections.deque' objects}\n",
      "       27    0.000    0.000    0.000    0.000 {method 'append' of 'list' objects}\n",
      "        1    0.000    0.000    0.000    0.000 {method 'disable' of '_lsprof.Profiler' objects}\n",
      "        1    0.000    0.000    0.000    0.000 {method 'find' of 'bytearray' objects}\n",
      "    20000    0.020    0.000    0.020    0.000 {method 'findall' of 're.Pattern' objects}\n",
      "        3    0.000    0.000    0.000    0.000 {method 'get' of 'dict' objects}\n",
      "        1    0.000    0.000    0.000    0.000 {method 'items' of 'dict' objects}\n",
      "        1    0.000    0.000    0.001    0.001 {method 'read' of '_io.TextIOWrapper' objects}\n",
      "        1    0.001    0.001    0.001    0.001 {method 'splitlines' of 'str' objects}\n",
      "        2    0.000    0.000    0.000    0.000 {method 'values' of 'dict' objects}\n",
      "\n",
      "\n"
     ]
    }
   ],
   "source": [
    "import numpy as np\n",
    "import re\n",
    "from collections import defaultdict\n",
    "import cProfile\n",
    "EXAMPLE=\"example.txt\"\n",
    "EXAMPLE2=\"example2.txt\"\n",
    "INPUT=\"input.txt\"\n",
    "BIGBOY=\"5-20000-6400-fixed.in\"\n",
    "\n",
    "def calculateDist(x,y,isDiag,allPoint):\n",
    "    #print(x,y)\n",
    "    x0,x1= x[0],x[1]\n",
    "    y0,y1 = y[0],y[1]\n",
    "    upperSign=1 if x0<y0 else -1\n",
    "    lowerSign=1 if x1<y1 else -1\n",
    "    if(x0==y0):\n",
    "        for i in range(min(x1,y1),max(x1,y1)+1):\n",
    "            allPoint[(x0,i)]+=1\n",
    "    elif(x1==y1):\n",
    "        for i in range(min(x0,y0),max(x0,y0)+1):\n",
    "            allPoint[(i,x1)]+=1      \n",
    "    else:\n",
    "        for i in range(abs(x0-y0)+1):\n",
    "            allPoint[(x0+(i*upperSign),x1+(i*lowerSign))]+=1 \n",
    "    return allPoint\n",
    "\n",
    "def getIntersect(distArr,allPoint):\n",
    "    for dist in distArr:\n",
    "        for point in dist:\n",
    "            #print(point)\n",
    "            allPoint[str(point)]+=1\n",
    "    return allPoint\n",
    "\n",
    "def day05():\n",
    "    with open(BIGBOY) as f:\n",
    "        input_=f.read().splitlines()\n",
    "    for i,x in enumerate(input_):\n",
    "        y=list(map(int, list(re.findall('\\-?\\d+', x ))))\n",
    "        input_[i]=([y[0],y[1]],[y[2],y[3]])\n",
    "    \n",
    "    #print([(x,y) for x,y in input_ if (x[0]==y[0] or x[1]==y[1])])\n",
    "    input_=np.array(input_)\n",
    "    nonDiag= np.array([[x,y] for x,y in input_ if (x[0]==y[0] or x[1]==y[1]) ])\n",
    "    diag= np.array([ [x,y] for x,y in input_ if not (x[0]==y[0] or x[1]==y[1]) ])\n",
    "    allPoint=defaultdict(int)\n",
    "    #distArr=[calculateDist(x,y) for x,y in input_]\n",
    "    for x,y in nonDiag:\n",
    "        allPoint=calculateDist(x,y,0,allPoint)\n",
    "    silver=len([i for i in allPoint.values() if i>=2] )\n",
    "    for x,y in diag:\n",
    "        allPoint=calculateDist(x,y,0,allPoint)\n",
    "    gold=len([i for i in allPoint.values() if i>=2] )\n",
    "    return silver,gold\n",
    "\n",
    "cProfile.run(\"print(day05())\")"
   ]
  },
  {
   "cell_type": "code",
   "execution_count": 19,
   "metadata": {},
   "outputs": [
    {
     "name": "stdout",
     "output_type": "stream",
     "text": [
      "<class 'numpy.ndarray'>\n"
     ]
    },
    {
     "data": {
      "text/plain": [
       "[[0, 5], [0, 10], [0, 5]]"
      ]
     },
     "execution_count": 19,
     "metadata": {},
     "output_type": "execute_result"
    }
   ],
   "source": [
    "fdp=np.append(np.arange(5,10,1),np.array([10]) )\n",
    "fdp=np.array([[0,x] for x in fdp])\n",
    "fdp+np.array([64,0])\n",
    "#+np.array([64,0])\n",
    "#np.arange([0,5],[0,10],[0,1])\n",
    "print(type(np.array([0,5])))\n",
    "\n",
    "hj=np.array([[0,5],[0,10],[0,5]])\n",
    "hj2=np.array([[5,0],[10,0],[5,0]])\n",
    "fi=[]\n",
    "for i,n in enumerate(hj):\n",
    "    fi.append(hj[i]+hj2[i])\n",
    "fi\n",
    "[[x,y] for x,y in hj]"
   ]
  },
  {
   "cell_type": "code",
   "execution_count": 17,
   "metadata": {},
   "outputs": [
    {
     "data": {
      "text/plain": [
       "defaultdict(int, {(1, 1): 0})"
      ]
     },
     "execution_count": 17,
     "metadata": {},
     "output_type": "execute_result"
    }
   ],
   "source": [
    "defau=defaultdict(int)\n",
    "defau[(1,1)]=0\n",
    "defau"
   ]
  }
 ],
 "metadata": {
  "kernelspec": {
   "display_name": "Python 3",
   "language": "python",
   "name": "python3"
  },
  "language_info": {
   "codemirror_mode": {
    "name": "ipython",
    "version": 3
   },
   "file_extension": ".py",
   "mimetype": "text/x-python",
   "name": "python",
   "nbconvert_exporter": "python",
   "pygments_lexer": "ipython3",
   "version": "3.9.0"
  }
 },
 "nbformat": 4,
 "nbformat_minor": 4
}
