{
 "cells": [
  {
   "cell_type": "code",
   "execution_count": 20,
   "metadata": {},
   "outputs": [
    {
     "name": "stdout",
     "output_type": "stream",
     "text": [
      "{'light red': [{'color': 'bright white', 'mul': 1}, {'color': 'muted yellow', 'mul': 2}], 'dark orange': [{'color': 'bright white', 'mul': 3}, {'color': 'muted yellow', 'mul': 4}], 'bright white': [{'color': 'shiny gold', 'mul': 1}], 'muted yellow': [{'color': 'shiny gold', 'mul': 2}, {'color': 'faded blue', 'mul': 9}], 'shiny gold': [{'color': 'dark olive', 'mul': 1}, {'color': 'vibrant plum', 'mul': 2}], 'dark olive': [{'color': 'faded blue', 'mul': 3}, {'color': 'dotted black', 'mul': 4}], 'vibrant plum': [{'color': 'faded blue', 'mul': 5}, {'color': 'dotted black', 'mul': 6}], 'faded blue': [], 'dotted black': []}\n",
      "faded blue\n",
      "dotted black\n",
      "32\n"
     ]
    },
    {
     "data": {
      "text/plain": [
       "{'light red': [{'color': 'bright white', 'mul': 1},\n",
       "  {'color': 'muted yellow', 'mul': 2}],\n",
       " 'dark orange': [{'color': 'bright white', 'mul': 3},\n",
       "  {'color': 'muted yellow', 'mul': 4}],\n",
       " 'bright white': [{'color': 'shiny gold', 'mul': 1}],\n",
       " 'muted yellow': [{'color': 'shiny gold', 'mul': 2},\n",
       "  {'color': 'faded blue', 'mul': 9}],\n",
       " 'shiny gold': 32,\n",
       " 'dark olive': 7,\n",
       " 'vibrant plum': 11,\n",
       " 'faded blue': 0,\n",
       " 'dotted black': 0}"
      ]
     },
     "execution_count": 20,
     "metadata": {},
     "output_type": "execute_result"
    }
   ],
   "source": [
    "rom collections import defaultdict\n",
    "\n",
    "#with open('day07.txt') as fd:\n",
    "with open('day07_bigboy.txt') as fd:\n",
    "    data = fd.read().splitlines()\n",
    "\n",
    "data = {' '.join(split_line[:2]): ([{'color': ' '.join(split_line[i+1:i+3]), 'mul': int(split_line[i])} for i in range(4, len(split_line), 4)] if split_line[4] != 'no' else []) for split_line in map(str.split, data)}\n",
    "\n",
    "def part1():\n",
    "    connected = {'shiny gold'}\n",
    "    condition = True\n",
    "    while condition:\n",
    "        condition = False\n",
    "        for color, connections in data.items():\n",
    "            if color in connected or not any((conn['color'] in connected) for conn in connections):\n",
    "                continue\n",
    "            connected.add(color)\n",
    "            condition = True\n",
    "    print(len(connected) - 1)\n",
    "\n",
    "def part2():\n",
    "    print(get_recursive_size(data, 'shiny gold'))\n",
    "\n",
    "def get_recursive_size(data, key):\n",
    "    v = data[key]\n",
    "    if isinstance(v, int):\n",
    "        return v\n",
    "\n",
    "    ret = sum((get_recursive_size(data, obj['color']) + 1) * obj['mul'] for obj in v)\n",
    "    data[key] = ret\n",
    "    return ret"
   ]
  }
 ],
 "metadata": {
  "kernelspec": {
   "display_name": "Python 3",
   "language": "python",
   "name": "python3"
  },
  "language_info": {
   "codemirror_mode": {
    "name": "ipython",
    "version": 3
   },
   "file_extension": ".py",
   "mimetype": "text/x-python",
   "name": "python",
   "nbconvert_exporter": "python",
   "pygments_lexer": "ipython3",
   "version": "3.7.4"
  }
 },
 "nbformat": 4,
 "nbformat_minor": 2
}
