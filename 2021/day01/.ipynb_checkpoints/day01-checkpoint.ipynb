{
 "cells": [
  {
   "cell_type": "code",
   "execution_count": 7,
   "metadata": {},
   "outputs": [
    {
     "name": "stdout",
     "output_type": "stream",
     "text": [
      "7 5\n"
     ]
    }
   ],
   "source": [
    "dayinput=None\n",
    "with open(\"example.txt\") as f:\n",
    "    dayinput=list(map(int,f.read().split()))\n",
    "    \n",
    "def day01p1(listInput):\n",
    "    currentElem,increases=listInput[0],0\n",
    "    for elem in listInput[1:]:\n",
    "        if(elem>currentElem):\n",
    "            increases+=1\n",
    "        currentElem=elem\n",
    "    return increases\n",
    "\n",
    "def day01p2(listInput):\n",
    "    currentSum,increases=float('-inf'),-1\n",
    "    for i in range(len(listInput[0:-2])):\n",
    "        summ=listInput[i]+listInput[i+1]+listInput[i+2]\n",
    "        if(summ>currentSum):\n",
    "            increases+=1\n",
    "        currentSum=summ\n",
    "    return increases\n",
    "\n",
    "print(day01p1(dayinput),day01p2(dayinput))"
   ]
  },
  {
   "cell_type": "code",
   "execution_count": 1,
   "metadata": {},
   "outputs": [
    {
     "name": "stdout",
     "output_type": "stream",
     "text": [
      "1665 1702\n"
     ]
    }
   ],
   "source": [
    "dayinput=None\n",
    "with open(\"input.txt\") as f:\n",
    "    dayinput=list(map(int,f.read().split()))\n",
    "def day01(listInput,j):\n",
    "    increases=0\n",
    "    for i in range(len(listInput[0:-j])):\n",
    "        if(listInput[i+j]>listInput[i]):\n",
    "            increases+=1\n",
    "    return increases\n",
    "print(day01(dayinput,1),day01(dayinput,3))"
   ]
  },
  {
   "cell_type": "code",
   "execution_count": 13,
   "metadata": {},
   "outputs": [
    {
     "name": "stdout",
     "output_type": "stream",
     "text": [
      "7\n",
      "8\n"
     ]
    }
   ],
   "source": [
    "#for i,elem in enumerate(dayinput[1:-2]):\n",
    "#    print(i+1,elem)\n",
    "#print(dayinput)\n",
    "print(len(dayinput)-3)\n",
    "print(len(dayinput[0:-2]))"
   ]
  }
 ],
 "metadata": {
  "kernelspec": {
   "display_name": "Python 3",
   "language": "python",
   "name": "python3"
  },
  "language_info": {
   "codemirror_mode": {
    "name": "ipython",
    "version": 3
   },
   "file_extension": ".py",
   "mimetype": "text/x-python",
   "name": "python",
   "nbconvert_exporter": "python",
   "pygments_lexer": "ipython3",
   "version": "3.9.0"
  }
 },
 "nbformat": 4,
 "nbformat_minor": 4
}
