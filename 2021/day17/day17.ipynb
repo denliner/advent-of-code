{
 "cells": [
  {
   "cell_type": "code",
   "execution_count": 5,
   "metadata": {},
   "outputs": [
    {
     "name": "stdout",
     "output_type": "stream",
     "text": [
      "Part 1:295\n",
      "Part 2:1972\n"
     ]
    }
   ],
   "source": [
    "from itertools import product \n",
    "import numpy as np\n",
    "\n",
    "def generate_grid(name):\n",
    "    grid={}\n",
    "    g=open(name).read().rstrip().splitlines()\n",
    "    for i,line in enumerate(g):\n",
    "        for j,c in enumerate(line):\n",
    "            if(c==\"#\"):\n",
    "                grid[(0,0,i,j)]=True\n",
    "    return grid\n",
    "\n",
    "def countNeighbours(grid,element,direction):\n",
    "    count=0\n",
    "    neighbours={}\n",
    "    for di in direction:\n",
    "        n=tuple(map(sum, zip(element, tuple(di))))\n",
    "        if(n in grid):\n",
    "            count+=1\n",
    "        else:\n",
    "            neighbours[n]=False\n",
    "    return count,neighbours\n",
    "\n",
    "def gameOfLife(grid,direction):\n",
    "    copy=grid.copy()\n",
    "    neighbours={}\n",
    "    for element in grid:\n",
    "        count, neigh=countNeighbours(grid,element,direction)\n",
    "        neighbours|=neigh\n",
    "        if (count<2 or count>3):\n",
    "            copy.pop(element, None)\n",
    "    for element in neighbours:\n",
    "        count,_=countNeighbours(grid,element,direction)\n",
    "        if(count==3):\n",
    "            copy[element]=True\n",
    "    return copy\n",
    "\n",
    "def day17(grid,d,n):\n",
    "    g=grid.copy()\n",
    "    i=0\n",
    "    while i<n:\n",
    "        g=gameOfLife(g,d)\n",
    "        i+=1\n",
    "    return g\n",
    "\n",
    "direction3d=list(product([0, 1,-1], repeat=3))\n",
    "direction3d=[(0,*t) for t in direction3d]\n",
    "direction4d=list(product([0, 1,-1], repeat=4))\n",
    "\n",
    "direction3d.remove((0,0,0,0))\n",
    "direction4d.remove((0,0,0,0))\n",
    "\n",
    "grid=generate_grid(\"input.txt\")     \n",
    "print(\"Part 1:\"+str(len(day17(grid,direction3d,6).keys())))\n",
    "print(\"Part 2:\"+str(len(day17(grid,direction4d,6).keys())))"
   ]
  },
  {
   "cell_type": "code",
   "execution_count": 13,
   "metadata": {},
   "outputs": [
    {
     "name": "stdout",
     "output_type": "stream",
     "text": [
      "         4997 function calls in 0.093 seconds\n",
      "\n",
      "   Ordered by: standard name\n",
      "\n",
      "   ncalls  tottime  percall  cumtime  percall filename:lineno(function)\n",
      "     4536    0.090    0.000    0.090    0.000 <ipython-input-12-6e71c5f011cb>:13(countNeighbours)\n",
      "        6    0.003    0.000    0.093    0.015 <ipython-input-12-6e71c5f011cb>:24(gameOfLife)\n",
      "        1    0.000    0.000    0.093    0.093 <ipython-input-12-6e71c5f011cb>:38(day17)\n",
      "        1    0.000    0.000    0.093    0.093 <string>:1(<module>)\n",
      "        1    0.000    0.000    0.093    0.093 {built-in method builtins.exec}\n",
      "        7    0.000    0.000    0.000    0.000 {method 'copy' of 'dict' objects}\n",
      "        1    0.000    0.000    0.000    0.000 {method 'disable' of '_lsprof.Profiler' objects}\n",
      "      444    0.000    0.000    0.000    0.000 {method 'pop' of 'dict' objects}\n",
      "\n",
      "\n",
      "Part 1 :207\n",
      "         59540 function calls in 3.434 seconds\n",
      "\n",
      "   Ordered by: standard name\n",
      "\n",
      "   ncalls  tottime  percall  cumtime  percall filename:lineno(function)\n",
      "    56078    3.358    0.000    3.358    0.000 <ipython-input-12-6e71c5f011cb>:13(countNeighbours)\n",
      "        6    0.074    0.012    3.432    0.572 <ipython-input-12-6e71c5f011cb>:24(gameOfLife)\n",
      "        1    0.002    0.002    3.434    3.434 <ipython-input-12-6e71c5f011cb>:38(day17)\n",
      "        1    0.000    0.000    3.434    3.434 <string>:1(<module>)\n",
      "        1    0.000    0.000    3.434    3.434 {built-in method builtins.exec}\n",
      "        7    0.000    0.000    0.000    0.000 {method 'copy' of 'dict' objects}\n",
      "        1    0.000    0.000    0.000    0.000 {method 'disable' of '_lsprof.Profiler' objects}\n",
      "     3445    0.000    0.000    0.000    0.000 {method 'pop' of 'dict' objects}\n",
      "\n",
      "\n",
      "Part 2 :2308\n"
     ]
    }
   ],
   "source": [
    "import cProfile\n",
    "\n",
    "gridbench=generate_grid(\"bigboy.txt\")     \n",
    "cProfile.run('resultp1=day17(gridbench,direction3d,6)')\n",
    "print(\"Part 1 :\"+str(len(resultp1.keys())))\n",
    "#resultp2=day17(grid,direction4d,6)\n",
    "cProfile.run('resultp2=day17(gridbench,direction4d,6)')\n",
    "print(\"Part 2 :\"+str(len(resultp2.keys())))\n"
   ]
  },
  {
   "cell_type": "code",
   "execution_count": 10,
   "metadata": {},
   "outputs": [
    {
     "data": {
      "text/plain": [
       "[(0, 2, 2, 3),\n",
       " (0, 2, 2, 1),\n",
       " (0, 2, 3, 2),\n",
       " (0, 2, 3, 3),\n",
       " (0, 2, 3, 1),\n",
       " (0, 2, 1, 2),\n",
       " (0, 2, 1, 3),\n",
       " (0, 2, 1, 1),\n",
       " (0, 3, 2, 2),\n",
       " (0, 3, 2, 3),\n",
       " (0, 3, 2, 1),\n",
       " (0, 3, 3, 2),\n",
       " (0, 3, 3, 3),\n",
       " (0, 3, 3, 1),\n",
       " (0, 3, 1, 2),\n",
       " (0, 3, 1, 3),\n",
       " (0, 3, 1, 1),\n",
       " (0, 1, 2, 2),\n",
       " (0, 1, 2, 3),\n",
       " (0, 1, 2, 1),\n",
       " (0, 1, 3, 2),\n",
       " (0, 1, 3, 3),\n",
       " (0, 1, 3, 1),\n",
       " (0, 1, 1, 2),\n",
       " (0, 1, 1, 3),\n",
       " (0, 1, 1, 1)]"
      ]
     },
     "execution_count": 10,
     "metadata": {},
     "output_type": "execute_result"
    }
   ],
   "source": [
    "#map(sum, zip((2,2,2,2), tuple(direction3d)))\n",
    "[tuple(map(sum, zip((0,2,2,2), b))) for b in direction3d]\n"
   ]
  },
  {
   "cell_type": "code",
   "execution_count": 88,
   "metadata": {},
   "outputs": [
    {
     "name": "stdout",
     "output_type": "stream",
     "text": [
      "((2, -2), (4, 0), (3, -1))\n"
     ]
    },
    {
     "data": {
      "text/plain": [
       "range(2, -2)"
      ]
     },
     "execution_count": 88,
     "metadata": {},
     "output_type": "execute_result"
    }
   ],
   "source": [
    "a=[(0, 1, 0), (1, 1, 0), (-1, 1, 0), \n",
    " (1, 1, 3), (1, 2, 3), (1, 0, 1),\n",
    " (-1, 1, 3), (-1, 2, 3), (-1, 0, 1),\n",
    " (1, 3, 0), (-1, 3, 0), (0, 3, 3), \n",
    " (0, 1, -1), (0, 2, -1), (0, 0, 0), \n",
    " (0, 0, -1), (2, 2, 1), (-2, 2, 1),\n",
    " (0, 4, 1), (0, 4, 2), (0, 4, 0)]\n",
    "b=max(a, key=lambda x: x[0])[0],min(a, key=lambda x: x[0])[0]\n",
    "c=max(a, key=lambda x: x[1])[1],min(a, key=lambda x: x[1])[1]\n",
    "d=max(a, key=lambda x: x[2])[2],min(a, key=lambda x: x[2])[2]\n",
    "print((b,c,d))\n",
    "range(*b)\n",
    "1972"
   ]
  },
  {
   "cell_type": "code",
   "execution_count": null,
   "metadata": {},
   "outputs": [],
   "source": [
    "def printGrid(grid):\n",
    "    copy=grid.copy()\n",
    "    copy[(0,0,0)]=True\n",
    "    x=min(copy, key=lambda x: x[0])[0],max(copy, key=lambda x: x[0])[0]+1\n",
    "    y=min(copy, key=lambda x: x[1])[1],max(copy, key=lambda x: x[1])[1]+1\n",
    "    z=min(copy, key=lambda x: x[2])[2],max(copy, key=lambda x: x[2])[2]+1\n",
    "    maxcoor=np.array((len(range(*x)),\n",
    "             len(range(*y)),\n",
    "             len(range(*z))))\n",
    "    g=np.full(maxcoor,\".\")\n",
    "    print(maxcoor)\n",
    "    print(x,y,z)\n",
    "    #print(g)\n",
    "    for element in grid:\n",
    "        print(element)\n",
    "        #print(\"sumelem\")\n",
    "        print(tuple(map(sum, zip(element, (max(0,-x[0]),max(0,-y[0]),max(0,-z[0])) ) ) ))\n",
    "        for i in range(len(g)):\n",
    "            print(g[i])\n",
    "        print('\\n')\n",
    "        g[tuple(map(sum, zip(element, (max(0,-x[0]),max(0,-y[0]),max(0,-z[0])) ) ) )]=\"#\"\n",
    "    for i in range(*x):\n",
    "        print(g[i])\n",
    "    print('\\n\\n\\n')\n",
    "def generate_grid(name):\n",
    "    grid={}\n",
    "    g=open(name).read().rstrip().splitlines()\n",
    "    for i,line in enumerate(g):\n",
    "        for j,c in enumerate(line):\n",
    "            if(c==\"#\"):\n",
    "                grid[(0,i,j)]=True\n",
    "    return grid"
   ]
  }
 ],
 "metadata": {
  "kernelspec": {
   "display_name": "Python 3",
   "language": "python",
   "name": "python3"
  },
  "language_info": {
   "codemirror_mode": {
    "name": "ipython",
    "version": 3
   },
   "file_extension": ".py",
   "mimetype": "text/x-python",
   "name": "python",
   "nbconvert_exporter": "python",
   "pygments_lexer": "ipython3",
   "version": "3.9.0"
  }
 },
 "nbformat": 4,
 "nbformat_minor": 4
}
