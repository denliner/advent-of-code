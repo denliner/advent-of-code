{
 "cells": [
  {
   "cell_type": "code",
   "execution_count": 8,
   "metadata": {},
   "outputs": [
    {
     "name": "stdout",
     "output_type": "stream",
     "text": [
      "4557571964\n",
      "2432594233357684\n",
      "         576224 function calls in 0.835 seconds\n",
      "\n",
      "   Ordered by: standard name\n",
      "\n",
      "   ncalls  tottime  percall  cumtime  percall filename:lineno(function)\n",
      "        1    0.217    0.217    0.217    0.217 <ipython-input-8-109b17b9741b>:18(day02p2)\n",
      "        1    0.009    0.009    0.803    0.803 <ipython-input-8-109b17b9741b>:2(day02)\n",
      "        1    0.073    0.073    0.379    0.379 <ipython-input-8-109b17b9741b>:6(<listcomp>)\n",
      "        1    0.168    0.168    0.169    0.169 <ipython-input-8-109b17b9741b>:8(day02p1)\n",
      "        1    0.032    0.032    0.835    0.835 <string>:1(<module>)\n",
      "        1    0.000    0.000    0.000    0.000 _bootlocale.py:11(getpreferredencoding)\n",
      "        1    0.000    0.000    0.000    0.000 codecs.py:260(__init__)\n",
      "        1    0.000    0.000    0.005    0.005 cp1252.py:22(decode)\n",
      "        5    0.000    0.000    0.000    0.000 iostream.py:195(schedule)\n",
      "        4    0.000    0.000    0.000    0.000 iostream.py:308(_is_master_process)\n",
      "        4    0.000    0.000    0.000    0.000 iostream.py:321(_schedule_flush)\n",
      "        4    0.000    0.000    0.000    0.000 iostream.py:384(write)\n",
      "        5    0.000    0.000    0.000    0.000 iostream.py:91(_event_pipe)\n",
      "        5    0.000    0.000    0.000    0.000 socket.py:432(send)\n",
      "        5    0.000    0.000    0.000    0.000 threading.py:1035(_wait_for_tstate_lock)\n",
      "        5    0.000    0.000    0.000    0.000 threading.py:1089(is_alive)\n",
      "        5    0.000    0.000    0.000    0.000 threading.py:529(is_set)\n",
      "        1    0.005    0.005    0.005    0.005 {built-in method _codecs.charmap_decode}\n",
      "        1    0.000    0.000    0.000    0.000 {built-in method _locale._getdefaultlocale}\n",
      "        1    0.000    0.000    0.835    0.835 {built-in method builtins.exec}\n",
      "        4    0.000    0.000    0.000    0.000 {built-in method builtins.isinstance}\n",
      "        2    0.000    0.000    0.000    0.000 {built-in method builtins.print}\n",
      "        1    0.000    0.000    0.000    0.000 {built-in method io.open}\n",
      "        4    0.000    0.000    0.000    0.000 {built-in method nt.getpid}\n",
      "        1    0.000    0.000    0.000    0.000 {method '__exit__' of '_io._IOBase' objects}\n",
      "        5    0.000    0.000    0.000    0.000 {method 'acquire' of '_thread.lock' objects}\n",
      "        5    0.000    0.000    0.000    0.000 {method 'append' of 'collections.deque' objects}\n",
      "        1    0.000    0.000    0.000    0.000 {method 'disable' of '_lsprof.Profiler' objects}\n",
      "        1    0.002    0.002    0.007    0.007 {method 'read' of '_io.TextIOWrapper' objects}\n",
      "   576146    0.306    0.000    0.306    0.000 {method 'split' of 'str' objects}\n",
      "        1    0.021    0.021    0.021    0.021 {method 'splitlines' of 'str' objects}\n",
      "\n",
      "\n"
     ]
    }
   ],
   "source": [
    "import cProfile\n",
    "def day02():\n",
    "    commands = {\"forward\" : {\"type\" : 0 , \"value\" : 1 }, \"up\" : {\"type\" : 1 , \"value\" : -1 }, \"down\" : {\"type\" : 1 , \"value\" : 1 }}\n",
    "    dataInput=None\n",
    "    with open(\"oqhr6d.txt\") as f:\n",
    "        dataInput=[a.split(\" \") for a in f.read().splitlines()]\n",
    "\n",
    "    def day02p1(dataInput):\n",
    "        position,depth,aims=0,0,0\n",
    "        for x in dataInput:\n",
    "            if(commands[x[0]][\"type\"]):\n",
    "                depth+= int(x[1])*commands[x[0]][\"value\"]\n",
    "            else:\n",
    "                position+= int(x[1])*commands[x[0]][\"value\"]\n",
    "        print(position*depth)\n",
    "\n",
    "\n",
    "    def day02p2(dataInput):\n",
    "        position,depth,aims=0,0,0\n",
    "        for x in dataInput:\n",
    "            if(commands[x[0]][\"type\"]):\n",
    "                aims+= int(x[1])*commands[x[0]][\"value\"]\n",
    "            else:\n",
    "                position+= int(x[1])*commands[x[0]][\"value\"]\n",
    "                depth+=aims*int(x[1])*commands[x[0]][\"value\"]\n",
    "        print(position*depth)\n",
    "\n",
    "    day02p1(dataInput)\n",
    "    day02p2(dataInput)\n",
    "cProfile.run('day02()')\n"
   ]
  }
 ],
 "metadata": {
  "kernelspec": {
   "display_name": "Python 3",
   "language": "python",
   "name": "python3"
  },
  "language_info": {
   "codemirror_mode": {
    "name": "ipython",
    "version": 3
   },
   "file_extension": ".py",
   "mimetype": "text/x-python",
   "name": "python",
   "nbconvert_exporter": "python",
   "pygments_lexer": "ipython3",
   "version": "3.9.0"
  }
 },
 "nbformat": 4,
 "nbformat_minor": 4
}
