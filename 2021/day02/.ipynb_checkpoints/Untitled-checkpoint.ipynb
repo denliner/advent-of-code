{
 "cells": [
  {
   "cell_type": "code",
   "execution_count": 121,
   "metadata": {},
   "outputs": [
    {
     "name": "stdout",
     "output_type": "stream",
     "text": [
      "1000\n",
      "645\n",
      "0\n",
      "737\n"
     ]
    }
   ],
   "source": [
    "with open('e2p8ir') as f:\n",
    "    l = f.read().splitlines()\n",
    "l[0].split(':')[0].split(\" \")\n",
    "print(len(l))\n",
    "def validatePassword(line):\n",
    "    s=line.split(': ')\n",
    "    bound=s[0].split(\" \")[0].split(\"-\")\n",
    "    length=len(s[1])\n",
    "    n=0\n",
    "    c=s[0].split(\" \")[1]\n",
    "    for i in range(length):\n",
    "        if(s[1][i]==c):\n",
    "            n+=1 \n",
    "        if(n>int(bound[1])):\n",
    "            return 0\n",
    "        elif(((length-1)-i)<(int(bound[0])-n)):\n",
    "            \n",
    "            return 0\n",
    "    return 1\n",
    "\n",
    "def validateAllPassword(l):\n",
    "    n=0\n",
    "    for line in l:\n",
    "       n+=validatePassword(line)\n",
    "    return n\n",
    "\n",
    "def validatePasswordPart2(line):\n",
    "    s=line.split(': ')\n",
    "    bound=s[0].split(\" \")[0].split(\"-\")\n",
    "    length=len(s[1])\n",
    "    n=0\n",
    "    c=s[0].split(\" \")[1]\n",
    "    if( (s[1][int(bound[0])-1]==c) ^ (s[1][int(bound[1])-1]==c) ):\n",
    "        return 1\n",
    "    else:\n",
    "        return 0\n",
    "\n",
    "def validateAllPasswordPart2(l):\n",
    "    n=0\n",
    "    for line in l:\n",
    "       n+=validatePasswordPart2(line)\n",
    "    return n\n",
    "print(validateAllPassword(l))\n",
    "print(validatePasswordPart2(\"2-9 c: ccccccccc\"))\n",
    "print(validateAllPasswordPart2(l))"
   ]
  }
 ],
 "metadata": {
  "kernelspec": {
   "display_name": "Python 3",
   "language": "python",
   "name": "python3"
  },
  "language_info": {
   "codemirror_mode": {
    "name": "ipython",
    "version": 3
   },
   "file_extension": ".py",
   "mimetype": "text/x-python",
   "name": "python",
   "nbconvert_exporter": "python",
   "pygments_lexer": "ipython3",
   "version": "3.7.4"
  }
 },
 "nbformat": 4,
 "nbformat_minor": 2
}
