{
 "cells": [
  {
   "cell_type": "code",
   "execution_count": 25,
   "metadata": {},
   "outputs": [
    {
     "name": "stdout",
     "output_type": "stream",
     "text": [
      "323\n",
      "3621285278\n"
     ]
    }
   ],
   "source": [
    "with open('input.txt') as f:\n",
    "    map = f.read().splitlines()\n",
    "print(len(map))\n",
    "def day3(map,slope,lengthX,lengthY):\n",
    "    i=0\n",
    "    posX=0\n",
    "    posY=0  \n",
    "    while((lengthY)>(posY+slope[0])):\n",
    "        #print(i)\n",
    "        #print('posY='+str(posY)+\"<\"+str(lengthY))\n",
    "        posX+=slope[1]\n",
    "        #print('posX='+str(posX))\n",
    "        posY+=slope[0]\n",
    "        #print('posY='+str(posY))\n",
    "        if(map[posY][posX%lengthX]==\"#\"):\n",
    "            i+=1\n",
    "    return i\n",
    "\n",
    "def day3p2(map,lSlope):\n",
    "    lengthX=len(map[0])\n",
    "    lengthY=len(map)\n",
    "    result=1\n",
    "    for slope in lSlope:\n",
    "        result*=day3(map,slope,lengthX,lengthY)\n",
    "    return result\n",
    "#day3(map,[1,3],len(map[0]),len(map)\n",
    "print(day3p2(map,[[1,1],[1,3],[1,5],[1,7],[2,1]]))"
   ]
  },
  {
   "cell_type": "code",
   "execution_count": 24,
   "metadata": {},
   "outputs": [
    {
     "name": "stdout",
     "output_type": "stream",
     "text": [
      "         231 function calls in 0.062 seconds\n",
      "\n",
      "   Ordered by: standard name\n",
      "\n",
      "   ncalls  tottime  percall  cumtime  percall filename:lineno(function)\n",
      "        1    0.000    0.000    0.062    0.062 <ipython-input-19-65533ad396ae>:19(day3p2)\n",
      "      225    0.062    0.000    0.062    0.000 <ipython-input-19-65533ad396ae>:4(day3)\n",
      "        1    0.000    0.000    0.062    0.062 <string>:1(<module>)\n",
      "        1    0.000    0.000    0.062    0.062 {built-in method builtins.exec}\n",
      "        2    0.000    0.000    0.000    0.000 {built-in method builtins.len}\n",
      "        1    0.000    0.000    0.000    0.000 {method 'disable' of '_lsprof.Profiler' objects}\n",
      "\n",
      "\n"
     ]
    }
   ],
   "source": [
    "import cProfile\n",
    "import numpy as np\n",
    "with open('xinqum.txt') as f:\n",
    "    mapbench = f.read().splitlines()\n",
    "right=[ 2, 3, 4, 6, 8, 9, 12, 16, 18, 24, 32, 36, 48, 54, 64 ]\n",
    "down=[ 1, 5, 7, 11, 13, 17, 19, 23, 25, 29, 31, 35, 37, 41, 47 ]\n",
    "slopebench=np.array(np.meshgrid(down, right)).T.reshape(-1, 2).tolist()\n",
    "#slopebench=[[1,2],[5,3],[7,4],[11,6],[13,8],[17,9],[19,12],[23,16],[25,18],[29,24],[31,32],[35,36],[37,48],[41,54],[47,64]]\n",
    "cProfile.run(\"day3p2(mapbench,slopebench)\")"
   ]
  }
 ],
 "metadata": {
  "kernelspec": {
   "display_name": "Python 3",
   "language": "python",
   "name": "python3"
  },
  "language_info": {
   "codemirror_mode": {
    "name": "ipython",
    "version": 3
   },
   "file_extension": ".py",
   "mimetype": "text/x-python",
   "name": "python",
   "nbconvert_exporter": "python",
   "pygments_lexer": "ipython3",
   "version": "3.7.4"
  }
 },
 "nbformat": 4,
 "nbformat_minor": 2
}
