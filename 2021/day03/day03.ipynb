{
 "cells": [
  {
   "cell_type": "code",
   "execution_count": 95,
   "metadata": {},
   "outputs": [
    {
     "name": "stdout",
     "output_type": "stream",
     "text": [
      "010100010100 101011101011\n",
      "1300 2795\n",
      "3633500\n",
      "\n",
      "\n",
      "Oxygen:\n",
      "010100101111, 1327\n",
      "CO2:\n",
      "110101100101, 3429\n",
      "lifesupport:\n",
      "4550283\n"
     ]
    }
   ],
   "source": [
    "import numpy as np\n",
    "with open(\"input.txt\") as f:\n",
    "    input_=f.read().split()\n",
    "    input_= [ list(map(int, l)) for l in input_]\n",
    "    \n",
    "#print(np.array(input_))\n",
    "rotated_array=np.rot90(input_,3)\n",
    "gamma=''\n",
    "epsilon=''\n",
    "for sub in rotated_array:\n",
    "    if(np.argmax(np.bincount(sub))):\n",
    "        gamma+='1'\n",
    "        epsilon+='0'\n",
    "    else:\n",
    "        gamma+='0'\n",
    "        epsilon+='1'\n",
    "print(gamma,epsilon)\n",
    "print(int(gamma,2),int(epsilon,2))\n",
    "print(int(gamma,2)*int(epsilon,2))\n",
    "print(\"\\n\")\n",
    "oxygen_array=np.copy(rotated_array)\n",
    "CO2_array=np.copy(rotated_array)\n",
    "def bitCriteria(rotated,args):\n",
    "    #print(np.rot90(rotated,1))\n",
    "    #print(\"\\n\")\n",
    "    bits=''\n",
    "    for i in range(len(rotated)):\n",
    "        delete_indice=[]\n",
    "        #print(rotated[i])\n",
    "        bincount=np.bincount(rotated[i])\n",
    "        if(args(bincount) or (bincount[0]==bincount[1] and args==np.argmax)  ):\n",
    "            delete_indice=np.where(rotated[i] == 0)\n",
    "        else:\n",
    "            delete_indice=np.where(rotated[i] == 1)\n",
    "        rotated=np.delete(rotated,delete_indice,1)\n",
    "        #print(np.rot90(rotated,1))\n",
    "        if(len(np.rot90(rotated,1))<2):\n",
    "            break\n",
    "        #print(\"\\n\")\n",
    "    return ''.join(map(str, np.rot90(rotated,1)[0])) \n",
    "oxygen=bitCriteria(oxygen_array,np.argmax)\n",
    "CO2=bitCriteria(CO2_array,np.argmin)\n",
    "print(\"Oxygen:\")\n",
    "print(oxygen+\",\",int(oxygen,2))\n",
    "print(\"CO2:\")\n",
    "print(CO2+\",\",int(CO2,2))\n",
    "print(\"lifesupport:\")\n",
    "print(int(oxygen,2)*int(CO2,2))"
   ]
  },
  {
   "cell_type": "code",
   "execution_count": null,
   "metadata": {},
   "outputs": [],
   "source": []
  },
  {
   "cell_type": "code",
   "execution_count": 79,
   "metadata": {},
   "outputs": [
    {
     "data": {
      "text/plain": [
       "array([1, 1], dtype=int64)"
      ]
     },
     "execution_count": 79,
     "metadata": {},
     "output_type": "execute_result"
    }
   ],
   "source": [
    "np.bincount([1,0])"
   ]
  },
  {
   "cell_type": "code",
   "execution_count": 46,
   "metadata": {},
   "outputs": [
    {
     "name": "stdout",
     "output_type": "stream",
     "text": [
      "[[0 0 1 1 1 0 0 1 1 1 1 0]\n",
      " [1 0 1 0 1 0 1 0 0 0 1 0]\n",
      " [0 0 0 0 1 1 1 1 1 1 1 1]\n",
      " [1 1 0 0 0 1 1 0 1 1 1 0]\n",
      " [0 0 1 0 0 1 1 1 1 0 0 0]]\n"
     ]
    },
    {
     "data": {
      "text/plain": [
       "(array([ 0,  1,  5,  6, 11], dtype=int64),)"
      ]
     },
     "execution_count": 46,
     "metadata": {},
     "output_type": "execute_result"
    }
   ],
   "source": [
    "print(rotated_array)\n",
    "np.where(rotated_array[0] != 1)\n"
   ]
  },
  {
   "cell_type": "code",
   "execution_count": 64,
   "metadata": {},
   "outputs": [
    {
     "data": {
      "text/plain": [
       "array([[0, 0, 0, 0, 0],\n",
       "       [1, 0, 0, 1, 0],\n",
       "       [0, 0, 1, 1, 1],\n",
       "       [1, 1, 1, 1, 0],\n",
       "       [0, 0, 1, 1, 0]])"
      ]
     },
     "execution_count": 64,
     "metadata": {},
     "output_type": "execute_result"
    }
   ],
   "source": [
    "cope=np.copy(rotated_array)\n",
    "np.delete(cope,[2,3,4,7,8,9,10],1)"
   ]
  },
  {
   "cell_type": "code",
   "execution_count": 97,
   "metadata": {},
   "outputs": [
    {
     "name": "stdout",
     "output_type": "stream",
     "text": [
      "010100010100 101011101011\n",
      "1300 2795\n",
      "3633500\n",
      "\n",
      "\n",
      "Oxygen:\n",
      "010100101111, 1327\n",
      "CO2:\n",
      "110101100101, 3429\n",
      "lifesupport:\n",
      "4550283\n"
     ]
    }
   ],
   "source": [
    "import numpy as np\n",
    "with open(\"input.txt\") as f:\n",
    "    input_=f.read().split()\n",
    "    input_= [ list(map(int, l)) for l in input_]\n",
    "    \n",
    "rotated_array=np.rot90(input_,3)\n",
    "gamma,epsilon='',''\n",
    "for sub in rotated_array:\n",
    "    if(np.argmax(np.bincount(sub))):\n",
    "        gamma+='1'\n",
    "        epsilon+='0'\n",
    "    else:\n",
    "        gamma+='0'\n",
    "        epsilon+='1'\n",
    "print(gamma,epsilon)\n",
    "print(int(gamma,2),int(epsilon,2))\n",
    "print(int(gamma,2)*int(epsilon,2))\n",
    "print(\"\\n\")\n",
    "oxygen_array=np.copy(rotated_array)\n",
    "CO2_array=np.copy(rotated_array)\n",
    "def bitCriteria(rotated,args):\n",
    "    for i in range(len(rotated)):\n",
    "        delete_indice=[]\n",
    "        bincount=np.bincount(rotated[i])\n",
    "        if(args(bincount) or (bincount[0]==bincount[1] and args==np.argmax)  ):\n",
    "            delete_indice=np.where(rotated[i] == 0)\n",
    "        else:\n",
    "            delete_indice=np.where(rotated[i] == 1)\n",
    "        rotated=np.delete(rotated,delete_indice,1)\n",
    "        if(len(np.rot90(rotated,1))<2):\n",
    "            break\n",
    "    return ''.join(map(str, np.rot90(rotated,1)[0])) \n",
    "oxygen=bitCriteria(oxygen_array,np.argmax)\n",
    "CO2=bitCriteria(CO2_array,np.argmin)\n",
    "print(\"Oxygen:\")\n",
    "print(oxygen+\",\",int(oxygen,2))\n",
    "print(\"CO2:\")\n",
    "print(CO2+\",\",int(CO2,2))\n",
    "print(\"lifesupport:\")\n",
    "print(int(oxygen,2)*int(CO2,2))"
   ]
  }
 ],
 "metadata": {
  "kernelspec": {
   "display_name": "Python 3",
   "language": "python",
   "name": "python3"
  },
  "language_info": {
   "codemirror_mode": {
    "name": "ipython",
    "version": 3
   },
   "file_extension": ".py",
   "mimetype": "text/x-python",
   "name": "python",
   "nbconvert_exporter": "python",
   "pygments_lexer": "ipython3",
   "version": "3.9.0"
  }
 },
 "nbformat": 4,
 "nbformat_minor": 4
}
