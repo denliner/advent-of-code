{
 "cells": [
  {
   "cell_type": "code",
   "execution_count": 4,
   "metadata": {},
   "outputs": [
    {
     "name": "stdout",
     "output_type": "stream",
     "text": [
      "150426\n"
     ]
    }
   ],
   "source": [
    "EXAMPLE=\"example.txt\"\n",
    "EXAMPLE2=\"example2.txt\"\n",
    "EXAMPLE3=\"example3.txt\"\n",
    "INPUT=\"input.txt\"\n",
    "\n",
    "import numpy as np\n",
    "\n",
    "class Edge:\n",
    "    def __init__(self, v=\"\"):\n",
    "        self.name = v\n",
    "        self.n = []\n",
    "        self.lastVisit = 0\n",
    "\n",
    "def generateEdge(edgeName,input_):\n",
    "    dictionary={}\n",
    "    for n in edgeName:\n",
    "        dictionary[n]=Edge(n)\n",
    "    for elem in input_:\n",
    "        dictionary[elem[0]].n.append(dictionary[elem[1]])\n",
    "        if(not (elem[1]==\"end\" or elem[0]==\"start\") ):\n",
    "            dictionary[elem[1]].n.append(dictionary[elem[0]])\n",
    "    return dictionary\n",
    "\n",
    "def getPath(u,v,graph,path,n,pathList,count):\n",
    "    n_path=0\n",
    "    path.append(u)\n",
    "    #print(\"current \",u,[x.name for x in graph[u].n],\"path\",path,count)\n",
    "    #print(\"path2\",path2)\n",
    "    #print(\"memo\",memory)\n",
    "    if(u==\"end\"):\n",
    "        print(\"endo da\",path)\n",
    "        return 0\n",
    "    for verticle in graph[u].n:\n",
    "        #print(u,verticle.name)\n",
    "        if(verticle.name in path and verticle.name.islower()):\n",
    "            if( (not verticle.name==\"end\" and not count<(n-1)) or verticle.name==\"start\"):\n",
    "         #       print(\"continue\",verticle.name)\n",
    "                continue\n",
    "            else:\n",
    "          #      print(verticle.name,count)\n",
    "                n_path+=getPath(verticle.name,v,graph,path.copy(),n,pathList,count+1)\n",
    "        elif verticle.name==v:\n",
    "            path2=path.copy()\n",
    "            path2.append(verticle.name)\n",
    "            #print(\"end\",path2,u)\n",
    "            pathList.append(path2)\n",
    "            n_path+=1\n",
    "        else:\n",
    "            n_path+=getPath(verticle.name,v,graph,path.copy(),n,pathList,count)\n",
    "    #print(\"u\",u)\n",
    "    #if(v in path2):\n",
    "    #    print(path2,n_path)\n",
    "    return n_path\n",
    "\n",
    "\n",
    "with open(INPUT) as f:\n",
    "    input_=f.read().splitlines()\n",
    "    input_= [ x.split(\"-\") for x in input_]\n",
    "    \n",
    "edgeName=[y for x in input_ for y in x]\n",
    "edgeName= list(dict.fromkeys(edgeName))\n",
    "graph=generateEdge(edgeName,input_)\n",
    "graph['start'].n[1].name\n",
    "pathList=[]\n",
    "pathList0=[]\n",
    "#getPath(\"start\",\"end\",graph,[],1,pathList0,0)\n",
    "\n",
    "getPath(\"start\",\"end\",graph,[],2,pathList,0)\n",
    "gold=pathList\n",
    "#for element in pathList:\n",
    "#    if element not in gold:\n",
    "#        gold.append(element)\n",
    "#with open(\"P1l.txt\") as f:\n",
    "#    output=f.read().splitlines()\n",
    "#    output= [ x.split(\",\") for x in output]\n",
    "#len(gold),[x for x in output if x not in pathList]\n",
    "print(len(gold))\n"
   ]
  },
  {
   "cell_type": "code",
   "execution_count": 58,
   "metadata": {},
   "outputs": [
    {
     "data": {
      "text/plain": [
       "False"
      ]
     },
     "execution_count": 58,
     "metadata": {},
     "output_type": "execute_result"
    }
   ],
   "source": [
    "\"HC\".islower()"
   ]
  }
 ],
 "metadata": {
  "kernelspec": {
   "display_name": "Python 3",
   "language": "python",
   "name": "python3"
  },
  "language_info": {
   "codemirror_mode": {
    "name": "ipython",
    "version": 3
   },
   "file_extension": ".py",
   "mimetype": "text/x-python",
   "name": "python",
   "nbconvert_exporter": "python",
   "pygments_lexer": "ipython3",
   "version": "3.9.0"
  }
 },
 "nbformat": 4,
 "nbformat_minor": 4
}
