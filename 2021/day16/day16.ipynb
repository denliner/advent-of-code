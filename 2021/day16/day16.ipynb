{
 "cells": [
  {
   "cell_type": "code",
   "execution_count": 327,
   "metadata": {
    "scrolled": false
   },
   "outputs": [
    {
     "data": {
      "text/plain": [
       "(1264857437203, '00', 5430, 875)"
      ]
     },
     "execution_count": 327,
     "metadata": {},
     "output_type": "execute_result"
    }
   ],
   "source": [
    "import math\n",
    "import operator\n",
    "\n",
    "with open(\"input.txt\") as f:\n",
    "    input_=f.read().strip()\n",
    "ex=input_\n",
    "#ex=\"A0016C880162017C3686B18A3D4780\"\n",
    "#ex=\"9C0141080250320F1802104A08\"\n",
    "#k=\"11010001010\"\n",
    "with open(\"decoder.txt\") as f:\n",
    "    decoder=f.read().strip().splitlines()\n",
    "    decoder=[x.split(\" = \") for x in decoder]\n",
    "    decoder={x[0]: x[1] for x in decoder}\n",
    "decoder\n",
    "\n",
    "\n",
    "\n",
    "\n",
    "converted=\"\"\n",
    "for x in ex:\n",
    "    converted+=decoder[x]\n",
    "#converted=\"110100010100101001000100100\"\n",
    "\n",
    "#print(v,t,int(v,2),int(t,2),converted,len(converted))\n",
    "\n",
    "dd={0 : sum, 1:math.prod, 2:min, 3:max, \n",
    "    5: operator.gt, 6:operator.lt, 7:operator.eq}\n",
    "def getCount(listCount,iD):\n",
    "    #print(listCount,iD)\n",
    "    if iD in list(range(0,4)):\n",
    "        return dd[iD](listCount)\n",
    "    else:\n",
    "        return 1 if(dd[iD](listCount[0],listCount[1])) else 0\n",
    "def removeZero(nextt):\n",
    "    if(nextt[0]==\"0\" and not len(nextt)%4==0):\n",
    "        return removeZero(nextt[1:])\n",
    "    else:\n",
    "        return nextt\n",
    "\n",
    "def recursive(converted):\n",
    "    valList=[]\n",
    "    version=0\n",
    "    #print(\"\\n\"*2)\n",
    "    ##print(\"converted\",converted)\n",
    "    v=converted[0:3]\n",
    "    #print(\"v=\",int(v,2))\n",
    "    t=converted[3:6]\n",
    "    #print(\"t=\",int(t,2))\n",
    "    count,length=0,6\n",
    "    #print(\"converted:\",converted,\"t=\",int(t,2),\"mod=\",len(converted[6:])%4 )\n",
    "    if not int(t,2)==4:\n",
    "        #print(\"not 4\")\n",
    "        i=int(converted[6])\n",
    "        #print(\"i\",i)\n",
    "        l=\"\"\n",
    "        nextt=converted[7:]\n",
    "        length+=1\n",
    "        #print(\"first next\",nextt)\n",
    "        if(i):\n",
    "            l=int(nextt[:11],2)\n",
    "            nextt=nextt[11:]\n",
    "            length+=11\n",
    "            #print(\"l\",l)\n",
    "            #print(\"nextt\",nextt,len(nextt))\n",
    "            for nb in range(l):\n",
    "                #removeZero(nextt)\n",
    "                #print(\"nb=\",nb)\n",
    "                cou,nextt,lenn,version2=recursive(nextt)\n",
    "                count+=cou\n",
    "                valList.append(cou)\n",
    "                version+=version2\n",
    "                length+=lenn\n",
    "                #print(\"nextt\",nextt,len(nextt))\n",
    "            #print(\"1 version\",version+int(v,2))\n",
    "            #print(\"0\",valList)\n",
    "            return getCount(valList,int(t,2)),nextt,length,version+int(v,2)\n",
    "\n",
    "        else:\n",
    "            l=int(nextt[:15],2)\n",
    "            #print(nextt[:15])\n",
    "            nextt=nextt[15:]\n",
    "            length+=15\n",
    "            #print(\"l\",l)\n",
    "            afterNext=nextt[l:]\n",
    "            #print(\"l0\",l)\n",
    "            kk=0\n",
    "            length2=0\n",
    "            while 1:\n",
    "                #removeZero(nextt)\n",
    "                #print(\"kk\",kk)\n",
    "                cou,nextt,lenn,version2=recursive(nextt[:l])\n",
    "                valList.append(cou)\n",
    "                #print((cou,nextt,lenn,version2))\n",
    "                #print(\"length2,l,length\",length2,l,length)\n",
    "                count+=cou\n",
    "                version+=version2\n",
    "                length2+=lenn\n",
    "                length+=lenn\n",
    "                #print(\"length2,l,length\",length2,l,length)\n",
    "                kk+=1\n",
    "                if(length2>=l):\n",
    "                    #print(valList)\n",
    "                    #print(\"0 next\",nextt,l,length,length2)\n",
    "                    #print(\"0 version\",version+int(v,2))\n",
    "                    return getCount(valList,int(t,2)),afterNext,length,version+int(v,2)\n",
    "    else:\n",
    "        #print(\"is 4\")\n",
    "        #print(count)\n",
    "        nextt=converted[6:]\n",
    "        #print(\"next 4\",nextt,len(nextt))\n",
    "        #print(\"next 4\",nextt,len(nextt)%4)\n",
    "        #while(nextt[0]==\"0\"):\n",
    "        #    nextt=nextt[1:]\n",
    "        values=\"\"\n",
    "        #print(\"0  \",nextt)\n",
    "        while(1):\n",
    "            if(len(nextt)<5):\n",
    "                break\n",
    "            n=nextt[:5]\n",
    "            #print(\"n\",n)\n",
    "            values+=n[1:]\n",
    "            nextt=nextt[5:]\n",
    "            length+=5\n",
    "            if(n[0]==\"0\"):\n",
    "                break\n",
    "        count=count+int(values,2)\n",
    "        #print(values,count)\n",
    "        #print(\"nextt\",nextt)\n",
    "        #print(\"nextt\",nextt)\n",
    "        #print(\"lenght\",length)\n",
    "        #print(\"count\",count)\n",
    "        #print(\"4 version\",version+int(v,2))\n",
    "        return count,nextt,length,version+int(v,2)\n",
    "\n",
    "recursive(converted)"
   ]
  },
  {
   "cell_type": "code",
   "execution_count": 51,
   "metadata": {},
   "outputs": [
    {
     "ename": "AttributeError",
     "evalue": "'str' object has no attribute 'pop'",
     "output_type": "error",
     "traceback": [
      "\u001b[1;31m---------------------------------------------------------------------------\u001b[0m",
      "\u001b[1;31mAttributeError\u001b[0m                            Traceback (most recent call last)",
      "\u001b[1;32m<ipython-input-51-c4781411fd32>\u001b[0m in \u001b[0;36m<module>\u001b[1;34m\u001b[0m\n\u001b[0;32m      1\u001b[0m \u001b[0md\u001b[0m\u001b[1;33m=\u001b[0m\u001b[1;34m\"101010\"\u001b[0m\u001b[1;33m\u001b[0m\u001b[1;33m\u001b[0m\u001b[0m\n\u001b[1;32m----> 2\u001b[1;33m \u001b[0md\u001b[0m\u001b[1;33m.\u001b[0m\u001b[0mpop\u001b[0m\u001b[1;33m(\u001b[0m\u001b[1;36m0\u001b[0m\u001b[1;33m)\u001b[0m\u001b[1;33m\u001b[0m\u001b[1;33m\u001b[0m\u001b[0m\n\u001b[0m\u001b[0;32m      3\u001b[0m \u001b[0md\u001b[0m\u001b[1;33m\u001b[0m\u001b[1;33m\u001b[0m\u001b[0m\n",
      "\u001b[1;31mAttributeError\u001b[0m: 'str' object has no attribute 'pop'"
     ]
    }
   ],
   "source": [
    "d=\"101010\"\n",
    "d.pop(0)\n",
    "d"
   ]
  },
  {
   "cell_type": "code",
   "execution_count": 308,
   "metadata": {},
   "outputs": [
    {
     "data": {
      "text/plain": [
       "7"
      ]
     },
     "execution_count": 308,
     "metadata": {},
     "output_type": "execute_result"
    }
   ],
   "source": [
    "import operator\n",
    "dd={0 : sum, 1:math.prod, 2:min, 3:max, \n",
    "    5: operator.gt, 6:operator.lt, 7:operator.eq}\n",
    "def getCount(listCount,iD):\n",
    "    if iD in list(range(0,4)):\n",
    "        return dd[iD](listCount)\n",
    "    else:\n",
    "        nbVal=len(listCount)\n",
    "        return 1 if(dd[iD](nbVal,iD)) else 0\n",
    "        \n",
    "getCount([1,2,3,4,5,6,7],3)"
   ]
  }
 ],
 "metadata": {
  "kernelspec": {
   "display_name": "Python 3",
   "language": "python",
   "name": "python3"
  },
  "language_info": {
   "codemirror_mode": {
    "name": "ipython",
    "version": 3
   },
   "file_extension": ".py",
   "mimetype": "text/x-python",
   "name": "python",
   "nbconvert_exporter": "python",
   "pygments_lexer": "ipython3",
   "version": "3.9.0"
  }
 },
 "nbformat": 4,
 "nbformat_minor": 4
}
