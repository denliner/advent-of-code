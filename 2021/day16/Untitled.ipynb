{
 "cells": [
  {
   "cell_type": "code",
   "execution_count": 2,
   "metadata": {},
   "outputs": [
    {
     "name": "stdout",
     "output_type": "stream",
     "text": [
      "Part 1:\n",
      "21996\n",
      "Part 2:\n",
      "650080463519\n"
     ]
    }
   ],
   "source": [
    "import math\n",
    "def generate_tickets(name):\n",
    "    tickets=open(name).read().rstrip().split('\\n\\n')\n",
    "    return tickets[0].split('\\n'),eval(tickets[1].split('\\n')[1]),tickets[2].split('\\n')[1:]\n",
    "\n",
    "ranges,currentTickets,others=generate_tickets('input.txt')\n",
    "\n",
    "def generate_ranges(ranges):\n",
    "    classDict={}\n",
    "    s=[sub.split(': ') for sub in ranges]\n",
    "    for e in s:\n",
    "        classes=e[0]\n",
    "        r=e[1].split(\" or \")\n",
    "        r1,r2=r[0].split(\"-\"),r[1].split(\"-\")\n",
    "        classDict[classes]=list(range(int(r1[0]),int(r1[1])+1)) + list(range( int(r2[0]), int(r2[1])+1 ))\n",
    "    return classDict\n",
    "\n",
    "def getPosition(elements,possible_class):\n",
    "    classes_position={classes : [] for classes in possible_class}\n",
    "    for i in elements:\n",
    "        for classes in possible_class:\n",
    "            if all(elem in possible_class[classes] for elem in elements[i]):\n",
    "                classes_position[classes].append(i)\n",
    "    return classes_position\n",
    "\n",
    "def getAllPosition(all_ticket_classes,possible_class,currentTickets):\n",
    "    currentTicket_dict={classes : [] for classes in possible_class}\n",
    "    elements=dict(enumerate(all_ticket_classes))\n",
    "    while(possible_class):\n",
    "        classes_position=getPosition(elements,possible_class)\n",
    "        for classes in classes_position: \n",
    "            if len(classes_position[classes])==1:\n",
    "                currentTicket_dict[classes]=currentTickets[classes_position[classes][0]]\n",
    "                elements.pop(classes_position[classes][0])\n",
    "                possible_class.pop(classes, None)\n",
    "    return currentTicket_dict\n",
    "\n",
    "\n",
    "possible_class=generate_ranges(ranges)\n",
    "all_ranges= sum(possible_class.values(), [])\n",
    "summ=0\n",
    "valid_ticket=[]\n",
    "for tickets in others:\n",
    "    valid=True\n",
    "    for elem in eval(tickets):\n",
    "        if(not elem in all_ranges):\n",
    "            summ+=elem\n",
    "            valid=False\n",
    "    if(valid):\n",
    "        valid_ticket.append(tickets)\n",
    "\n",
    "print(\"Part 1:\")\n",
    "print(summ)\n",
    "\n",
    "all_ticket_classes= [[] for i in range(len(currentTickets))]\n",
    "length=len(currentTickets)\n",
    "for tickets in valid_ticket:\n",
    "    t=eval(tickets)\n",
    "    for i in range(length):\n",
    "        all_ticket_classes[i].append(t[i])\n",
    "\n",
    "        \n",
    "currentTicket_dict=getAllPosition(all_ticket_classes,possible_class.copy(),currentTickets)\n",
    "\n",
    "print(\"Part 2:\")\n",
    "print(math.prod([ value for keys,value in currentTicket_dict.items() if 'departure' in keys]))"
   ]
  },
  {
   "cell_type": "code",
   "execution_count": null,
   "metadata": {},
   "outputs": [],
   "source": [
    "650080463519"
   ]
  }
 ],
 "metadata": {
  "kernelspec": {
   "display_name": "Python 3",
   "language": "python",
   "name": "python3"
  },
  "language_info": {
   "codemirror_mode": {
    "name": "ipython",
    "version": 3
   },
   "file_extension": ".py",
   "mimetype": "text/x-python",
   "name": "python",
   "nbconvert_exporter": "python",
   "pygments_lexer": "ipython3",
   "version": "3.9.0"
  }
 },
 "nbformat": 4,
 "nbformat_minor": 4
}
