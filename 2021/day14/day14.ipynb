{
 "cells": [
  {
   "cell_type": "code",
   "execution_count": 14,
   "metadata": {},
   "outputs": [
    {
     "name": "stdout",
     "output_type": "stream",
     "text": [
      "         100141 function calls in 43.645 seconds\n",
      "\n",
      "   Ordered by: standard name\n",
      "\n",
      "   ncalls  tottime  percall  cumtime  percall filename:lineno(function)\n",
      "        2   43.493   21.746   43.645   21.822 <ipython-input-14-a8962477a27b>:15(day14Step)\n",
      "        1    0.000    0.000   43.645   43.645 <ipython-input-14-a8962477a27b>:30(day14)\n",
      "        1    0.000    0.000    0.000    0.000 <ipython-input-14-a8962477a27b>:35(<listcomp>)\n",
      "        1    0.000    0.000    0.000    0.000 <ipython-input-14-a8962477a27b>:36(<dictcomp>)\n",
      "        2    0.000    0.000    0.000    0.000 <ipython-input-14-a8962477a27b>:7(initCoupleCount)\n",
      "        1    0.000    0.000   43.645   43.645 <string>:1(<module>)\n",
      "        1    0.000    0.000    0.000    0.000 _bootlocale.py:11(getpreferredencoding)\n",
      "        1    0.000    0.000    0.000    0.000 codecs.py:260(__init__)\n",
      "        1    0.000    0.000    0.000    0.000 cp1252.py:22(decode)\n",
      "        1    0.000    0.000    0.000    0.000 {built-in method _codecs.charmap_decode}\n",
      "        1    0.000    0.000    0.000    0.000 {built-in method _locale._getdefaultlocale}\n",
      "        1    0.000    0.000   43.645   43.645 {built-in method builtins.exec}\n",
      "        2    0.000    0.000    0.000    0.000 {built-in method builtins.len}\n",
      "        2    0.000    0.000    0.000    0.000 {built-in method builtins.max}\n",
      "        2    0.000    0.000    0.000    0.000 {built-in method builtins.min}\n",
      "        1    0.000    0.000    0.000    0.000 {built-in method io.open}\n",
      "        1    0.000    0.000    0.000    0.000 {method '__exit__' of '_io._IOBase' objects}\n",
      "   100010    0.152    0.000    0.152    0.000 {method 'copy' of 'collections.defaultdict' objects}\n",
      "        1    0.000    0.000    0.000    0.000 {method 'disable' of '_lsprof.Profiler' objects}\n",
      "        1    0.000    0.000    0.000    0.000 {method 'read' of '_io.TextIOWrapper' objects}\n",
      "      102    0.000    0.000    0.000    0.000 {method 'split' of 'str' objects}\n",
      "        1    0.000    0.000    0.000    0.000 {method 'strip' of 'str' objects}\n",
      "        4    0.000    0.000    0.000    0.000 {method 'values' of 'dict' objects}\n",
      "\n",
      "\n"
     ]
    }
   ],
   "source": [
    "from collections import defaultdict\n",
    "EXAMPLE=\"example.txt\"\n",
    "INPUT=\"input.txt\"\n",
    "BIGBOY=\"14.in\"\n",
    "import cProfile\n",
    "\n",
    "def initCoupleCount(template):\n",
    "    coupleCount,charCount = defaultdict(int),defaultdict(int)  \n",
    "    for i in range(len(template) - 1):\n",
    "        coupleCount[template[i] + template[i+1]] +=1\n",
    "        charCount[template[i]] +=1\n",
    "    charCount[template[-1]] +=1\n",
    "    return coupleCount,charCount\n",
    "        \n",
    "def day14Step(template,instruction,nb):\n",
    "    coupleCount,charCount=initCoupleCount(template)\n",
    "    for i in range(nb):\n",
    "        newCoupleCount = coupleCount.copy()\n",
    "        for elem in coupleCount:\n",
    "            if not elem in instruction:\n",
    "                continue\n",
    "            middle = instruction[elem]\n",
    "            newCoupleCount[elem[0] + middle] +=coupleCount[elem]\n",
    "            newCoupleCount[middle + elem[1]] +=coupleCount[elem]\n",
    "            newCoupleCount[elem] -=coupleCount[elem]\n",
    "            charCount[middle] +=coupleCount[elem]\n",
    "        coupleCount = newCoupleCount       \n",
    "    return charCount\n",
    "\n",
    "def day14(fileName):\n",
    "    with open(fileName) as f:\n",
    "        input_ = f.read().strip().split(\"\\n\\n\")\n",
    "    template = list(input_[0])\n",
    "    instruction = input_[1].split(\"\\n\")\n",
    "    instruction = [x.split(\" -> \") for x in instruction]\n",
    "    instruction = {x[0]:x[1] for x in instruction}\n",
    "    charCount = day14Step(template,instruction,10)\n",
    "    silver = max(charCount.values()) - min(charCount.values())\n",
    "    silver=0\n",
    "    charCount = day14Step(template,instruction,100000)\n",
    "    gold = max(charCount.values()) - min(charCount.values())\n",
    "    return silver,gold\n",
    "\n",
    "cProfile.run(\"day14(BIGBOY)\")"
   ]
  },
  {
   "cell_type": "code",
   "execution_count": 11,
   "metadata": {},
   "outputs": [
    {
     "data": {
      "text/plain": [
       "64"
      ]
     },
     "execution_count": 11,
     "metadata": {},
     "output_type": "execute_result"
    }
   ],
   "source": [
    "#list(instruction.items())\n",
    "\n"
   ]
  }
 ],
 "metadata": {
  "kernelspec": {
   "display_name": "Python 3",
   "language": "python",
   "name": "python3"
  },
  "language_info": {
   "codemirror_mode": {
    "name": "ipython",
    "version": 3
   },
   "file_extension": ".py",
   "mimetype": "text/x-python",
   "name": "python",
   "nbconvert_exporter": "python",
   "pygments_lexer": "ipython3",
   "version": "3.9.0"
  }
 },
 "nbformat": 4,
 "nbformat_minor": 4
}
