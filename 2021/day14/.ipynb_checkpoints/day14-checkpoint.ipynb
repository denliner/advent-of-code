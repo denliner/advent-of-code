{
 "cells": [
  {
   "cell_type": "code",
   "execution_count": 6,
   "metadata": {},
   "outputs": [
    {
     "name": "stdout",
     "output_type": "stream",
     "text": [
      "(14862056079561, 3296185383161)\n"
     ]
    }
   ],
   "source": [
    "from itertools import product \n",
    "\n",
    "def generate_Bane(name):\n",
    "    Bane=open(name).read().rstrip().split('\\nmask = ')\n",
    "    Bane=list(filter(None, [sub.split(\"\\n\") for sub in Bane]))\n",
    "    Bane[0][0]=Bane[0][0].replace('mask = ',\"\")\n",
    "    return Bane\n",
    "\n",
    "def for_you(mask,n,i,dictionary):\n",
    "    one=mask.replace('X','0')\n",
    "    zero=mask.replace('X','1')\n",
    "    return dictionary | {i: (int(one,2) |  n) & int(zero,2)}\n",
    "\n",
    "def no_survivor(fmask,value):\n",
    "    memory={}\n",
    "    indices = [i for i, x in enumerate(fmask) if x == \"X\"]\n",
    "    bit_combinaison=list(product([0, 1], repeat=len(indices)))\n",
    "    for combinaison in bit_combinaison:\n",
    "        temp=fmask.copy()\n",
    "        for i,bit in enumerate(combinaison):\n",
    "            temp[indices[i]]=str(bit)\n",
    "        memory[int(\"\".join(temp),2)]=value\n",
    "    return memory\n",
    "\n",
    "def crashing_this_plane(mask,value,address,dictionary):\n",
    "    addressBin=list(format((address), '036b')) \n",
    "    for i,c in enumerate(mask):\n",
    "        if(c=='X'):\n",
    "            addressBin[i]='X'\n",
    "        if(c=='1'):\n",
    "            addressBin[i]='1'\n",
    "    address_com=no_survivor(addressBin,value)\n",
    "    return address_com\n",
    "\n",
    "def big_Guy(mask,dictionary,mask_operation):\n",
    "    for i in dictionary:\n",
    "        dictionary= mask_operation(mask,dictionary[i],i,dictionary)\n",
    "    return dictionary\n",
    "\n",
    "def day14(Bane):\n",
    "    s=0\n",
    "    memory,memory2={},{}\n",
    "    for i,op in enumerate(Bane):\n",
    "        mask=op[0]\n",
    "        memo,memo2={},{}\n",
    "        for j,m in enumerate(op[1:]):\n",
    "            mem={}\n",
    "            exec(m)\n",
    "            memo2= memo2 | big_Guy(mask,mem,crashing_this_plane)\n",
    "            memo = memo | mem\n",
    "        memory= memory | big_Guy(mask,memo,for_you)\n",
    "        memory2= memory2 | memo2\n",
    "    return sum(memory.values()),sum(memory2.values())\n",
    "\n",
    "Bane=generate_Bane('input.txt')\n",
    "print(day14(Bane))"
   ]
  },
  {
   "cell_type": "code",
   "execution_count": null,
   "metadata": {},
   "outputs": [],
   "source": [
    "def day14p1(Bane):\n",
    "    s=0\n",
    "    memory={}\n",
    "    for i,op in enumerate(Bane):\n",
    "        mask=op[0]\n",
    "        mem={}\n",
    "        for j,m in enumerate(op[1:]):\n",
    "            exec(m)\n",
    "        memory= memory | Big_Guy(mask,mem,for_you)\n",
    "    return sum(memory.values())\n",
    "\n",
    "def day14p2(Bane):\n",
    "    s=0\n",
    "    memory={}\n",
    "    for i,op in enumerate(Bane):\n",
    "        mask=op[0]\n",
    "        memo={}\n",
    "        for j,m in enumerate(op[1:]):\n",
    "            mem={}\n",
    "            exec(m)\n",
    "            memo= memo | Big_Guy(mask,mem,crashing_this_plane)\n",
    "        memory= memory | memo\n",
    "    return sum(memory.values())\n"
   ]
  },
  {
   "cell_type": "code",
   "execution_count": 12,
   "metadata": {},
   "outputs": [
    {
     "data": {
      "text/plain": [
       "False"
      ]
     },
     "execution_count": 12,
     "metadata": {},
     "output_type": "execute_result"
    }
   ],
   "source": [
    "14862056079561>17719868616512\n",
    "3296185383161>17719868616512"
   ]
  },
  {
   "cell_type": "code",
   "execution_count": 8,
   "metadata": {},
   "outputs": [
    {
     "name": "stdout",
     "output_type": "stream",
     "text": [
      "(14862056079561, 3296185383161)\n",
      "         170667 function calls (170213 primitive calls) in 0.266 seconds\n",
      "\n",
      "   Ordered by: standard name\n",
      "\n",
      "   ncalls  tottime  percall  cumtime  percall filename:lineno(function)\n",
      "      454    0.172    0.000    0.203    0.000 <ipython-input-6-84f43df3e04f>:14(no_survivor)\n",
      "      454    0.001    0.000    0.001    0.000 <ipython-input-6-84f43df3e04f>:16(<listcomp>)\n",
      "      454    0.003    0.000    0.206    0.000 <ipython-input-6-84f43df3e04f>:25(crashing_this_plane)\n",
      "      554    0.000    0.000    0.207    0.000 <ipython-input-6-84f43df3e04f>:35(big_Guy)\n",
      "        1    0.040    0.040    0.265    0.265 <ipython-input-6-84f43df3e04f>:40(day14)\n",
      "      454    0.000    0.000    0.001    0.000 <ipython-input-6-84f43df3e04f>:9(for_you)\n",
      "        1    0.000    0.000    0.000    0.000 <string>:1(<module>)\n",
      "        3    0.000    0.000    0.000    0.000 iostream.py:195(schedule)\n",
      "        2    0.000    0.000    0.000    0.000 iostream.py:308(_is_master_process)\n",
      "        2    0.000    0.000    0.000    0.000 iostream.py:321(_schedule_flush)\n",
      "        2    0.000    0.000    0.000    0.000 iostream.py:384(write)\n",
      "        3    0.000    0.000    0.000    0.000 iostream.py:91(_event_pipe)\n",
      "        3    0.000    0.000    0.000    0.000 socket.py:432(send)\n",
      "        3    0.000    0.000    0.000    0.000 threading.py:1035(_wait_for_tstate_lock)\n",
      "        3    0.000    0.000    0.000    0.000 threading.py:1089(is_alive)\n",
      "        3    0.000    0.000    0.000    0.000 threading.py:529(is_set)\n",
      "    455/1    0.017    0.000    0.266    0.266 {built-in method builtins.exec}\n",
      "      454    0.000    0.000    0.000    0.000 {built-in method builtins.format}\n",
      "        2    0.000    0.000    0.000    0.000 {built-in method builtins.isinstance}\n",
      "      454    0.000    0.000    0.000    0.000 {built-in method builtins.len}\n",
      "        1    0.000    0.000    0.000    0.000 {built-in method builtins.print}\n",
      "        2    0.001    0.001    0.001    0.001 {built-in method builtins.sum}\n",
      "        2    0.000    0.000    0.000    0.000 {built-in method nt.getpid}\n",
      "        3    0.000    0.000    0.000    0.000 {method 'acquire' of '_thread.lock' objects}\n",
      "        3    0.000    0.000    0.000    0.000 {method 'append' of 'collections.deque' objects}\n",
      "    82992    0.007    0.000    0.007    0.000 {method 'copy' of 'list' objects}\n",
      "        1    0.000    0.000    0.000    0.000 {method 'disable' of '_lsprof.Profiler' objects}\n",
      "    82992    0.023    0.000    0.023    0.000 {method 'join' of 'str' objects}\n",
      "      908    0.000    0.000    0.000    0.000 {method 'replace' of 'str' objects}\n",
      "        2    0.000    0.000    0.000    0.000 {method 'values' of 'dict' objects}\n",
      "\n",
      "\n"
     ]
    }
   ],
   "source": [
    "import cProfile\n",
    "BaneBench=generate_Bane('qh9d5y')\n",
    "cProfile.run('print(day14(BaneBench))')"
   ]
  }
 ],
 "metadata": {
  "kernelspec": {
   "display_name": "Python 3",
   "language": "python",
   "name": "python3"
  },
  "language_info": {
   "codemirror_mode": {
    "name": "ipython",
    "version": 3
   },
   "file_extension": ".py",
   "mimetype": "text/x-python",
   "name": "python",
   "nbconvert_exporter": "python",
   "pygments_lexer": "ipython3",
   "version": "3.9.0"
  }
 },
 "nbformat": 4,
 "nbformat_minor": 4
}
