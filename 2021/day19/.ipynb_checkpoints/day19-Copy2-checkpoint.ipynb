{
 "cells": [
  {
   "cell_type": "code",
   "execution_count": 21,
   "metadata": {
    "scrolled": true
   },
   "outputs": [
    {
     "name": "stderr",
     "output_type": "stream",
     "text": [
      "<ipython-input-21-8e59960f35ac>:92: VisibleDeprecationWarning: Creating an ndarray from ragged nested sequences (which is a list-or-tuple of lists-or-tuples-or ndarrays with different lengths or shapes) is deprecated. If you meant to do this, you must specify 'dtype=object' when creating the ndarray\n",
      "  input_=np.array([[np.array(list(map(int,y.split(\",\")))) for y in x[1:]] for x in input_])\n"
     ]
    },
    {
     "name": "stdout",
     "output_type": "stream",
     "text": [
      "39\n"
     ]
    },
    {
     "name": "stderr",
     "output_type": "stream",
     "text": [
      "<ipython-input-21-8e59960f35ac>:109: VisibleDeprecationWarning: Creating an ndarray from ragged nested sequences (which is a list-or-tuple of lists-or-tuples-or ndarrays with different lengths or shapes) is deprecated. If you meant to do this, you must specify 'dtype=object' when creating the ndarray\n",
      "  return True,np.array(intersectCount.most_common()[0])\n"
     ]
    },
    {
     "name": "stdout",
     "output_type": "stream",
     "text": [
      "38\n",
      "37\n",
      "36\n",
      "35\n",
      "34\n",
      "33\n",
      "32\n",
      "31\n",
      "30\n",
      "29\n",
      "28\n",
      "27\n",
      "26\n",
      "25\n",
      "24\n",
      "23\n",
      "22\n",
      "21\n",
      "20\n",
      "19\n",
      "18\n",
      "17\n",
      "16\n",
      "15\n",
      "14\n",
      "13\n",
      "12\n",
      "11\n",
      "10\n",
      "9\n",
      "8\n",
      "7\n",
      "6\n",
      "5\n",
      "4\n",
      "3\n",
      "2\n",
      "1\n",
      "{}\n"
     ]
    },
    {
     "data": {
      "text/plain": [
       "496"
      ]
     },
     "execution_count": 21,
     "metadata": {},
     "output_type": "execute_result"
    }
   ],
   "source": [
    "import numpy as np\n",
    "import itertools\n",
    "import cProfile\n",
    "import itertools\n",
    "from collections import defaultdict\n",
    "from copy import deepcopy\n",
    "from collections import Counter\n",
    "import json\n",
    "EXAMPLE=\"example.txt\"\n",
    "EXAMPLE2=\"example2.txt\"\n",
    "INPUT=\"input.txt\"\n",
    "rotation=[[(0,1),(1,1),(2,1)],[(0,1),(1,-1),(1,-1)],\n",
    "          [(0,1),(2,1),(1,-1)],[(0,1),(2,-1),(1,1)],\n",
    "          [(1,1),(0,1),(2,-1)],[(1,1),(0,-1),(2,1)],\n",
    "          [(1,1),(2,1),(0,1)],[(1,1),(2,-1),(0,-1)],\n",
    "          [(2,1),(0,1),(1,1)],[(2,1),(0,-1),(1,-1)],\n",
    "          [(2,1),(1,1),(0,-1)],[(2,1),(1,-1),(0,1)],\n",
    "          [(0,-1),(1,1),(2,-1)],[(0,-1),(1,-1),(2,1)],\n",
    "          [(0,-1),(2,1),(1,1)],[(0,-1),(2,-1),(1,-1)],\n",
    "          [(1,-1),(0,1),(2,1)],[(1,-1),(0,-1),(2,-1)],\n",
    "          [(1,-1),(2,1),(0,-1)],[(1,-1),(2,-1),(0,1)],\n",
    "          [(2,-1),(0,1),(1,-1)],[(2,-1),(0,-1),(1,1)],\n",
    "          [(2,-1),(1,1),(0,1)],[(2,-1),(1,-1),(0,-1)]]\n",
    "\n",
    "\n",
    "def all_orientations(scanner):\n",
    "    for dir_x, dir_y in itertools.permutations(range(3), 2):\n",
    "        for sign_x, sign_y in itertools.product((-1, 1), (-1, 1)):\n",
    "            x_vec = np.zeros((3,))\n",
    "            y_vec = np.zeros((3,))\n",
    "            x_vec[dir_x] = sign_x\n",
    "            y_vec[dir_y] = sign_y\n",
    "            z_vec = np.cross(x_vec, y_vec)\n",
    "            yield np.array(\n",
    "                [\n",
    "                    np.array(\n",
    "                        [\n",
    "                            np.dot(x_vec, beacon),\n",
    "                            np.dot(y_vec, beacon),\n",
    "                            np.dot(z_vec, beacon),\n",
    "                        ]\n",
    "                    )\n",
    "                    for beacon in scanner\n",
    "                ]\n",
    "            ).reshape(-1, 3)\n",
    "\n",
    "#rotation=[[(1,1),(0,1),(2,-1)],[(1,1),(2,1),(0,1)],[(1,1),(0,-1),(2,1)],[(1,1),(2,-1),(2,-1)],\n",
    "#          [(2,-1),(1,1),(0,1)],[(0,1),(1,1),(2,1)],[(2,1),(1,1),(0,-1)],[(0,-1),(1,1),(2,-1)],\n",
    "#          [(2,1),(0,1),(1,1)],[(0,-1),(2,1),(1,1)],[(2,-1),(0,-1),(1,1)],[(0,1),(2,-1),(1,1)],\n",
    "#          [(0,-1),(2,1),(1,-1)],[(2,-1),(0,-1),(1,-1)],[(0,1),(2,-1),(1,-1)],[(2,1),(0,1),(1,-1)],\n",
    "#          [(1,-1),(0,1),(2,1)],[(1,-1),(2,-1),(0,1)],[(1,-1),(0,-1),(2,-1)],[(1,-1),(2,1),(0,-1)],\n",
    "#          [(2,1),(1,-1),(0,1)],[(0,1),(1,-1),(2,-1)],[(2,-1),(1,-1),(0,-1)],[(0,-1),(1,-1),(2,1)]]\n",
    "\n",
    "#rotation=[[y,x,-z],[y,z,x],[y,-x,z],[y,-z,-z],\n",
    "#          [-z,y,x],[x,y,z],[z,y,-x],[-x,y,-z],\n",
    "#          [z,x,y],[-x,z,y],[-z,-x,y],[x,-z,y],\n",
    "#          [-x,z,-y],[-z,-x,-y],[x,-z,-y],[z,x,-y],\n",
    "#          [-y,x,z],[-y,-z,x],[-y,-x,-z],[-y,z,-x],\n",
    "#          [z,-y,x],[x,-y,-z],[-z,-y,-x],[-x,-y,z]]\n",
    "\n",
    "def doARotation(elem,n):\n",
    "    currentRotation=rotation[n]\n",
    "    x = elem[currentRotation[0][0]]*currentRotation[0][1]\n",
    "    y = elem[currentRotation[1][0]]*currentRotation[1][1]\n",
    "    z = elem[currentRotation[2][0] ]*currentRotation[2][1]\n",
    "    return [x,y,z]\n",
    "def getAllRotation(listElem):\n",
    "    allRot=[]\n",
    "    for n,e in enumerate(rotation):\n",
    "        rot=[]\n",
    "        for elem in listElem:\n",
    "            rot.append(doARotation(elem,n))\n",
    "        allRot.append(rot)\n",
    "    return np.array(allRot)\n",
    "#elem=[[-1,-1,1],[-2,-2,2],[-3,-3,3],[-2,-3,1],[5,6,-4],[8,0,7]]\n",
    "#getAllRotation(elem)\n",
    "\n",
    "\n",
    "def revertRotation(elem,num):\n",
    "    nRotation=rotation[num].copy()\n",
    "    #print(nRotation)\n",
    "    reverseDict={}\n",
    "    for i,e in enumerate(elem):\n",
    "        #print(str(e),\"*\",str(nRotation[i][1]),\"=\",e*nRotation[i][1])\n",
    "        reverseDict[nRotation[i][0]]=e*nRotation[i][1]\n",
    "    return np.array([reverseDict[0],reverseDict[1],reverseDict[2]])\n",
    "    \n",
    "\n",
    "with open(INPUT) as f:\n",
    "    input_=f.read().strip().split(\"\\n\\n\")\n",
    "    input_=[x.splitlines() for x in input_]\n",
    "    input_=np.array([[np.array(list(map(int,y.split(\",\")))) for y in x[1:]] for x in input_])\n",
    "#print(np.array(input_))\n",
    "scannerDict={}\n",
    "for i,element in enumerate(input_):\n",
    "    scannerDict[i]=np.array(element)\n",
    "#print(scannerDict[1])\n",
    "\n",
    "\n",
    "def checkCount(item1,item2):\n",
    "    intersectCount=Counter()\n",
    "    for line2 in item2:\n",
    "        for line1 in item1:\n",
    "           # print(line1,line2)\n",
    "            arr= tuple(line1-line2)\n",
    "            intersectCount[arr]+=1\n",
    "    #print(intersectCount.most_common()[0])\n",
    "    if(intersectCount.most_common()[0][1]>=12):\n",
    "            return True,np.array(intersectCount.most_common()[0])\n",
    "    return False,None\n",
    "\n",
    "def checkIntersection(foundScanners,remain,scannerDict):\n",
    "    for j,y in enumerate(remain):\n",
    "        scannerRot=all_orientations(y)\n",
    "        #print(\"\\n\"*2,\"ROTAL\\n\",scannerRot,\"end\\n\"*2)\n",
    "        for num,rot in enumerate(scannerRot):\n",
    "                        #difference= beacon1-rotatedBeacon2\n",
    "                        #comparison= [x+difference for x in rot]\n",
    "                        #print(difference,rotatedBeacon,beacon2,\"\\n\"*2,scanner1,\"\\n\"*2,comparison,\"\\n\"*2,scanner2,\"\\n\"*2)\n",
    "                        #size=0\n",
    "                        #intersect= set(map(tuple, comparison)) & set(map(tuple, scanner1))\n",
    "                        #intersect= list(map(list, intersect))\n",
    "                        #print(\"scanner2 comparison\",\"\\n\"*2,np.array(scanner2),\"\\n\"*2,np.array(comparison))\n",
    "                        #print(\"intersect\",intersect,\"\\n\")\n",
    "                        #print(intersect.size)\n",
    "            check=checkCount(foundScanners,rot)\n",
    "            #print(check)\n",
    "            if(check[0]):\n",
    "                #print(check)\n",
    "                #print(\"ok\")\n",
    "                difference= rot + check[1][0]\n",
    "                            #print(\"found\",couple,len(intersect),\"\\n\"*2,np.array(intersect))\n",
    "                            #print(\"found\",(x,y),difference,num)\n",
    "                return True,difference, check[1][0],j\n",
    "    return False,None,None\n",
    "\n",
    "def jg(scannerDict,input_):\n",
    "    foundScanners=input_[0]\n",
    "    foundScanners\n",
    "    remain=input_[1:].tolist()\n",
    "    intersectionDict=defaultdict(lambda: defaultdict(defaultdict))\n",
    "    listScannerPos=[]\n",
    "    combinaison=[]\n",
    "    keys = list(scannerDict.keys())\n",
    "    intersection=[]\n",
    "    visited=[]\n",
    "    for pair in itertools.permutations(keys, r=2):\n",
    "        combinaison.append(pair)\n",
    "    #print(combinaison)\n",
    "    #print(\"f\",foundScanners)\n",
    "    while(len(remain)>0):\n",
    "        print(len(remain))\n",
    "        inter,difference,scannerPos,j=checkIntersection(foundScanners,remain,scannerDict)\n",
    "        if(inter):\n",
    "            #intersection.append((x,y))\n",
    "            #intersectionDict[y][x][\"difference\"]=list(difference.tolist())\n",
    "            #intersectionDict[y][x][\"num\"]=int(num)\n",
    "            n=i+1\n",
    "            #newFoundScanner.append((y,j,num))\n",
    "            #print(y)\n",
    "            #foundScanners=np.concatenate((foundScanners,np.array([y])))\n",
    "            remain.pop(j)\n",
    "            foundScanners = np.concatenate((foundScanners,difference))\n",
    "            listScannerPos.append(scannerPos)\n",
    "            #scannerDict[y]= np.array([doARotation(el,num) for el in scannerDict[y]])\n",
    "            n=0\n",
    "    print(json.dumps(intersectionDict,indent=4))\n",
    "    return foundScanners,listScannerPos\n",
    "\n",
    "\n",
    "def getPath(num,intersectionDict,visited):\n",
    "    path=[]\n",
    "    visited.append(num)\n",
    "    if(0 in intersectionDict[num]):\n",
    "        path.append(0)\n",
    "        path.append(num)\n",
    "        return path\n",
    "    for elem in intersectionDict[num]:\n",
    "        if(elem in visited):\n",
    "            continue\n",
    "        visitedTemp=visited.copy()\n",
    "        visitedTemp.append(elem)\n",
    "        partialPath=getPath(elem,intersectionDict,visitedTemp)\n",
    "        if(partialPath):\n",
    "            if(isinstance(partialPath,list)):\n",
    "                path=path+partialPath\n",
    "            else:\n",
    "                path.append(partialPath)\n",
    "            visited.append(elem)\n",
    "    if(path):\n",
    "        path.append(num)\n",
    "\n",
    "    return path\n",
    "\n",
    "foundScanners,listScannerPos=jg(scannerDict,input_)\n",
    "foundScanners=list(map(list, set(map(tuple, map(set, foundScanners)))))\n",
    "len(foundScanners)\n",
    "#cProfile.run(\"jg(scannerDict)\")\n",
    "#getPath(4,intersectionDict)\n"
   ]
  },
  {
   "cell_type": "code",
   "execution_count": 23,
   "metadata": {},
   "outputs": [
    {
     "name": "stdout",
     "output_type": "stream",
     "text": [
      "14478.0\n"
     ]
    }
   ],
   "source": [
    "maximum=0\n",
    "for i,x in enumerate(listScannerPos):\n",
    "    for j,y in enumerate(listScannerPos):\n",
    "        if(i==j):\n",
    "            continue\n",
    "        temp=sum(abs(elem1-elem2) for elem1,elem2 in zip(x,y))\n",
    "        if(temp>maximum):\n",
    "            maximum=temp\n",
    "print(maximum)"
   ]
  },
  {
   "cell_type": "code",
   "execution_count": 6,
   "metadata": {
    "scrolled": true
   },
   "outputs": [
    {
     "name": "stdout",
     "output_type": "stream",
     "text": [
      "123\n"
     ]
    }
   ],
   "source": [
    "vis=[]\n",
    "\n",
    "#getPath(3,intersectionDict,vis)\n",
    "import functools\n",
    "import operator\n",
    "#[  -20+1105, -1133+(-72)  1061+168]\n",
    "def calculatePosition(intersectionDict,scannerDict,num):\n",
    "    vis=[]\n",
    "    #print(json.dumps(intersectionDict,indent=4))\n",
    "    path=getPath(num,deepcopy(intersectionDict),vis)\n",
    "    path= [path] if isinstance(path,int) else path\n",
    "    #print(\"path\",path)\n",
    "    summ=np.array([0,0,0])\n",
    "    for i in range(0,len(path)-1):\n",
    "        #print(i,i+1)\n",
    "        summ+=intersectionDict[path[i+1] ][path[i]][\"difference\"]\n",
    "    return summ\n",
    "\n",
    "updatedScanners={}\n",
    "updatedScanners[0]=deepcopy(scannerDict[0])\n",
    "for k in scannerDict:\n",
    "    if(k==0):\n",
    "        continue\n",
    "    summ=calculatePosition(deepcopy(intersectionDict),deepcopy(scannerDict),k)\n",
    "    kList=deepcopy(scannerDict[k])\n",
    "    kList=np.array([x+summ for x in kList])\n",
    "    updatedScanners[k]=kList\n",
    "    \n",
    "    \n",
    "calculatePosition(deepcopy(intersectionDict),deepcopy(scannerDict),3)\n",
    "#for k in scannerDict:\n",
    "finalList=[]\n",
    "for k in updatedScanners:\n",
    "    finalList+=deepcopy(updatedScanners[k]).tolist()\n",
    "finalList=list(map(list, set(map(tuple, map(set, finalList)))))\n",
    "print(len(finalList))\n",
    "#print(finalList)\n",
    "#cou=0\n",
    "#for elem in finalList:\n",
    "#    cou+=1\n",
    "#print(cou)\n",
    "\n",
    "\n",
    "\n",
    "#a=np.array(intersectionDict[1][0][\"difference\"])\n",
    "\n",
    "#b=np.array(intersectionDict[4][1][\"difference\"])\n",
    "#b=revertRotation(b,12)\n",
    "#c=np.array(intersectionDict[4][2][\"difference\"])\n",
    "#c=b=revertRotation(c,4)\n",
    "#print(a,b,c)\n",
    "#print(a+b+c)\n",
    "# -y    -z x\n",
    "#[1125,-72,168]\n",
    "#before [168,-1125,72]\n",
    "#-x , y , -z [-168,1125,-72]\n",
    "#y -z -x [1125,72,168]"
   ]
  },
  {
   "cell_type": "code",
   "execution_count": 302,
   "metadata": {},
   "outputs": [
    {
     "name": "stdout",
     "output_type": "stream",
     "text": [
      "[   68 -1246   -43] [ -88  113 1104] \n",
      " [  -20 -1133  1061]\n"
     ]
    },
    {
     "data": {
      "text/plain": [
       "array([ -168,    72, -1125])"
      ]
     },
     "execution_count": 302,
     "metadata": {},
     "output_type": "execute_result"
    }
   ],
   "source": [
    "#r1=revertRotation([-68,1246,43],12)\n",
    "r1=np.array([68,-1246,-43])\n",
    "r2=revertRotation([ 88,113,-1104] ,12)\n",
    "print(r1,r2,\"\\n\",r1+r2)\n",
    "#np.array([-68,1246,43])-np.array([ -88,-113,1104])\n",
    "np.array([1105,-1205,1229])-np.array([-20,-1133,1061])\n",
    "#[1125,  -72,  168]\n",
    "revertRotation(revertRotation(revertRotation( [168,-1125,72],12 ),7),4)"
   ]
  },
  {
   "cell_type": "code",
   "execution_count": 16,
   "metadata": {},
   "outputs": [
    {
     "data": {
      "text/plain": [
       "array([ 1105, -1205,  1229])"
      ]
     },
     "execution_count": 16,
     "metadata": {},
     "output_type": "execute_result"
    }
   ],
   "source": [
    "np.array([68,-1246,-43])+ np.array([-88,113,1104])+ np.array([1125,-72,168])"
   ]
  },
  {
   "cell_type": "code",
   "execution_count": 53,
   "metadata": {},
   "outputs": [
    {
     "name": "stdout",
     "output_type": "stream",
     "text": [
      "(1, 2)\n",
      "(1, 3)\n",
      "(1, 4)\n",
      "(1, 5)\n",
      "(2, 3)\n",
      "(2, 4)\n",
      "(2, 5)\n",
      "(3, 4)\n",
      "(3, 5)\n",
      "(4, 5)\n"
     ]
    },
    {
     "data": {
      "text/plain": [
       "[1, 2, 3, 4, 5]"
      ]
     },
     "execution_count": 53,
     "metadata": {},
     "output_type": "execute_result"
    }
   ],
   "source": [
    "#np.array([0,2])-np.array([-1,-1])\n",
    "maximum=len(input_)\n",
    "my_list = list(range(1,maximum+1))\n",
    "for pair in itertools.combinations(my_list, r=2):\n",
    "    print(pair)\n",
    "list(scannerDict.keys())"
   ]
  },
  {
   "cell_type": "code",
   "execution_count": 11,
   "metadata": {},
   "outputs": [
    {
     "data": {
      "text/plain": [
       "[[1, 2, 3]]"
      ]
     },
     "execution_count": 11,
     "metadata": {},
     "output_type": "execute_result"
    }
   ],
   "source": [
    "a=[[1,2,3],[2,8,9]]\n",
    "b=[[1,2,3],[8,7,3]]\n",
    "intersection_set = set(map(tuple, a)) & set(map(tuple, b))\n",
    "list(map(list, intersection_set))"
   ]
  },
  {
   "cell_type": "code",
   "execution_count": 44,
   "metadata": {},
   "outputs": [
    {
     "name": "stdout",
     "output_type": "stream",
     "text": [
      "(68.0, -1246.0, -43.0)\n",
      "(-92.0, -2380.0, -20.0)\n",
      "(1105.0, -1205.0, 1229.0)\n",
      "(-20.0, -1133.0, 1061.0)\n",
      "Part 1: 79 (took 119.11ms)\n",
      "Part 2: 3621 (took 0.00ms)\n"
     ]
    }
   ],
   "source": [
    "import itertools\n",
    "from collections import Counter\n",
    "import time\n",
    "\n",
    "import numpy as np\n",
    "\n",
    "\n",
    "def all_orientations(scanner):\n",
    "    for dir_x, dir_y in itertools.permutations(range(3), 2):\n",
    "        for sign_x, sign_y in itertools.product((-1, 1), (-1, 1)):\n",
    "            x_vec = np.zeros((3,))\n",
    "            y_vec = np.zeros((3,))\n",
    "            x_vec[dir_x] = sign_x\n",
    "            y_vec[dir_y] = sign_y\n",
    "            z_vec = np.cross(x_vec, y_vec)\n",
    "            yield np.array(\n",
    "                [\n",
    "                    np.array(\n",
    "                        [\n",
    "                            np.dot(x_vec, beacon),\n",
    "                            np.dot(y_vec, beacon),\n",
    "                            np.dot(z_vec, beacon),\n",
    "                        ]\n",
    "                    )\n",
    "                    for beacon in scanner\n",
    "                ]\n",
    "            ).reshape(-1, 3)\n",
    "\n",
    "\n",
    "def solve(text: str):\n",
    "    scanner_inputs = text.split(\"\\n\\n\")\n",
    "    scanners = [\n",
    "        np.array(\n",
    "            [np.array(list(map(int, xs.split(\",\")))) for xs in si.splitlines()[1:]]\n",
    "        )\n",
    "        for si in scanner_inputs\n",
    "    ]\n",
    "    beacons = scanners[0]\n",
    "    remaining = scanners[1:]\n",
    "    scanners = set([tuple([0, 0, 0])])\n",
    "    while len(remaining) > 0:\n",
    "        for i, scanner in enumerate(remaining):\n",
    "            # print(\"scanner\", i, \"of\", len(remaining))\n",
    "            for o in all_orientations(scanner):\n",
    "                c = Counter()\n",
    "                for p2 in o:\n",
    "                    for p1 in beacons:\n",
    "                        c[tuple(p1 - p2)] += 1\n",
    "                msc = c.most_common()[0]\n",
    "                if msc[1] >= 12:\n",
    "                    v = np.array(msc[0])\n",
    "                    target = o + v\n",
    "                    print(tuple(v))\n",
    "                    scanners.add(tuple(v))\n",
    "                    # print(\"found\", v)\n",
    "                    beacons = np.concatenate((beacons, target))\n",
    "                    remaining.pop(i)\n",
    "                    break\n",
    "    return scanners, beacons\n",
    "\n",
    "\n",
    "def solve_part_1(completed):\n",
    "    return len(set([tuple(i) for i in completed.tolist()]))\n",
    "\n",
    "\n",
    "def solve_part_2(scanners):\n",
    "    return np.max(\n",
    "        [\n",
    "            np.sum(np.abs(np.array(i) - np.array(j)))\n",
    "            for i in scanners\n",
    "            for j in scanners\n",
    "            if i != j\n",
    "        ]\n",
    "    )\n",
    "\n",
    "\n",
    "if __name__ == \"__main__\":\n",
    "    with open(EXAMPLE, \"r\") as f:\n",
    "        quiz_input = f.read()\n",
    "        start = time.time()\n",
    "        scanners, beacons = solve(quiz_input)\n",
    "        p_1_solution = int(solve_part_1(beacons))\n",
    "        middle = time.time()\n",
    "        print(f\"Part 1: {p_1_solution} (took {(middle - start) * 1000:.2f}ms)\")\n",
    "        p_2_solution = int(solve_part_2(scanners))\n",
    "        end = time.time()\n",
    "        print(f\"Part 2: {p_2_solution} (took {(end - middle) * 1000:.2f}ms)\")"
   ]
  }
 ],
 "metadata": {
  "kernelspec": {
   "display_name": "Python 3",
   "language": "python",
   "name": "python3"
  },
  "language_info": {
   "codemirror_mode": {
    "name": "ipython",
    "version": 3
   },
   "file_extension": ".py",
   "mimetype": "text/x-python",
   "name": "python",
   "nbconvert_exporter": "python",
   "pygments_lexer": "ipython3",
   "version": "3.9.0"
  }
 },
 "nbformat": 4,
 "nbformat_minor": 4
}
