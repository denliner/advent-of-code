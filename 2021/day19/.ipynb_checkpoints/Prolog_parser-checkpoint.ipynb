{
 "cells": [
  {
   "cell_type": "code",
   "execution_count": 48,
   "metadata": {
    "scrolled": true
   },
   "outputs": [
    {
     "name": "stdout",
     "output_type": "stream",
     "text": [
      "rule(0,N,Char,R):-  N0 is N,rule(4,N0,Char,R1),N1 is R1+1,rule(1,N1,Char,R2),N2 is R2+1,rule(5,N2,Char,R3),N3 is R3+1,R is R3,L is R+1,string_length(Char,L).\n",
      "\n",
      "rule(1,N,Char,R):- N0 is N,rule(2,N0,Char,R1),N1 is R1+1,rule(3,N1,Char,R2),N2 is R2+1,R is R1.\n",
      "rule(1,N,Char,R):- N0 is N,rule(3,N0,Char,R1),N1 is R1+1,rule(2,N1,Char,R2),N2 is R2+1,R is R1.\n",
      "\n",
      "rule(2,N,Char,R):- N0 is N,rule(4,N0,Char,R1),N1 is R1+1,rule(4,N1,Char,R2),N2 is R2+1,R is R1.\n",
      "rule(2,N,Char,R):- N0 is N,rule(5,N0,Char,R1),N1 is R1+1,rule(5,N1,Char,R2),N2 is R2+1,R is R1.\n",
      "\n",
      "rule(3,N,Char,R):- N0 is N,rule(4,N0,Char,R1),N1 is R1+1,rule(5,N1,Char,R2),N2 is R2+1,R is R1.\n",
      "rule(3,N,Char,R):- N0 is N,rule(5,N0,Char,R1),N1 is R1+1,rule(4,N1,Char,R2),N2 is R2+1,R is R1.\n",
      "\n",
      "rule(4,N,Char,R):- sub_string(Char, N, _, _, \"a\"), R is N.\n",
      "rule(5,N,Char,R):- sub_string(Char, N, _, _, \"b\"), R is N.\n",
      "\n"
     ]
    }
   ],
   "source": [
    "\"1: 2 3 | 3 2\"\n",
    "'4: \"a\"'\n",
    "def generate_rule(string):\n",
    "    s=string.split(\": \")\n",
    "    rule=\"rule(\"+s[0]+\",N,Char,R):- \"\n",
    "    if(any(char.isdigit() for char in s[1])):\n",
    "        if(\"|\" in s[1]):  \n",
    "            sd=s[1].split(\" | \")\n",
    "            #sp1=sp[0].split(\" \")\n",
    "            #sp2=sp[1].split(\" \")\n",
    "            #print(s[0],sp1)\n",
    "            temps_rule=\"\"\n",
    "            for j,r in enumerate(sd):\n",
    "                sp=r.split(\" \")\n",
    "                rule+=temps_rule+\"N0 is N,\"\n",
    "                for i,sp1 in enumerate(sp):\n",
    "                    rule=rule+\"rule(\"+sp1+\",N\"+str(i)+\",Char,R\"+str(i+1)+\"),N\"+str(i+1)+\" is R\"+str(i+1)+\"+1,\"\n",
    "                rule=rule+\"R is R\"+str(len(sp))+\".\\n\"\n",
    "                temps_rule=\"rule(\"+s[0]+\",N,Char,R):- \"\n",
    "            rule+=\"\\n\"  \n",
    "            #rule1=rule+\"rule(\"+sp1[0]+\",N,Char,R1),N1 is R1+1, rule(\"+sp1[1]+\",N1,Char,R2), R is R2.\"\n",
    "            #rule2=rule+\"rule(\"+sp2[0]+\",N,Char,R1),N1 is R1+1, rule(\"+sp2[1]+\",N1,Char,R2), R is R2.\"\n",
    "            #rule=rule1+\"\\n\"+rule2+\"\\n\"\n",
    "        else:\n",
    "            sp=s[1].split(\" \")\n",
    "            rule+=\" N0 is N,\"\n",
    "            for i,sp1 in enumerate(sp):\n",
    "                  rule=rule+\"rule(\"+sp1+\",N\"+str(i)+\",Char,R\"+str(i+1)+\"),N\"+str(i+1)+\" is R\"+str(i+1)+\"+1,\"\n",
    "            rule=rule+\"R is R\"+str(len(sp))+\",L is R+1,string_length(Char,L).\\n\\n\"\n",
    "            #rule=rule+\"rule(\"+sp1[0]+\",N,Char,R1),N1 is R1+1, rule(\"+sp1[1]+\",N1,Char,R2),\"\n",
    "            #rule=rule+\"N2 is R2+1, rule(\"+sp1[2]+\",N2,Char,R3),R is R3,L is R+1,string_length(Char,L).\\n\"\n",
    "            \n",
    "    else:\n",
    "        rule=rule+'sub_string(Char, N, _, _, '+s[1]+'), R is N.\\n'\n",
    "        \n",
    "    return rule\n",
    "\n",
    "def generate_all_rule(l_rules):\n",
    "    prolog_rules=\"\"\n",
    "    for rule in l_rules:\n",
    "        prolog_rules+=generate_rule(rule)\n",
    "    return prolog_rules\n",
    "    \n",
    "'4: \"a\"'.split(\": \")\n",
    "\n",
    "any(char.isdigit() for char in '\"a\"')\n",
    "\"0: 4 1 5\".split(\": \")\n",
    "#print(generate_rule('5: \"a\"'))\n",
    "\n",
    "def generate_input(name):\n",
    "    l_string = open(name).read().rstrip().replace(\"\\n\\n\", \"\\t\").replace(\"\\n\", \"^\").split(\"\\t\")\n",
    "    l_string = [sub.split(\"^\") for sub in l_string]\n",
    "    #print(l_string)\n",
    "    return l_string\n",
    "\n",
    "l_rules=generate_input('inputtest.txt')[0]\n",
    "#print(l_rules)\n",
    "#l_string\n",
    "print(generate_all_rule(l_rules))"
   ]
  },
  {
   "cell_type": "code",
   "execution_count": 3,
   "metadata": {},
   "outputs": [
    {
     "data": {
      "text/plain": [
       "False"
      ]
     },
     "execution_count": 3,
     "metadata": {},
     "output_type": "execute_result"
    }
   ],
   "source": [
    "\"4 1 a5\".isalpha() "
   ]
  }
 ],
 "metadata": {
  "kernelspec": {
   "display_name": "Python 3",
   "language": "python",
   "name": "python3"
  },
  "language_info": {
   "codemirror_mode": {
    "name": "ipython",
    "version": 3
   },
   "file_extension": ".py",
   "mimetype": "text/x-python",
   "name": "python",
   "nbconvert_exporter": "python",
   "pygments_lexer": "ipython3",
   "version": "3.9.0"
  }
 },
 "nbformat": 4,
 "nbformat_minor": 4
}
