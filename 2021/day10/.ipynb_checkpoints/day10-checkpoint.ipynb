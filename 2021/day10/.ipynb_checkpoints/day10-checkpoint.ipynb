{
 "cells": [
  {
   "cell_type": "code",
   "execution_count": 29,
   "metadata": {},
   "outputs": [
    {
     "name": "stdout",
     "output_type": "stream",
     "text": [
      "         13 function calls in 0.204 seconds\n",
      "\n",
      "   Ordered by: standard name\n",
      "\n",
      "   ncalls  tottime  percall  cumtime  percall filename:lineno(function)\n",
      "        1    0.005    0.005    0.204    0.204 <ipython-input-29-0ea6c3a702e4>:10(day10)\n",
      "        1    0.000    0.000    0.204    0.204 <string>:1(<module>)\n",
      "        1    0.000    0.000    0.000    0.000 _bootlocale.py:11(getpreferredencoding)\n",
      "        1    0.000    0.000    0.000    0.000 codecs.py:260(__init__)\n",
      "        1    0.000    0.000    0.103    0.103 cp1252.py:22(decode)\n",
      "        1    0.103    0.103    0.103    0.103 {built-in method _codecs.charmap_decode}\n",
      "        1    0.000    0.000    0.000    0.000 {built-in method _locale._getdefaultlocale}\n",
      "        1    0.000    0.000    0.204    0.204 {built-in method builtins.exec}\n",
      "        1    0.000    0.000    0.000    0.000 {built-in method io.open}\n",
      "        1    0.000    0.000    0.000    0.000 {method '__exit__' of '_io._IOBase' objects}\n",
      "        1    0.000    0.000    0.000    0.000 {method 'disable' of '_lsprof.Profiler' objects}\n",
      "        1    0.032    0.032    0.135    0.135 {method 'read' of '_io.TextIOWrapper' objects}\n",
      "        1    0.064    0.064    0.064    0.064 {method 'splitlines' of 'str' objects}\n",
      "\n",
      "\n"
     ]
    },
    {
     "ename": "NameError",
     "evalue": "name 'deque' is not defined",
     "output_type": "error",
     "traceback": [
      "\u001b[1;31m---------------------------------------------------------------------------\u001b[0m",
      "\u001b[1;31mNameError\u001b[0m                                 Traceback (most recent call last)",
      "\u001b[1;32m<ipython-input-29-0ea6c3a702e4>\u001b[0m in \u001b[0;36m<module>\u001b[1;34m\u001b[0m\n\u001b[0;32m     52\u001b[0m     \u001b[0mmiddle\u001b[0m\u001b[1;33m=\u001b[0m\u001b[0mint\u001b[0m\u001b[1;33m(\u001b[0m\u001b[0mlen\u001b[0m\u001b[1;33m(\u001b[0m\u001b[0mlistSumP2\u001b[0m\u001b[1;33m)\u001b[0m\u001b[1;33m/\u001b[0m\u001b[1;36m2\u001b[0m\u001b[1;33m)\u001b[0m\u001b[1;33m\u001b[0m\u001b[1;33m\u001b[0m\u001b[0m\n\u001b[0;32m     53\u001b[0m     \u001b[1;32mreturn\u001b[0m \u001b[0msumm\u001b[0m\u001b[1;33m,\u001b[0m\u001b[0mCounter\u001b[0m\u001b[1;33m(\u001b[0m\u001b[0minvalid\u001b[0m\u001b[1;33m)\u001b[0m\u001b[1;33m,\u001b[0m\u001b[0mlistSumP2\u001b[0m\u001b[1;33m[\u001b[0m\u001b[0mmiddle\u001b[0m\u001b[1;33m]\u001b[0m\u001b[1;33m,\u001b[0m\u001b[0mmiddle\u001b[0m\u001b[1;33m,\u001b[0m\u001b[0mlen\u001b[0m\u001b[1;33m(\u001b[0m\u001b[0mlistSumP2\u001b[0m\u001b[1;33m)\u001b[0m\u001b[1;33m\u001b[0m\u001b[1;33m\u001b[0m\u001b[0m\n\u001b[1;32m---> 54\u001b[1;33m \u001b[0mrun\u001b[0m\u001b[1;33m(\u001b[0m\u001b[1;34m\"day10(BIGBOY)\"\u001b[0m\u001b[1;33m)\u001b[0m\u001b[1;33m\u001b[0m\u001b[1;33m\u001b[0m\u001b[0m\n\u001b[0m",
      "\u001b[1;32mc:\\python39\\lib\\cProfile.py\u001b[0m in \u001b[0;36mrun\u001b[1;34m(statement, filename, sort)\u001b[0m\n\u001b[0;32m     14\u001b[0m \u001b[1;33m\u001b[0m\u001b[0m\n\u001b[0;32m     15\u001b[0m \u001b[1;32mdef\u001b[0m \u001b[0mrun\u001b[0m\u001b[1;33m(\u001b[0m\u001b[0mstatement\u001b[0m\u001b[1;33m,\u001b[0m \u001b[0mfilename\u001b[0m\u001b[1;33m=\u001b[0m\u001b[1;32mNone\u001b[0m\u001b[1;33m,\u001b[0m \u001b[0msort\u001b[0m\u001b[1;33m=\u001b[0m\u001b[1;33m-\u001b[0m\u001b[1;36m1\u001b[0m\u001b[1;33m)\u001b[0m\u001b[1;33m:\u001b[0m\u001b[1;33m\u001b[0m\u001b[1;33m\u001b[0m\u001b[0m\n\u001b[1;32m---> 16\u001b[1;33m     \u001b[1;32mreturn\u001b[0m \u001b[0m_pyprofile\u001b[0m\u001b[1;33m.\u001b[0m\u001b[0m_Utils\u001b[0m\u001b[1;33m(\u001b[0m\u001b[0mProfile\u001b[0m\u001b[1;33m)\u001b[0m\u001b[1;33m.\u001b[0m\u001b[0mrun\u001b[0m\u001b[1;33m(\u001b[0m\u001b[0mstatement\u001b[0m\u001b[1;33m,\u001b[0m \u001b[0mfilename\u001b[0m\u001b[1;33m,\u001b[0m \u001b[0msort\u001b[0m\u001b[1;33m)\u001b[0m\u001b[1;33m\u001b[0m\u001b[1;33m\u001b[0m\u001b[0m\n\u001b[0m\u001b[0;32m     17\u001b[0m \u001b[1;33m\u001b[0m\u001b[0m\n\u001b[0;32m     18\u001b[0m \u001b[1;32mdef\u001b[0m \u001b[0mrunctx\u001b[0m\u001b[1;33m(\u001b[0m\u001b[0mstatement\u001b[0m\u001b[1;33m,\u001b[0m \u001b[0mglobals\u001b[0m\u001b[1;33m,\u001b[0m \u001b[0mlocals\u001b[0m\u001b[1;33m,\u001b[0m \u001b[0mfilename\u001b[0m\u001b[1;33m=\u001b[0m\u001b[1;32mNone\u001b[0m\u001b[1;33m,\u001b[0m \u001b[0msort\u001b[0m\u001b[1;33m=\u001b[0m\u001b[1;33m-\u001b[0m\u001b[1;36m1\u001b[0m\u001b[1;33m)\u001b[0m\u001b[1;33m:\u001b[0m\u001b[1;33m\u001b[0m\u001b[1;33m\u001b[0m\u001b[0m\n",
      "\u001b[1;32mc:\\python39\\lib\\profile.py\u001b[0m in \u001b[0;36mrun\u001b[1;34m(self, statement, filename, sort)\u001b[0m\n\u001b[0;32m     51\u001b[0m         \u001b[0mprof\u001b[0m \u001b[1;33m=\u001b[0m \u001b[0mself\u001b[0m\u001b[1;33m.\u001b[0m\u001b[0mprofiler\u001b[0m\u001b[1;33m(\u001b[0m\u001b[1;33m)\u001b[0m\u001b[1;33m\u001b[0m\u001b[1;33m\u001b[0m\u001b[0m\n\u001b[0;32m     52\u001b[0m         \u001b[1;32mtry\u001b[0m\u001b[1;33m:\u001b[0m\u001b[1;33m\u001b[0m\u001b[1;33m\u001b[0m\u001b[0m\n\u001b[1;32m---> 53\u001b[1;33m             \u001b[0mprof\u001b[0m\u001b[1;33m.\u001b[0m\u001b[0mrun\u001b[0m\u001b[1;33m(\u001b[0m\u001b[0mstatement\u001b[0m\u001b[1;33m)\u001b[0m\u001b[1;33m\u001b[0m\u001b[1;33m\u001b[0m\u001b[0m\n\u001b[0m\u001b[0;32m     54\u001b[0m         \u001b[1;32mexcept\u001b[0m \u001b[0mSystemExit\u001b[0m\u001b[1;33m:\u001b[0m\u001b[1;33m\u001b[0m\u001b[1;33m\u001b[0m\u001b[0m\n\u001b[0;32m     55\u001b[0m             \u001b[1;32mpass\u001b[0m\u001b[1;33m\u001b[0m\u001b[1;33m\u001b[0m\u001b[0m\n",
      "\u001b[1;32mc:\\python39\\lib\\cProfile.py\u001b[0m in \u001b[0;36mrun\u001b[1;34m(self, cmd)\u001b[0m\n\u001b[0;32m     93\u001b[0m         \u001b[1;32mimport\u001b[0m \u001b[0m__main__\u001b[0m\u001b[1;33m\u001b[0m\u001b[1;33m\u001b[0m\u001b[0m\n\u001b[0;32m     94\u001b[0m         \u001b[0mdict\u001b[0m \u001b[1;33m=\u001b[0m \u001b[0m__main__\u001b[0m\u001b[1;33m.\u001b[0m\u001b[0m__dict__\u001b[0m\u001b[1;33m\u001b[0m\u001b[1;33m\u001b[0m\u001b[0m\n\u001b[1;32m---> 95\u001b[1;33m         \u001b[1;32mreturn\u001b[0m \u001b[0mself\u001b[0m\u001b[1;33m.\u001b[0m\u001b[0mrunctx\u001b[0m\u001b[1;33m(\u001b[0m\u001b[0mcmd\u001b[0m\u001b[1;33m,\u001b[0m \u001b[0mdict\u001b[0m\u001b[1;33m,\u001b[0m \u001b[0mdict\u001b[0m\u001b[1;33m)\u001b[0m\u001b[1;33m\u001b[0m\u001b[1;33m\u001b[0m\u001b[0m\n\u001b[0m\u001b[0;32m     96\u001b[0m \u001b[1;33m\u001b[0m\u001b[0m\n\u001b[0;32m     97\u001b[0m     \u001b[1;32mdef\u001b[0m \u001b[0mrunctx\u001b[0m\u001b[1;33m(\u001b[0m\u001b[0mself\u001b[0m\u001b[1;33m,\u001b[0m \u001b[0mcmd\u001b[0m\u001b[1;33m,\u001b[0m \u001b[0mglobals\u001b[0m\u001b[1;33m,\u001b[0m \u001b[0mlocals\u001b[0m\u001b[1;33m)\u001b[0m\u001b[1;33m:\u001b[0m\u001b[1;33m\u001b[0m\u001b[1;33m\u001b[0m\u001b[0m\n",
      "\u001b[1;32mc:\\python39\\lib\\cProfile.py\u001b[0m in \u001b[0;36mrunctx\u001b[1;34m(self, cmd, globals, locals)\u001b[0m\n\u001b[0;32m     98\u001b[0m         \u001b[0mself\u001b[0m\u001b[1;33m.\u001b[0m\u001b[0menable\u001b[0m\u001b[1;33m(\u001b[0m\u001b[1;33m)\u001b[0m\u001b[1;33m\u001b[0m\u001b[1;33m\u001b[0m\u001b[0m\n\u001b[0;32m     99\u001b[0m         \u001b[1;32mtry\u001b[0m\u001b[1;33m:\u001b[0m\u001b[1;33m\u001b[0m\u001b[1;33m\u001b[0m\u001b[0m\n\u001b[1;32m--> 100\u001b[1;33m             \u001b[0mexec\u001b[0m\u001b[1;33m(\u001b[0m\u001b[0mcmd\u001b[0m\u001b[1;33m,\u001b[0m \u001b[0mglobals\u001b[0m\u001b[1;33m,\u001b[0m \u001b[0mlocals\u001b[0m\u001b[1;33m)\u001b[0m\u001b[1;33m\u001b[0m\u001b[1;33m\u001b[0m\u001b[0m\n\u001b[0m\u001b[0;32m    101\u001b[0m         \u001b[1;32mfinally\u001b[0m\u001b[1;33m:\u001b[0m\u001b[1;33m\u001b[0m\u001b[1;33m\u001b[0m\u001b[0m\n\u001b[0;32m    102\u001b[0m             \u001b[0mself\u001b[0m\u001b[1;33m.\u001b[0m\u001b[0mdisable\u001b[0m\u001b[1;33m(\u001b[0m\u001b[1;33m)\u001b[0m\u001b[1;33m\u001b[0m\u001b[1;33m\u001b[0m\u001b[0m\n",
      "\u001b[1;32m<string>\u001b[0m in \u001b[0;36m<module>\u001b[1;34m\u001b[0m\n",
      "\u001b[1;32m<ipython-input-29-0ea6c3a702e4>\u001b[0m in \u001b[0;36mday10\u001b[1;34m(inputt)\u001b[0m\n\u001b[0;32m     18\u001b[0m \u001b[1;33m\u001b[0m\u001b[0m\n\u001b[0;32m     19\u001b[0m     \u001b[0mconvert\u001b[0m\u001b[1;33m=\u001b[0m\u001b[1;33m{\u001b[0m\u001b[1;34m\"[\"\u001b[0m\u001b[1;33m:\u001b[0m\u001b[1;34m\"]\"\u001b[0m\u001b[1;33m,\u001b[0m\u001b[1;34m\"<\"\u001b[0m\u001b[1;33m:\u001b[0m\u001b[1;34m\">\"\u001b[0m\u001b[1;33m,\u001b[0m\u001b[1;34m\"(\"\u001b[0m\u001b[1;33m:\u001b[0m\u001b[1;34m\")\"\u001b[0m\u001b[1;33m,\u001b[0m\u001b[1;34m\"{\"\u001b[0m\u001b[1;33m:\u001b[0m\u001b[1;34m\"}\"\u001b[0m\u001b[1;33m}\u001b[0m\u001b[1;33m\u001b[0m\u001b[1;33m\u001b[0m\u001b[0m\n\u001b[1;32m---> 20\u001b[1;33m     \u001b[0mstack\u001b[0m\u001b[1;33m=\u001b[0m\u001b[0mdeque\u001b[0m\u001b[1;33m(\u001b[0m\u001b[1;33m[\u001b[0m\u001b[1;33m]\u001b[0m\u001b[1;33m)\u001b[0m\u001b[1;33m\u001b[0m\u001b[1;33m\u001b[0m\u001b[0m\n\u001b[0m\u001b[0;32m     21\u001b[0m     \u001b[0mmissing\u001b[0m\u001b[1;33m=\u001b[0m\u001b[0mdeque\u001b[0m\u001b[1;33m(\u001b[0m\u001b[1;33m[\u001b[0m\u001b[1;33m]\u001b[0m\u001b[1;33m)\u001b[0m\u001b[1;33m\u001b[0m\u001b[1;33m\u001b[0m\u001b[0m\n\u001b[0;32m     22\u001b[0m     \u001b[0minvalid\u001b[0m\u001b[1;33m=\u001b[0m\u001b[0mdeque\u001b[0m\u001b[1;33m(\u001b[0m\u001b[1;33m[\u001b[0m\u001b[1;33m]\u001b[0m\u001b[1;33m)\u001b[0m\u001b[1;33m\u001b[0m\u001b[1;33m\u001b[0m\u001b[0m\n",
      "\u001b[1;31mNameError\u001b[0m: name 'deque' is not defined"
     ]
    }
   ],
   "source": [
    "from collections import Counter\n",
    "from difflib import ndiff\n",
    "from cProfile import run\n",
    "EXAMPLE=\"example.txt\"\n",
    "EXAMPLE2=\"example2.txt\"\n",
    "INPUT=\"input.txt\"\n",
    "EXAMPLE3=\"example3.txt\"\n",
    "BIGBOY=\"7predb\"\n",
    "\n",
    "def day10(inputt):\n",
    "    with open(inputt) as f:\n",
    "        input_=f.read().splitlines()\n",
    "\n",
    "    opening=[\"[\",\"<\",\"(\",\"{\"]\n",
    "    ending=[\"]\",\">\",\")\",\"}\"]\n",
    "    score={\"]\":57,\">\":25137,\")\":3,\"}\":1197}\n",
    "    scoreP2={\"[\":2,\"<\":4,\"(\":1,\"{\":3}\n",
    "\n",
    "    convert={\"[\":\"]\",\"<\":\">\",\"(\":\")\",\"{\":\"}\"}\n",
    "    stack=[]\n",
    "    missing=[]\n",
    "    invalid=[]\n",
    "    for elem in input_:\n",
    "        stack=[]\n",
    "        valid=True\n",
    "        #print(elem)\n",
    "        for e in elem:\n",
    "            if(e in opening):\n",
    "                stack.append(e)\n",
    "            else:\n",
    "                last=stack.pop()\n",
    "                if(e in ending):\n",
    "                    if(not convert[last]==e):\n",
    "                        invalid.append(e)\n",
    "                        valid=False\n",
    "        if(valid): \n",
    "            stack.reverse()\n",
    "            missing.append(stack)\n",
    "\n",
    "    summ=0\n",
    "    for elem in invalid:\n",
    "        summ+=score[elem]\n",
    "    listSumP2=[]\n",
    "\n",
    "    for elem in missing:\n",
    "        sumP2=0\n",
    "        for e in elem:\n",
    "            sumP2*=5\n",
    "            sumP2+=scoreP2[e]\n",
    "        listSumP2.append(sumP2)\n",
    "    listSumP2.sort()\n",
    "    middle=int(len(listSumP2)/2)\n",
    "    return summ,Counter(invalid),listSumP2[middle],middle,len(listSumP2)\n",
    "run(\"day10(BIGBOY)\")"
   ]
  },
  {
   "cell_type": "code",
   "execution_count": 41,
   "metadata": {},
   "outputs": [
    {
     "data": {
      "text/plain": [
       "55.0"
      ]
     },
     "execution_count": 41,
     "metadata": {},
     "output_type": "execute_result"
    }
   ],
   "source": [
    "import math\n",
    "#math.trunc(5/2)\n",
    "110/2"
   ]
  },
  {
   "cell_type": "code",
   "execution_count": 6,
   "metadata": {},
   "outputs": [
    {
     "name": "stdout",
     "output_type": "stream",
     "text": [
      "{']': '[', '>': '<', ')': '(', '}': '{'}\n",
      "sort\n",
      "(38272090467, 70132379000275076832846762473, 2790)\n",
      "         80016856 function calls in 20.663 seconds\n",
      "\n",
      "   Ordered by: standard name\n",
      "\n",
      "   ncalls  tottime  percall  cumtime  percall filename:lineno(function)\n",
      "        1   16.303   16.303   20.656   20.656 <ipython-input-6-2bca1ee366f6>:10(day10)\n",
      "        1    0.000    0.000    0.000    0.000 <ipython-input-6-2bca1ee366f6>:18(<dictcomp>)\n",
      "        1    0.007    0.007   20.663   20.663 <string>:1(<module>)\n",
      "        1    0.000    0.000    0.000    0.000 _bootlocale.py:11(getpreferredencoding)\n",
      "        1    0.000    0.000    0.000    0.000 codecs.py:260(__init__)\n",
      "        1    0.000    0.000    0.104    0.104 cp1252.py:22(decode)\n",
      "        8    0.000    0.000    0.000    0.000 iostream.py:195(schedule)\n",
      "        6    0.000    0.000    0.000    0.000 iostream.py:308(_is_master_process)\n",
      "        6    0.000    0.000    0.000    0.000 iostream.py:321(_schedule_flush)\n",
      "        6    0.000    0.000    0.000    0.000 iostream.py:384(write)\n",
      "        8    0.000    0.000    0.000    0.000 iostream.py:91(_event_pipe)\n",
      "        8    0.000    0.000    0.000    0.000 socket.py:432(send)\n",
      "        8    0.000    0.000    0.000    0.000 threading.py:1035(_wait_for_tstate_lock)\n",
      "        8    0.000    0.000    0.000    0.000 threading.py:1089(is_alive)\n",
      "        8    0.000    0.000    0.000    0.000 threading.py:529(is_set)\n",
      "        1    0.104    0.104    0.104    0.104 {built-in method _codecs.charmap_decode}\n",
      "        1    0.000    0.000    0.000    0.000 {built-in method _locale._getdefaultlocale}\n",
      "        1    0.000    0.000   20.663   20.663 {built-in method builtins.exec}\n",
      "        6    0.000    0.000    0.000    0.000 {built-in method builtins.isinstance}\n",
      "        1    0.000    0.000    0.000    0.000 {built-in method builtins.len}\n",
      "        3    0.000    0.000    0.000    0.000 {built-in method builtins.print}\n",
      "        1    0.000    0.000    0.000    0.000 {built-in method io.open}\n",
      "        6    0.000    0.000    0.000    0.000 {built-in method nt.getpid}\n",
      "        1    0.000    0.000    0.000    0.000 {method '__exit__' of '_io._IOBase' objects}\n",
      "        8    0.000    0.000    0.000    0.000 {method 'acquire' of '_thread.lock' objects}\n",
      " 40210032    2.109    0.000    2.109    0.000 {method 'append' of 'collections.deque' objects}\n",
      "     5581    0.000    0.000    0.000    0.000 {method 'append' of 'list' objects}\n",
      "        1    0.000    0.000    0.000    0.000 {method 'disable' of '_lsprof.Profiler' objects}\n",
      " 39795557    2.045    0.000    2.045    0.000 {method 'pop' of 'collections.deque' objects}\n",
      "        1    0.032    0.032    0.136    0.136 {method 'read' of '_io.TextIOWrapper' objects}\n",
      "     5581    0.001    0.000    0.001    0.000 {method 'reverse' of 'collections.deque' objects}\n",
      "        1    0.001    0.001    0.001    0.001 {method 'sort' of 'list' objects}\n",
      "        1    0.060    0.060    0.060    0.060 {method 'splitlines' of 'str' objects}\n",
      "\n",
      "\n"
     ]
    }
   ],
   "source": [
    "from collections import *\n",
    "from difflib import ndiff\n",
    "from cProfile import run\n",
    "EXAMPLE=\"example.txt\"\n",
    "EXAMPLE2=\"example2.txt\"\n",
    "INPUT=\"input.txt\"\n",
    "EXAMPLE3=\"example3.txt\"\n",
    "BIGBOY=\"7predb\"\n",
    "\n",
    "def day10(inputt):\n",
    "    with open(inputt) as f:\n",
    "        input_=f.read().splitlines()\n",
    "    opening=[\"[\",\"<\",\"(\",\"{\"]\n",
    "    ending=[\"]\",\">\",\")\",\"}\"]\n",
    "    score={\"]\":(57,2),\">\":(25137,4),\")\":(3,1),\"}\":(1197,3)}\n",
    "\n",
    "    convert={\"[\":\"]\",\"<\":\">\",\"(\":\")\",\"{\":\"}\"}\n",
    "    revert={convert[n]:n for n in convert}\n",
    "    print(revert)\n",
    "    stack=deque([])\n",
    "    missing=deque([])\n",
    "    invalid=deque([])\n",
    "    listSumP2=[]\n",
    "    summ=0\n",
    "    #print(input)\n",
    "    for elem in input_:\n",
    "        stack=deque([])\n",
    "        valid=True\n",
    "        sumP2=0\n",
    "        #print(elem)\n",
    "        for e in elem:\n",
    "            #print(e,opening)\n",
    "            if(e in opening):\n",
    "                stack.append(e)\n",
    "            else:\n",
    "                #print(stack)\n",
    "                last=stack.pop()\n",
    "                if(e in ending):\n",
    "                    if(not convert[last]==e):\n",
    "                        summ+=score[e][0]\n",
    "                        valid=False\n",
    "        if(valid): \n",
    "            stack.reverse()\n",
    "            missing.append(stack)\n",
    "            for e in stack:\n",
    "                sumP2*=5\n",
    "                sumP2+=score[convert[e]][1]\n",
    "            listSumP2.append(sumP2)\n",
    "            \n",
    "    print(\"sort\")\n",
    "    listSumP2.sort()\n",
    "    middle=int(len(listSumP2)/2)\n",
    "    return summ,listSumP2[middle],middle\n",
    "run(\"print(day10(BIGBOY))\")"
   ]
  },
  {
   "cell_type": "code",
   "execution_count": 13,
   "metadata": {},
   "outputs": [
    {
     "data": {
      "text/plain": [
       "{'a', 'b'}"
      ]
     },
     "execution_count": 13,
     "metadata": {},
     "output_type": "execute_result"
    }
   ],
   "source": [
    "seet= {\"a\",\"b\",\"c\"}\n",
    "seet.pop()\n",
    "seet"
   ]
  }
 ],
 "metadata": {
  "kernelspec": {
   "display_name": "Python 3",
   "language": "python",
   "name": "python3"
  },
  "language_info": {
   "codemirror_mode": {
    "name": "ipython",
    "version": 3
   },
   "file_extension": ".py",
   "mimetype": "text/x-python",
   "name": "python",
   "nbconvert_exporter": "python",
   "pygments_lexer": "ipython3",
   "version": "3.9.0"
  }
 },
 "nbformat": 4,
 "nbformat_minor": 4
}
