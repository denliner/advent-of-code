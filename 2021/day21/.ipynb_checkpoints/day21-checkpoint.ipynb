{
 "cells": [
  {
   "cell_type": "code",
   "execution_count": 21,
   "metadata": {},
   "outputs": [
    {
     "name": "stdout",
     "output_type": "stream",
     "text": [
      "8\n",
      "Part 1:2779\n",
      "\n",
      "Part 2:\tlkv,lfcppl,jhsrjlj,jrhvk,zkls,qjltjd,xslr,rfpbpn\n",
      "\n",
      "{\n",
      "    \"dairy\": \"lkv\",\n",
      "    \"eggs\": \"lfcppl\",\n",
      "    \"nuts\": \"jhsrjlj\",\n",
      "    \"peanuts\": \"jrhvk\",\n",
      "    \"sesame\": \"zkls\",\n",
      "    \"shellfish\": \"qjltjd\",\n",
      "    \"soy\": \"xslr\",\n",
      "    \"wheat\": \"rfpbpn\"\n",
      "}\n"
     ]
    }
   ],
   "source": [
    "import json\n",
    "\n",
    "def generate_list(name):\n",
    "    return open(name).read().rstrip().splitlines()\n",
    "\n",
    "def generate_possible_allergens(listOfFood):\n",
    "    dictionary={}\n",
    "    list_elements=[]\n",
    "    for listOfIngredient in listOfFood:\n",
    "        ingredients, listOfallergens=listOfIngredient.split(\" (contains \")\n",
    "        ingredients=ingredients.split(\" \")\n",
    "        listOfallergens=listOfallergens.replace(\")\",\"\").split(\", \")\n",
    "        for allergen in listOfallergens:\n",
    "            if allergen in dictionary:\n",
    "                 dictionary[allergen].append(set(ingredients))\n",
    "            else:\n",
    "                dictionary[allergen]=[set(ingredients)]\n",
    "        list_elements+=ingredients\n",
    "    return dictionary,list_elements\n",
    "\n",
    "def allIntersection(allergensDict,found):\n",
    "    allergensIntersect={classes : [] for classes in allergensDict}\n",
    "    for classes in allergensDict:\n",
    "        intersect=set.intersection(*allergensDict[classes]) - found\n",
    "        allergensIntersect[classes]=intersect\n",
    "    return allergensIntersect\n",
    "\n",
    "def day21(listOfFood):\n",
    "    allergensDict,list_elements=generate_possible_allergens(listOfFood)\n",
    "    found=set()\n",
    "    allergen=dict()\n",
    "    while(allergensDict):\n",
    "        allergensIntersect=allIntersection(allergensDict,found)\n",
    "        #print(allergensIntersect)\n",
    "        for intersect in allergensIntersect: \n",
    "            if len(allergensIntersect[intersect])==1:\n",
    "                allergen[intersect]=list(allergensIntersect[intersect])[0]\n",
    "                found|=allergensIntersect[intersect]\n",
    "                allergensDict.pop(intersect, None)\n",
    "    list_elements=[elem for elem in list_elements if elem not in found]\n",
    "    sortedAllergens=[allergen[k] for k in sorted(allergen.keys())]\n",
    "    return len(list_elements),allergen,','.join(sortedAllergens)\n",
    "listOfFood=generate_list(\"input.txt\")\n",
    "result=day21(listOfFood)\n",
    "print(\"Part 1:\"+str(result[0])+\"\\n\")\n",
    "print(\"Part 2:\\t\"+str(result[2])+\"\\n\")\n",
    "print(json.dumps(result[1],sort_keys=True, indent=4))"
   ]
  }
 ],
 "metadata": {
  "kernelspec": {
   "display_name": "Python 3",
   "language": "python",
   "name": "python3"
  },
  "language_info": {
   "codemirror_mode": {
    "name": "ipython",
    "version": 3
   },
   "file_extension": ".py",
   "mimetype": "text/x-python",
   "name": "python",
   "nbconvert_exporter": "python",
   "pygments_lexer": "ipython3",
   "version": "3.9.0"
  }
 },
 "nbformat": 4,
 "nbformat_minor": 4
}
