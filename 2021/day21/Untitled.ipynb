{
 "cells": [
  {
   "cell_type": "code",
   "execution_count": 1,
   "metadata": {},
   "outputs": [
    {
     "data": {
      "text/plain": [
       "893700"
      ]
     },
     "execution_count": 1,
     "metadata": {},
     "output_type": "execute_result"
    }
   ],
   "source": [
    "score1=0\n",
    "score2=0\n",
    "convert= {n:10 if n==0 else n for n in range(0,10)}\n",
    "convertMove= {n:100 if n==0 else n for n in range(0,100)}\n",
    "\n",
    "#print(convert)\n",
    "\n",
    "#for i in range(1,5):\n",
    "#    score1=convertMove[convert[i+]%100]\n",
    "def part1(case1,case2):\n",
    "    score1=0\n",
    "    score2=0\n",
    "    #i=2\n",
    "    #4*(i-1)\n",
    "    #3*(i-1)+(1-i),3*(i)+(1-(i-1))\n",
    "    i=0\n",
    "    while(1):\n",
    "        val1=(3*i+1)+ ((i)*3)\n",
    "        val2=(3*i+1)+ ((i+1)*3)\n",
    "        summ1=convertMove[val1%100]+convertMove[(val1+1)%100]+convertMove[(val1+2)%100]\n",
    "        case1=case1+summ1\n",
    "        case1=convert[case1%10]\n",
    "        score1+=convert[case1%10]\n",
    "        #print(convertMove[val1%100],convertMove[(val1+1)%100],convertMove[(val1+2)%100])\n",
    "        #print(case1)\n",
    "        #print(convert[case1%10],score1)\n",
    "        if(score1>=1000):\n",
    "            return (2*(i)*3 + 3)*score2\n",
    "            break\n",
    "\n",
    "        summ2=convertMove[val2%100]+convertMove[(val2+1)%100]+convertMove[(val2+2)%100]\n",
    "        case2=case2+summ2\n",
    "        case2=convert[case2%10]\n",
    "        score2+=convert[case2%10]\n",
    "        #print(convertMove[val2%100],convertMove[(val2+1)%100],convertMove[(val2+2)%100])\n",
    "        #print(case2)\n",
    "        #print(convert[case2%10],score2)\n",
    "        if(score2>=1000):\n",
    "            return (2*(i)*3 + 6)*score1\n",
    "            break\n",
    "        #print(\"\\n\\n\")\n",
    "        i+=1\n",
    "\n",
    "part1(4,7)  "
   ]
  },
  {
   "cell_type": "code",
   "execution_count": 1,
   "metadata": {},
   "outputs": [
    {
     "data": {
      "text/plain": [
       "(893700, 568867175661958)"
      ]
     },
     "execution_count": 1,
     "metadata": {},
     "output_type": "execute_result"
    }
   ],
   "source": [
    "from itertools import product\n",
    "from functools import cache\n",
    "\n",
    "\n",
    "convert= {n:10 if n==0 else n for n in range(0,10)}\n",
    "convertMove= {n:100 if n==0 else n for n in range(0,100)}\n",
    "inp_list = (1, 2, 3)\n",
    "permutations = list(product(inp_list,repeat=3))\n",
    "\n",
    "def part1(case1,case2):\n",
    "    score1,score2,i=0,0,0\n",
    "    while(1):\n",
    "        val1=(3*i+1)+ ((i)*3)\n",
    "        val2=(3*i+1)+ ((i+1)*3)\n",
    "        summ1=convertMove[val1%100]+convertMove[(val1+1)%100]+convertMove[(val1+2)%100]\n",
    "        case1=case1+summ1\n",
    "        case1=convert[case1%10]\n",
    "        score1+=convert[case1%10]\n",
    "        if(score1>=1000):\n",
    "            return (2*(i)*3 + 3)*score2\n",
    "            break\n",
    "\n",
    "        summ2=convertMove[val2%100]+convertMove[(val2+1)%100]+convertMove[(val2+2)%100]\n",
    "        case2=case2+summ2\n",
    "        case2=convert[case2%10]\n",
    "        score2+=convert[case2%10]\n",
    "        if(score2>=1000):\n",
    "            return (2*(i)*3 + 6)*score1\n",
    "            break\n",
    "        i+=1\n",
    "\n",
    "@cache\n",
    "def part2(case1,case2,score1,score2,turn):\n",
    "    win = 0\n",
    "    if(score1>=21):\n",
    "        return 1\n",
    "    if(score2>=21):\n",
    "        return 0\n",
    "    if(turn==0):\n",
    "        for elem in permutations:\n",
    "            tempC = case1+elem[0]+elem[1]+elem[2]\n",
    "            tempC1 = convert[tempC%10]\n",
    "            tempS1 = score1 + tempC1\n",
    "            tempWin=part2(tempC1,case2,tempS1,score2,1)\n",
    "            win = win+tempWin\n",
    "    else:\n",
    "        for elem in permutations:\n",
    "            tempC = case2+elem[0]+elem[1]+elem[2]\n",
    "            tempC2 = convert[tempC%10]\n",
    "            tempS2 = score2 + tempC2\n",
    "            \n",
    "            tempWin=part2(case1,tempC2,score1,tempS2,0)\n",
    "            win = win+tempWin\n",
    "    return win\n",
    "\n",
    "def day21(p1,p2):\n",
    "    return part1(p1,p2),part2(p1,p2,0,0,0)\n",
    "day21(4,7)"
   ]
  },
  {
   "cell_type": "code",
   "execution_count": 5,
   "metadata": {},
   "outputs": [
    {
     "data": {
      "text/plain": [
       "(893700, 568867175661958)"
      ]
     },
     "execution_count": 5,
     "metadata": {},
     "output_type": "execute_result"
    }
   ],
   "source": [
    "import itertools\n",
    "from functools import cache\n",
    "convert= {n:10 if n==0 else n for n in range(0,10)}\n",
    "convertMove= {n:100 if n==0 else n for n in range(0,100)}\n",
    "\n",
    "inp_list = (1, 2, 3)\n",
    "permutations = list(itertools.product(inp_list,repeat=3))\n",
    "\n",
    "def part1(case1,case2):\n",
    "    score1,score2,i=0,0,0\n",
    "    while(1):\n",
    "        val1=(3*i+1)+ ((i)*3)\n",
    "        val2=(3*i+1)+ ((i+1)*3)\n",
    "        summ1=convertMove[val1%100]+convertMove[(val1+1)%100]+convertMove[(val1+2)%100]\n",
    "        case1=case1+summ1\n",
    "        case1=convert[case1%10]\n",
    "        score1+=convert[case1%10]\n",
    "        if(score1>=1000):\n",
    "            return (2*(i)*3 + 3)*score2\n",
    "            break\n",
    "\n",
    "        summ2=convertMove[val2%100]+convertMove[(val2+1)%100]+convertMove[(val2+2)%100]\n",
    "        case2=case2+summ2\n",
    "        case2=convert[case2%10]\n",
    "        score2+=convert[case2%10]\n",
    "        if(score2>=1000):\n",
    "            return (2*(i)*3 + 6)*score1\n",
    "            break\n",
    "        i+=1\n",
    "\n",
    "@cache\n",
    "def part2(case1,case2,score1,score2,turn):\n",
    "    if(score1>=21):\n",
    "        return 1\n",
    "    elif(score2>=21):\n",
    "        return 0\n",
    "    win = 0\n",
    "    if(turn==0):\n",
    "        for elem in permutations:\n",
    "            tempC = case1+elem[0]+elem[1]+elem[2]\n",
    "            tempC1 = convert[tempC%10]\n",
    "            tempS1 = score1 + tempC1\n",
    "            tempWin=part2(tempC1,case2,tempS1,score2,1)\n",
    "            win = win+tempWin\n",
    "    else:\n",
    "        for elem in permutations:\n",
    "            tempC = case2+elem[0]+elem[1]+elem[2]\n",
    "            tempC2 = convert[tempC%10]\n",
    "            tempS2 = score2 + tempC2\n",
    "            \n",
    "            tempWin=part2(case1,tempC2,score1,tempS2,0)\n",
    "            win = win+tempWin\n",
    "    return win\n",
    "\n",
    "# @cache\n",
    "# def part22(case1,case2,score1,score2):\n",
    "#     if(score1>=21 and not (score1>=21 and score2>=21 ) ):\n",
    "#         return 1,0\n",
    "#     elif(score2>=21):\n",
    "#         return 0,1\n",
    "#     win1,win2 = 0,0 \n",
    "#     for elem1 in permutations:\n",
    "#         for elem2 in permutations:\n",
    "#             for elem3 in permutations:\n",
    "#                 tempC1,tempC2 = case1+elem1[0]+elem2[0]+elem3[0],case2+elem1[1]+elem2[1]+elem3[1]\n",
    "#                 tempC1,tempC2 = convert[tempC1%10],convert[tempC2%10]\n",
    "#                 tempS1,tempS2 = score1 + tempC1 , score2 +tempC2\n",
    "#                 tempWin=part2(tempC1,tempC2,tempS1,tempS2)\n",
    "#                 #print(tempWin)\n",
    "#                 win1,win2= win1+tempWin[0], win2+tempWin[1]\n",
    "#     return win1,win2\n",
    "\n",
    "part1(4,7),part2(4,7,0,0,0)"
   ]
  },
  {
   "cell_type": "code",
   "execution_count": 172,
   "metadata": {},
   "outputs": [
    {
     "name": "stdout",
     "output_type": "stream",
     "text": [
      "[(1, 1, 1), (1, 1, 2), (1, 1, 3), (1, 2, 1), (1, 2, 2), (1, 2, 3), (1, 3, 1), (1, 3, 2), (1, 3, 3), (2, 1, 1), (2, 1, 2), (2, 1, 3), (2, 2, 1), (2, 2, 2), (2, 2, 3), (2, 3, 1), (2, 3, 2), (2, 3, 3), (3, 1, 1), (3, 1, 2), (3, 1, 3), (3, 2, 1), (3, 2, 2), (3, 2, 3), (3, 3, 1), (3, 3, 2), (3, 3, 3)]\n",
      "27\n"
     ]
    }
   ],
   "source": [
    "inp_list = (1, 2, 3)\n",
    "permutations = list(itertools.product(inp_list,repeat=3))\n",
    "print(permutations)\n",
    "print(len(permutations))\n"
   ]
  },
  {
   "cell_type": "code",
   "execution_count": 135,
   "metadata": {},
   "outputs": [
    {
     "data": {
      "text/plain": [
       "defaultdict(int, {3: 1, 4: 3, 5: 6, 6: 7, 7: 6, 8: 3, 9: 1})"
      ]
     },
     "execution_count": 135,
     "metadata": {},
     "output_type": "execute_result"
    }
   ],
   "source": [
    "from collections import defaultdict\n",
    "outcomes = defaultdict(int)\n",
    "for d1 in range(1, 4):\n",
    "    for d2 in range(1, 4):\n",
    "        for d3 in range(1, 4):\n",
    "            outcomes[d1+d2+d3] += 1\n",
    "outcomes"
   ]
  },
  {
   "cell_type": "code",
   "execution_count": 139,
   "metadata": {},
   "outputs": [
    {
     "name": "stdout",
     "output_type": "stream",
     "text": [
      "[(1, 1), (1, 2), (1, 3), (2, 1), (2, 2), (2, 3), (3, 1), (3, 2), (3, 3)]\n",
      "9\n"
     ]
    },
    {
     "data": {
      "text/plain": [
       "(9471, 866)"
      ]
     },
     "execution_count": 139,
     "metadata": {},
     "output_type": "execute_result"
    }
   ],
   "source": [
    "import itertools\n",
    "inp_list = (1, 2, 3)\n",
    "permutations = list(itertools.product(inp_list,repeat=2))\n",
    "print(permutations)\n",
    "print(len(permutations))\n",
    "\n",
    "def part2(case1,case2,score1,score2):\n",
    "    win1,win2 = 0,0 \n",
    "    if(score1>=21):\n",
    "        return 1,0\n",
    "    if(score2>=21):\n",
    "        return 0,1\n",
    "    for elem in permutations:\n",
    "        #print(elem)\n",
    "        tempC1,tempC2 = case1+elem[0],case2+elem[1]\n",
    "        tempC1,tempC2 = convert[tempC1%10],convert[tempC2%10]\n",
    "        tempS1,tempS2 = score1 +tempC1 , score2 +tempC2\n",
    "        tempWin=part2(tempC1,tempC2,tempS1,tempS2)\n",
    "        win1,win2= win1+tempWin[0], win2+tempWin[1]\n",
    "    return win1,win2\n",
    "\n",
    "part2(4,8,0,0)"
   ]
  }
 ],
 "metadata": {
  "kernelspec": {
   "display_name": "Python 3",
   "language": "python",
   "name": "python3"
  },
  "language_info": {
   "codemirror_mode": {
    "name": "ipython",
    "version": 3
   },
   "file_extension": ".py",
   "mimetype": "text/x-python",
   "name": "python",
   "nbconvert_exporter": "python",
   "pygments_lexer": "ipython3",
   "version": "3.9.0"
  }
 },
 "nbformat": 4,
 "nbformat_minor": 4
}
