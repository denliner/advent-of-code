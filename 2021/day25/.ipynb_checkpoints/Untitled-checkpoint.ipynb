{
 "cells": [
  {
   "cell_type": "code",
   "execution_count": null,
   "metadata": {},
   "outputs": [],
   "source": [
    "from copy import deepcopy\n",
    "with open(\"input.txt\") as f:\n",
    "    input_=f.read().strip().splitlines()\n",
    "    input_=[list(x) for x in input_]\n",
    "lenX=len(input_)\n",
    "lenY=len(input_[0])\n",
    "def step(input_):\n",
    "    copy=deepcopy(input_)\n",
    "    for i,x in enumerate(copy):\n",
    "        for j,y in enumerate(x):\n",
    "            if(y==\">\"):\n",
    "                if(copy[i][(j+1)%lenY]==\".\"):\n",
    "                    input_[i][(j+1)%lenY]=\">\"\n",
    "                    input_[i][(j)%lenY]=\".\"\n",
    "    copy2=deepcopy(input_)\n",
    "    for i,x in enumerate(copy2):\n",
    "        for j,y in enumerate(x):\n",
    "            if(y==\"v\"):\n",
    "                if(copy2[(i+1)%lenX][j]==\".\"):\n",
    "                    input_[(i+1)%lenX][j]=\"v\"\n",
    "                    input_[i][j]=\".\"\n",
    "    return input_,copy==input_\n",
    "\n",
    "\n",
    "def part1(input_):\n",
    "    i=1\n",
    "    while(1):\n",
    "        input_,condition =step(input_) \n",
    "        if(condition):\n",
    "            return i\n",
    "        i+=1\n",
    "part1(input_)"
   ]
  },
  {
   "cell_type": "code",
   "execution_count": 22,
   "metadata": {},
   "outputs": [
    {
     "data": {
      "text/plain": [
       "8"
      ]
     },
     "execution_count": 22,
     "metadata": {},
     "output_type": "execute_result"
    }
   ],
   "source": [
    "8%9"
   ]
  }
 ],
 "metadata": {
  "kernelspec": {
   "display_name": "Python 3",
   "language": "python",
   "name": "python3"
  },
  "language_info": {
   "codemirror_mode": {
    "name": "ipython",
    "version": 3
   },
   "file_extension": ".py",
   "mimetype": "text/x-python",
   "name": "python",
   "nbconvert_exporter": "python",
   "pygments_lexer": "ipython3",
   "version": "3.9.0"
  }
 },
 "nbformat": 4,
 "nbformat_minor": 4
}
