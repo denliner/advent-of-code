{
 "cells": [
  {
   "cell_type": "code",
   "execution_count": 11,
   "metadata": {},
   "outputs": [
    {
     "data": {
      "text/plain": [
       "(8, 11)"
      ]
     },
     "execution_count": 11,
     "metadata": {},
     "output_type": "execute_result"
    }
   ],
   "source": [
    "cardkeytest=5764801\n",
    "doorkeytest=17807724\n",
    "subjectnumber=7\n",
    "modulo=20201227\n",
    "\n",
    "def secretLoop(n,modulo,subjectnumber,loopLength):\n",
    "    for j in range(loopLength):\n",
    "        n=n*subjectnumber\n",
    "        n=n%modulo\n",
    "    return n\n",
    "\n",
    "def getloopSize(target,modulo,subjectnumber):\n",
    "    n,i=1,0\n",
    "    while(not n==target):\n",
    "        i+=1\n",
    "        n=secretLoop(n,modulo,subjectnumber,1)\n",
    "    return i\n",
    "cardloop=getloopSize(5764801,modulo,subjectnumber)\n",
    "doorloop=getloopSize(17807724,modulo,subjectnumber)\n",
    "cardloop,doorloop\n",
    "#getloopSize(17807724,modulo,cardloop)"
   ]
  }
 ],
 "metadata": {
  "kernelspec": {
   "display_name": "Python 3",
   "language": "python",
   "name": "python3"
  },
  "language_info": {
   "codemirror_mode": {
    "name": "ipython",
    "version": 3
   },
   "file_extension": ".py",
   "mimetype": "text/x-python",
   "name": "python",
   "nbconvert_exporter": "python",
   "pygments_lexer": "ipython3",
   "version": "3.9.0"
  }
 },
 "nbformat": 4,
 "nbformat_minor": 4
}
