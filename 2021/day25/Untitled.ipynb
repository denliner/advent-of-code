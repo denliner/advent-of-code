{
 "cells": [
  {
   "cell_type": "code",
   "execution_count": 2,
   "metadata": {},
   "outputs": [
    {
     "name": "stdout",
     "output_type": "stream",
     "text": [
      "13467729 3020524\n"
     ]
    },
    {
     "data": {
      "text/plain": [
       "(9714832, 9714832)"
      ]
     },
     "execution_count": 2,
     "metadata": {},
     "output_type": "execute_result"
    }
   ],
   "source": [
    "cardkeytest=5764801\n",
    "doorkeytest=17807724\n",
    "subjectnumber=7\n",
    "modulo=20201227\n",
    "#cardkey=cardkeytest\n",
    "#doorkey=doorkeytest\n",
    "cardkey=9033205\n",
    "doorkey=9281649\n",
    "def secretLoop(n,modulo,subjectnumber,loopLength):\n",
    "    for j in range(loopLength):\n",
    "        n=n*subjectnumber\n",
    "        n=n%modulo\n",
    "    return n\n",
    "\n",
    "def getloopSize(target,modulo,subjectnumber):\n",
    "    n,i=1,0\n",
    "    while(not n==target):\n",
    "        i+=1\n",
    "        n=secretLoop(n,modulo,subjectnumber,1)\n",
    "    return i\n",
    "cardloop=getloopSize(cardkey,modulo,subjectnumber)\n",
    "doorloop=getloopSize(doorkey,modulo,subjectnumber)\n",
    "print(cardloop,doorloop)\n",
    "secretLoop(1,modulo,doorkey,cardloop),secretLoop(1,modulo,cardkey,doorloop)"
   ]
  }
 ],
 "metadata": {
  "kernelspec": {
   "display_name": "Python 3",
   "language": "python",
   "name": "python3"
  },
  "language_info": {
   "codemirror_mode": {
    "name": "ipython",
    "version": 3
   },
   "file_extension": ".py",
   "mimetype": "text/x-python",
   "name": "python",
   "nbconvert_exporter": "python",
   "pygments_lexer": "ipython3",
   "version": "3.9.0"
  }
 },
 "nbformat": 4,
 "nbformat_minor": 4
}
