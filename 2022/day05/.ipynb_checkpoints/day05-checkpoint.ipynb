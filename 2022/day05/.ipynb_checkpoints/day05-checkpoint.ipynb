{
 "cells": [
  {
   "cell_type": "code",
   "execution_count": 26,
   "id": "e2c62a6d-1b8d-4311-8db8-7cc08b714522",
   "metadata": {},
   "outputs": [
    {
     "name": "stdout",
     "output_type": "stream",
     "text": [
      "test\n",
      "         15520 function calls (15455 primitive calls) in 0.038 seconds\n",
      "\n",
      "   Ordered by: standard name\n",
      "\n",
      "   ncalls  tottime  percall  cumtime  percall filename:lineno(function)\n",
      "      502    0.019    0.000    0.035    0.000 930741102.py:20(move)\n",
      "        1    0.001    0.001    0.038    0.038 930741102.py:28(day05)\n",
      "        1    0.000    0.000    0.000    0.000 930741102.py:8(generateStack)\n",
      "        1    0.000    0.000    0.038    0.038 <string>:1(<module>)\n",
      "     66/1    0.000    0.000    0.001    0.001 copy.py:128(deepcopy)\n",
      "       56    0.000    0.000    0.000    0.000 copy.py:182(_deepcopy_atomic)\n",
      "        1    0.000    0.000    0.001    0.001 copy.py:201(_deepcopy_list)\n",
      "       10    0.000    0.000    0.000    0.000 copy.py:243(_keep_alive)\n",
      "        9    0.000    0.000    0.001    0.000 copy.py:259(_reconstruct)\n",
      "        1    0.000    0.000    0.000    0.000 re.py:232(findall)\n",
      "        1    0.000    0.000    0.000    0.000 re.py:288(_compile)\n",
      "        1    0.000    0.000    0.038    0.038 {built-in method builtins.exec}\n",
      "       18    0.000    0.000    0.000    0.000 {built-in method builtins.getattr}\n",
      "       87    0.000    0.000    0.000    0.000 {built-in method builtins.id}\n",
      "       10    0.000    0.000    0.000    0.000 {built-in method builtins.isinstance}\n",
      "        9    0.000    0.000    0.000    0.000 {built-in method builtins.issubclass}\n",
      "        1    0.000    0.000    0.000    0.000 {built-in method builtins.len}\n",
      "        9    0.000    0.000    0.000    0.000 {method '__reduce_ex__' of 'object' objects}\n",
      "      112    0.000    0.000    0.000    0.000 {method 'append' of 'collections.deque' objects}\n",
      "       27    0.000    0.000    0.000    0.000 {method 'append' of 'list' objects}\n",
      "     7191    0.008    0.000    0.008    0.000 {method 'appendleft' of 'collections.deque' objects}\n",
      "        1    0.000    0.000    0.000    0.000 {method 'disable' of '_lsprof.Profiler' objects}\n",
      "        1    0.000    0.000    0.000    0.000 {method 'findall' of 're.Pattern' objects}\n",
      "      141    0.000    0.000    0.000    0.000 {method 'get' of 'dict' objects}\n",
      "       72    0.000    0.000    0.000    0.000 {method 'isspace' of 'str' objects}\n",
      "     7191    0.008    0.000    0.008    0.000 {method 'popleft' of 'collections.deque' objects}\n",
      "\n",
      "\n"
     ]
    },
    {
     "data": {
      "text/plain": [
       "('QGTHFZBHV', 'MGDMPSZTM')"
      ]
     },
     "execution_count": 26,
     "metadata": {},
     "output_type": "execute_result"
    }
   ],
   "source": [
    "from collections import deque\n",
    "import re\n",
    "import copy\n",
    "from cProfile import run \n",
    "INPUT=\"bigboy.txt\"\n",
    "\n",
    "\n",
    "def generateStack(pyramide):\n",
    "    pyra= list()\n",
    "    size= len(re.findall(\"\\d+\",pyramide[-1]))\n",
    "    for i in range(size):\n",
    "        pyra.append(deque())\n",
    "    for elem in pyramide[:-1]:\n",
    "        for i in range(size):\n",
    "            crate=elem[1+i*4]\n",
    "            if(not crate.isspace()):\n",
    "                pyra[i].append(crate)\n",
    "    return pyra\n",
    "\n",
    "def move(instruction,pyra,pyraGold,subDeque):\n",
    "    for i in range(instruction[0]):\n",
    "        pyra[instruction[2]-1].appendleft(pyra[instruction[1]-1].popleft())\n",
    "        elem=pyraGold[instruction[1]-1].popleft()\n",
    "        subDeque.appendleft(elem)\n",
    "    while subDeque:\n",
    "        pyraGold[instruction[2]-1].appendleft(subDeque.popleft())\n",
    "    return pyra,pyraGold\n",
    "def day05(pyramide,listInstruction):\n",
    "    pyra=generateStack(pyramide)\n",
    "    subDeque=deque()\n",
    "    pyraGold = copy.deepcopy(pyra)\n",
    "    \n",
    "    for instruction in listInstruction:\n",
    "        pyra, pyraGold=move(instruction,pyra,pyraGold,subDeque)\n",
    "    silver=\"\"\n",
    "    gold= \"\"\n",
    "    for elem in pyra:\n",
    "        silver+=elem[0]\n",
    "    for elem in pyraGold:\n",
    "        gold+=elem[0]  \n",
    "    return silver,gold\n",
    "\n",
    "with open(INPUT) as f:\n",
    "    imp=f.read().split(\"\\n\"*2)\n",
    "\n",
    "pyramide=imp[0].splitlines()\n",
    "reg=re.compile(\"\\d+\")\n",
    "listInstruction=[[int(i) for i in reg.findall(line)] for line in imp[1].splitlines()]\n",
    "print(\"test\")\n",
    "run(\"day05(pyramide,listInstruction)\")\n",
    "day05(pyramide,listInstruction)\n"
   ]
  },
  {
   "cell_type": "markdown",
   "id": "89331dfd-6887-4abf-9427-e7b82d009524",
   "metadata": {},
   "source": [
    "## "
   ]
  }
 ],
 "metadata": {
  "kernelspec": {
   "display_name": "Python 3 (ipykernel)",
   "language": "python",
   "name": "python3"
  },
  "language_info": {
   "codemirror_mode": {
    "name": "ipython",
    "version": 3
   },
   "file_extension": ".py",
   "mimetype": "text/x-python",
   "name": "python",
   "nbconvert_exporter": "python",
   "pygments_lexer": "ipython3",
   "version": "3.10.8"
  }
 },
 "nbformat": 4,
 "nbformat_minor": 5
}
