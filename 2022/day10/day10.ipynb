{
 "cells": [
  {
   "cell_type": "code",
   "execution_count": 43,
   "id": "f1f53e6a-7f76-453e-a784-77591e77096a",
   "metadata": {},
   "outputs": [
    {
     "name": "stdout",
     "output_type": "stream",
     "text": [
      "15260\n"
     ]
    },
    {
     "data": {
      "text/plain": [
       "['###...##..#..#.####..##..#....#..#..##..',\n",
       " '#..#.#..#.#..#.#....#..#.#....#..#.#..#.',\n",
       " '#..#.#....####.###..#....#....#..#.#....',\n",
       " '###..#.##.#..#.#....#.##.#....#..#.#.##.',\n",
       " '#....#..#.#..#.#....#..#.#....#..#.#..#.',\n",
       " '#.....###.#..#.#.....###.####..##...###.']"
      ]
     },
     "execution_count": 43,
     "metadata": {},
     "output_type": "execute_result"
    }
   ],
   "source": [
    "INPUT=\"input.txt\"\n",
    "import numpy as np\n",
    "WIDE=40\n",
    "HIGH=6\n",
    "\n",
    "CRT=[['.' for x in range(WIDE) ] for y in range(HIGH) ]\n",
    "with open(INPUT) as f:\n",
    "    imp=f.read().splitlines()\n",
    "    imp=[x.split(\" \") for x in imp]\n",
    "registerX=1\n",
    "cycle=0\n",
    "signalList=[]\n",
    "\n",
    "def checkSprite(registerX,cycle):\n",
    "    position=cycle%40\n",
    "    return registerX-1<=position<=registerX+1\n",
    "for inst in imp:\n",
    "    instType=inst[0]\n",
    "    match instType:\n",
    "        case 'noop':\n",
    "            if(checkSprite(registerX,cycle)):\n",
    "                CRT[cycle//40][cycle%40]='#'\n",
    "            cycle+=1\n",
    "            if(cycle%40==20):\n",
    "                signalList.append(cycle*registerX)\n",
    "                #print(cycle,registerX,(cycle)*registerX)\n",
    "        case 'addx':\n",
    "            if(cycle%40==19):\n",
    "                signalList.append((cycle+1)*registerX)\n",
    "                #print(\"damn\",cycle+1,registerX,(cycle+1)*registerX,\"\\t\",int(inst[1]))\n",
    "            if(checkSprite(registerX,cycle)):\n",
    "                CRT[cycle//40][cycle%40]='#'\n",
    "            if(checkSprite(registerX,cycle+1)):\n",
    "                CRT[(cycle+1)//40][(cycle+1)%40]='#'    \n",
    "            cycle+=2\n",
    "            if(cycle%40==20):\n",
    "                signalList.append(cycle*registerX)\n",
    "                #print(cycle,registerX,(cycle)*registerX)\n",
    "            registerX+=int(inst[1])\n",
    "        \n",
    "        \n",
    "        \n",
    "print(sum(signalList))\n",
    "CRT= [''.join(x) for x in CRT]\n",
    "CRT"
   ]
  },
  {
   "cell_type": "code",
   "execution_count": 7,
   "id": "90160955-6466-45b1-81aa-34eeb351401f",
   "metadata": {},
   "outputs": [
    {
     "data": {
      "text/plain": [
       "19"
      ]
     },
     "execution_count": 7,
     "metadata": {},
     "output_type": "execute_result"
    }
   ],
   "source": [
    "19%20"
   ]
  }
 ],
 "metadata": {
  "kernelspec": {
   "display_name": "Python 3 (ipykernel)",
   "language": "python",
   "name": "python3"
  },
  "language_info": {
   "codemirror_mode": {
    "name": "ipython",
    "version": 3
   },
   "file_extension": ".py",
   "mimetype": "text/x-python",
   "name": "python",
   "nbconvert_exporter": "python",
   "pygments_lexer": "ipython3",
   "version": "3.10.8"
  }
 },
 "nbformat": 4,
 "nbformat_minor": 5
}
