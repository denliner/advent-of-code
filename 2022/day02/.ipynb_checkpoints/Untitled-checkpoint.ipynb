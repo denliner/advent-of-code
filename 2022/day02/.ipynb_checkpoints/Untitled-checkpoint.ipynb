{
 "cells": [
  {
   "cell_type": "code",
   "execution_count": 6,
   "id": "ba9f8d2d-fdb2-461e-a81c-1003449fd22f",
   "metadata": {},
   "outputs": [
    {
     "data": {
      "text/plain": [
       "(([15128, 9759], [13283, 12429]), (1, 2))"
      ]
     },
     "execution_count": 6,
     "metadata": {},
     "output_type": "execute_result"
    }
   ],
   "source": [
    "INPUT=\"input.txt\"\n",
    "from operator import add\n",
    "\n",
    "turn_dict = {}\n",
    "for key in ('A','X'):\n",
    "    turn_dict[key] = \"rock\"\n",
    "    \n",
    "for key in ('B','Y'):\n",
    "    turn_dict[key] = \"paper\"\n",
    "\n",
    "for key in ('C','Z'):\n",
    "    turn_dict[key] = \"scissor\"\n",
    "    \n",
    "score_dict= {\"rock\": 1, \"paper\":2,\"scissor\":3}\n",
    "\n",
    "ReverseRPSdict= {\"rock\": {\"win\": \"scissor\", \"lose\": \"paper\",\"dawn\":\"rock\" },\n",
    "                \"paper\": {\"win\": \"rock\", \"lose\": \"scissor\",\"dawn\":\"paper\"},\n",
    "                \"scissor\": {\"win\": \"paper\", \"lose\": \"rock\",\"dawn\":\"scissor\"}  } \n",
    "\n",
    "RPSdict= { \"rock\": {\"rock\":\"dawn\" , \"paper\":\"lose\" , \"scissor\":\"win\" },\n",
    "          \"paper\": {\"rock\":\"win\" , \"paper\":\"dawn\" , \"scissor\":\"lose\" },\n",
    "          \"scissor\": {\"rock\":\"lose\" , \"paper\":\"win\" , \"scissor\":\"dawn\" }  } \n",
    "WL={\"win\":6,\"dawn\":3,\"lose\":0}\n",
    "goldDict= {\"X\":\"win\",\"Y\":\"dawn\",\"Z\":\"lose\"}\n",
    "\n",
    "# def rPS1(tup):\n",
    "#     if(tup[0]==tup[1]):\n",
    "#         return [3+score_dict[tup[0]],3+score_dict[tup[1]]]\n",
    "#     score=[0,0]\n",
    "#     if( \"rock\" in tup):\n",
    "#         if(\"paper\" in tup):\n",
    "#             score[tup.index(\"paper\")]=6+score_dict[\"paper\"]\n",
    "#             score[tup.index(\"rock\")]=0+score_dict[\"rock\"]   \n",
    "#         else:\n",
    "#             score[tup.index(\"rock\")]=6+score_dict[\"rock\"]\n",
    "#             score[tup.index(\"scissor\")]=0+score_dict[\"scissor\"]       \n",
    "#     else:\n",
    "#         score[tup.index(\"scissor\")]=6+score_dict[\"scissor\"]\n",
    "#         score[tup.index(\"paper\")]=0+score_dict[\"paper\"]  \n",
    "#     return score\n",
    "\n",
    "\n",
    "def rPS(elf,you):\n",
    "    return [ WL[RPSdict[elf][you] ] +score_dict[elf],WL[RPSdict[you][elf] ] +score_dict[you]]\n",
    "\n",
    "\n",
    "\n",
    "def day1(imp):\n",
    "    TotalScoreSilver=[0,0]\n",
    "    TotalScoreGold=[0,0]\n",
    "    for i in imp:\n",
    "        elf,you= turn_dict[i[0]],turn_dict[i[1]]\n",
    "        convertedSilver=[elf,you]\n",
    "        convertedGold=[ elf, ReverseRPSdict[elf ][ goldDict[i[1]]] ]\n",
    "        matchScoreSilver=rPS(*convertedSilver)\n",
    "        matchScoreGold=rPS(*convertedGold)\n",
    "        TotalScoreSilver= list( map(add, TotalScoreSilver, matchScoreSilver) ) \n",
    "        TotalScoreGold= list( map(add, TotalScoreGold, matchScoreGold) ) \n",
    "    return TotalScoreSilver,TotalScoreGold\n",
    "\n",
    "def testt(A,B):\n",
    "    return A,B\n",
    "with open(INPUT) as f:\n",
    "    imp=f.read().splitlines()\n",
    "    imp= [ x.split() for x in imp]\n",
    "imp,turn_dict,score_dict\n",
    "day1(imp),testt(*[1,2])"
   ]
  }
 ],
 "metadata": {
  "kernelspec": {
   "display_name": "Python 3 (ipykernel)",
   "language": "python",
   "name": "python3"
  },
  "language_info": {
   "codemirror_mode": {
    "name": "ipython",
    "version": 3
   },
   "file_extension": ".py",
   "mimetype": "text/x-python",
   "name": "python",
   "nbconvert_exporter": "python",
   "pygments_lexer": "ipython3",
   "version": "3.10.6"
  }
 },
 "nbformat": 4,
 "nbformat_minor": 5
}
