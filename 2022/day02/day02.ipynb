{
 "cells": [
  {
   "cell_type": "code",
   "execution_count": 7,
   "id": "7604e6c8-0bbf-4db4-8013-d5116a1b2a1e",
   "metadata": {},
   "outputs": [
    {
     "name": "stdout",
     "output_type": "stream",
     "text": [
      "Silver :  9759 \tGold :  12429\n"
     ]
    }
   ],
   "source": [
    "INPUT=\"input.txt\"\n",
    "from operator import add\n",
    "\n",
    "convert_dict = {}\n",
    "for key in ('A','X'):\n",
    "    convert_dict[key] = \"rock\"\n",
    "for key in ('B','Y'):\n",
    "    convert_dict[key] = \"paper\"\n",
    "for key in ('C','Z'):\n",
    "    convert_dict[key] = \"scissor\"\n",
    "    \n",
    "score_dict = {\"rock\": 1, \"paper\" : 2,\"scissor\"  :3}\n",
    "RPSdict = { \"rock\": {\"rock\" : \"dawn\" , \n",
    "                     \"paper\" : \"lose\" , \n",
    "                     \"scissor\" : \"win\" },\n",
    "          \"paper\": {\"rock\" : \"win\" ,\n",
    "                    \"paper\" : \"dawn\" ,\n",
    "                    \"scissor\" : \"lose\" },\n",
    "          \"scissor\": {\"rock\" : \"lose\" ,\n",
    "                      \"paper\" : \"win\" , \n",
    "                      \"scissor\" : \"dawn\" }  } \n",
    "\n",
    "ReverseRPSdict = {}\n",
    "for key in RPSdict:\n",
    "    ReverseRPSdict[key] = {}\n",
    "    for subkey in RPSdict[key]:\n",
    "        ReverseRPSdict[key][RPSdict[key][subkey] ] = subkey\n",
    "\n",
    "WL = {\"win\" : 6,\"dawn\" : 3,\"lose\" : 0}\n",
    "goldDict = {\"X\" : \"win\",\"Y\" : \"dawn\",\"Z\" : \"lose\"}\n",
    "\n",
    "def rPS(elf,you):\n",
    "    return [ WL[RPSdict[elf][you] ]\n",
    "            + score_dict[elf],WL[ RPSdict[you][elf] ]\n",
    "            + score_dict[you] ]\n",
    "\n",
    "def day2(imp):\n",
    "    TotalScoreSilver = [0,0]\n",
    "    TotalScoreGold = [0,0]\n",
    "    \n",
    "    for i in imp:\n",
    "        elf,you = convert_dict[i[0]],convert_dict[i[1]]\n",
    "        convertedSilver = [elf,you]\n",
    "        convertedGold = [elf, \n",
    "                         ReverseRPSdict[elf][ goldDict[i[1]]]]\n",
    "        \n",
    "        matchScoreSilver = rPS(*convertedSilver)\n",
    "        matchScoreGold = rPS(*convertedGold)\n",
    "        \n",
    "        TotalScoreSilver = list( map(add,\n",
    "                                     TotalScoreSilver,\n",
    "                                     matchScoreSilver) ) \n",
    "        \n",
    "        TotalScoreGold = list( map(add, \n",
    "                                   TotalScoreGold, \n",
    "                                   matchScoreGold) ) \n",
    "    return TotalScoreSilver[1],TotalScoreGold[1]\n",
    "\n",
    "with open(INPUT) as f:\n",
    "    imp=f.read().splitlines()\n",
    "    imp= [ x.split() for x in imp]\n",
    "\n",
    "results=day2(imp)\n",
    "print(\"Silver : \",results[0],\"\\tGold : \",results[1])"
   ]
  }
 ],
 "metadata": {
  "kernelspec": {
   "display_name": "Python 3 (ipykernel)",
   "language": "python",
   "name": "python3"
  },
  "language_info": {
   "codemirror_mode": {
    "name": "ipython",
    "version": 3
   },
   "file_extension": ".py",
   "mimetype": "text/x-python",
   "name": "python",
   "nbconvert_exporter": "python",
   "pygments_lexer": "ipython3",
   "version": "3.10.6"
  }
 },
 "nbformat": 4,
 "nbformat_minor": 5
}
