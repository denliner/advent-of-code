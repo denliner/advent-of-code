{
 "cells": [
  {
   "cell_type": "code",
   "execution_count": 9,
   "id": "64525242-e2b0-4bfc-97e0-0c7aaf4558df",
   "metadata": {},
   "outputs": [
    {
     "name": "stdout",
     "output_type": "stream",
     "text": [
      "Part 2: 1547953216393\n"
     ]
    }
   ],
   "source": [
    "#P2 Only for now\n",
    "#I need to remember what I did to do P1\n",
    "\n",
    "\n",
    "INPUT=\"input.txt\"\n",
    "rotation=['-','+','L','I','C']\n",
    "minus=[[0,0],[0,-1],[0,1],[0,2]]\n",
    "plus=[[0,0],[-1,-1],[-1,1],[-1,0],[-2,0]]\n",
    "reverseL=[[0,1],[-1,1],[-2,1],[-2,0],[-2,-1]]\n",
    "tower= [[0,-1],[-1,-1],[-2,-1],[-3,-1]]\n",
    "cube=[[0,0],[0,-1],[-1,0],[-1,-1]]\n",
    "\n",
    "UPPER=3\n",
    "\n",
    "indexDict={\"-\":minus,\"+\":plus,\"L\":reverseL,\n",
    "           \"I\":tower, \"C\":cube}\n",
    "\n",
    "indexStartDict={\"-\":0,\"+\":2,\"L\":2,\n",
    "           \"I\":3, \"C\":1}\n",
    "jetDict={\"<\":[0,-1],\">\":[0,1]}\n",
    "\n",
    "def getNewPosition(Currentposition,typeRock,taken):\n",
    "    indexes=indexDict[typeRock]\n",
    "    pos=[]\n",
    "    for index in indexes:\n",
    "        x,y=Currentposition[0],Currentposition[1]\n",
    "        rockX,rockY=x+index[0],y+index[1]\n",
    "        newRock=[rockX,rockY]\n",
    "        if( (not (0<=rockY<=6 and 0<=rockX)) or newRock in taken):\n",
    "            return []\n",
    "        pos.append(newRock)\n",
    "    return pos\n",
    "\n",
    "def fall(jetDict,Currentposition,taken,jet,typeRock):\n",
    "    x,y=Currentposition[0],Currentposition[1]\n",
    "    jetValue=jetDict[jet]\n",
    "    newPos=[x+jetValue[0],y+jetValue[1]]\n",
    "    if(getNewPosition(newPos,typeRock,taken)):\n",
    "        Currentposition=newPos\n",
    "    x,y=Currentposition[0],Currentposition[1]\n",
    "    fallenPos=[x-1,y]\n",
    "    check=getNewPosition(fallenPos,typeRock,taken) \n",
    "    if(check):\n",
    "        return fallenPos,True,taken\n",
    "    else:\n",
    "        #taken= taken + getNewPosition(Currentposition,typeRock,taken)\n",
    "        return Currentposition,False,taken\n",
    "    \n",
    "\n",
    "def fallenLoop(imp,jetDict,taken,typeRock,jetPosition,jetLen,indexStartDict,lastDiff,previous,i=0):\n",
    "    #print(\"print\",taken)\n",
    "    taken.sort()\n",
    "    highest=taken[-1][0]+1 if taken else 0\n",
    "    Currentposition=[highest+3+indexStartDict[typeRock],3]\n",
    "    #print(Currentposition,highest)\n",
    "    while True:\n",
    "        jet=imp[jetPosition%jetLen]\n",
    "        jetPosition+=1\n",
    "        Currentposition,check,taken=fall(jetDict,Currentposition,taken,jet,typeRock)\n",
    "        if(not check):\n",
    "           # print(\"print2 \",taken)\n",
    "            taken=taken+ getNewPosition(Currentposition,typeRock,taken)\n",
    "            break\n",
    "        if(jetPosition%jetLen==0):\n",
    "            \n",
    "            #print(highest-lastDiff)\n",
    "            if(lastDiff==highest):\n",
    "                print(\"LA BOUCLE ZINZIN\",jetPosition)\n",
    "            lastDiff=highest\n",
    "    #print(Currentposition)\n",
    "    return jetPosition,taken,lastDiff\n",
    "\n",
    "\n",
    "def fallenLoopP2(imp,jetDict,jetLen,indexStartDict,maxx):\n",
    "    # jetPosition,taken,lastDiff=fallenLoop(imp,jetDict,taken,rotation[i%5],jetPosition,impLen,indexStartDict,lastDiff,i)\n",
    "    i=0\n",
    " #   print(jetLen)\n",
    "    po=3\n",
    "    taken=[]\n",
    "    jetPosition=0\n",
    "    highest,difference=0,0\n",
    "    previous=0\n",
    "    lastDiff=0\n",
    "    paternLength,lastpaternLength,lastFirstRock=0,0,0\n",
    "    stop=maxx\n",
    "    for i in range(maxx):\n",
    "        stop-=1\n",
    "        if stop==0:\n",
    "            break\n",
    "        #print(\"print\",taken)\n",
    "        typeRock=rotation[i%5]\n",
    "        taken.sort()\n",
    "        highest=taken[-1][0]+1 if taken else 0\n",
    "        Currentposition=[highest+3+indexStartDict[typeRock],3]\n",
    "        #print(Currentposition,highest)\n",
    "        while True:\n",
    "            jet=imp[jetPosition%jetLen]\n",
    "            jetPosition+=1\n",
    "            if(jetPosition%jetLen==0):\n",
    "                paternLength= i - lastFirstRock\n",
    "                difference = highest - previous\n",
    "\n",
    "                if(paternLength == lastpaternLength and difference==lastDiff):\n",
    "      #              print(\"LA BOUCLE ZINZIN\",i,(maxx-i)%paternLength,stop,difference,paternLength,lastFirstRock,previous,highest)\n",
    "                    stop=(maxx-i)%paternLength\n",
    "                lastFirstRock= i\n",
    "                previous = highest\n",
    "                lastDiff=  difference\n",
    "                lastpaternLength=paternLength\n",
    "\n",
    "\n",
    "            Currentposition,check,taken=fall(jetDict,Currentposition,taken,jet,typeRock)\n",
    "            if(not check):\n",
    "               # print(\"print2 \",taken)\n",
    "                taken=taken+ getNewPosition(Currentposition,typeRock,taken)\n",
    "                break\n",
    "\n",
    "        #print(Currentposition)\n",
    "    taken.sort()\n",
    "    highest=taken[-1][0]+1 if taken else 0\n",
    "    #print(\"1:\", (highest,(maxx - lastFirstRock),lastpaternLength,lastDiff))\n",
    "    print(\"Part 2:\", -(-highest +  -(((maxx - lastFirstRock) // lastpaternLength  ) *  lastDiff)))\n",
    "    return highest,taken\n",
    "\n",
    "\n",
    "WIDE=7\n",
    "with open(INPUT) as f:\n",
    "    imp=f.read().strip()\n",
    "    \n",
    "\n",
    "impLen=len(imp)\n",
    "\n",
    "\n",
    "highest,taken=fallenLoopP2(imp,jetDict,impLen,indexStartDict,1000000000000)\n",
    "taken.sort()\n",
    "taken2=[]\n",
    "for elem in taken:\n",
    "    taken2.append([abs(elem[0]-highest),abs(elem[1])])\n",
    "\n",
    "tableau=[[\".\" for x in range(7)] for y in range(highest+1)]\n",
    "\n",
    "for elem in taken2:\n",
    "    tableau[elem[0]][elem[1]]=\"#\"\n",
    "    \n",
    "decord=[\"\".join(x) for x in tableau]\n",
    "jk=\"\\n\".join(decord)\n",
    "#print(jk)\n",
    "text_file = open(\"jk2.txt\", \"w\")\n",
    "n = text_file.write(jk)\n",
    "text_file.close()"
   ]
  },
  {
   "cell_type": "code",
   "execution_count": 7,
   "id": "cf6d8c19-4e44-4c31-b4ea-9a58a73404e3",
   "metadata": {},
   "outputs": [
    {
     "data": {
      "text/plain": [
       "1715"
      ]
     },
     "execution_count": 7,
     "metadata": {},
     "output_type": "execute_result"
    }
   ],
   "source": [
    "v=[[3, 3], [3, 2], [8, 3], [2, 2]]\n",
    "v.sort()\n",
    "v\n",
    "51-39\n",
    "#LA BOUCLE ZINZIN 5135 1085 999999994864 2647\n",
    "#LA BOUCLE ZINZIN 5135 1085 999999994864 2647 1710\n",
    "#LA BOUCLE ZINZIN 5135 1085 999999994864 2647 1710 3425 5305 7952\n",
    "# 10091\n",
    "# LA BOUCLE ZINZIN 5135 1085 999999994864 2647 1710 3425 5305 7952\n",
    "# -1547953216391 6220 9645\n",
    "# 9645 C 10091\n",
    "5135-1710*2\n",
    "1715\n",
    "\n",
    "#LA BOUCLE ZINZIN 5135 1445\n",
    "#useless patter = 36 stop at 20 -> 4 rotation\n",
    "#patern 1 = 60 stop at 35 -> 15 per pattern -> 3 rotation -> +24\n",
    "#patern 2 = 89  stop first at 55 -> 20 per patern -> 4 rotation -> +29"
   ]
  },
  {
   "cell_type": "code",
   "execution_count": 175,
   "id": "70486301-c56c-4517-9c25-9cc71eb56292",
   "metadata": {},
   "outputs": [
    {
     "data": {
      "text/plain": [
       "53"
      ]
     },
     "execution_count": 175,
     "metadata": {},
     "output_type": "execute_result"
    }
   ],
   "source": [
    "24+29"
   ]
  },
  {
   "cell_type": "code",
   "execution_count": 229,
   "id": "ee88746d-bb4d-4023-b466-f93015002f64",
   "metadata": {},
   "outputs": [
    {
     "data": {
      "text/plain": [
       "(1514285714263, 15)"
      ]
     },
     "execution_count": 229,
     "metadata": {},
     "output_type": "execute_result"
    }
   ],
   "source": [
    "maximumm=1000000000000\n",
    "#maximumm-=20\n",
    "h=0\n",
    "idd=0\n",
    "numb=[(15,24),(20,29)]\n",
    "# while maximumm>0:\n",
    "#     choosen=numb[idd%2]\n",
    "#     maximumm-=choosen[0]\n",
    "#     h+=choosen[1]\n",
    "#     idd+=1\n",
    "maximumm//35\n",
    "\n",
    "28571428571*53,maximumm%35\n"
   ]
  },
  {
   "cell_type": "code",
   "execution_count": 275,
   "id": "af1a75a4-d2b1-417e-a8db-992b5efb40f9",
   "metadata": {},
   "outputs": [
    {
     "name": "stdout",
     "output_type": "stream",
     "text": [
      "18\n",
      "87\n",
      "21\n",
      "28\n",
      "21\n",
      "98\n",
      "66\n",
      "64\n",
      "25\n",
      "6\n",
      "55\n",
      "35\n",
      "8\n",
      "34\n",
      "12\n",
      "38\n",
      "19\n",
      "36\n",
      "85\n",
      "37\n",
      "7\n",
      "14\n",
      "9\n",
      "9\n",
      "11\n",
      "34\n",
      "7\n",
      "43\n",
      "18\n",
      "19\n"
     ]
    }
   ],
   "source": [
    "with open(\"TT.txt\") as f:\n",
    "    TT=list(map(int,f.read().splitlines()))\n",
    "pt=0\n",
    "for elem in TT:\n",
    "    print(elem-pt)\n",
    "    pt=elem"
   ]
  },
  {
   "cell_type": "code",
   "execution_count": 283,
   "id": "1fac1a4f-ab37-4e9b-a6b8-f2fa35fbed42",
   "metadata": {},
   "outputs": [
    {
     "data": {
      "text/plain": [
       "102"
      ]
     },
     "execution_count": 283,
     "metadata": {},
     "output_type": "execute_result"
    }
   ],
   "source": [
    "with open(\"jk.txt\") as f:\n",
    "    JK=f.read()\n",
    "#print(JK)\n",
    "9646-9544\n",
    "#102"
   ]
  },
  {
   "cell_type": "code",
   "execution_count": 285,
   "id": "9144f6c7-6128-4fcd-8a51-1bd743dda344",
   "metadata": {},
   "outputs": [
    {
     "data": {
      "text/plain": [
       "7834"
      ]
     },
     "execution_count": 285,
     "metadata": {},
     "output_type": "execute_result"
    }
   ],
   "source": [
    "9544-1710"
   ]
  },
  {
   "cell_type": "code",
   "execution_count": 289,
   "id": "ced9841e-c8d1-4500-a537-7a903119223c",
   "metadata": {},
   "outputs": [
    {
     "data": {
      "text/plain": [
       "5396"
      ]
     },
     "execution_count": 289,
     "metadata": {},
     "output_type": "execute_result"
    }
   ],
   "source": [
    "9646-4250"
   ]
  },
  {
   "cell_type": "code",
   "execution_count": 294,
   "id": "e3ffa312-341b-4e24-986c-a6121ca149df",
   "metadata": {},
   "outputs": [
    {
     "data": {
      "text/plain": [
       "(4341, 6988)"
      ]
     },
     "execution_count": 294,
     "metadata": {},
     "output_type": "execute_result"
    }
   ],
   "source": [
    "9646-5305,9646-5305+2647"
   ]
  },
  {
   "cell_type": "code",
   "execution_count": 296,
   "id": "9774c4b5-486a-44ce-b78f-2ed4d77507f2",
   "metadata": {},
   "outputs": [
    {
     "data": {
      "text/plain": [
       "2656"
      ]
     },
     "execution_count": 296,
     "metadata": {},
     "output_type": "execute_result"
    }
   ],
   "source": [
    "9646-6990"
   ]
  },
  {
   "cell_type": "code",
   "execution_count": 343,
   "id": "98796f8c-b4ce-479c-a1a8-28d4a8b0f405",
   "metadata": {},
   "outputs": [
    {
     "data": {
      "text/plain": [
       "(584795319.0, 1000000005135, 584795318.0, -1547953219992, -1547953216393)"
      ]
     },
     "execution_count": 343,
     "metadata": {},
     "output_type": "execute_result"
    }
   ],
   "source": [
    "\n",
    "beforePat=2656\n",
    "stepp=3425\n",
    "d=(-9647 +  -(((999999994865) // 1710  ) *  2647))\n",
    "hj=1000000000000\n",
    "(hj-3425-1085)/1710,9645+ (584795319 * 1710),(hj-(5135+1085))/1710,-7952+ -(584795320 * 2647),d"
   ]
  },
  {
   "cell_type": "code",
   "execution_count": 348,
   "id": "33a52271-b5fb-437e-ab16-807debf5753e",
   "metadata": {},
   "outputs": [
    {
     "data": {
      "text/plain": [
       "(584795318.0, 1547953216393.0)"
      ]
     },
     "execution_count": 348,
     "metadata": {},
     "output_type": "execute_result"
    }
   ],
   "source": [
    "6220 \n",
    "9645 #9647\n",
    "(hj-(5135+1085))/1710,   584795318.0 *2647 + 9647"
   ]
  },
  {
   "cell_type": "code",
   "execution_count": null,
   "id": "6e41ec2a-978b-4c26-9973-ebcb6d2d9820",
   "metadata": {},
   "outputs": [],
   "source": []
  }
 ],
 "metadata": {
  "kernelspec": {
   "display_name": "Python 3 (ipykernel)",
   "language": "python",
   "name": "python3"
  },
  "language_info": {
   "codemirror_mode": {
    "name": "ipython",
    "version": 3
   },
   "file_extension": ".py",
   "mimetype": "text/x-python",
   "name": "python",
   "nbconvert_exporter": "python",
   "pygments_lexer": "ipython3",
   "version": "3.11.5"
  }
 },
 "nbformat": 4,
 "nbformat_minor": 5
}
