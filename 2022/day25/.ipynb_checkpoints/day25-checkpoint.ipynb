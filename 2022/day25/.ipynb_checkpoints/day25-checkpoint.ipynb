{
 "cells": [
  {
   "cell_type": "code",
   "execution_count": 3,
   "id": "513d5472-5219-4077-9b45-41dfdd5a0280",
   "metadata": {},
   "outputs": [
    {
     "name": "stdout",
     "output_type": "stream",
     "text": [
      "29541007400367\n",
      "Part 1: 2=--=0000-1-0-=1=0=2\n"
     ]
    }
   ],
   "source": [
    "#Part 1\n",
    "INPUT=\"input.txt\"\n",
    "with open(INPUT) as f:\n",
    "    imp=f.read().splitlines()\n",
    "    imp=[list(x) for x in imp]\n",
    "totalsumm=0\n",
    "for number in imp:\n",
    "    l=len(number)-1\n",
    "    summ=0\n",
    "    for i,digit in enumerate(number):\n",
    "        d=-1 if digit==\"-\" else -2 if digit==\"=\" else int(digit)\n",
    "        summ+= d* (5**(l-i) )        \n",
    "    totalsumm+=summ\n",
    "print(totalsumm)\n",
    "silver=\"\"\n",
    "while totalsumm > 0:\n",
    "    remainder = totalsumm % 5 \n",
    "    remainder-=5 if remainder>2 else 0\n",
    "    totalsumm-=remainder\n",
    "    totalsumm = totalsumm // 5\n",
    "    remainder= \"-\" if remainder==-1 else \"=\" if remainder==-2 else str(remainder)\n",
    "    silver = remainder + silver\n",
    "print(\"Part 1:\", silver)\n"
   ]
  }
 ],
 "metadata": {
  "kernelspec": {
   "display_name": "Python 3 (ipykernel)",
   "language": "python",
   "name": "python3"
  },
  "language_info": {
   "codemirror_mode": {
    "name": "ipython",
    "version": 3
   },
   "file_extension": ".py",
   "mimetype": "text/x-python",
   "name": "python",
   "nbconvert_exporter": "python",
   "pygments_lexer": "ipython3",
   "version": "3.11.5"
  }
 },
 "nbformat": 4,
 "nbformat_minor": 5
}
