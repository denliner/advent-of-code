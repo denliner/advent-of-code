{
 "cells": [
  {
   "cell_type": "code",
   "execution_count": 34,
   "id": "7369911d-b729-4c5b-8909-690a31ad6f64",
   "metadata": {},
   "outputs": [
    {
     "name": "stdout",
     "output_type": "stream",
     "text": [
      "Part 1: 85616733059734.0\n",
      "Part 2 check pppw value: 21766407157323.0 pppw>sjmn= False   \n"
     ]
    },
    {
     "data": {
      "text/plain": [
       "True"
      ]
     },
     "execution_count": 34,
     "metadata": {},
     "output_type": "execute_result"
    }
   ],
   "source": [
    "# Only give Part 1 anwser\n",
    "# I manually solved though binary search\n",
    "# considering that pppw value decrease when we increase the input value\n",
    "# and sjmn stay the same\n",
    "# so I modified getRoot to so that this function also act as a binary search checker (getRoot2)\n",
    "\n",
    "INPUT=\"input.txt\"\n",
    "from collections import defaultdict\n",
    "with open(INPUT) as f:\n",
    "    imp=f.read().splitlines()\n",
    "    imp=[x.split(\": \") for x in imp]\n",
    "\n",
    "dictt=defaultdict(dict)\n",
    "for elem in imp:\n",
    "    name=elem[0]\n",
    "    eqStr=elem[1]\n",
    "    liste=eqStr.split(\" \")\n",
    "    if(len(liste)==1):\n",
    "        liste=[int(liste[0])]\n",
    "    dictt[name]={\"string\":eqStr,\"list\":liste }\n",
    "    \n",
    "def getRoot(dictt,elem,hp):\n",
    "    if(elem==\"humn\"):\n",
    "        global humanPath\n",
    "        humanPath=hp\n",
    "    if(len(dictt[elem][\"list\"])==1):\n",
    "        return dictt[elem][\"list\"][0]\n",
    "    first= getRoot(dictt,dictt[elem][\"list\"][0],hp+[elem])\n",
    "    second= getRoot(dictt,dictt[elem][\"list\"][2],hp+[elem])\n",
    " #   print(second)\n",
    "    operand=dictt[elem][\"list\"][1]\n",
    "    return eval(\"first \"+operand+\" second\")\n",
    "\n",
    "humanPath=[]\n",
    "\n",
    "def getRootP2(dictt,elem,humn):\n",
    "    if(elem==\"humn\"):\n",
    "        return humn\n",
    "    if(len(dictt[elem][\"list\"])==1):\n",
    "        return dictt[elem][\"list\"][0]\n",
    "    if(elem==\"root\"):\n",
    "        first= getRootP2(dictt,dictt[elem][\"list\"][0],humn)\n",
    "        second= getRootP2(dictt,dictt[elem][\"list\"][2],humn)\n",
    "        print(\"Part 2 check pppw value:\",first,\"pppw>sjmn=\",first>second,\"  \")\n",
    "        return first==second\n",
    "    first= getRootP2(dictt,dictt[elem][\"list\"][0],humn)\n",
    "    second= getRootP2(dictt,dictt[elem][\"list\"][2],humn)\n",
    "    operand=dictt[elem][\"list\"][1]\n",
    "    return eval(\"first \"+operand+\" second\")\n",
    "\n",
    "\n",
    "print(\"Part 1:\",getRoot(dictt,\"root\",[]))\n",
    "humanPath\n",
    "part2Sol=(pow(10,12))*3+(pow(10,11))*5+(pow(10,10))*6+(pow(10,8))*3+(pow(10,7))*2+(pow(10,6))*4+(pow(10,5))*8+(pow(10,4))*4+(pow(10,3))*8+(pow(10,2))*1+(pow(10,1))*6+(pow(10,0))*8  #my awnser \n",
    "getRootP2(dictt,\"root\",part2Sol)\n",
    "\n"
   ]
  }
 ],
 "metadata": {
  "kernelspec": {
   "display_name": "Python 3 (ipykernel)",
   "language": "python",
   "name": "python3"
  },
  "language_info": {
   "codemirror_mode": {
    "name": "ipython",
    "version": 3
   },
   "file_extension": ".py",
   "mimetype": "text/x-python",
   "name": "python",
   "nbconvert_exporter": "python",
   "pygments_lexer": "ipython3",
   "version": "3.11.5"
  }
 },
 "nbformat": 4,
 "nbformat_minor": 5
}
