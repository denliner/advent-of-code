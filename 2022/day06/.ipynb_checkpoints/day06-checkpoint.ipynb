{
 "cells": [
  {
   "cell_type": "code",
   "execution_count": null,
   "id": "334f1db3-0f8d-4714-b5d7-f31cfd09953b",
   "metadata": {},
   "outputs": [
    {
     "name": "stdout",
     "output_type": "stream",
     "text": [
      "CPU times: user 16.6 s, sys: 271 µs, total: 16.6 s\n",
      "Wall time: 16.6 s\n",
      "silver:  85760445   gold:  91845017\n"
     ]
    }
   ],
   "source": [
    "example1=\"mjqjpqmgbljsphdztnvjfqwrcgsmlb\"\n",
    "example2=\"bvwbjplbgvbhsrlpgdmjqwftvncz\"\n",
    "example3=\"nznrnfrfntjfmvfwmzdfjlvtqnbhcprsg\"\n",
    "example4=\"zcfzfwzzqfrljwzlrfnpqdbhtmscgvjw\"\n",
    "import cProfile\n",
    "from collections import deque\n",
    "\n",
    "def day06(INPUT):\n",
    "    queue= deque()\n",
    "    part2=False\n",
    "    Silver,Gold= None,None\n",
    "    for i,elem in enumerate(INPUT):\n",
    "        if(elem in queue):\n",
    "            while elem in queue:\n",
    "                queue.popleft()\n",
    "        queue.append(elem)\n",
    "        if(not part2):\n",
    "            if(len(queue)>=4):\n",
    "                Silver=i+1\n",
    "                part2=True\n",
    "        else:\n",
    "            if(len(queue)>=14):\n",
    "                Gold=i+1\n",
    "                break\n",
    "    return Silver,Gold\n",
    "\n",
    "with open(\"bigboy.txt\") as f:\n",
    "    INPUT=f.read().strip()\n",
    "%time Silver, Gold = day06(INPUT)\n",
    "print(\"silver: \",Silver,\"  gold: \",Gold)\n"
   ]
  }
 ],
 "metadata": {
  "kernelspec": {
   "display_name": "Python 3 (ipykernel)",
   "language": "python",
   "name": "python3"
  },
  "language_info": {
   "codemirror_mode": {
    "name": "ipython",
    "version": 3
   },
   "file_extension": ".py",
   "mimetype": "text/x-python",
   "name": "python",
   "nbconvert_exporter": "python",
   "pygments_lexer": "ipython3",
   "version": "3.10.8"
  }
 },
 "nbformat": 4,
 "nbformat_minor": 5
}
