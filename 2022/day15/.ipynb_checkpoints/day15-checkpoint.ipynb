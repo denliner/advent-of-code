{
 "cells": [
  {
   "cell_type": "code",
   "execution_count": 4,
   "id": "fa89e466-469a-4fee-b05b-ade2857d6aa1",
   "metadata": {},
   "outputs": [
    {
     "name": "stdout",
     "output_type": "stream",
     "text": [
      "Part 1: 4984494\n",
      "Part 2:  12977110973564\n"
     ]
    }
   ],
   "source": [
    "import re\n",
    "INPUT=\"input.txt\"\n",
    "def distance(A,B):\n",
    "     return sum((abs(x - y) for x,y in zip(A,B)))\n",
    "\n",
    "\n",
    "\n",
    "def getBlock(rangeList):\n",
    "    impossible={}\n",
    "    for x,y in rangeList:\n",
    "        for i in range(x,y):\n",
    "            impossible[i]=True\n",
    "    return impossible\n",
    "\n",
    "def fuseRange(rangeList):\n",
    "    merged=[]\n",
    "    sort=sorted(rangeList)\n",
    "    merged=[sort[0]]\n",
    "    for x,y in sort[1:]:\n",
    "        if(x>merged[-1][1]):\n",
    "            merged.append((x,y))\n",
    "        else:\n",
    "            copy=merged[-1]\n",
    "            merged[-1]= (copy[0], max(copy[1],y) )\n",
    "            \n",
    "    return merged\n",
    "\n",
    "\n",
    "def sensorArea(shortDict,n,minimum, maximum,part1):\n",
    "    rangeList=[]\n",
    "    for x,y in shortDict.keys():\n",
    "        dist=distance((x,y),shortDict[(x,y)])\n",
    "        distanceCheck=abs(y-n)\n",
    "        if(not distanceCheck>dist):\n",
    "            width = dist - distanceCheck\n",
    "            minn= max(x - width,minimum)\n",
    "            maxx = min(x + width,maximum)\n",
    "            rangeList.append((minn,maxx))\n",
    "            #if(part1):\n",
    "            #    print(len(rangeList))\n",
    "    if(part1):\n",
    "        impossible=getBlock(rangeList)     \n",
    "      #  print(\"get\")\n",
    "    else: \n",
    "        impossible =[]\n",
    "    \n",
    "    return impossible,rangeList\n",
    "\n",
    "with open(INPUT) as f:\n",
    "    imp=f.read().splitlines()\n",
    "    imp= [ list(map(int,re.findall(\"[-]?[0-9]+\",x))) for x in imp]\n",
    "\n",
    "\n",
    "shortDict={(x,y): (z,zz) for x,y,z,zz in imp }\n",
    "part1Line=10\n",
    "part1=len(sensorArea(shortDict,part1Line,float(\"-inf\"),float(\"inf\"),True)[0].keys())\n",
    "print(\"Part 1:\",part1)\n",
    "k=4000000\n",
    "upper=k\n",
    "lower=0\n",
    "for i in range(lower,upper+1):\n",
    "    _ , elem = sensorArea(shortDict,i,lower,upper,False)\n",
    "    rangeElem=fuseRange(elem) if elem else []\n",
    "    if(len(rangeElem)==2):\n",
    "        print(\"Part 2: \" ,((rangeElem[0][1]+1)*k)+i)\n",
    "        break\n"
   ]
  },
  {
   "cell_type": "code",
   "execution_count": 25,
   "id": "f904b2c0-7bc5-4e63-ac55-655569495c40",
   "metadata": {},
   "outputs": [
    {
     "data": {
      "text/plain": [
       "[(2, 4)]"
      ]
     },
     "execution_count": 25,
     "metadata": {},
     "output_type": "execute_result"
    }
   ],
   "source": [
    "\n",
    "3 - 1\n",
    "\n",
    "2\n",
    "2\n",
    "\n",
    "[(2,4),(3,5)]\n",
    "[(2,4)]\n",
    "(3,5)>"
   ]
  },
  {
   "cell_type": "code",
   "execution_count": null,
   "id": "e5714907-2554-4c2a-b937-52424c273124",
   "metadata": {},
   "outputs": [],
   "source": [
    "A = (8,7)\n",
    "B = (2,10)\n",
    "len(\"##########################\")\n",
    "-2--2"
   ]
  },
  {
   "cell_type": "code",
   "execution_count": null,
   "id": "628d20b5-3e37-42e5-bfc3-a2bc4c0cbe15",
   "metadata": {},
   "outputs": [],
   "source": [
    "n = 9\n",
    "\n",
    "for x in range(1, (n+5) //2 + 1):\n",
    "    for y in range( (n+5) //2 - x):\n",
    "        print(\" \", end = \"\")\n",
    "    for z in range( (x*2)-1 ):\n",
    "        print(\"*\", end = \"\")\n",
    "    print()\n",
    "\n",
    "for x in range( (n+5)// 2 + 1, n + 5):\n",
    "    for y in range(x - (n+5) //2):\n",
    "        print(\" \", end = \"\")\n",
    "    for z in range( (n+5 - x) *2 - 1):\n",
    "        print(\"*\", end = \"\")\n",
    "    print()\n",
    "    \n",
    "    \n",
    "print(n*2+1)"
   ]
  },
  {
   "cell_type": "code",
   "execution_count": null,
   "id": "7770ab75-fb39-4e16-a696-d507912832b0",
   "metadata": {},
   "outputs": [],
   "source": [
    "      *\n",
    "     ***\n",
    "    *****\n",
    "   *******\n",
    "  *********\n",
    " ***********\n",
    "*************\n",
    " ***********\n",
    "  *********\n",
    "   *******\n",
    "    *****\n",
    "     ***\n",
    "      *\n",
    "\n"
   ]
  }
 ],
 "metadata": {
  "kernelspec": {
   "display_name": "Python 3 (ipykernel)",
   "language": "python",
   "name": "python3"
  },
  "language_info": {
   "codemirror_mode": {
    "name": "ipython",
    "version": 3
   },
   "file_extension": ".py",
   "mimetype": "text/x-python",
   "name": "python",
   "nbconvert_exporter": "python",
   "pygments_lexer": "ipython3",
   "version": "3.11.5"
  }
 },
 "nbformat": 4,
 "nbformat_minor": 5
}
