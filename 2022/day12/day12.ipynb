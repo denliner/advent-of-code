{
 "cells": [
  {
   "cell_type": "code",
   "execution_count": 1,
   "id": "b7748efd-82f3-4eb2-a857-bbd8e55189fb",
   "metadata": {},
   "outputs": [
    {
     "name": "stdout",
     "output_type": "stream",
     "text": [
      "[20, 138]\n",
      "534\n",
      "525\n",
      "CPU times: user 4.64 s, sys: 0 ns, total: 4.64 s\n",
      "Wall time: 4.64 s\n"
     ]
    }
   ],
   "source": [
    "INPUT=\"input.txt\"\n",
    "import json\n",
    "import heapq\n",
    "import cProfile\n",
    "from copy import deepcopy\n",
    "from collections import defaultdict,deque\n",
    "from queue import PriorityQueue\n",
    "#nDirection= [[1,0],[-1,0],[0,1],[0,-1],[1,1],[-1,-1],[-1,1],[1,-1]]\n",
    "nDirection= [[1,0],[-1,0],[0,1],[0,-1]]\n",
    "\n",
    "def getNeigh(position,sizes):\n",
    "    n=[]\n",
    "    for i in nDirection:\n",
    "        nPosition=[ position[0]+i[0],position[1]+i[1]]\n",
    "        if(0<=nPosition[0]<sizes[0] and 0<=nPosition[1]<sizes[1]):\n",
    "            n.append([ position[0]+i[0],position[1]+i[1]])\n",
    "    return n\n",
    "\n",
    "def getGraph(imp,sizes):\n",
    "    graph= defaultdict(list)\n",
    "    z=\"\"\n",
    "    start=\"\"\n",
    "    a=[]\n",
    "    for i,line in enumerate(imp):\n",
    "        for j,n in enumerate(line):\n",
    "            neigh=getNeigh([i,j],sizes)\n",
    "            graph[str([i,j])]=[]\n",
    "            if n=='S' or n=='a':\n",
    "                a.append(str([i,j]))\n",
    "                current='a'\n",
    "            else:\n",
    "                current=n\n",
    "            for indices in neigh:\n",
    "                elem=imp[indices[0]][indices[1]]\n",
    "                match elem:\n",
    "                    case \"S\":\n",
    "                        start=str([indices[0],indices[1]])\n",
    "                        continue\n",
    "                    case \"E\":\n",
    "                        if(n==\"z\"):\n",
    "                            graph[str([i,j])].append(str(indices))\n",
    "                            z=str([indices[0],indices[1]])\n",
    "                            graph[z]=[]\n",
    "                    case _:\n",
    "                        if(ord(elem)-ord(current)<2):\n",
    "                            graph[str([i,j])].append(str(indices))\n",
    "    return graph,start,z,a\n",
    "\n",
    "def DJiks(graph,begining,end,indexDict):\n",
    "    distance={}\n",
    "    endIndex=json.loads(end)\n",
    "    visited= set()\n",
    "    queue= []\n",
    "    for elem in graph.keys():\n",
    "        distance[elem]=float(\"inf\")\n",
    "    distance[begining]=0\n",
    "    distance[end]=float(\"inf\")\n",
    "    heapq.heappush(queue,(0,begining) )\n",
    "    while(queue):\n",
    "        #print(\"\\ncheck pop1 \",queue)\n",
    "        (_,current)=heapq.heappop(queue)\n",
    "        if current==end:\n",
    "            return distance[end]\n",
    "        #print(\"check pop2 \",queue)\n",
    "        #print(nonVisited[current])\n",
    "        #print(\"\\n\\n\",current,graph[current])\n",
    "        #queueList=[]\n",
    "        #for i in range(len(queue.queue)):\n",
    "        #    queueList.append(queue.queue[i][1])\n",
    "\n",
    "        for elem in graph[current]:\n",
    "           # print(\"coucou\")\n",
    "            dist=distance[current] +1\n",
    "            elemIndex=indexDict[elem]\n",
    "            if(dist<distance[elem]):\n",
    "                weighted= dist + (abs(endIndex[0] - elemIndex[0]) +  abs(endIndex[1] - elemIndex[1]))\n",
    "                distance[elem]=dist\n",
    "                if(not elem in visited):\n",
    "                    heapq.heappush(queue,(weighted,elem))\n",
    "                    visited.add(elem)\n",
    "    return float(\"inf\")\n",
    "            \n",
    "    \n",
    "with open(INPUT) as f:\n",
    "    imp=f.read().splitlines()\n",
    "    imp= [list(x) for x in imp]\n",
    "sizes=[len(imp),len(imp[0])]\n",
    "#getNeigh([0,0],sizes)\n",
    "graph,start,z,a=getGraph(imp,sizes)\n",
    "indexDict={}\n",
    "for key in graph:\n",
    "    indexDict[key]=json.loads(key)\n",
    "print(z)\n",
    "#print(graph[str([1,1])],z)\n",
    "result=DJiks(graph,start,z,indexDict)\n",
    "goldResult=float(\"inf\")\n",
    "#for elem in a:\n",
    "#cProfile.run('DJiks(graph,start,z,indexDict)')\n",
    "print(result)\n",
    "%time print(min(DJiks(graph,elem,z,indexDict) for elem in a))\n",
    "    # if possible[z]<goldResult:\n",
    "    #     goldResult=possible[z]\n",
    "        \n",
    "# result[z],goldResult\n",
    "#imp2=deepcopy(imp)\n",
    "#for i,line in enumerate(imp):\n",
    "#    for j,n in enumerate(line):\n",
    "#        imp2[i][j]=result[str([i,j])]\n"
   ]
  },
  {
   "cell_type": "code",
   "execution_count": 92,
   "id": "6f78c39e-3699-4319-89c9-f5e1fb59e3d0",
   "metadata": {},
   "outputs": [
    {
     "data": {
      "text/plain": [
       "(-1, '`')"
      ]
     },
     "execution_count": 92,
     "metadata": {},
     "output_type": "execute_result"
    }
   ],
   "source": [
    "ord(\"a\")-ord(\"b\"),chr(96)"
   ]
  },
  {
   "cell_type": "code",
   "execution_count": 130,
   "id": "826a9497-7941-4d46-a64f-00a8aa0c0d31",
   "metadata": {},
   "outputs": [
    {
     "data": {
      "text/plain": [
       "['[2, 6]']"
      ]
     },
     "execution_count": 130,
     "metadata": {},
     "output_type": "execute_result"
    }
   ],
   "source": [
    "graph[str([2,5])]"
   ]
  },
  {
   "cell_type": "code",
   "execution_count": 144,
   "id": "495fbe74-bea9-4e75-9c4f-750f0c3bae63",
   "metadata": {},
   "outputs": [
    {
     "data": {
      "text/plain": [
       "False"
      ]
     },
     "execution_count": 144,
     "metadata": {},
     "output_type": "execute_result"
    }
   ],
   "source": [
    "\"e\"==\"E\""
   ]
  },
  {
   "cell_type": "code",
   "execution_count": null,
   "id": "0bdeff2e-b9ba-455a-b9b3-5dc1ec0df937",
   "metadata": {},
   "outputs": [],
   "source": []
  }
 ],
 "metadata": {
  "kernelspec": {
   "display_name": "Python 3 (ipykernel)",
   "language": "python",
   "name": "python3"
  },
  "language_info": {
   "codemirror_mode": {
    "name": "ipython",
    "version": 3
   },
   "file_extension": ".py",
   "mimetype": "text/x-python",
   "name": "python",
   "nbconvert_exporter": "python",
   "pygments_lexer": "ipython3",
   "version": "3.11.5"
  }
 },
 "nbformat": 4,
 "nbformat_minor": 5
}
