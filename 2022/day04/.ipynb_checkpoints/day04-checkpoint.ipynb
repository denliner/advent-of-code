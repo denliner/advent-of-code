{
 "cells": [
  {
   "cell_type": "code",
   "execution_count": 1,
   "id": "22a15eac-a1fc-4a26-86c7-de75785be20e",
   "metadata": {},
   "outputs": [
    {
     "name": "stdout",
     "output_type": "stream",
     "text": [
      "silver:  466 \tGold: 865\n"
     ]
    }
   ],
   "source": [
    "INPUT=\"input.txt\"\n",
    "\n",
    "def day04(imp):\n",
    "    containt,inter =0,0\n",
    "    for elem in imp:\n",
    "        elf1,elf2 = elem\n",
    "        if(elf1 & elf2):\n",
    "            inter+=1 \n",
    "            if(elf1 <= elf2 or elf1 >= elf2):\n",
    "                containt+=1\n",
    "    print(\"silver: \",containt,\"\\tGold:\",inter)\n",
    "    \n",
    "with open(INPUT) as f:\n",
    "    imp= f.read().splitlines()\n",
    "    imp= [x.split(\",\") for x in imp]\n",
    "    imp= [[y.split(\"-\") for y in x] for x in imp]\n",
    "    imp= [[set(range(int(y[0]), int(y[1])+1)) for y in x] for x in imp] \n",
    "\n",
    "day04(imp)"
   ]
  },
  {
   "cell_type": "code",
   "execution_count": 26,
   "id": "d7ac73fd-6fa6-4a84-b817-66c6cf9c458e",
   "metadata": {},
   "outputs": [
    {
     "data": {
      "text/plain": [
       "False"
      ]
     },
     "execution_count": 26,
     "metadata": {},
     "output_type": "execute_result"
    }
   ],
   "source": []
  },
  {
   "cell_type": "code",
   "execution_count": 2,
   "id": "a1477d31-052b-47f4-a8f1-78c487ea4bbf",
   "metadata": {},
   "outputs": [
    {
     "data": {
      "text/plain": [
       "{0, 1, 2, 3, 4, 5, 6, 7, 8, 9}"
      ]
     },
     "execution_count": 2,
     "metadata": {},
     "output_type": "execute_result"
    }
   ],
   "source": []
  },
  {
   "cell_type": "code",
   "execution_count": 3,
   "id": "f6a060b7-5b1b-4110-9179-f50c0345213d",
   "metadata": {},
   "outputs": [
    {
     "data": {
      "text/plain": [
       "[0.0, 0.5, 1.0, 1.5, 2.0, 2.5, 3.0, 3.5, 4.0, 4.5]"
      ]
     },
     "execution_count": 3,
     "metadata": {},
     "output_type": "execute_result"
    }
   ],
   "source": []
  },
  {
   "cell_type": "code",
   "execution_count": 4,
   "id": "2f711620-54af-44ec-9812-7aa71d0e5ec4",
   "metadata": {},
   "outputs": [
    {
     "data": {
      "text/plain": [
       "float"
      ]
     },
     "execution_count": 4,
     "metadata": {},
     "output_type": "execute_result"
    }
   ],
   "source": []
  },
  {
   "cell_type": "code",
   "execution_count": 8,
   "id": "5555945d-e441-4d2f-8a78-466519624946",
   "metadata": {},
   "outputs": [],
   "source": []
  },
  {
   "cell_type": "code",
   "execution_count": null,
   "id": "5f61f120-b844-4d9a-bb9c-d875b248e47f",
   "metadata": {},
   "outputs": [],
   "source": []
  }
 ],
 "metadata": {
  "kernelspec": {
   "display_name": "Python 3 (ipykernel)",
   "language": "python",
   "name": "python3"
  },
  "language_info": {
   "codemirror_mode": {
    "name": "ipython",
    "version": 3
   },
   "file_extension": ".py",
   "mimetype": "text/x-python",
   "name": "python",
   "nbconvert_exporter": "python",
   "pygments_lexer": "ipython3",
   "version": "3.10.6"
  }
 },
 "nbformat": 4,
 "nbformat_minor": 5
}
