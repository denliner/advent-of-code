{
 "cells": [
  {
   "cell_type": "code",
   "execution_count": 126,
   "id": "6e6b4ce1-cb98-4c66-bb5b-a0134027d526",
   "metadata": {},
   "outputs": [
    {
     "name": "stdout",
     "output_type": "stream",
     "text": [
      "['  Starting items: 99, 63, 76, 93, 54, 73', '  Operation: new = old * 11', '  Test: divisible by 2', '    If true: throw to monkey 7', '    If false: throw to monkey 1']\n",
      "         3544758 function calls in 13.926 seconds\n",
      "\n",
      "   Ordered by: standard name\n",
      "\n",
      "   ncalls  tottime  percall  cumtime  percall filename:lineno(function)\n",
      "        1    0.000    0.000    0.001    0.001 4052113449.py:11(defineMonkey)\n",
      "    80000    4.884    0.000   14.923    0.000 4052113449.py:27(neuronActivation)\n",
      "        1    0.128    0.128   15.052   15.052 4052113449.py:44(day11)\n",
      "        1    0.000    0.000    0.000    0.000 <string>:1(<module>)\n",
      "       48    0.000    0.000    0.001    0.000 re.py:232(findall)\n",
      "       48    0.000    0.000    0.000    0.000 re.py:288(_compile)\n",
      "   866138    5.828    0.000    6.954    0.000 {built-in method builtins.eval}\n",
      "        1    0.000    0.000   15.052   15.052 {built-in method builtins.exec}\n",
      "       48    0.000    0.000    0.000    0.000 {built-in method builtins.isinstance}\n",
      "   866138    1.026    0.000    1.026    0.000 {method 'append' of 'collections.deque' objects}\n",
      "        8    0.000    0.000    0.000    0.000 {method 'append' of 'list' objects}\n",
      "        1    0.000    0.000    0.000    0.000 {method 'disable' of '_lsprof.Profiler' objects}\n",
      "       48    0.000    0.000    0.000    0.000 {method 'findall' of 're.Pattern' objects}\n",
      "   866138    1.046    0.000    1.046    0.000 {method 'join' of 'str' objects}\n",
      "   866138    1.013    0.000    1.013    0.000 {method 'popleft' of 'collections.deque' objects}\n",
      "        1    0.000    0.000    0.000    0.000 {method 'sort' of 'list' objects}\n",
      "\n",
      "\n"
     ]
    }
   ],
   "source": [
    "INPUT=\"input.txt\"\n",
    "import cProfile\n",
    "import re\n",
    "from collections import defaultdict, deque\n",
    "from copy import deepcopy\n",
    "MonkeyDict=defaultdict(dict)\n",
    "with open(INPUT) as f:\n",
    "    imp= f.read().strip().split(\"\\n\"*2)\n",
    "    imp= [x.splitlines()[1:] for x in imp]\n",
    "print(imp[0])\n",
    "def defineMonkey(imp,MonkeyDict):\n",
    "    for i,monke in enumerate(imp):\n",
    "        starting=list(map(int,re.findall('[0-9]+', monke[0])))\n",
    "        operation=re.findall('(?<==).*', monke[1])\n",
    "        operation=re.findall('\\S+', operation[0])\n",
    "        test=list(map(int,re.findall('[0-9]+', monke[2])))[0]\n",
    "        ifTrue=list(map(int,re.findall('[0-9]+', monke[3])))[0]\n",
    "        ifFalse=list(map(int,re.findall('[0-9]+', monke[4])))[0]\n",
    "        MonkeyDict[str(i)][\"start\"]=deque(starting)\n",
    "        MonkeyDict[str(i)][\"ope\"]=operation\n",
    "        MonkeyDict[str(i)][\"test\"]=test\n",
    "        MonkeyDict[str(i)][\"True\"]=ifTrue\n",
    "        MonkeyDict[str(i)][\"False\"]=ifFalse\n",
    "        MonkeyDict[str(i)][\"inspected\"]=0\n",
    "    return MonkeyDict\n",
    "\n",
    "def neuronActivation(monkey,MonkeyDict,part1,commonMod):\n",
    "    worries=monkey[\"start\"]\n",
    "    while(worries):\n",
    "        monkey[\"inspected\"]+=1\n",
    "        old=worries.popleft()\n",
    "        op=\" \".join(monkey[\"ope\"])\n",
    "        newW = eval(op)\n",
    "        newW = newW//3 if part1 else  newW%commonMod\n",
    "        test=monkey[\"test\"]\n",
    "        if(newW%test):\n",
    "            nextMonkey=str(monkey[\"False\"])\n",
    "        else:\n",
    "            nextMonkey=str(monkey[\"True\"])\n",
    "        \n",
    "        MonkeyDict[nextMonkey][\"start\"].append(newW)\n",
    "\n",
    "        \n",
    "def day11(imp):\n",
    "    defineMonkey(imp,MonkeyDict)\n",
    "\n",
    "    commonMod=1\n",
    "\n",
    "    for key in MonkeyDict:\n",
    "        commonMod*=MonkeyDict[key][\"test\"]\n",
    "    for i in range(10000):\n",
    "        for monKey in MonkeyDict:\n",
    "            neuronActivation(MonkeyDict[monKey],MonkeyDict,False,commonMod)\n",
    "    silverList=[]\n",
    "    for monKey in MonkeyDict:\n",
    "        #print(monKey,\"  \",MonkeyDict[monKey][\"start\"],MonkeyDict[monKey][\"inspected\"])\n",
    "        silverList.append(MonkeyDict[monKey][\"inspected\"])\n",
    "\n",
    "    silverList.sort()\n",
    "    return silverList[-1]*silverList[-2]\n",
    "\n",
    "cProfile.run('day11(imp)')"
   ]
  },
  {
   "cell_type": "code",
   "execution_count": 106,
   "id": "aa655b8b-0006-41f6-ac51-5394ee824406",
   "metadata": {},
   "outputs": [
    {
     "data": {
      "text/plain": [
       "0"
      ]
     },
     "execution_count": 106,
     "metadata": {},
     "output_type": "execute_result"
    }
   ],
   "source": [
    "2080%13"
   ]
  },
  {
   "cell_type": "code",
   "execution_count": null,
   "id": "885abfac-578b-454a-b630-0419f436c647",
   "metadata": {},
   "outputs": [],
   "source": [
    "['  Starting items: 99, 63, 76, 93, 54, 73', '  Operation: new = old * 11', '  Test: divisible by 2', '    If true: throw to monkey 7', '    If false: throw to monkey 1']\n",
    "0    deque([2, 2, 2, 2, 2, 2, 2, 2, 2, 2, 2, 2, 2, 2, 2, 2, 2, 2, 2, 2, 2, 2, 2, 2, 2, 2, 2, 2, 2, 2, 2, 2, 2, 2, 2, 2]) 359834\n",
    "1    deque([]) 359798\n",
    "2    deque([]) 359786\n",
    "3    deque([]) 61\n",
    "4    deque([]) 20\n",
    "5    deque([]) 359852\n",
    "6    deque([]) 70\n",
    "7    deque([]) 57"
   ]
  }
 ],
 "metadata": {
  "kernelspec": {
   "display_name": "Python 3 (ipykernel)",
   "language": "python",
   "name": "python3"
  },
  "language_info": {
   "codemirror_mode": {
    "name": "ipython",
    "version": 3
   },
   "file_extension": ".py",
   "mimetype": "text/x-python",
   "name": "python",
   "nbconvert_exporter": "python",
   "pygments_lexer": "ipython3",
   "version": "3.10.8"
  }
 },
 "nbformat": 4,
 "nbformat_minor": 5
}
