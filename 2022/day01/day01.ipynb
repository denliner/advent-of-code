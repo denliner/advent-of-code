{
 "cells": [
  {
   "cell_type": "code",
   "execution_count": 2,
   "id": "eef71414-2ab5-401d-8d44-55efcb43cf89",
   "metadata": {},
   "outputs": [
    {
     "name": "stdout",
     "output_type": "stream",
     "text": [
      "silver:  74394 \tgold:  212836\n"
     ]
    }
   ],
   "source": [
    "from collections import deque\n",
    "\n",
    "INPUT=\"input.txt\"\n",
    "\n",
    "with open(INPUT) as f:\n",
    "    inp=f.read().split(\"\\n\"*2)\n",
    "    inp=  [list(map(int, x.splitlines()))  for x in inp]\n",
    "\n",
    "def day1():\n",
    "    ladder=deque([0,0,0])\n",
    "    for elf in inp:\n",
    "        cal=sum(elf)\n",
    "        if(cal>ladder[0]):\n",
    "            if(cal>ladder[2]):\n",
    "                ladder.popleft()\n",
    "                ladder.append(cal)\n",
    "            elif(cal>ladder[1]):\n",
    "                ladder.popleft()\n",
    "                ladder.insert(1,cal)\n",
    "            else:\n",
    "                ladder.popleft()\n",
    "                ladder.appendleft(cal)\n",
    "    print(\"silver: \",ladder[2] ,\"\\tgold: \", sum(ladder))\n",
    "day1()\n"
   ]
  }
 ],
 "metadata": {
  "kernelspec": {
   "display_name": "Python 3 (ipykernel)",
   "language": "python",
   "name": "python3"
  },
  "language_info": {
   "codemirror_mode": {
    "name": "ipython",
    "version": 3
   },
   "file_extension": ".py",
   "mimetype": "text/x-python",
   "name": "python",
   "nbconvert_exporter": "python",
   "pygments_lexer": "ipython3",
   "version": "3.10.6"
  }
 },
 "nbformat": 4,
 "nbformat_minor": 5
}
