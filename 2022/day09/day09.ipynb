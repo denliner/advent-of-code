{
 "cells": [
  {
   "cell_type": "code",
   "execution_count": 125,
   "id": "763f9907-fb04-43fd-a108-b956517b2f9a",
   "metadata": {},
   "outputs": [
    {
     "data": {
      "text/plain": [
       "(5683, 2372)"
      ]
     },
     "execution_count": 125,
     "metadata": {},
     "output_type": "execute_result"
    }
   ],
   "source": [
    "import ast\n",
    "INPUT=\"input.txt\"\n",
    "visited={}\n",
    "visited2={}\n",
    "\n",
    "direction= {\"U\": [-1,0],\"D\": [1,0],\"L\": [0,-1],\"R\": [0,1]}\n",
    "nDirection= [[1,0],[-1,0],[0,1],[0,-1],[1,1],[-1,-1],[-1,1],[1,-1]]\n",
    "import numpy as np\n",
    "\n",
    "def getNeigh(position):\n",
    "    n=[]\n",
    "    #print('position',position)\n",
    "    for i in nDirection:\n",
    "        n.append([ position[0]+i[0],position[1]+i[1]])\n",
    "    return n\n",
    "\n",
    "\n",
    "def follow(headPos,TailPos):\n",
    "    if(headPos==TailPos):\n",
    "        #print(\"==\")\n",
    "        return headPos,TailPos\n",
    "    headN , tailN = getNeigh(headPos),getNeigh(TailPos)\n",
    "   #print(\"tailN:\", tailN)\n",
    "    if(TailPos in headN):\n",
    "        #print(\"in\")\n",
    "        return headPos,TailPos\n",
    "    intersect= [x for x in headN if x in tailN]\n",
    "    if(intersect):\n",
    "       #print(\"intersect\",intersect)\n",
    "        TailPos=intersect[0]\n",
    "        return headPos,TailPos\n",
    "\n",
    "def move(instruction,headPos,TailPos,visited,tailPart):\n",
    "    for i in instruction:\n",
    "        m= direction[i[0]]\n",
    "        time=i[1]\n",
    "        for j in range(time):\n",
    "            #print(\"before\",headPos,TailPos)\n",
    "           #print(m,headPos)\n",
    "            headPos=[headPos[0]+m[0],headPos[1]+m[1] ]\n",
    "           #print(\"fuck\",m,headPos)\n",
    "            headPos,TailPos=follow(headPos,TailPos)\n",
    "            \n",
    "            if(tailPart):\n",
    "                previous=TailPos\n",
    "                for i,elem in enumerate(tailPart):\n",
    "                  #  print(\"pos\",TailPos)\n",
    "                    previous,tailPart[i]=follow(previous,tailPart[i])\n",
    "                    #visited[str(tailPart[i])]=True\n",
    "                    previous=tailPart[i]\n",
    "                    #print(str(tailPart[i])\n",
    "                visited[str(tailPart[-1])]=True\n",
    "                #print(\"\\n\"*2)\n",
    "                \n",
    "            else:\n",
    "                visited[str(TailPos)]=True\n",
    "           #print(str(TailPos))\n",
    "            #print(headPos,TailPos,\"\\n\"*3)\n",
    "       #print(visited,\"\\n\",i,headPos,TailPos,\"\\n\"*3)\n",
    "    return visited\n",
    "    \n",
    "with open(INPUT) as f:\n",
    "    imp=f.read().splitlines()\n",
    "    imp = [x.split(\" \") for x in imp]\n",
    "\n",
    "for i,x in enumerate(imp):\n",
    "    imp[i][1]=int(imp[i][1])\n",
    "#print(imp)\n",
    "v=move(imp,[9,0],[9,0],visited,[])\n",
    "t=[[9,0] for i in range(8)]\n",
    "v2=move(imp,[9,0],[9,0],visited2,t)\n",
    "\n",
    "len(v.keys()),len(v2.keys())\n",
    "\n",
    "# gh=[[\".\" for i in range(10)] for j in range(10)]\n",
    "# for elem in v.keys():\n",
    "#     pos=ast.literal_eval(elem)\n",
    "#     gh[pos[0]][pos[1]]=\"#\"\n",
    "#print(len(v.keys()))   \n"
   ]
  }
 ],
 "metadata": {
  "kernelspec": {
   "display_name": "Python 3 (ipykernel)",
   "language": "python",
   "name": "python3"
  },
  "language_info": {
   "codemirror_mode": {
    "name": "ipython",
    "version": 3
   },
   "file_extension": ".py",
   "mimetype": "text/x-python",
   "name": "python",
   "nbconvert_exporter": "python",
   "pygments_lexer": "ipython3",
   "version": "3.10.8"
  }
 },
 "nbformat": 4,
 "nbformat_minor": 5
}
