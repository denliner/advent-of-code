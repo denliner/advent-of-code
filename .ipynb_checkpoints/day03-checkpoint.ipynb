{
 "cells": [
  {
   "cell_type": "code",
   "execution_count": 18,
   "id": "46463a56-46c0-4a48-a671-7d132183e350",
   "metadata": {},
   "outputs": [
    {
     "name": "stdout",
     "output_type": "stream",
     "text": [
      "silver:  7428   gold:  2650\n",
      "         378 function calls in 0.002 seconds\n",
      "\n",
      "   Ordered by: standard name\n",
      "\n",
      "   ncalls  tottime  percall  cumtime  percall filename:lineno(function)\n",
      "        1    0.001    0.001    0.002    0.002 1893781865.py:12(day03)\n",
      "        1    0.000    0.000    0.002    0.002 <string>:1(<module>)\n",
      "        1    0.000    0.000    0.000    0.000 iostream.py:202(schedule)\n",
      "        8    0.000    0.000    0.000    0.000 iostream.py:437(_is_master_process)\n",
      "        8    0.000    0.000    0.000    0.000 iostream.py:456(_schedule_flush)\n",
      "        8    0.000    0.000    0.000    0.000 iostream.py:526(write)\n",
      "        1    0.000    0.000    0.000    0.000 iostream.py:90(_event_pipe)\n",
      "        1    0.000    0.000    0.000    0.000 socket.py:545(send)\n",
      "        1    0.000    0.000    0.000    0.000 threading.py:1102(_wait_for_tstate_lock)\n",
      "        1    0.000    0.000    0.000    0.000 threading.py:1169(is_alive)\n",
      "        1    0.000    0.000    0.000    0.000 threading.py:553(is_set)\n",
      "        1    0.000    0.000    0.002    0.002 {built-in method builtins.exec}\n",
      "        8    0.000    0.000    0.000    0.000 {built-in method builtins.isinstance}\n",
      "      309    0.000    0.000    0.000    0.000 {built-in method builtins.len}\n",
      "        1    0.000    0.000    0.000    0.000 {built-in method builtins.print}\n",
      "        8    0.000    0.000    0.000    0.000 {built-in method posix.getpid}\n",
      "        8    0.000    0.000    0.000    0.000 {method '__exit__' of '_thread.RLock' objects}\n",
      "        1    0.000    0.000    0.000    0.000 {method 'acquire' of '_thread.lock' objects}\n",
      "        1    0.000    0.000    0.000    0.000 {method 'append' of 'collections.deque' objects}\n",
      "        1    0.000    0.000    0.000    0.000 {method 'disable' of '_lsprof.Profiler' objects}\n",
      "        8    0.000    0.000    0.000    0.000 {method 'write' of '_io.StringIO' objects}\n",
      "\n",
      "\n"
     ]
    }
   ],
   "source": [
    "INPUT=\"input.txt\"\n",
    "import cProfile\n",
    "import re\n",
    "priority={}\n",
    "for x in range(26):\n",
    "    priority[chr(97+x)]=x+1\n",
    "    priority[chr(65+x)]=x+27\n",
    "    \n",
    "\n",
    "\n",
    "def day03(stacks):\n",
    "    sharedItems,groupItems=[],[]\n",
    "    scoreSilver, scoreGold =0,0\n",
    "    s= len(stacks)\n",
    "    for i in range(0, s,3):\n",
    "        rucksack1,rucksack2,rucksack3 = stacks[i:i+3]\n",
    "        groupItems+=list(set(rucksack1) \n",
    "                         & set(rucksack2) & set(rucksack3))\n",
    "        for rucksack in (rucksack1,rucksack2,rucksack3):\n",
    "            size= len(rucksack)\n",
    "            first, second = rucksack[:size//2],rucksack[size//2:]\n",
    "            sharedItems+=list(set(first) & set(second))\n",
    "    \n",
    "    for elem in sharedItems:\n",
    "        scoreSilver+=priority[elem]\n",
    "    for elem in groupItems:\n",
    "        scoreGold+=priority[elem]\n",
    "    print(\"silver: \",scoreSilver,\"  gold: \",scoreGold)\n",
    "\n",
    "with open(INPUT) as f:\n",
    "    stacks=f.read().splitlines()\n",
    "\n",
    "\n",
    "cProfile.run('day03(stacks)')  \n"
   ]
  }
 ],
 "metadata": {
  "kernelspec": {
   "display_name": "Python 3 (ipykernel)",
   "language": "python",
   "name": "python3"
  },
  "language_info": {
   "codemirror_mode": {
    "name": "ipython",
    "version": 3
   },
   "file_extension": ".py",
   "mimetype": "text/x-python",
   "name": "python",
   "nbconvert_exporter": "python",
   "pygments_lexer": "ipython3",
   "version": "3.11.5"
  }
 },
 "nbformat": 4,
 "nbformat_minor": 5
}
