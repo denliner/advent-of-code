{
 "cells": [
  {
   "cell_type": "code",
   "execution_count": 27,
   "id": "4d0a1d29-b62c-4313-acce-9d2fd668f820",
   "metadata": {},
   "outputs": [
    {
     "data": {
      "text/plain": [
       "(786, 707, 555702)"
      ]
     },
     "execution_count": 27,
     "metadata": {},
     "output_type": "execute_result"
    }
   ],
   "source": [
    "import networkx as nx\n",
    "from copy import deepcopy\n",
    "\n",
    "INPUT=\"input.txt\"\n",
    "grap=nx.Graph()\n",
    "with open(INPUT) as f:\n",
    "    inp=f.read().strip().splitlines()\n",
    "    inp=[x.split(\": \") for x in inp ]\n",
    "    inp=[[x[0],x[1].split(\" \")] for x in inp ]\n",
    "\n",
    "for elem in inp:\n",
    "    k=elem[0]\n",
    "    for elem2 in elem[1]:\n",
    "        grap.add_edge(k,elem2)\n",
    "\n",
    "for edge in nx.minimum_edge_cut(grap):\n",
    "    grap.remove_edge(*edge)\n",
    "\n",
    "connection=list(nx.connected_components(grap))\n",
    "print(len(connection[0]),len(connection[1]),len(connection[0])*len(connection[1]))"
   ]
  },
  {
   "cell_type": "code",
   "execution_count": 17,
   "id": "f0594b04-2fde-42c7-bf7a-978c45098c6f",
   "metadata": {},
   "outputs": [
    {
     "data": {
      "text/plain": [
       "1"
      ]
     },
     "execution_count": 17,
     "metadata": {},
     "output_type": "execute_result"
    }
   ],
   "source": []
  }
 ],
 "metadata": {
  "kernelspec": {
   "display_name": "PyPy3",
   "language": "python",
   "name": "pypy3"
  },
  "language_info": {
   "codemirror_mode": {
    "name": "ipython",
    "version": 3
   },
   "file_extension": ".py",
   "mimetype": "text/x-python",
   "name": "python",
   "nbconvert_exporter": "python",
   "pygments_lexer": "ipython3",
   "version": "3.10.13"
  }
 },
 "nbformat": 4,
 "nbformat_minor": 5
}
