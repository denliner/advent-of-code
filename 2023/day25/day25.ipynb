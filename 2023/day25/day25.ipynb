{
 "cells": [
  {
   "cell_type": "code",
   "execution_count": 34,
   "id": "4d0a1d29-b62c-4313-acce-9d2fd668f820",
   "metadata": {},
   "outputs": [
    {
     "ename": "TypeError",
     "evalue": "minimum_cut() missing 2 required positional arguments: '_s' and '_t'",
     "output_type": "error",
     "traceback": [
      "\u001b[0;31m---------------------------------------------------------------------------\u001b[0m",
      "\u001b[0;31mTypeError\u001b[0m                                 Traceback (most recent call last)",
      "Cell \u001b[0;32mIn[34], line 16\u001b[0m\n\u001b[1;32m     13\u001b[0m     \u001b[38;5;28;01mfor\u001b[39;00m elem2 \u001b[38;5;129;01min\u001b[39;00m elem[\u001b[38;5;241m1\u001b[39m]:\n\u001b[1;32m     14\u001b[0m         grap\u001b[38;5;241m.\u001b[39madd_edge(k,elem2)\n\u001b[0;32m---> 16\u001b[0m nx\u001b[38;5;241m.\u001b[39mminimum_cut(grap)\n",
      "File \u001b[0;32m~/pypy/PyPy3/lib/pypy3.10/site-packages/networkx/utils/backends.py:412\u001b[0m, in \u001b[0;36m_dispatch.__call__\u001b[0;34m(self, backend, *args, **kwargs)\u001b[0m\n\u001b[1;32m    409\u001b[0m \u001b[38;5;28;01mdef\u001b[39;00m \u001b[38;5;21m__call__\u001b[39m(\u001b[38;5;28mself\u001b[39m, \u001b[38;5;241m/\u001b[39m, \u001b[38;5;241m*\u001b[39margs, backend\u001b[38;5;241m=\u001b[39m\u001b[38;5;28;01mNone\u001b[39;00m, \u001b[38;5;241m*\u001b[39m\u001b[38;5;241m*\u001b[39mkwargs):\n\u001b[1;32m    410\u001b[0m     \u001b[38;5;28;01mif\u001b[39;00m \u001b[38;5;129;01mnot\u001b[39;00m backends:\n\u001b[1;32m    411\u001b[0m         \u001b[38;5;66;03m# Fast path if no backends are installed\u001b[39;00m\n\u001b[0;32m--> 412\u001b[0m         \u001b[38;5;28;01mreturn\u001b[39;00m \u001b[38;5;28;43mself\u001b[39;49m\u001b[38;5;241;43m.\u001b[39;49m\u001b[43morig_func\u001b[49m\u001b[43m(\u001b[49m\u001b[38;5;241;43m*\u001b[39;49m\u001b[43margs\u001b[49m\u001b[43m,\u001b[49m\u001b[43m \u001b[49m\u001b[38;5;241;43m*\u001b[39;49m\u001b[38;5;241;43m*\u001b[39;49m\u001b[43mkwargs\u001b[49m\u001b[43m)\u001b[49m\n\u001b[1;32m    414\u001b[0m     \u001b[38;5;66;03m# Use `backend_name` in this function instead of `backend`\u001b[39;00m\n\u001b[1;32m    415\u001b[0m     backend_name \u001b[38;5;241m=\u001b[39m backend\n",
      "\u001b[0;31mTypeError\u001b[0m: minimum_cut() missing 2 required positional arguments: '_s' and '_t'"
     ]
    }
   ],
   "source": [
    "import networkx as nx\n",
    "from copy import deepcopy\n",
    "\n",
    "INPUT=\"input.txt\"\n",
    "grap=nx.Graph()\n",
    "with open(INPUT) as f:\n",
    "    inp=f.read().strip().splitlines()\n",
    "    inp=[x.split(\": \") for x in inp ]\n",
    "    inp=[[x[0],x[1].split(\" \")] for x in inp ]\n",
    "\n",
    "for elem in inp:\n",
    "    k=elem[0]\n",
    "    for elem2 in elem[1]:\n",
    "        grap.add_edge(k,elem2)\n",
    "\n",
    "#nx.minimum_cut(grap)\n",
    "for edge in nx.minimum_edge_cut(grap):\n",
    "    grap.remove_edge(*edge)\n",
    "\n",
    "connection=list(nx.connected_components(grap))\n",
    "print(len(connection[0]),len(connection[1]),len(connection[0])*len(connection[1]))"
   ]
  },
  {
   "cell_type": "code",
   "execution_count": 33,
   "id": "f0594b04-2fde-42c7-bf7a-978c45098c6f",
   "metadata": {},
   "outputs": [
    {
     "data": {
      "text/plain": [
       "[1, 3]"
      ]
     },
     "execution_count": 33,
     "metadata": {},
     "output_type": "execute_result"
    }
   ],
   "source": [
    "df=[1,2,3,4,5,6]\n",
    "import random\n",
    "random.sample(df,2)"
   ]
  }
 ],
 "metadata": {
  "kernelspec": {
   "display_name": "PyPy3",
   "language": "python",
   "name": "pypy3"
  },
  "language_info": {
   "codemirror_mode": {
    "name": "ipython",
    "version": 3
   },
   "file_extension": ".py",
   "mimetype": "text/x-python",
   "name": "python",
   "nbconvert_exporter": "python",
   "pygments_lexer": "ipython3",
   "version": "3.10.13"
  }
 },
 "nbformat": 4,
 "nbformat_minor": 5
}
