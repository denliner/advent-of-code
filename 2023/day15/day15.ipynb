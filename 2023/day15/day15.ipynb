{
 "cells": [
  {
   "cell_type": "code",
   "execution_count": 59,
   "id": "e6e469b7-b841-4ae7-b862-507158ec3598",
   "metadata": {},
   "outputs": [
    {
     "name": "stdout",
     "output_type": "stream",
     "text": [
      "503154 251353\n"
     ]
    }
   ],
   "source": [
    "import re,cProfile\n",
    "from collections import defaultdict\n",
    "from functools import cache\n",
    "reg=\"-?[0-9]+\"\n",
    "INPUT=\"input.txt\"\n",
    "\n",
    "with open(INPUT) as f:\n",
    "    inp=f.read().strip().split(\",\")\n",
    "\n",
    "inp2=[]\n",
    "for elem in inp:\n",
    "    line=[]\n",
    "    if(\"=\" in elem):\n",
    "        temp=elem.split(\"=\")\n",
    "        line=[temp[0],\"=\",int(temp[1]) ]\n",
    "    if(\"-\" in elem):\n",
    "        temp=elem\n",
    "        line=[temp.replace(\"-\",\"\"),\"-\",0]\n",
    "    inp2.append(line)\n",
    "\n",
    "\n",
    "def hash(stri):\n",
    "    val=0\n",
    "    for s in stri:\n",
    "        val+=ord(s)\n",
    "        val*=17\n",
    "        val%=256\n",
    "   # print(val,stri)\n",
    "    return val\n",
    "\n",
    "#def hashMAP(stri,boxes):\n",
    "    \n",
    "summ=0\n",
    "for elem in inp:\n",
    "    summ+=hash(elem)\n",
    "\n",
    "boxes=defaultdict(list)\n",
    "summP2=0\n",
    "for elem in inp2:\n",
    "    boxId=hash(elem[0])\n",
    "    checker=[elem[0] in x for x in boxes[boxId]]\n",
    "    if(elem[1]==\"=\"):\n",
    "        #checker=[elem[0] in x for x in boxes[boxId]]\n",
    "\n",
    "        if(any(checker)):\n",
    "            boxes[boxId][checker.index(True)]=[elem[0],elem[2]]\n",
    "        \n",
    "        else:\n",
    "            boxes[boxId].append([elem[0],elem[2]])\n",
    "        \n",
    "    if(elem[1]==\"-\"):\n",
    "        if(any(checker)):\n",
    "            del boxes[boxId][checker.index(True)]\n",
    "    \n",
    "       \n",
    "for key in boxes:\n",
    "    for i,elem in enumerate(boxes[key]):\n",
    "        summP2+=(key+1)*(i+1)*boxes[key][i][1]\n",
    "        #print(summP2,(key+1)*(i+1)*boxes[key][i][1])\n",
    "\n",
    "print(summ,summP2)"
   ]
  }
 ],
 "metadata": {
  "kernelspec": {
   "display_name": "PyPy3",
   "language": "python",
   "name": "pypy3"
  },
  "language_info": {
   "codemirror_mode": {
    "name": "ipython",
    "version": 3
   },
   "file_extension": ".py",
   "mimetype": "text/x-python",
   "name": "python",
   "nbconvert_exporter": "python",
   "pygments_lexer": "ipython3",
   "version": "3.10.13"
  }
 },
 "nbformat": 4,
 "nbformat_minor": 5
}
