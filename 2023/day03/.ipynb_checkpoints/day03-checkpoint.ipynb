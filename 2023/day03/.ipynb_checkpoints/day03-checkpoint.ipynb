{
 "cells": [
  {
   "cell_type": "code",
   "execution_count": 1,
   "id": "27e71a6a-a578-4a06-93a2-e02d8317a3b3",
   "metadata": {},
   "outputs": [
    {
     "data": {
      "text/plain": [
       "(537832, 81939900)"
      ]
     },
     "execution_count": 1,
     "metadata": {},
     "output_type": "execute_result"
    }
   ],
   "source": [
    "INPUT=\"input.txt\"\n",
    "from collections import defaultdict\n",
    "from math import prod\n",
    "DIRECTION=[(1,0),(0,1),(1,1),(-1,0),\n",
    "           (0,-1),(1,-1),(-1,1),(-1,-1)]\n",
    "\n",
    "gears=defaultdict(list)\n",
    "\n",
    "\n",
    "\n",
    "def checkNeigh(coord,inp):\n",
    "    maxX=len(inp)\n",
    "    maxY=len(inp[0])\n",
    "  #  print(maxX,maxY,coord)\n",
    "    for d in DIRECTION:\n",
    "        newP=(coord[0]+d[0],coord[1]+d[1])\n",
    "        cond=(not 0<=newP[0]<maxX) or (not 0<=newP[1]<maxY)\n",
    "   #     print(newP,cond)\n",
    "        if(cond):\n",
    "            continue\n",
    "        val=inp[newP[0]][newP[1]]\n",
    "        if( (not val.isdigit()) and (not val==\".\")):\n",
    "     #       print(True)\n",
    "            return True\n",
    "    return False\n",
    "\n",
    "def checkGear(coord,inp):\n",
    "    gearList=[]\n",
    "    isPart=False\n",
    "    maxX=len(inp)\n",
    "    maxY=len(inp[0])\n",
    "  #  print(maxX,maxY,coord)\n",
    "    for d in DIRECTION:\n",
    "        newP=(coord[0]+d[0],coord[1]+d[1])\n",
    "        cond=(not 0<=newP[0]<maxX) or (not 0<=newP[1]<maxY)\n",
    "   #     print(newP,cond)\n",
    "        if(cond):\n",
    "            continue\n",
    "        val=inp[newP[0]][newP[1]]\n",
    "        if(val==\"*\"):\n",
    "            gearList.append(newP)\n",
    "            isPart=True\n",
    "    return isPart,gearList\n",
    "    \n",
    "with open(INPUT) as f:\n",
    "    inp=f.read().strip().splitlines()\n",
    "\n",
    "def getNum(inp):\n",
    "    listNum=[]\n",
    "    for x,elem in  enumerate(inp):\n",
    "        cNum=''\n",
    "        gearL=[]\n",
    "        correct=False\n",
    "        isG=False\n",
    "        for y,e in enumerate(elem):\n",
    "            if(not e.isdigit()):\n",
    "                if( (not cNum=='') and correct):\n",
    "                    listNum.append(int(cNum))\n",
    "                    if(gearL):\n",
    "                  #      print(gearL)\n",
    "                        for g in gearL:\n",
    "                            gears[g].append(int(cNum))\n",
    "                \n",
    "                cNum=''\n",
    "                correct=False\n",
    "                gearL=[]\n",
    "                isG=False\n",
    "            else:\n",
    "  #              print(e)\n",
    "                cNum+=e\n",
    "                if(checkNeigh((x,y),inp)):\n",
    "                    correct=True\n",
    "                    if(not isG):\n",
    "                        isPart,listG= checkGear((x,y),inp)\n",
    "                        if(isPart):\n",
    "                            isG=True\n",
    "                            gearL=gearL+listG\n",
    "                        \n",
    "        if( (not cNum=='') and correct):\n",
    "            listNum.append(int(cNum))\n",
    "            for g in gearL:\n",
    "                gears[g].append(int(cNum))\n",
    "    return listNum\n",
    "                \n",
    "                    \n",
    "\n",
    "silver=sum(getNum(inp))\n",
    "#print(inp)\n",
    "gears\n",
    "gold=0\n",
    "for elem in gears:\n",
    "    if(len(gears[elem])>=2):\n",
    "        produc=prod(gears[elem])\n",
    "       # print(type(produc),elem)\n",
    "       # print(produc)\n",
    "        gold+=produc\n",
    "silver,gold"
   ]
  },
  {
   "cell_type": "code",
   "execution_count": 7,
   "id": "77905378-ec2e-45ba-b014-b68b92c2f86a",
   "metadata": {},
   "outputs": [
    {
     "data": {
      "text/plain": [
       "True"
      ]
     },
     "execution_count": 7,
     "metadata": {},
     "output_type": "execute_result"
    }
   ],
   "source": [
    "\"2\".isdigit()"
   ]
  }
 ],
 "metadata": {
  "kernelspec": {
   "display_name": "Python 3 (ipykernel)",
   "language": "python",
   "name": "python3"
  },
  "language_info": {
   "codemirror_mode": {
    "name": "ipython",
    "version": 3
   },
   "file_extension": ".py",
   "mimetype": "text/x-python",
   "name": "python",
   "nbconvert_exporter": "python",
   "pygments_lexer": "ipython3",
   "version": "3.11.6"
  }
 },
 "nbformat": 4,
 "nbformat_minor": 5
}
