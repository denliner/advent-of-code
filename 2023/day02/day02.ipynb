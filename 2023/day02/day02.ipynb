{
 "cells": [
  {
   "cell_type": "code",
   "execution_count": 39,
   "id": "72545d2b-9061-4d1e-ba57-ba03ba8e6ce8",
   "metadata": {},
   "outputs": [
    {
     "data": {
      "text/plain": [
       "(2541, 66016)"
      ]
     },
     "execution_count": 39,
     "metadata": {},
     "output_type": "execute_result"
    }
   ],
   "source": [
    "INPUT=\"input.txt\"\n",
    "from collections import defaultdict\n",
    "import math\n",
    "gamesList=defaultdict(list)\n",
    "# only 12 red cubes, 13 green cubes, and 14 blue cubes\n",
    "\n",
    "MAXRED=12\n",
    "MAXGREEN=13\n",
    "MAXBLUE=14\n",
    "with open(INPUT) as f:\n",
    "    inp=f.read().strip().splitlines()\n",
    "\n",
    "for elem in inp:\n",
    "    inter=elem.split(\": \")\n",
    "    num=inter[0].split(\" \")[1]\n",
    "    subs=inter[1].split(\"; \")\n",
    "    tempArray=[]\n",
    "    for su in subs:\n",
    "        s=su.split(\", \")\n",
    "        subDict={}\n",
    "        for bag in s:\n",
    "            b=bag.split(\" \")\n",
    "            subDict[b[1]]=int(b[0])\n",
    "        tempArray.append(subDict)\n",
    "    gamesList[num]=tempArray\n",
    "\n",
    "winningGame=[]\n",
    "\n",
    "inp2= []\n",
    "inp[0]\n",
    "inter,subs\n",
    "gamesList\n",
    "\n",
    "for elem in gamesList:\n",
    "    losing=False\n",
    "    for sub in gamesList[elem]:\n",
    "        score={\"red\":0,\"green\":0,\"blue\":0}\n",
    "        for bag in sub:\n",
    "            score[bag]=score[bag]+sub[bag]\n",
    "        condition=(score[\"red\"]<=MAXRED and\n",
    "                   score[\"green\"]<=MAXGREEN and \n",
    "                   score[\"blue\"]<=MAXBLUE)\n",
    "        if(not condition):\n",
    "            losing=True\n",
    "    if(not losing):\n",
    "        winningGame.append(int(elem))\n",
    "    #print(score,condition)\n",
    "\n",
    "maxxList=[]\n",
    "for elem in gamesList:\n",
    "    maxx={\"red\":0,\"green\":0,\"blue\":0}\n",
    "    for sub in gamesList[elem]:\n",
    "        for bag in sub:\n",
    "            maxx[bag]=maxx[bag] if sub[bag]<maxx[bag] else sub[bag]\n",
    "\n",
    "   # print(maxx,maxx.values())\n",
    "    maxxList.append(math.prod(maxx.values()) )\n",
    "    #print(score,condition)\n",
    "\n",
    "\n",
    "\n",
    "sum(winningGame),sum(maxxList)"
   ]
  }
 ],
 "metadata": {
  "kernelspec": {
   "display_name": "Python 3 (ipykernel)",
   "language": "python",
   "name": "python3"
  },
  "language_info": {
   "codemirror_mode": {
    "name": "ipython",
    "version": 3
   },
   "file_extension": ".py",
   "mimetype": "text/x-python",
   "name": "python",
   "nbconvert_exporter": "python",
   "pygments_lexer": "ipython3",
   "version": "3.11.6"
  }
 },
 "nbformat": 4,
 "nbformat_minor": 5
}
