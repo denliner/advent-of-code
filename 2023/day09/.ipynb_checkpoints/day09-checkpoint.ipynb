{
 "cells": [
  {
   "cell_type": "code",
   "execution_count": 47,
   "id": "753c3879-4924-4290-b0ae-abf513ce9a7b",
   "metadata": {},
   "outputs": [
    {
     "name": "stdout",
     "output_type": "stream",
     "text": [
      "0\n",
      "3\n",
      "0\n",
      "1\n",
      "1\n",
      "0\n",
      "2\n",
      "-2\n",
      "5\n"
     ]
    },
    {
     "data": {
      "text/plain": [
       "(114, 2)"
      ]
     },
     "execution_count": 47,
     "metadata": {},
     "output_type": "execute_result"
    }
   ],
   "source": [
    "import math,re\n",
    "\n",
    "INPUT=\"example.txt\"\n",
    "reg=\"-?\\d+\"\n",
    "\n",
    "with open(INPUT) as f:\n",
    "    inp=f.read().strip().splitlines()\n",
    "    inp= [ list(map(int, re.findall(reg,x))) for x in inp ]\n",
    "tree\n",
    "def tree(line):\n",
    " #   print(line)\n",
    "    test=line.copy()\n",
    "    previous=[]\n",
    "    l=len(test)\n",
    "    while not test.count(0) == l:\n",
    "        temp=[]\n",
    "        for i in range(l-1):\n",
    "          #  print(i)\n",
    "            temp.append(test[i+1]-test[i])\n",
    "        previous.insert(0,test)\n",
    "       # prevous.\n",
    "        test=temp\n",
    "       # print(test)\n",
    "        l=len(test)\n",
    "    \n",
    "    current=test.copy()\n",
    "  #  print(current,test)\n",
    "    for elem in previous:\n",
    "        firstVal=current[0]\n",
    "        lastVal=current[-1]\n",
    "    #    print(lastVal)\n",
    "        # print(firstVal)\n",
    "        lastVal=elem[-1]+lastVal\n",
    "        firstVal=elem[0]-firstVal\n",
    "        current=elem.copy()\n",
    "        current.append(lastVal)\n",
    "        current.insert(0,firstVal)\n",
    "    return current[-1],current[0]\n",
    "    \n",
    "\n",
    "#test,previous,lastVal\n",
    "summP1,summP2=0,0\n",
    "for elem in inp:\n",
    "    result=tree(elem)\n",
    "    summP1+=result[0]\n",
    "    summP2+=result[1]\n",
    "\n",
    "summP1,summP2"
   ]
  },
  {
   "cell_type": "code",
   "execution_count": 35,
   "id": "90fb0d72-6577-4fc9-8ac5-2b8ec398795c",
   "metadata": {},
   "outputs": [
    {
     "data": {
      "text/plain": [
       "11"
      ]
     },
     "execution_count": 35,
     "metadata": {},
     "output_type": "execute_result"
    }
   ],
   "source": [
    "abs(-5-6)"
   ]
  }
 ],
 "metadata": {
  "kernelspec": {
   "display_name": "PyPy3",
   "language": "python",
   "name": "pypy3"
  },
  "language_info": {
   "codemirror_mode": {
    "name": "ipython",
    "version": 3
   },
   "file_extension": ".py",
   "mimetype": "text/x-python",
   "name": "python",
   "nbconvert_exporter": "python",
   "pygments_lexer": "ipython3",
   "version": "3.10.13"
  }
 },
 "nbformat": 4,
 "nbformat_minor": 5
}
