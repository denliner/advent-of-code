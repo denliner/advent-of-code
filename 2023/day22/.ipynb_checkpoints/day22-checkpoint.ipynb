{
 "cells": [
  {
   "cell_type": "code",
   "execution_count": 58,
   "id": "0cd75431-bc71-465d-8e65-48d7badfe227",
   "metadata": {},
   "outputs": [
    {
     "data": {
      "text/plain": [
       "(522, 83519)"
      ]
     },
     "execution_count": 58,
     "metadata": {},
     "output_type": "execute_result"
    }
   ],
   "source": [
    "import math,re,heapq,operator,sys\n",
    "from copy import deepcopy\n",
    "from itertools import product \n",
    "\n",
    "#from sympy import Point, Line\n",
    "import cProfile\n",
    "reg=\"-?[0-9]+\"\n",
    "from collections import defaultdict,deque\n",
    "\n",
    "INPUT=\"input.txt\"\n",
    "\n",
    "\n",
    "# def intersect(s0,s1):\n",
    "#     l1=Line(*s0)\n",
    "#     l2=Line(*s1)\n",
    "#     inter=l1.intersection(l2)\n",
    "#     if(inter):\n",
    "#         return False\n",
    "#     else:\n",
    "#         return True\n",
    "\n",
    "\n",
    "def is_between(a,c,b):\n",
    "    return math.dist(a,c) + math.dist(c,b) == math.dist(a,b)\n",
    "\n",
    "with open(INPUT) as f:\n",
    "    inp=f.read().strip().splitlines()\n",
    "    inp=[x.split(\"~\") for x in inp]\n",
    "    inp=[ [list(map(int,re.findall(reg,y))) for y in x] for x in inp ]\n",
    "\n",
    "# for line in inp:\n",
    "#     print(int(math.dist(*line) ))\n",
    "lineList=[]\n",
    "for line in inp:\n",
    "    allCubes=[range(x,y+1) if x<y else range(y,x+1) for x,y in zip(line[0],line[1]) ]\n",
    "    allCubes=set( product(*allCubes) )\n",
    "    lineList.append(allCubes)\n",
    "lineList.sort(key=lambda p: min(p,key=lambda x: x[2])[2])\n",
    "support=defaultdict(list)\n",
    "child=defaultdict(list)\n",
    "\n",
    "# def goDown(initCube,sup,completeList):\n",
    "#     par=set()\n",
    "#     first=True\n",
    "#     endIndex=None\n",
    "#     index=deepcopy(initCube)\n",
    "    \n",
    "#     while index[0][2]>1 and index[1][2]>1:\n",
    "#         start= list(map(operator.add, index[0], (0,0,-1)))\n",
    "#         end=list(map(operator.add, index[1], (0,0,-1)))\n",
    "#         #print(sup,initCube)\n",
    "#         if(sup.keys()):\n",
    "#             for c in sup:\n",
    "#                 test=completeList[c]\n",
    "#                 distTest=math.dist(*test)\n",
    "#                 distMain=math.dist(start,end)\n",
    "#                 if(distTest==0 and distMain==0):\n",
    "#                     check=  not (distTest==distMain)\n",
    "#                 elif( (math.dist(*test)==0 ) ):\n",
    "#                     check=is_between(start,test[0],end)\n",
    "#                 elif( (math.dist(start,end)==0 ) ):\n",
    "#                     check=is_between(test[0],start,test[1])\n",
    "\n",
    "#                 else:\n",
    "#                     check=intersect([start,end],completeList[c])\n",
    "#                 if(not check):\n",
    "#                     #print(index,c)\n",
    "#                     par.add(c)\n",
    "#                     if(first):\n",
    "#                         endIndex=[start,end]\n",
    "#                         first=False\n",
    "#         index=[start,end]\n",
    "#     if(par):\n",
    "#         index=endIndex \n",
    "#     return index,par\n",
    "        \n",
    "\n",
    "def goDown(initCube,sup):\n",
    "    i=1\n",
    "    previous={(x,y,z) for x,y,z in initCube }\n",
    "    while True:\n",
    "        currentIndexes={(x,y,z - i) for x,y,z in initCube }\n",
    "        if( any(a == 0 for _,_,a in currentIndexes) or sup & currentIndexes ):\n",
    "            return previous\n",
    "        else:\n",
    "            previous=currentIndexes\n",
    "            i+=1\n",
    "\n",
    "def dropAll(lineListt):\n",
    "    endB=set()\n",
    "    for i,elem in enumerate(lineListt):\n",
    "        newElem=goDown(elem,endB)\n",
    "        lineListt[i]=newElem\n",
    "        endB|= newElem\n",
    "    return lineListt,endB\n",
    "\n",
    "def part1(lineListt):\n",
    "    lineListt,endB=dropAll(lineListt)\n",
    "    silv=0\n",
    "    gold=0\n",
    "    for i,elem in enumerate(lineListt):\n",
    "        deletable=False\n",
    "        endB-=elem\n",
    "        for j,elem2 in enumerate(lineListt):\n",
    "            if(i==j):\n",
    "                continue\n",
    "            endB-=elem2\n",
    "            newDrop=goDown(elem2,endB)\n",
    "            if(not newDrop==elem2 ):\n",
    "                deletable=True\n",
    "                gold+=1\n",
    "            else:\n",
    "                endB|= elem2\n",
    "        silv+= 0 if(deletable) else 1\n",
    "    return silv,gold\n",
    "\n",
    "\n",
    "\n",
    "\n",
    "#    # print(i,parent,ind)\n",
    "#     if(parent):\n",
    "#         for p in parent:\n",
    "#             support[p].append(i)\n",
    "#             child[i].append(p)\n",
    "#     support[i]=[]\n",
    "# len(child.keys()),child,support\n",
    "# summ=0\n",
    "# len(child.keys()),child,support\n",
    "# summ=0\n",
    "# for i,key in enumerate(support):\n",
    "#     if(key in child):\n",
    "#         deletable=True\n",
    "#         for subKey in support[key]:\n",
    "#             if( len(child[subKey])<=1 ):\n",
    "#                 deletable=False\n",
    "#                 break\n",
    "#         if(deletable):\n",
    "#             summ+=1\n",
    "#             for subKey in child:\n",
    "#                 if(key in child[subKey]):\n",
    "#                     child[subKey].remove(key)\n",
    "# summ\n",
    "\n",
    "part1(lineList)\n"
   ]
  },
  {
   "cell_type": "code",
   "execution_count": 21,
   "id": "5083bfa3-54b2-4708-88d1-b5cfa2668eda",
   "metadata": {},
   "outputs": [
    {
     "data": {
      "text/plain": [
       "9.0"
      ]
     },
     "execution_count": 21,
     "metadata": {},
     "output_type": "execute_result"
    }
   ],
   "source": [
    "h=[[0,0,1],[0,0,10]]\n",
    "math.dist(*h)"
   ]
  },
  {
   "cell_type": "code",
   "execution_count": 43,
   "id": "2a4b6b62-c2d8-4f80-896c-3b22a001e410",
   "metadata": {},
   "outputs": [
    {
     "data": {
      "text/plain": [
       "[0, 0, 11]"
      ]
     },
     "execution_count": 43,
     "metadata": {},
     "output_type": "execute_result"
    }
   ],
   "source": [
    "m=[0,0,1]\n",
    "k=[0,0,10]\n",
    "list(map(operator.add, m, k))"
   ]
  },
  {
   "cell_type": "code",
   "execution_count": 10,
   "id": "317e858e-f6cd-42a7-bb0b-20c52af64f0f",
   "metadata": {},
   "outputs": [
    {
     "data": {
      "text/plain": [
       "{2}"
      ]
     },
     "execution_count": 10,
     "metadata": {},
     "output_type": "execute_result"
    }
   ],
   "source": [
    "# #import sympy\n",
    "# #[0,2].remove(1)\n",
    "# from itertools import product \n",
    "# jh=set()\n",
    "# jh.add(2)\n",
    "# jh2 = {2}\n",
    "# jh & jh2\n",
    "# b=[]\n",
    "# for i,elem in enumerate(inp):\n",
    "#     allCubes=[range(x,y+1) if x<y else range(y,x+1) for x,y in zip(elem[0],elem[1]) ]\n",
    "#     b.append(set( product(*allCubes) ) )\n",
    "#     print(set( product(*allCubes) ) )\n",
    "# jh & jh\n",
    "\n",
    "jh=set()\n",
    "jh= jh | {2}\n",
    "jh - {3}\n",
    "jh"
   ]
  },
  {
   "cell_type": "code",
   "execution_count": null,
   "id": "eaee73a3-0299-48b8-bef4-5b6c98575ed5",
   "metadata": {},
   "outputs": [],
   "source": []
  }
 ],
 "metadata": {
  "kernelspec": {
   "display_name": "PyPy3",
   "language": "python",
   "name": "pypy3"
  },
  "language_info": {
   "codemirror_mode": {
    "name": "ipython",
    "version": 3
   },
   "file_extension": ".py",
   "mimetype": "text/x-python",
   "name": "python",
   "nbconvert_exporter": "python",
   "pygments_lexer": "ipython3",
   "version": "3.10.13"
  }
 },
 "nbformat": 4,
 "nbformat_minor": 5
}
