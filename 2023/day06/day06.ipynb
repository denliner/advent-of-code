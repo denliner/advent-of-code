{
 "cells": [
  {
   "cell_type": "code",
   "execution_count": 1,
   "id": "27d6a8f6-0964-4e64-a836-ff6ae4868312",
   "metadata": {},
   "outputs": [
    {
     "name": "stdout",
     "output_type": "stream",
     "text": [
      "         4 function calls in 4.814 seconds\n",
      "\n",
      "   Ordered by: standard name\n",
      "\n",
      "   ncalls  tottime  percall  cumtime  percall filename:lineno(function)\n",
      "        1    4.814    4.814    4.814    4.814 3666042345.py:7(doesItWin)\n",
      "        1    0.000    0.000    4.814    4.814 <string>:1(<module>)\n",
      "        1    0.000    0.000    4.814    4.814 {built-in method builtins.exec}\n",
      "        1    0.000    0.000    0.000    0.000 {method 'disable' of '_lsprof.Profiler' objects}\n",
      "\n",
      "\n"
     ]
    },
    {
     "data": {
      "text/plain": [
       "(252000, None)"
      ]
     },
     "execution_count": 1,
     "metadata": {},
     "output_type": "execute_result"
    }
   ],
   "source": [
    "import re,math,cProfile\n",
    "INPUT=\"input.txt\"\n",
    "reg=\"[0-9]+\"\n",
    "listWay=[]\n",
    "\n",
    "\n",
    "def doesItWin(t,d):\n",
    "    findRange=False\n",
    "    way=0\n",
    "    for i in range(0,d+1):\n",
    "        if((i*(t-i))>d):\n",
    "            way+=1\n",
    "            findRange=True\n",
    "        elif(findRange):\n",
    "            return way\n",
    "    return way\n",
    "\n",
    "with open(INPUT) as f:\n",
    "    inp=f.read().strip().splitlines()\n",
    "\n",
    "\n",
    "time=list(map(int,re.findall(reg,inp[0])))\n",
    "timeP2=int(\"\".join(map(str,time)))\n",
    "distance=list(map(int,re.findall(reg,inp[1])))\n",
    "distanceP2=int(\"\".join(map(str,distance)))\n",
    "\n",
    "for index in range(len(time)):\n",
    "    t=time[index]\n",
    "    d=distance[index]\n",
    "    listWay.append(doesItWin(t,d))\n",
    "\n",
    "\n",
    "math.prod(listWay),cProfile.run('doesItWin(timeP2,distanceP2)')\n"
   ]
  },
  {
   "cell_type": "code",
   "execution_count": null,
   "id": "d5ba6a8c-67ac-40bc-a7b2-e03de213c8bf",
   "metadata": {},
   "outputs": [],
   "source": []
  },
  {
   "cell_type": "code",
   "execution_count": null,
   "id": "8a5feda5-807a-4ea5-b1e8-727a381c73b8",
   "metadata": {},
   "outputs": [],
   "source": []
  }
 ],
 "metadata": {
  "kernelspec": {
   "display_name": "Python 3 (ipykernel)",
   "language": "python",
   "name": "python3"
  },
  "language_info": {
   "codemirror_mode": {
    "name": "ipython",
    "version": 3
   },
   "file_extension": ".py",
   "mimetype": "text/x-python",
   "name": "python",
   "nbconvert_exporter": "python",
   "pygments_lexer": "ipython3",
   "version": "3.11.6"
  }
 },
 "nbformat": 4,
 "nbformat_minor": 5
}
