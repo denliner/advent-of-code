{
 "cells": [
  {
   "cell_type": "code",
   "execution_count": 19,
   "id": "69f5e8f7-e828-49f2-bf7b-5ebed519ea72",
   "metadata": {},
   "outputs": [
    {
     "name": "stdout",
     "output_type": "stream",
     "text": [
      "Silver: 253205868 Gold: 253907829\n"
     ]
    }
   ],
   "source": [
    "import re,math,cProfile\n",
    "from collections import Counter,defaultdict\n",
    "INPUT=\"input.txt\"\n",
    "alphabet= \"AKQJT98765432\"\n",
    "alphabetP2= \"AKQT98765432J\"\n",
    "\n",
    "\n",
    "\n",
    "def handType(hand,P2):\n",
    "    counterr=Counter(hand)\n",
    "    coun=list(Counter(hand).values())\n",
    "    coun.sort(reverse=True)\n",
    "  #  print(coun)\n",
    "    if(P2 and \"J\" in hand):\n",
    "        jL=counterr[\"J\"]\n",
    "        if(len(coun)>1):\n",
    "            coun.remove(jL)\n",
    "        coun[0]+=jL\n",
    "    lenCoun=len(coun)\n",
    "  #  print(lenCoun)\n",
    "    match lenCoun:\n",
    "        case 1:\n",
    "            return 6\n",
    "        case 2:\n",
    "            if(coun[0]==4):\n",
    "                return 5\n",
    "            elif(coun[0]==3):\n",
    "                return 4\n",
    "        case 3:\n",
    "            if(coun[0]==3):\n",
    "                return 3\n",
    "            elif(coun[0]==2):\n",
    "                \n",
    "                if(coun[1]==2):\n",
    "                    return 2\n",
    "                else:\n",
    "                    return 1\n",
    "        case 4:\n",
    "            if(coun[0]==2):\n",
    "                return 1\n",
    "            else:\n",
    "                return 0\n",
    "        case 5:\n",
    "            return 0\n",
    "\n",
    "\n",
    "def day07(handDic,alphab,inp,isP2):\n",
    "    for elem in inp:\n",
    "       # print(elem[0])\n",
    "        ht=handType(elem[0],isP2)\n",
    "        handDic[ht].append(elem[0])\n",
    "        valueDict[elem[0]][\"value\"]=int(elem[1])\n",
    "    \n",
    "    keyL=list(handDic.keys())\n",
    "    keyL.sort()\n",
    "    summ=0\n",
    "    i=1\n",
    "    for key in keyL:\n",
    "        sortHand=sorted(handDic[key],\n",
    "                        key=lambda word: [alphab.index(c) for c in word],\n",
    "                        reverse=True)\n",
    "        for elem in sortHand:\n",
    "            summ+=valueDict[elem][\"value\"]*i\n",
    "            i+=1    \n",
    "    return summ\n",
    "\n",
    "\n",
    "\n",
    "with open(INPUT) as f:\n",
    "    inp=f.read().strip().splitlines()\n",
    "    inp= [x.split(\" \") for x in inp]\n",
    "\n",
    "\n",
    "handDict=defaultdict(list)\n",
    "handDict2=defaultdict(list)\n",
    "\n",
    "valueDict=defaultdict(dict)\n",
    "\n",
    "\n",
    "\n",
    "    \n",
    "print(\"Silver:\", day07(handDict,alphabet,inp,False),\n",
    "      \"Gold:\",day07(handDict2,alphabetP2,inp,True))\n"
   ]
  },
  {
   "cell_type": "code",
   "execution_count": 82,
   "id": "7580d424-9dab-4574-891d-aac744d562fc",
   "metadata": {},
   "outputs": [
    {
     "data": {
      "text/plain": [
       "['KTJJT', 'KK677']"
      ]
     },
     "execution_count": 82,
     "metadata": {},
     "output_type": "execute_result"
    }
   ],
   "source": [
    "d=[\"KK677\" , \"KTJJT\"]\n",
    "d.sort(reverse=True)\n",
    "alphabet= \"AKQJT98765432\"\n",
    "sorted(d, key=lambda word: [alphabet.index(c) for c in word],reverse=True)\n"
   ]
  },
  {
   "cell_type": "code",
   "execution_count": 52,
   "id": "1236ea65-4952-41b5-9e9f-4c775ed0e3f7",
   "metadata": {},
   "outputs": [
    {
     "data": {
      "text/plain": [
       "[1, 3, 2]"
      ]
     },
     "execution_count": 52,
     "metadata": {},
     "output_type": "execute_result"
    }
   ],
   "source": [
    "list(handDict.keys())"
   ]
  },
  {
   "cell_type": "code",
   "execution_count": 87,
   "id": "73695891-8b4d-455b-bb94-f5f0d15e2627",
   "metadata": {},
   "outputs": [
    {
     "data": {
      "text/plain": [
       "0"
      ]
     },
     "execution_count": 87,
     "metadata": {},
     "output_type": "execute_result"
    }
   ],
   "source": [
    "handType(\"367Q4\")"
   ]
  },
  {
   "cell_type": "code",
   "execution_count": 4,
   "id": "6dd8531d-dfba-47d2-8d27-96e38e67ce1d",
   "metadata": {},
   "outputs": [
    {
     "data": {
      "text/plain": [
       "[1, 2]"
      ]
     },
     "execution_count": 4,
     "metadata": {},
     "output_type": "execute_result"
    }
   ],
   "source": [
    "test=list(Counter(\"KTJJT\").values())\n",
    "test.remove(2)\n",
    "test"
   ]
  },
  {
   "cell_type": "code",
   "execution_count": null,
   "id": "0a43718f-8d61-4a72-8ee3-f864e7fd165a",
   "metadata": {},
   "outputs": [],
   "source": [
    "#list(Counter('TTT98').values())\n",
    "\n",
    "# for elem in inp:\n",
    "#    # print(elem[0])\n",
    "#     ht=handType(elem[0],False)\n",
    "#     handDict[ht].append(elem[0])\n",
    "#     valueDict[elem[0]][\"value\"]=int(elem[1])\n",
    "\n",
    "# keyL=list(handDict.keys())\n",
    "# keyL.sort()\n",
    "# summ=0\n",
    "# i=1\n",
    "# for key in keyL:\n",
    "#     sortHand=sorted(handDict[key],\n",
    "#                     key=lambda word: [alphabet.index(c) for c in word],\n",
    "#                     reverse=True)\n",
    "#     for elem in sortHand:\n",
    "#         summ+=valueDict[elem][\"value\"]*i\n",
    "#         i+=1\n",
    "\n",
    "# ##########################################################\n",
    "\n",
    "# for elem in inp:\n",
    "#     ht=handType(elem[0],True)\n",
    "#     handDict2[ht].append(elem[0])\n",
    "\n",
    "# keyL2=list(handDict2.keys())\n",
    "# #print(handDict2)\n",
    "# keyL2.sort()\n",
    "# summ2=0\n",
    "# i=1\n",
    "# for key in keyL2:\n",
    "#     sortHand=sorted(handDict2[key],\n",
    "#                     key=lambda word: [alphabetP2.index(c) for c in word],\n",
    "#                     reverse=True)\n",
    "#     for elem in sortHand:\n",
    "#         summ2+=valueDict[elem][\"value\"]*i\n",
    "#         i+=1"
   ]
  }
 ],
 "metadata": {
  "kernelspec": {
   "display_name": "PyPy3",
   "language": "python",
   "name": "pypy3"
  },
  "language_info": {
   "codemirror_mode": {
    "name": "ipython",
    "version": 3
   },
   "file_extension": ".py",
   "mimetype": "text/x-python",
   "name": "python",
   "nbconvert_exporter": "python",
   "pygments_lexer": "ipython3",
   "version": "3.10.13"
  }
 },
 "nbformat": 4,
 "nbformat_minor": 5
}
