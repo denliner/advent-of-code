{
 "cells": [
  {
   "cell_type": "code",
   "execution_count": 55,
   "id": "b9d9e2bb-7feb-48b2-a442-11b1c25379a4",
   "metadata": {},
   "outputs": [
    {
     "data": {
      "text/plain": [
       "(409898, 113057405770956)"
      ]
     },
     "execution_count": 55,
     "metadata": {},
     "output_type": "execute_result"
    }
   ],
   "source": [
    "import math,re,heapq,operator,sys\n",
    "from copy import deepcopy\n",
    "reg=\"-?[0-9]+\"\n",
    "\n",
    "from collections import defaultdict\n",
    "INPUT=\"input.txt\"\n",
    "indexV={\"x\":0,\"m\":1,\"a\":2,\"s\":3}\n",
    "ex=\"ex{x>10:one,m<20:two,a>30:R,A}\"\n",
    "#inst={}\n",
    "#gridD={}\n",
    "with open(INPUT) as f:\n",
    "    inp=f.read().strip().split(\"\\n\\n\")\n",
    "    inp= [x.splitlines() for x in inp]\n",
    "\n",
    "for i,elem in enumerate(inp[1]):\n",
    "    inp[1][i]=elem.replace(\"{\",\"\").replace(\"}\",\"\")\n",
    "\n",
    "def makeRules(line,dictR):\n",
    "    name,rules=line.replace(\"{\",\"?\").replace(\"}\",\"\").split(\"?\")\n",
    "    r=rules.split(\",\")\n",
    "    r= [e.split(\":\") for e in r]\n",
    "    dictR[name]=r\n",
    "    return dictR\n",
    "\n",
    "dictRules={}\n",
    "for elem in inp[0]:\n",
    "    makeRules(elem,dictRules)\n",
    "dictRules\n",
    "\n",
    "\n",
    "GoodInterval=[]\n",
    "\n",
    "def getInterval(idd,interval,dictR):\n",
    "  #  print(\"id\",idd)\n",
    "    copyInter=deepcopy(interval)\n",
    "    if(idd==\"R\"):\n",
    "        return 0\n",
    "    if(idd==\"A\"):\n",
    "      #  print(copyInter)\n",
    "        if(not copyInter in GoodInterval):\n",
    "            GoodInterval.append(copyInter)\n",
    "            return math.prod(map(lambda elm: elm[1]-elm[0]+1,copyInter ))\n",
    "        else:\n",
    "            return 0\n",
    "    li=dictR[idd]\n",
    "    summ=0\n",
    "    for elem in li:\n",
    "        if(len(elem)==1):\n",
    "            summ+=getInterval(elem[0],copyInter,dictR)\n",
    "           # print(summ)\n",
    "        elif(\"<\" in elem[0]):\n",
    "            e1,e2= elem[0].split(\"<\")\n",
    "            e2=int(e2)\n",
    "            nInter=deepcopy(copyInter)\n",
    "            #rInter=deepcopy(copyInter)\n",
    "            nInter[indexV[e1]][1]=e2-1\n",
    "            #rInter[indexV[e1]][0]=e2\n",
    "            summ+=getInterval(elem[1],nInter,dictR)\n",
    "            copyInter[indexV[e1]][0]=e2\n",
    "           # summ+=getInterval(elem[1],rInter,dictR)\n",
    "        elif(\">\" in elem[0]):\n",
    "            e1,e2= elem[0].split(\">\")\n",
    "            e2=int(e2)\n",
    "            nInter=deepcopy(copyInter)\n",
    "            rInter=deepcopy(copyInter)\n",
    "          #  rInter[indexV[e1]][1]=e2\n",
    "            nInter[indexV[e1]][0]=e2+1\n",
    "            \n",
    "            summ+=getInterval(elem[1],nInter,dictR)\n",
    "            copyInter[indexV[e1]][1]=e2\n",
    "           # summ+=getInterval(elem[1],rInter,dictR)\n",
    "\n",
    "    return summ\n",
    "def checkLine(id,x,m,a,s,dictR,isPart2,interval=[(),(),(),()]):\n",
    "    li=dictR[id]\n",
    "    ind=(x,m,a,s)\n",
    "    # print(\"li\",li)\n",
    "   # print(li)\n",
    "    for elem in li[:-1]:\n",
    "        # print(\"elem\",elem,\"s\",s)\n",
    "        # print(eval(elem[0]))\n",
    "        if(\"<\" in elem[0]):\n",
    "            e1,e2= elem[0].split(\"<\")\n",
    "            if(ind[indexV[e1]]<int(e2)):\n",
    "           # print(\"fuck\",elem[1])\n",
    "                return elem[1]\n",
    "        if(\">\" in elem[0]):\n",
    "            e1,e2= elem[0].split(\">\")\n",
    "            if(ind[indexV[e1]]>int(e2)):\n",
    "           # print(\"fuck\",elem[1])\n",
    "                return elem[1]\n",
    "    return li[-1][0]\n",
    "\n",
    "#checkLine(\"lnx\",787,2655,1222,2876,dictRules)\n",
    "\n",
    "def part1(dictR,inpu):\n",
    "    summ=0\n",
    "    for line in inpu[1]:\n",
    "       # print(\"\\n\\n\")\n",
    "        conv=list(map(int,re.findall(reg,line)))\n",
    "        x,m,a,s=conv[0],conv[1],conv[2],conv[3]\n",
    "        #print(x,m,a,s)\n",
    "        su=sum([x,m,a,s])\n",
    "        idd=\"in\"\n",
    "        while True:\n",
    "        #    print(idd)\n",
    "            check=checkLine(idd,x,m,a,s,dictR,False)\n",
    "           # print(check,idd)\n",
    "            if(check in [\"R\",\"A\"]):\n",
    "                summ+= su if check==\"A\" else 0\n",
    "               # print(line,check)\n",
    "                break\n",
    "            else:\n",
    "                idd=check\n",
    "    return summ\n",
    "\n",
    "part1(dictRules,inp),getInterval('in',[[1,4000],[1,4000],[1,4000],[1,4000]],dictRules)\n",
    "\n",
    "\n"
   ]
  },
  {
   "cell_type": "code",
   "execution_count": 3,
   "id": "864c3085-21bb-4c8b-a545-624b2ba5b753",
   "metadata": {},
   "outputs": [
    {
     "data": {
      "text/plain": [
       "(787, 2655, 1222, 2876)"
      ]
     },
     "execution_count": 3,
     "metadata": {},
     "output_type": "execute_result"
    }
   ],
   "source": [
    "\n",
    "x,m,a,s=0,0,0,0\n",
    "import re\n",
    "reg=\"-?[0-9]+\"\n",
    "ss=\"x=787,m=2655,a=1222,s=2876\"\n",
    "# for el in ss:\n",
    "#     eval(el)\n",
    "# x,m,a,s\n",
    "conv=list(map(int,re.findall(reg,ss)))\n",
    "x=conv[0]\n",
    "m=conv[1]\n",
    "a=conv[2]\n",
    "s=conv[3]\n",
    "x,m,a,s"
   ]
  },
  {
   "cell_type": "code",
   "execution_count": 9,
   "id": "1cb9bab4-33f1-4935-abd6-975111d7cedf",
   "metadata": {},
   "outputs": [
    {
     "data": {
      "text/plain": [
       "[(1, 2), (3, 4), (7, 2)]"
      ]
     },
     "execution_count": 9,
     "metadata": {},
     "output_type": "execute_result"
    }
   ],
   "source": [
    "rg=[(1,2),(3,4),(7,2)]\n",
    "rg"
   ]
  },
  {
   "cell_type": "code",
   "execution_count": 11,
   "id": "b2dae81b-730d-4e85-b882-0ac80082c7af",
   "metadata": {},
   "outputs": [
    {
     "data": {
      "text/plain": [
       "{'px': [['a<2006', 'qkq'], ['m>2090', 'A'], ['rfg']],\n",
       " 'pv': [['a>1716', 'R'], ['A']],\n",
       " 'lnx': [['m>1548', 'A'], ['A']],\n",
       " 'rfg': [['s<537', 'gd'], ['x>2440', 'R'], ['A']],\n",
       " 'qs': [['s>3448', 'A'], ['lnx']],\n",
       " 'qkq': [['x<1416', 'A'], ['crn']],\n",
       " 'crn': [['x>2662', 'A'], ['R']],\n",
       " 'in': [['s<1351', 'px'], ['qqz']],\n",
       " 'qqz': [['s>2770', 'qs'], ['m<1801', 'hdj'], ['R']],\n",
       " 'gd': [['a>3333', 'R'], ['R']],\n",
       " 'hdj': [['m>838', 'A'], ['pv']]}"
      ]
     },
     "execution_count": 11,
     "metadata": {},
     "output_type": "execute_result"
    }
   ],
   "source": [
    "dictRules"
   ]
  },
  {
   "cell_type": "code",
   "execution_count": 21,
   "id": "784907f7-f593-4105-aa96-a27a9097273e",
   "metadata": {},
   "outputs": [
    {
     "data": {
      "text/plain": [
       "(2, [1, 2, 3, 4, 5, 6, 7, 8, 9])"
      ]
     },
     "execution_count": 21,
     "metadata": {},
     "output_type": "execute_result"
    }
   ],
   "source": [
    "hjk=list(range(1,10))\n",
    "\n",
    "hjk[9>1],hjk"
   ]
  }
 ],
 "metadata": {
  "kernelspec": {
   "display_name": "PyPy3",
   "language": "python",
   "name": "pypy3"
  },
  "language_info": {
   "codemirror_mode": {
    "name": "ipython",
    "version": 3
   },
   "file_extension": ".py",
   "mimetype": "text/x-python",
   "name": "python",
   "nbconvert_exporter": "python",
   "pygments_lexer": "ipython3",
   "version": "3.10.13"
  }
 },
 "nbformat": 4,
 "nbformat_minor": 5
}
