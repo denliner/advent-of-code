{
 "cells": [
  {
   "cell_type": "code",
   "execution_count": 36,
   "id": "250b8791-448d-4feb-bfbb-e80bb3caa5e1",
   "metadata": {},
   "outputs": [
    {
     "data": {
      "text/plain": [
       "(16939, 931193307668256)"
      ]
     },
     "execution_count": 36,
     "metadata": {},
     "output_type": "execute_result"
    }
   ],
   "source": [
    "from sympy import symbols, Eq, solve,solve_rational_inequalities, Poly\n",
    "import math,re,operator,sys\n",
    "from itertools import combinations\n",
    "\n",
    "from copy import deepcopy\n",
    "#from sympy import Point, Line\n",
    "import cProfile\n",
    "reg=\"-?[0-9]+\"\n",
    "from collections import defaultdict\n",
    "INPUT=\"input.txt\"\n",
    "\n",
    "with open(INPUT) as f:\n",
    "    inp=f.read().strip().splitlines()\n",
    "    inp= [list(map(int,elem.replace(\"@\",\",\").split(\",\") )) for elem in inp] \n",
    "part1=0\n",
    "if(INPUT==\"input.txt\"):\n",
    "    minn=200000000000000\n",
    "    maxx=400000000000000\n",
    "else:\n",
    "    minn=7\n",
    "    maxx=27    \n",
    "\n",
    "for elem1, elem2 in combinations(inp,2):\n",
    "    x1,y1,z1,vx1,vy1,vz1= elem1\n",
    "    x2,y2,z2,vx2,vy2,vz2= elem2\n",
    "    if(vy1*vx2 == vy2*vx1):\n",
    "        continue\n",
    "    test1=(vy2*(x1-x2) - vx2*(y1-y2))/(vy1*vx2 - vx1*vy2)\n",
    "    test2=(vy1*(x2-x1) - vx1*(y2-y1))/(vy2*vx1 - vx2*vy1)\n",
    "    if(test1>=0 and test2>=0):\n",
    "        xpos=x1+test1*vx1\n",
    "        ypos=y1+test1*vy1\n",
    "        if(minn<=xpos<=maxx and minn<=ypos<=maxx ):\n",
    "            part1+=1\n",
    "part1\n",
    "def p2(particule):\n",
    "    x,y,z = symbols(\"x\", real=True),symbols(\"y\", real=True),symbols(\"z\", real=True)\n",
    "    vx,vy,vz = symbols(\"vx\", real=True),symbols(\"vy\", real=True),symbols(\"vz\", real=True)\n",
    "    s1,s2,s3=   symbols(\"s1\", real=True),symbols(\"s2\", real=True),symbols(\"s3\", real=True)\n",
    "    \n",
    "    \n",
    "    \n",
    "    eqL = [Eq(x + vx * s1, particule[0][0] + particule[0][3] * s1),\n",
    "    Eq(y + vy * s1, particule[0][1] + particule[0][4] * s1),\n",
    "    Eq(z + vz * s1, particule[0][2] + particule[0][5] * s1),\n",
    "    Eq(x + vx * s2, particule[1][0] + particule[1][3] * s2),\n",
    "    Eq(y + vy * s2, particule[1][1] + particule[1][4] * s2),\n",
    "    Eq(z + vz * s2, particule[1][2] + particule[1][5] * s2),\n",
    "    Eq(x + vx * s3, particule[2][0] + particule[2][3] * s3),\n",
    "    Eq(y + vy * s3, particule[2][1] + particule[2][4] * s3),\n",
    "    Eq(z + vz * s3, particule[2][2] + particule[2][5] * s3),\n",
    "    ]\n",
    "    sol=solve(eqL)[0]\n",
    "    return sum([sol[x],sol[y],sol[z]])\n",
    "    \n",
    "gold=p2(inp)\n",
    "part1,int(gold)"
   ]
  },
  {
   "cell_type": "code",
   "execution_count": 32,
   "id": "c15d8da7-f0ff-4038-a032-3e91b57f2061",
   "metadata": {},
   "outputs": [
    {
     "data": {
      "text/latex": [
       "$\\displaystyle 47$"
      ],
      "text/plain": [
       "47"
      ]
     },
     "execution_count": 32,
     "metadata": {},
     "output_type": "execute_result"
    }
   ],
   "source": [
    "19+(-2*14.333),18+(-1*15.333)\n"
   ]
  },
  {
   "cell_type": "code",
   "execution_count": null,
   "id": "447aec92-6d0b-4c6b-9818-81b7f34c167a",
   "metadata": {},
   "outputs": [],
   "source": []
  }
 ],
 "metadata": {
  "kernelspec": {
   "display_name": "PyPy3",
   "language": "python",
   "name": "pypy3"
  },
  "language_info": {
   "codemirror_mode": {
    "name": "ipython",
    "version": 3
   },
   "file_extension": ".py",
   "mimetype": "text/x-python",
   "name": "python",
   "nbconvert_exporter": "python",
   "pygments_lexer": "ipython3",
   "version": "3.10.13"
  }
 },
 "nbformat": 4,
 "nbformat_minor": 5
}
