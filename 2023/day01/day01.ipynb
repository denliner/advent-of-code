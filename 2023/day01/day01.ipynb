{
 "cells": [
  {
   "cell_type": "code",
   "execution_count": 4,
   "id": "b0a82f2f-db81-47a4-bdf2-c3b01e207fef",
   "metadata": {},
   "outputs": [
    {
     "name": "stdout",
     "output_type": "stream",
     "text": [
      "Silver: 53334 \n",
      "Gold: 52834\n"
     ]
    }
   ],
   "source": [
    "INPUT=\"input.txt\"\n",
    "import re\n",
    "matchExpP1=r\"([0-9])\"\n",
    "matchExpP2=r\"(one|two|three|four|five|six|seven|eight|nine|[0-9])\"\n",
    "convertion={\n",
    "    \"one\":\"1\",\n",
    "    \"two\":\"2\",\n",
    "    \"three\":\"3\",\n",
    "    \"four\":\"4\",\n",
    "    \"five\":\"5\",\n",
    "    \"six\":\"6\",\n",
    "    \"seven\":\"7\",\n",
    "    \"eight\":\"8\",\n",
    "    \"nine\":\"9\"\n",
    "}\n",
    "\n",
    "with open(INPUT) as f:\n",
    "    inp=f.read().strip().splitlines()\n",
    "\n",
    "\n",
    "def convertNum(num):\n",
    "    if(num.isdigit()):\n",
    "        return num\n",
    "    else:\n",
    "        return convertion[num]\n",
    "def getSum(inp,matchExp):\n",
    "    summ=0\n",
    "    for line in inp:\n",
    "        listNum=re.findall(matchExp,line)\n",
    "        num=int(convertNum(listNum[0])\n",
    "                +\"\"\n",
    "                +convertNum(listNum[-1]))\n",
    "        summ+=num\n",
    "    return summ\n",
    "\n",
    "\n",
    "\n",
    "print(\"Silver:\",getSum(inp,matchExpP1),\"\\nGold:\",getSum(inp,matchExpP2))\n"
   ]
  }
 ],
 "metadata": {
  "kernelspec": {
   "display_name": "Python 3 (ipykernel)",
   "language": "python",
   "name": "python3"
  },
  "language_info": {
   "codemirror_mode": {
    "name": "ipython",
    "version": 3
   },
   "file_extension": ".py",
   "mimetype": "text/x-python",
   "name": "python",
   "nbconvert_exporter": "python",
   "pygments_lexer": "ipython3",
   "version": "3.11.6"
  }
 },
 "nbformat": 4,
 "nbformat_minor": 5
}
