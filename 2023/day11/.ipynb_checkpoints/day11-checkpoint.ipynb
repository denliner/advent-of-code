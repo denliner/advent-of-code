{
 "cells": [
  {
   "cell_type": "code",
   "execution_count": 83,
   "id": "5e9d075a-65c9-439e-84e0-31a247aa2717",
   "metadata": {},
   "outputs": [
    {
     "data": {
      "text/plain": [
       "731244261352"
      ]
     },
     "execution_count": 83,
     "metadata": {},
     "output_type": "execute_result"
    }
   ],
   "source": [
    "import math,re,heapq,operator,sys\n",
    "from copy import deepcopy\n",
    "\n",
    "from collections import defaultdict\n",
    "INPUT=\"input.txt\"\n",
    "\n",
    "dirr= [(1,0),(-1,0),(0,1),(0,-1),(1,1),(-1,-1),(-1,1),(1,-1)]\n",
    "\n",
    "\n",
    "with open(INPUT) as f:\n",
    "    inp=f.read().strip().splitlines()\n",
    "\n",
    "\n",
    "def checkExpand(x,y,mapp):\n",
    "    vertical=True\n",
    "    for i in range(len(mapp)):\n",
    "        if(mapp[i][y]==\"#\"):\n",
    "            vertical=False\n",
    "            break\n",
    "    # for i in range(len(mapp[0])):\n",
    "    #     if(mapp[x][i]==\"#\"):\n",
    "    #         horizontal=False\n",
    "    #         break   \n",
    "    return vertical\n",
    "\n",
    "def expand(mapp,size):\n",
    "    inpC=[]\n",
    "    for i in range(len(mapp)):\n",
    "        line=[]\n",
    "        for j in range(len(mapp[0])):\n",
    "            if(mapp[i][j]==\".\"):\n",
    "                if(checkExpand(i,j,mapp)):\n",
    "                    for k in range(size):\n",
    "                        line.append(\".\")\n",
    "            line.append(mapp[i][j])\n",
    "        inpC.append(line)\n",
    "        if(all(x==\".\" for x in mapp[i])):\n",
    "            for k in range(size):\n",
    "                inpC.append(line)\n",
    "    return inpC\n",
    "\n",
    "inp2=expand(inp,1)\n",
    "inp3=expand(inp,0)\n",
    "inp4=expand(inp,9)\n",
    "\n",
    "def calDist(inpp):\n",
    "    galaxies={}\n",
    "    for i in range(len(inpp)):\n",
    "        for j in range(len(inpp[0])):\n",
    "            if(inpp[i][j]==\"#\"):\n",
    "                galaxies[(i,j)]={}\n",
    "    \n",
    "    for elem in galaxies:\n",
    "        for e in galaxies:\n",
    "            galaxies[elem][e]=sum(abs(val1-val2) for val1, val2 in zip(elem,e))\n",
    "    \n",
    "    summ=0\n",
    "    visited=set()\n",
    "    for elem in galaxies:\n",
    "        for e in galaxies[elem]:\n",
    "            if(e in visited):\n",
    "                continue\n",
    "            summ+=galaxies[elem][e]\n",
    "        visited.add(elem)\n",
    "    #summ,galaxiesinput\n",
    "    \n",
    "    # for i in inp2:\n",
    "    #     print(''.join(map(str, i)))\n",
    "    return summ\n",
    "\n",
    "silver=calDist(inp2)\n",
    "init=calDist(inp)\n",
    "diff=silver-init\n",
    "summ=init\n",
    "\n",
    "\n",
    "summ+(diff*pow(10,6)-diff)\n",
    "# init=calDist(inp3)\n",
    "# diff=calDist(inp4)-init\n",
    "# silver,diff\n",
    "# summ=init\n",
    "# print(diff)\n",
    "# for i in range(0,6):\n",
    "#     summ+= diff*pow(10,i)\n",
    "#     print(summ,diff,diff*pow(10,i))\n",
    "# summ\n"
   ]
  },
  {
   "cell_type": "code",
   "execution_count": 46,
   "id": "3ef90a1f-8bc4-41e9-8cbf-8283a57b17f3",
   "metadata": {},
   "outputs": [
    {
     "name": "stdout",
     "output_type": "stream",
     "text": [
      "738\n",
      "7380\n",
      "73800\n"
     ]
    }
   ],
   "source": [
    "test=[292,1030,8410,82210]\n",
    "for i in range(len(test)-1):\n",
    "    print(test[i+1]-test[i])"
   ]
  },
  {
   "cell_type": "code",
   "execution_count": 20,
   "id": "6659222e-c6c5-43a9-8af2-b4a81b0f59d1",
   "metadata": {},
   "outputs": [
    {
     "data": {
      "text/plain": [
       "1000000"
      ]
     },
     "execution_count": 20,
     "metadata": {},
     "output_type": "execute_result"
    }
   ],
   "source": [
    "pow(10,6)"
   ]
  },
  {
   "cell_type": "code",
   "execution_count": 81,
   "id": "20c7a741-6bb8-4a19-a40e-8a29418927e4",
   "metadata": {},
   "outputs": [
    {
     "name": "stdout",
     "output_type": "stream",
     "text": [
      "731236 8992588\n"
     ]
    },
    {
     "data": {
      "text/plain": [
       "731244261352"
      ]
     },
     "execution_count": 81,
     "metadata": {},
     "output_type": "execute_result"
    }
   ],
   "source": [
    "# diff=738\n",
    "# summ=292\n",
    "init=calDist(inp)\n",
    "diff=calDist(inp2)-init\n",
    "print(diff,init)\n",
    "summ=init\n",
    "# print(diff)\n",
    "# for i in range(0,7):\n",
    "#     summ+= diff*pow(10,i)\n",
    "#     print(summ,diff,diff*pow(10,i))\n",
    "summ+(diff*pow(10,6)-diff)"
   ]
  },
  {
   "cell_type": "code",
   "execution_count": 48,
   "id": "03460b7d-f4f9-4177-9d38-5b1ce838b1fc",
   "metadata": {},
   "outputs": [
    {
     "data": {
      "text/plain": [
       "1000000"
      ]
     },
     "execution_count": 48,
     "metadata": {},
     "output_type": "execute_result"
    }
   ],
   "source": [
    "pow(10,6)"
   ]
  }
 ],
 "metadata": {
  "kernelspec": {
   "display_name": "PyPy3",
   "language": "python",
   "name": "pypy3"
  },
  "language_info": {
   "codemirror_mode": {
    "name": "ipython",
    "version": 3
   },
   "file_extension": ".py",
   "mimetype": "text/x-python",
   "name": "python",
   "nbconvert_exporter": "python",
   "pygments_lexer": "ipython3",
   "version": "3.10.13"
  }
 },
 "nbformat": 4,
 "nbformat_minor": 5
}
