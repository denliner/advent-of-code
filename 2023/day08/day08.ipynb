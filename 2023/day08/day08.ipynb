{
 "cells": [
  {
   "cell_type": "code",
   "execution_count": 31,
   "id": "2e6c76f1-979b-4b64-878d-bbf3ef3d384b",
   "metadata": {},
   "outputs": [
    {
     "data": {
      "text/plain": [
       "(13019, 13524038372771)"
      ]
     },
     "execution_count": 31,
     "metadata": {},
     "output_type": "execute_result"
    }
   ],
   "source": [
    "import math\n",
    "INPUT=\"input.txt\"\n",
    "translation= { \"L\": 0, \"R\":1 }\n",
    "\n",
    "with open(INPUT) as f:\n",
    "    inp=f.read().strip().split(\"\\n\\n\")\n",
    "    inp[1]=  inp[1].splitlines()\n",
    "\n",
    "startList=[]\n",
    "carte={}\n",
    "for elem in inp[1]:\n",
    "    temp=elem.split(\" = \")\n",
    "    if('A' in temp[0]):\n",
    "        startList.append(temp[0])\n",
    "    dirr=temp[1].replace(\"(\",\"\").replace(\")\",\"\").split(\", \")\n",
    "    carte[temp[0]]=dirr\n",
    "\n",
    "def part1(inp,carte,current):\n",
    "    count=0\n",
    "    maxxI=len(inp[0])\n",
    "    while True:\n",
    "        current=carte[current][translation[inp[0][count%maxxI]]]\n",
    "        count+=1\n",
    "        if(current==\"ZZZ\"):\n",
    "            break\n",
    "    return count\n",
    "\n",
    "def part2Test(inp,carte,current):\n",
    "    count=0\n",
    "    previous=0\n",
    "    maxxI=len(inp[0])\n",
    "    while True:\n",
    "        current=carte[current][translation[inp[0][count%maxxI]]]\n",
    "        count+=1\n",
    "        if(\"Z\" in current):\n",
    "            return count\n",
    "    return count\n",
    "\n",
    "\n",
    "\n",
    "def part2(inp,carte,startList):\n",
    "    countList=[]\n",
    "    for elem in startList:\n",
    "        countList.append(part2Test(inp,carte,elem))\n",
    "    return math.lcm(*countList)\n",
    "\n",
    "\n",
    "\n",
    "\n",
    "part1(inp,carte,\"AAA\"),part2(inp,carte,startList)\n"
   ]
  },
  {
   "cell_type": "code",
   "execution_count": 30,
   "id": "c0c2d737-8e4d-4feb-aebc-812831fede3b",
   "metadata": {},
   "outputs": [
    {
     "ename": "SyntaxError",
     "evalue": "cannot use starred expression here (3834022283.py, line 2)",
     "output_type": "error",
     "traceback": [
      "\u001b[0;36m  Cell \u001b[0;32mIn[30], line 2\u001b[0;36m\u001b[0m\n\u001b[0;31m    *az\u001b[0m\n\u001b[0m    ^\u001b[0m\n\u001b[0;31mSyntaxError\u001b[0m\u001b[0;31m:\u001b[0m cannot use starred expression here\n"
     ]
    }
   ],
   "source": [
    "az=[1,2,3]\n"
   ]
  }
 ],
 "metadata": {
  "kernelspec": {
   "display_name": "PyPy3",
   "language": "python",
   "name": "pypy3"
  },
  "language_info": {
   "codemirror_mode": {
    "name": "ipython",
    "version": 3
   },
   "file_extension": ".py",
   "mimetype": "text/x-python",
   "name": "python",
   "nbconvert_exporter": "python",
   "pygments_lexer": "ipython3",
   "version": "3.10.13"
  }
 },
 "nbformat": 4,
 "nbformat_minor": 5
}
