{
 "cells": [
  {
   "cell_type": "code",
   "execution_count": 74,
   "id": "8339e1a4-392a-43b6-8751-9d02d17c9e1c",
   "metadata": {},
   "outputs": [
    {
     "name": "stdout",
     "output_type": "stream",
     "text": [
      "131 131\n",
      "3703 32712 90559\n"
     ]
    },
    {
     "data": {
      "text/plain": [
       "(3532, 393407039531069.6)"
      ]
     },
     "execution_count": 74,
     "metadata": {},
     "output_type": "execute_result"
    }
   ],
   "source": [
    "import math,re,heapq,operator,sys\n",
    "from copy import deepcopy\n",
    "reg=\"-?[0-9]+\"\n",
    "from collections import defaultdict,deque\n",
    "\n",
    "INPUT=\"input.txt\"\n",
    "dirr= [(1,0),(-1,0),(0,1),(0,-1)]\n",
    "\n",
    "\n",
    "\n",
    "\n",
    "with open(INPUT) as f:\n",
    "    inp=f.read().strip().splitlines()\n",
    "    inp=[list(x) for x in inp]\n",
    "inp\n",
    "gardensDict={}\n",
    "rocksDict={}\n",
    "for i,line in enumerate(inp):\n",
    "    for j,elem in enumerate(line):\n",
    "        if(elem==\"S\"):\n",
    "            gardensDict[(i,j)]=True\n",
    "            inp[i][j]=\".\"\n",
    "        if(elem==\"#\"):\n",
    "            rocksDict[(i,j)]=True\n",
    "inp,gardensDict\n",
    "\n",
    "def turnPGOL(gardens,inp,isP2,modX,modY,rocks,i):\n",
    "    nGardens={}\n",
    "    for key in gardens:\n",
    "        for d in dirr:\n",
    "            nD=tuple(map(sum, zip(key,d )))\n",
    "            x,y=nD\n",
    "            if(isP2):\n",
    "                # if(not (0<=x<modX and 0<=y<modY) ):\n",
    "                #     print(i)\n",
    "                x=x%modX\n",
    "                y=y%modY\n",
    "            if(0<=x<modX and 0<=y<modY):\n",
    "               # print(x,y,modX,modY,0<=x<modX)\n",
    "                if(not (x,y) in rocks):\n",
    "                    nGardens[nD]=True\n",
    "    return nGardens\n",
    "\n",
    "#For P1 only\n",
    "def drawMap(gardens,inp): \n",
    "    nInp=deepcopy(inp)\n",
    "    for key in gardens:\n",
    "        nInp[key[0]][key[1]]=\"O\"\n",
    "    print('\\n'.join(map(''.join, nInp)),\"\\n\")\n",
    "        \n",
    "def pseudoGoL(inp,gardens,turn,isP2,modX,modY,rocks):\n",
    "    for i in range(turn):\n",
    "        gardens=turnPGOL(gardens,inp,isP2,modX,modY,rocks,i)\n",
    "    return len(gardens.keys())\n",
    "\n",
    "# #print('\\n'.join(map(''.join, inp)))\n",
    "# g2=turnPGOL(gardens,inp)\n",
    "# drawMap(g2,inp)\n",
    "# g2=turnPGOL(g2,inp)\n",
    "# drawMap(g2,inp)\n",
    "# g2=turnPGOL(g2,inp)\n",
    "\n",
    "# drawMap(g2,inp)\n",
    "\n",
    "print(len(inp),len(inp[0]))\n",
    "silver=pseudoGoL(inp,deepcopy(gardensDict),64,True,len(inp),len(inp[0]),rocksDict)\n",
    "\n",
    "P65=pseudoGoL(inp,deepcopy(gardensDict),65,True,len(inp),len(inp[0]),rocksDict)\n",
    "P196=pseudoGoL(inp,deepcopy(gardensDict),196,True,len(inp),len(inp[0]),rocksDict)\n",
    "P327=pseudoGoL(inp,deepcopy(gardensDict),327,True,len(inp),len(inp[0]),rocksDict)\n",
    "\n",
    "\n",
    "silver,(P65,P196,P327)\n",
    "#For gold:\n",
    "#go to wolframalpha\n",
    "#use that input \"Interpolate (65,<P65 result>), (196,<P196 result>), (327,<P327 result>)\"\n",
    "#then click on the interpolatin polynomial\n",
    "#then write after the polynomial formula \"for x=26501365\""
   ]
  },
  {
   "cell_type": "code",
   "execution_count": 62,
   "id": "889bf317-2837-415f-b8c5-faf4dcd25b68",
   "metadata": {},
   "outputs": [
    {
     "data": {
      "text/plain": [
       "65"
      ]
     },
     "execution_count": 62,
     "metadata": {},
     "output_type": "execute_result"
    }
   ],
   "source": [
    "65+131*20\n",
    "#26501365//131\n",
    "202300*131\n",
    "26501365-26501300 #65"
   ]
  },
  {
   "cell_type": "code",
   "execution_count": 75,
   "id": "7b1f6386-48d8-4a03-ba5b-bfb9eaa8c5ea",
   "metadata": {},
   "outputs": [
    {
     "data": {
      "text/plain": [
       "327"
      ]
     },
     "execution_count": 75,
     "metadata": {},
     "output_type": "execute_result"
    }
   ],
   "source": [
    "131*2+65"
   ]
  },
  {
   "cell_type": "code",
   "execution_count": null,
   "id": "0b5fd331-4d7b-41ac-881b-bc04a76df912",
   "metadata": {},
   "outputs": [],
   "source": [
    "P458,P589"
   ]
  }
 ],
 "metadata": {
  "kernelspec": {
   "display_name": "PyPy3",
   "language": "python",
   "name": "pypy3"
  },
  "language_info": {
   "codemirror_mode": {
    "name": "ipython",
    "version": 3
   },
   "file_extension": ".py",
   "mimetype": "text/x-python",
   "name": "python",
   "nbconvert_exporter": "python",
   "pygments_lexer": "ipython3",
   "version": "3.10.13"
  }
 },
 "nbformat": 4,
 "nbformat_minor": 5
}
