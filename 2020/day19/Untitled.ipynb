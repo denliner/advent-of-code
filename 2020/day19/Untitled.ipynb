{
 "cells": [
  {
   "cell_type": "code",
   "execution_count": 6,
   "metadata": {},
   "outputs": [
    {
     "name": "stdout",
     "output_type": "stream",
     "text": [
      "First part: 210\n",
      "Second part: 422\n"
     ]
    }
   ],
   "source": [
    "  \n",
    "from re import match\n",
    "from functools import lru_cache\n",
    "rls = {}\n",
    "\n",
    "\n",
    "@lru_cache(137)\n",
    "def cmp(ind, dpth=0):\n",
    "    curr = rls[ind]\n",
    "    return ('' if dpth > 4 else (\n",
    "            curr[1] if '\"' in curr else\n",
    "            (f'''({\"|\".join([''.join([cmp(i) if i != ind\n",
    "                                      else f'({cmp(ind, dpth+1)})'  \n",
    "                                      for i in prt.split()])\n",
    "                             for prt in curr.split('|')])})''' if '|' in curr\n",
    "             else r''.join([cmp(i) for i in curr.split()]))))\n",
    "\n",
    "\n",
    "def first_part(exps):\n",
    "    return sum([match('^'+cmp('0')+'$', exp) is not None for exp in exps])\n",
    "\n",
    "\n",
    "def second_part(exps):\n",
    "    rls['8'], rls['11'] = '42 | 42 8', '42 31 | 42 11 31'\n",
    "    return sum([match('^'+cmp('0')+'$', exp) is not None for exp in exps])\n",
    "\n",
    "\n",
    "with open('input.txt', 'r') as inp:\n",
    "    inp_str = inp.read().split('\\n\\n')\n",
    "    rls, exps = {exp[:exp.find(':')]: exp[exp.find(':') + 2:]\n",
    "                 for exp in inp_str[0].split('\\n')}, inp_str[1].split('\\n')\n",
    "    print(f'First part: {first_part(exps)}')\n",
    "    cmp.cache_clear()\n",
    "    print(f'Second part: {second_part(exps)}')"
   ]
  }
 ],
 "metadata": {
  "kernelspec": {
   "display_name": "Python 3",
   "language": "python",
   "name": "python3"
  },
  "language_info": {
   "codemirror_mode": {
    "name": "ipython",
    "version": 3
   },
   "file_extension": ".py",
   "mimetype": "text/x-python",
   "name": "python",
   "nbconvert_exporter": "python",
   "pygments_lexer": "ipython3",
   "version": "3.9.0"
  }
 },
 "nbformat": 4,
 "nbformat_minor": 4
}
