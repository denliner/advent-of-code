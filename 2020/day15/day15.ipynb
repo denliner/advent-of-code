{
 "cells": [
  {
   "cell_type": "code",
   "execution_count": 31,
   "metadata": {},
   "outputs": [
    {
     "data": {
      "text/plain": [
       "(371, 352)"
      ]
     },
     "execution_count": 31,
     "metadata": {},
     "output_type": "execute_result"
    }
   ],
   "source": [
    "def getNextNumber(lastNum,lastN,dictionary):\n",
    "    nextNum=0\n",
    "    if lastNum in dictionary:\n",
    "        nextNum=lastN - dictionary[lastNum]\n",
    "    dictionary[lastNum]=lastN\n",
    "    return nextNum\n",
    "def day15(tuples,n):\n",
    "    turn=0\n",
    "    dictionary={num: i+1 for i,num in enumerate(tuples[:-1])}\n",
    "    #for i,num in enumerate(tuples[:-1]):\n",
    "    #    dictionary[num]=i+1\n",
    "    currentNum=tuples[-1]\n",
    "    turn=len(tuples)\n",
    "    for i in range(turn,n):\n",
    "        currentNum=getNextNumber(currentNum,i,dictionary)\n",
    "    return currentNum\n",
    "\n",
    "day15((9,3,1,0,8,4),2020),day15((9,3,1,0,8,4),30000000)"
   ]
  },
  {
   "cell_type": "code",
   "execution_count": 28,
   "metadata": {},
   "outputs": [
    {
     "name": "stdout",
     "output_type": "stream",
     "text": [
      "         2020 function calls in 0.001 seconds\n",
      "\n",
      "   Ordered by: standard name\n",
      "\n",
      "   ncalls  tottime  percall  cumtime  percall filename:lineno(function)\n",
      "     2014    0.000    0.000    0.000    0.000 <ipython-input-27-7f915327c7cf>:1(getNextNumber)\n",
      "        1    0.000    0.000    0.001    0.001 <ipython-input-27-7f915327c7cf>:7(day15)\n",
      "        1    0.000    0.000    0.000    0.000 <ipython-input-27-7f915327c7cf>:9(<dictcomp>)\n",
      "        1    0.000    0.000    0.001    0.001 <string>:1(<module>)\n",
      "        1    0.000    0.000    0.001    0.001 {built-in method builtins.exec}\n",
      "        1    0.000    0.000    0.000    0.000 {built-in method builtins.len}\n",
      "        1    0.000    0.000    0.000    0.000 {method 'disable' of '_lsprof.Profiler' objects}\n",
      "\n",
      "\n",
      "         30000000 function calls in 12.621 seconds\n",
      "\n",
      "   Ordered by: standard name\n",
      "\n",
      "   ncalls  tottime  percall  cumtime  percall filename:lineno(function)\n",
      " 29999994    8.345    0.000    8.345    0.000 <ipython-input-27-7f915327c7cf>:1(getNextNumber)\n",
      "        1    4.079    4.079   12.424   12.424 <ipython-input-27-7f915327c7cf>:7(day15)\n",
      "        1    0.000    0.000    0.000    0.000 <ipython-input-27-7f915327c7cf>:9(<dictcomp>)\n",
      "        1    0.197    0.197   12.621   12.621 <string>:1(<module>)\n",
      "        1    0.000    0.000   12.621   12.621 {built-in method builtins.exec}\n",
      "        1    0.000    0.000    0.000    0.000 {built-in method builtins.len}\n",
      "        1    0.000    0.000    0.000    0.000 {method 'disable' of '_lsprof.Profiler' objects}\n",
      "\n",
      "\n"
     ]
    },
    {
     "data": {
      "text/plain": [
       "(None, None)"
      ]
     },
     "execution_count": 28,
     "metadata": {},
     "output_type": "execute_result"
    }
   ],
   "source": [
    "import cProfile\n",
    "cProfile.run('day15((9,3,1,0,8,4),2020)'),cProfile.run('day15((9,3,1,0,8,4),30000000)')"
   ]
  },
  {
   "cell_type": "code",
   "execution_count": 2,
   "metadata": {},
   "outputs": [
    {
     "data": {
      "text/plain": [
       "(371, 352)"
      ]
     },
     "execution_count": 2,
     "metadata": {},
     "output_type": "execute_result"
    }
   ],
   "source": [
    "def day15(tuples,n):\n",
    "    turn=0\n",
    "    dictionary={num: i+1 for i,num in enumerate(tuples[:-1])}\n",
    "    currentNum=tuples[-1]\n",
    "    turn=len(tuples)\n",
    "    for i in range(turn,n):\n",
    "        nextNum=0\n",
    "        if currentNum in dictionary:\n",
    "            nextNum=i - dictionary[currentNum]\n",
    "        dictionary[currentNum]=i\n",
    "        currentNum=nextNum\n",
    "    return currentNum\n",
    "\n",
    "day15((9,3,1,0,8,4),2020),day15((9,3,1,0,8,4),30000000)"
   ]
  },
  {
   "cell_type": "code",
   "execution_count": 6,
   "metadata": {},
   "outputs": [
    {
     "name": "stdout",
     "output_type": "stream",
     "text": [
      "         6 function calls in 0.000 seconds\n",
      "\n",
      "   Ordered by: standard name\n",
      "\n",
      "   ncalls  tottime  percall  cumtime  percall filename:lineno(function)\n",
      "        1    0.000    0.000    0.000    0.000 <ipython-input-2-71f99726950d>:1(day15)\n",
      "        1    0.000    0.000    0.000    0.000 <ipython-input-2-71f99726950d>:3(<dictcomp>)\n",
      "        1    0.000    0.000    0.000    0.000 <string>:1(<module>)\n",
      "        1    0.000    0.000    0.000    0.000 {built-in method builtins.exec}\n",
      "        1    0.000    0.000    0.000    0.000 {built-in method builtins.len}\n",
      "        1    0.000    0.000    0.000    0.000 {method 'disable' of '_lsprof.Profiler' objects}\n",
      "\n",
      "\n",
      "         6 function calls in 6.351 seconds\n",
      "\n",
      "   Ordered by: standard name\n",
      "\n",
      "   ncalls  tottime  percall  cumtime  percall filename:lineno(function)\n",
      "        1    6.152    6.152    6.152    6.152 <ipython-input-2-71f99726950d>:1(day15)\n",
      "        1    0.000    0.000    0.000    0.000 <ipython-input-2-71f99726950d>:3(<dictcomp>)\n",
      "        1    0.199    0.199    6.351    6.351 <string>:1(<module>)\n",
      "        1    0.000    0.000    6.351    6.351 {built-in method builtins.exec}\n",
      "        1    0.000    0.000    0.000    0.000 {built-in method builtins.len}\n",
      "        1    0.000    0.000    0.000    0.000 {method 'disable' of '_lsprof.Profiler' objects}\n",
      "\n",
      "\n"
     ]
    },
    {
     "data": {
      "text/plain": [
       "(None, None)"
      ]
     },
     "execution_count": 6,
     "metadata": {},
     "output_type": "execute_result"
    }
   ],
   "source": [
    "import cProfile\n",
    "cProfile.run('day15((9,3,1,0,8,4),2020)'),cProfile.run('day15((9,3,1,0,8,4),30000000)')"
   ]
  }
 ],
 "metadata": {
  "kernelspec": {
   "display_name": "Python 3",
   "language": "python",
   "name": "python3"
  },
  "language_info": {
   "codemirror_mode": {
    "name": "ipython",
    "version": 3
   },
   "file_extension": ".py",
   "mimetype": "text/x-python",
   "name": "python",
   "nbconvert_exporter": "python",
   "pygments_lexer": "ipython3",
   "version": "3.9.0"
  }
 },
 "nbformat": 4,
 "nbformat_minor": 4
}
