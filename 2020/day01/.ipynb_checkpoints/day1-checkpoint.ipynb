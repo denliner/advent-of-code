{
 "cells": [
  {
   "cell_type": "code",
   "execution_count": 84,
   "metadata": {},
   "outputs": [
    {
     "data": {
      "text/plain": [
       "(988771, 171933104)"
      ]
     },
     "execution_count": 84,
     "metadata": {},
     "output_type": "execute_result"
    }
   ],
   "source": [
    "def sum2020(liste,z,numbVar):\n",
    "    if(numbVar<2):\n",
    "        return None\n",
    "    for x in liste:\n",
    "#        liste_temp=liste.copy()\n",
    "#        liste_temp.remove(x)\n",
    "        y=z-x\n",
    "        if(numbVar==2):\n",
    "            if (y in liste):\n",
    "                return x*y\n",
    "        else:\n",
    "            sum=sum2020(liste,y,numbVar-1)\n",
    "            if (sum is not None): \n",
    "                return x*sum\n",
    "            \n",
    "with open('inputday1.txt') as f:\n",
    "    liste = list(map(int,f.read().splitlines()))\n",
    "liste.sort()\n",
    "sum2020(liste,2020,2),sum2020(liste,2020,3)"
   ]
  },
  {
   "cell_type": "code",
   "execution_count": 102,
   "metadata": {},
   "outputs": [
    {
     "data": {
      "text/plain": [
       "(988771, 171933104)"
      ]
     },
     "execution_count": 102,
     "metadata": {},
     "output_type": "execute_result"
    }
   ],
   "source": [
    "def partTwo(liste,z,length):\n",
    "    liste.sort()\n",
    "    length=len(liste)\n",
    "    for x in liste:\n",
    "        y=z-x\n",
    "        sum=partOne(liste,y,length)\n",
    "        if (sum is not None): \n",
    "            return x*sum\n",
    "\n",
    "def partOne(liste,z,length):\n",
    "    i=0\n",
    "    j=length-1\n",
    "    while(i<j):\n",
    "        if((liste[i]+liste[j])==z):\n",
    "            return liste[i]*liste[j]\n",
    "        elif((liste[i]+liste[j])<z):\n",
    "            i+=1\n",
    "        else:\n",
    "            j-=1\n",
    "    return None\n",
    "\n",
    "            \n",
    "with open('inputday1.txt') as f:\n",
    "    liste = list(map(int,f.read().splitlines()))\n",
    "liste.sort()\n",
    "\n",
    "partOne(liste,2020,len(liste)),partTwo(liste,2020,len(liste))"
   ]
  },
  {
   "cell_type": "code",
   "execution_count": 2,
   "metadata": {},
   "outputs": [
    {
     "name": "stdout",
     "output_type": "stream",
     "text": [
      "['Alice', 'Alice', 'Bob', 'Charlie', 'Bob', 'Dave']\n",
      "['Alice', 'Bob', 'Charlie', 'Bob', 'Dave']\n"
     ]
    }
   ],
   "source": [
    "l = ['Alice','Alice', 'Bob', 'Charlie', 'Bob', 'Dave']\n",
    "print(l)\n",
    "# ['Alice', 'Bob', 'Charlie', 'Bob', 'Dave']\n",
    "988771\n",
    "171933104\n",
    "l.remove('Alice')\n",
    "print(l)\n",
    "# ['Bob', 'Charlie', 'Bob', 'Dave']\n"
   ]
  },
  {
   "cell_type": "code",
   "execution_count": 91,
   "metadata": {},
   "outputs": [
    {
     "name": "stdout",
     "output_type": "stream",
     "text": [
      "coucou\n",
      "988771 171933104\n",
      "         62 function calls (58 primitive calls) in 0.001 seconds\n",
      "\n",
      "   Ordered by: standard name\n",
      "\n",
      "   ncalls  tottime  percall  cumtime  percall filename:lineno(function)\n",
      "      6/2    0.001    0.000    0.001    0.000 <ipython-input-84-f4e97fafe3bf>:1(sum2020)\n",
      "        1    0.000    0.000    0.001    0.001 <string>:1(<module>)\n",
      "        4    0.000    0.000    0.000    0.000 iostream.py:197(schedule)\n",
      "        4    0.000    0.000    0.000    0.000 iostream.py:309(_is_master_process)\n",
      "        4    0.000    0.000    0.000    0.000 iostream.py:322(_schedule_flush)\n",
      "        4    0.000    0.000    0.000    0.000 iostream.py:384(write)\n",
      "        4    0.000    0.000    0.000    0.000 iostream.py:93(_event_pipe)\n",
      "        4    0.000    0.000    0.000    0.000 socket.py:342(send)\n",
      "        4    0.000    0.000    0.000    0.000 threading.py:1050(_wait_for_tstate_lock)\n",
      "        4    0.000    0.000    0.000    0.000 threading.py:1092(is_alive)\n",
      "        4    0.000    0.000    0.000    0.000 threading.py:507(is_set)\n",
      "        1    0.000    0.000    0.001    0.001 {built-in method builtins.exec}\n",
      "        4    0.000    0.000    0.000    0.000 {built-in method builtins.isinstance}\n",
      "        1    0.000    0.000    0.000    0.000 {built-in method builtins.print}\n",
      "        4    0.000    0.000    0.000    0.000 {built-in method nt.getpid}\n",
      "        4    0.000    0.000    0.000    0.000 {method 'acquire' of '_thread.lock' objects}\n",
      "        4    0.000    0.000    0.000    0.000 {method 'append' of 'collections.deque' objects}\n",
      "        1    0.000    0.000    0.000    0.000 {method 'disable' of '_lsprof.Profiler' objects}\n",
      "\n",
      "\n",
      "         14 function calls in 0.000 seconds\n",
      "\n",
      "   Ordered by: standard name\n",
      "\n",
      "   ncalls  tottime  percall  cumtime  percall filename:lineno(function)\n",
      "        1    0.000    0.000    0.000    0.000 <ipython-input-89-ca9b50c17436>:1(partTwo)\n",
      "        5    0.000    0.000    0.000    0.000 <ipython-input-89-ca9b50c17436>:8(partOne)\n",
      "        1    0.000    0.000    0.000    0.000 <string>:1(<module>)\n",
      "        1    0.000    0.000    0.000    0.000 {built-in method builtins.exec}\n",
      "        5    0.000    0.000    0.000    0.000 {built-in method builtins.len}\n",
      "        1    0.000    0.000    0.000    0.000 {method 'disable' of '_lsprof.Profiler' objects}\n",
      "\n",
      "\n",
      "         9 function calls (5 primitive calls) in 0.001 seconds\n",
      "\n",
      "   Ordered by: standard name\n",
      "\n",
      "   ncalls  tottime  percall  cumtime  percall filename:lineno(function)\n",
      "      6/2    0.001    0.000    0.001    0.000 <ipython-input-84-f4e97fafe3bf>:1(sum2020)\n",
      "        1    0.000    0.000    0.001    0.001 <string>:1(<module>)\n",
      "        1    0.000    0.000    0.001    0.001 {built-in method builtins.exec}\n",
      "        1    0.000    0.000    0.000    0.000 {method 'disable' of '_lsprof.Profiler' objects}\n",
      "\n",
      "\n"
     ]
    }
   ],
   "source": [
    "import cProfile\n",
    "\n",
    "\n",
    "liste.sort()\n",
    "print(\"coucou\")\n",
    "cProfile.run(\"print(sum2020(liste,2020,2),sum2020(liste,2020,3))\")\n",
    "cProfile.run(\"partOne(liste,2020),partTwo(liste,2020)\")\n",
    "cProfile.run(\"sum2020(liste,2020,2),sum2020(liste,2020,3)\")\n",
    "#cProfile.run(\"partTwo(liste,99920044)\")"
   ]
  },
  {
   "cell_type": "code",
   "execution_count": 104,
   "metadata": {},
   "outputs": [
    {
     "name": "stdout",
     "output_type": "stream",
     "text": [
      "         482 function calls in 7.958 seconds\n",
      "\n",
      "   Ordered by: standard name\n",
      "\n",
      "   ncalls  tottime  percall  cumtime  percall filename:lineno(function)\n",
      "        1    0.000    0.000    7.958    7.958 <ipython-input-102-1fc461b9493c>:1(partTwo)\n",
      "      478    7.957    0.017    7.957    0.017 <ipython-input-102-1fc461b9493c>:8(partOne)\n",
      "        1    0.000    0.000    7.958    7.958 <string>:1(<module>)\n",
      "        1    0.000    0.000    7.958    7.958 {built-in method builtins.exec}\n",
      "        1    0.000    0.000    0.000    0.000 {method 'disable' of '_lsprof.Profiler' objects}\n",
      "\n",
      "\n"
     ]
    }
   ],
   "source": [
    "with open('gy8n81') as f:\n",
    "    liste = list(map(int,f.read().splitlines()))\n",
    "liste.sort()\n",
    "length=len(liste)\n",
    "cProfile.run(\"partTwo(liste,99920044,length)\")"
   ]
  },
  {
   "cell_type": "code",
   "execution_count": 97,
   "metadata": {},
   "outputs": [
    {
     "name": "stdout",
     "output_type": "stream",
     "text": [
      "         204 function calls (4 primitive calls) in 0.055 seconds\n",
      "\n",
      "   Ordered by: standard name\n",
      "\n",
      "   ncalls  tottime  percall  cumtime  percall filename:lineno(function)\n",
      "    201/1    0.055    0.000    0.055    0.055 <ipython-input-84-f4e97fafe3bf>:1(sum2020)\n",
      "        1    0.000    0.000    0.055    0.055 <string>:1(<module>)\n",
      "        1    0.000    0.000    0.055    0.055 {built-in method builtins.exec}\n",
      "        1    0.000    0.000    0.000    0.000 {method 'disable' of '_lsprof.Profiler' objects}\n",
      "\n",
      "\n"
     ]
    }
   ],
   "source": [
    "cProfile.run(\"sum2020(liste,99920044,3)\")"
   ]
  }
 ],
 "metadata": {
  "kernelspec": {
   "display_name": "Python 3",
   "language": "python",
   "name": "python3"
  },
  "language_info": {
   "codemirror_mode": {
    "name": "ipython",
    "version": 3
   },
   "file_extension": ".py",
   "mimetype": "text/x-python",
   "name": "python",
   "nbconvert_exporter": "python",
   "pygments_lexer": "ipython3",
   "version": "3.7.4"
  }
 },
 "nbformat": 4,
 "nbformat_minor": 2
}
