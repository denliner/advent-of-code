{
 "cells": [
  {
   "cell_type": "code",
   "execution_count": 121,
   "metadata": {},
   "outputs": [
    {
     "name": "stdout",
     "output_type": "stream",
     "text": [
      "1000\n",
      "645\n",
      "0\n",
      "737\n"
     ]
    }
   ],
   "source": [
    "with open('input.txt') as f:\n",
    "    l = f.read().splitlines()\n",
    "l[0].split(':')[0].split(\" \")\n",
    "print(len(l))\n",
    "def validatePassword(line):\n",
    "    s=line.split(': ')\n",
    "    bound=s[0].split(\" \")[0].split(\"-\")\n",
    "    length=len(s[1])\n",
    "    n=0\n",
    "    c=s[0].split(\" \")[1]\n",
    "    for i in range(length):\n",
    "        if(s[1][i]==c):\n",
    "            n+=1 \n",
    "        if(n>int(bound[1])):\n",
    "            return 0\n",
    "        elif(((length-1)-i)<(int(bound[0])-n)):\n",
    "            \n",
    "            return 0\n",
    "    return 1\n",
    "\n",
    "def validateAllPassword(l):\n",
    "    n=0\n",
    "    for line in l:\n",
    "       n+=validatePassword(line)\n",
    "    return n\n",
    "\n",
    "def validatePasswordPart2(line):\n",
    "    s=line.split(': ')\n",
    "    bound=s[0].split(\" \")[0].split(\"-\")\n",
    "    length=len(s[1])\n",
    "    n=0\n",
    "    c=s[0].split(\" \")[1]\n",
    "    if( (s[1][int(bound[0])-1]==c) ^ (s[1][int(bound[1])-1]==c) ):\n",
    "        return 1\n",
    "    else:\n",
    "        return 0\n",
    "\n",
    "def validateAllPasswordPart2(l):\n",
    "    n=0\n",
    "    for line in l:\n",
    "       n+=validatePasswordPart2(line)\n",
    "    return n\n",
    "print(validateAllPassword(l))\n",
    "print(validatePasswordPart2(\"2-9 c: ccccccccc\"))\n",
    "print(validateAllPasswordPart2(l))"
   ]
  },
  {
   "cell_type": "code",
   "execution_count": 128,
   "metadata": {},
   "outputs": [
    {
     "name": "stdout",
     "output_type": "stream",
     "text": [
      "         3000004 function calls in 1.444 seconds\n",
      "\n",
      "   Ordered by: standard name\n",
      "\n",
      "   ncalls  tottime  percall  cumtime  percall filename:lineno(function)\n",
      "        1    0.089    0.089    1.444    1.444 <ipython-input-121-d27ad651cafc>:21(validateAllPassword)\n",
      "   500000    1.104    0.000    1.355    0.000 <ipython-input-121-d27ad651cafc>:5(validatePassword)\n",
      "        1    0.000    0.000    1.444    1.444 <string>:1(<module>)\n",
      "        1    0.000    0.000    1.444    1.444 {built-in method builtins.exec}\n",
      "   500000    0.019    0.000    0.019    0.000 {built-in method builtins.len}\n",
      "        1    0.000    0.000    0.000    0.000 {method 'disable' of '_lsprof.Profiler' objects}\n",
      "  2000000    0.232    0.000    0.232    0.000 {method 'split' of 'str' objects}\n",
      "\n",
      "\n",
      "         3000004 function calls in 0.827 seconds\n",
      "\n",
      "   Ordered by: standard name\n",
      "\n",
      "   ncalls  tottime  percall  cumtime  percall filename:lineno(function)\n",
      "   500000    0.490    0.000    0.739    0.000 <ipython-input-121-d27ad651cafc>:27(validatePasswordPart2)\n",
      "        1    0.088    0.088    0.827    0.827 <ipython-input-121-d27ad651cafc>:38(validateAllPasswordPart2)\n",
      "        1    0.000    0.000    0.827    0.827 <string>:1(<module>)\n",
      "        1    0.000    0.000    0.827    0.827 {built-in method builtins.exec}\n",
      "   500000    0.019    0.000    0.019    0.000 {built-in method builtins.len}\n",
      "        1    0.000    0.000    0.000    0.000 {method 'disable' of '_lsprof.Profiler' objects}\n",
      "  2000000    0.230    0.000    0.230    0.000 {method 'split' of 'str' objects}\n",
      "\n",
      "\n"
     ]
    }
   ],
   "source": [
    "with open('e2p8ir') as f:\n",
    "    bench = f.read().splitlines()\n",
    "import cProfile\n",
    "cProfile.run(\"validateAllPassword(bench)\")\n",
    "cProfile.run(\"validateAllPasswordPart2(bench)\")"
   ]
  },
  {
   "cell_type": "code",
   "execution_count": 155,
   "metadata": {},
   "outputs": [
    {
     "name": "stdout",
     "output_type": "stream",
     "text": [
      "645\n",
      "0\n",
      "737\n"
     ]
    }
   ],
   "source": [
    "def validatePasswordLessAutistic(line):\n",
    "    s=line.split(':')\n",
    "    bound=s[0].split()[0].split(\"-\")\n",
    "    c=s[0].split()[1]\n",
    "    if(int(bound[0])<=s[1].count(c)<=int(bound[1])):\n",
    "        return 1\n",
    "    else:\n",
    "        return 0\n",
    "\n",
    "def validateAllPasswordLessAutistic(l):\n",
    "    n=0\n",
    "    for line in l:\n",
    "       n+=validatePasswordLessAutistic(line)\n",
    "    return n\n",
    "\n",
    "def validatePasswordPart2LessAutistic(line):\n",
    "    s=line.split(':')\n",
    "    bound=s[0].split()[0].split(\"-\")\n",
    "    c=s[0].split()[1]\n",
    "    if( (s[1][int(bound[0])]==c) ^ (s[1][int(bound[1])]==c) ):\n",
    "        return 1\n",
    "    else:\n",
    "        return 0\n",
    "\n",
    "def validateAllPasswordPart2LessAutistic(l):\n",
    "    n=0\n",
    "    for line in l:\n",
    "       n+=validatePasswordPart2LessAutistic(line)\n",
    "    return n\n",
    "print(validateAllPasswordLessAutistic(l))\n",
    "print(validatePasswordPart2LessAutistic(\"2-9 c: ccccccccc\"))\n",
    "print(validateAllPasswordPart2LessAutistic(l))"
   ]
  },
  {
   "cell_type": "code",
   "execution_count": 156,
   "metadata": {},
   "outputs": [
    {
     "name": "stdout",
     "output_type": "stream",
     "text": [
      "         3000004 function calls in 0.744 seconds\n",
      "\n",
      "   Ordered by: standard name\n",
      "\n",
      "   ncalls  tottime  percall  cumtime  percall filename:lineno(function)\n",
      "   500000    0.374    0.000    0.659    0.000 <ipython-input-155-50b63f7ee8cb>:1(validatePasswordLessAutistic)\n",
      "        1    0.085    0.085    0.744    0.744 <ipython-input-155-50b63f7ee8cb>:10(validateAllPasswordLessAutistic)\n",
      "        1    0.000    0.000    0.744    0.744 <string>:1(<module>)\n",
      "        1    0.000    0.000    0.744    0.744 {built-in method builtins.exec}\n",
      "   500000    0.064    0.000    0.064    0.000 {method 'count' of 'str' objects}\n",
      "        1    0.000    0.000    0.000    0.000 {method 'disable' of '_lsprof.Profiler' objects}\n",
      "  2000000    0.221    0.000    0.221    0.000 {method 'split' of 'str' objects}\n",
      "\n",
      "\n",
      "         2500004 function calls in 0.704 seconds\n",
      "\n",
      "   Ordered by: standard name\n",
      "\n",
      "   ncalls  tottime  percall  cumtime  percall filename:lineno(function)\n",
      "   500000    0.405    0.000    0.619    0.000 <ipython-input-155-50b63f7ee8cb>:16(validatePasswordPart2LessAutistic)\n",
      "        1    0.085    0.085    0.704    0.704 <ipython-input-155-50b63f7ee8cb>:25(validateAllPasswordPart2LessAutistic)\n",
      "        1    0.000    0.000    0.704    0.704 <string>:1(<module>)\n",
      "        1    0.000    0.000    0.704    0.704 {built-in method builtins.exec}\n",
      "        1    0.000    0.000    0.000    0.000 {method 'disable' of '_lsprof.Profiler' objects}\n",
      "  2000000    0.213    0.000    0.213    0.000 {method 'split' of 'str' objects}\n",
      "\n",
      "\n"
     ]
    }
   ],
   "source": [
    "cProfile.run(\"validateAllPasswordLessAutistic(bench)\")\n",
    "cProfile.run(\"validateAllPasswordPart2LessAutistic(bench)\")"
   ]
  }
 ],
 "metadata": {
  "kernelspec": {
   "display_name": "Python 3",
   "language": "python",
   "name": "python3"
  },
  "language_info": {
   "codemirror_mode": {
    "name": "ipython",
    "version": 3
   },
   "file_extension": ".py",
   "mimetype": "text/x-python",
   "name": "python",
   "nbconvert_exporter": "python",
   "pygments_lexer": "ipython3",
   "version": "3.7.4"
  }
 },
 "nbformat": 4,
 "nbformat_minor": 2
}
