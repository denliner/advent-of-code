{
 "cells": [
  {
   "cell_type": "code",
   "execution_count": 1,
   "metadata": {},
   "outputs": [
    {
     "name": "stdout",
     "output_type": "stream",
     "text": [
      "Part1:\n",
      "{'East': 0, 'South': 0, 'West': 1109, 'North': 24}\n",
      "Distance=1133\n",
      "\n",
      "Part2:\n",
      "{'East': 24352, 'South': 0, 'West': 0, 'North': 36701}\n",
      "Distance=61053\n",
      "\n"
     ]
    }
   ],
   "source": [
    "import numpy as np\n",
    "\n",
    "face=[\"E\",\"S\",\"W\",\"N\"]\n",
    "moves={\"E\":np.array([1,0]),\n",
    "      \"S\":np.array([0,1]),\n",
    "      \"W\":np.array([-1,0]),\n",
    "      \"N\":np.array([0,-1])}\n",
    "turn={'L':-1,'R':1}\n",
    "\n",
    "units,unitsp2=np.array([0,0],dtype=np.int64),np.array([0,0],dtype=np.int64)\n",
    "wayPoint=np.array([10,-1],dtype=np.int64)\n",
    "\n",
    "def generate_instructionsList(name):\n",
    "    seat_list=open(name).read().splitlines()\n",
    "    return np.array([ (sub[0],sub[1:]) for sub in seat_list],dtype='U2,i8')\n",
    "\n",
    "def turnTo(action,value,current_direction,turn):\n",
    "    current_direction+= int((value*turn[action])/90)\n",
    "    return current_direction\n",
    "\n",
    "def read_instruction(action,value,current_direction):\n",
    "    global face, units\n",
    "    if action in face:\n",
    "        units=np.add(moves[action]*value,units)\n",
    "    elif action in ['L','R']:\n",
    "        current_direction=turnTo(action,value,current_direction,turn)\n",
    "    else:\n",
    "        units=np.add(moves[face[current_direction%4]]*value,units)\n",
    "    return current_direction\n",
    "\n",
    "def rotateWaypoint(wayPoint,degree,turn,action):\n",
    "    degree=(turn[action]*degree)%4\n",
    "    for i in range(degree):\n",
    "        first=wayPoint[1]*(-1)\n",
    "        second=wayPoint[0]\n",
    "        wayPoint=np.array([first,second],dtype=np.int64)\n",
    "    return wayPoint\n",
    "\n",
    "def read_instructionP2(action,value,current_direction):\n",
    "    global face,unitsp2,wayPoint,turn\n",
    "    if action in face:\n",
    "        wayPoint=np.add(moves[action]*value,wayPoint)\n",
    "    elif action in ['L','R']:\n",
    "        wayPoint=rotateWaypoint(wayPoint,value//90,turn,action)\n",
    "    else:\n",
    "        unitsp2=np.add(wayPoint*value,unitsp2)\n",
    "    return current_direction\n",
    "\n",
    "def day12(instructionsList,read_inst):\n",
    "    current_direction=0\n",
    "    for i,(action,value) in enumerate(instructionsList):\n",
    "        current_direction=read_inst(action,value,current_direction)\n",
    "    return current_direction\n",
    "\n",
    "instructionsList=generate_instructionsList(\"input.txt\")\n",
    "day12(instructionsList,read_instruction),day12(instructionsList,read_instructionP2)\n",
    "count,count2= np.sum(np.absolute(units),dtype=np.int64),np.sum(np.absolute(unitsp2),dtype=np.int64)\n",
    "\n",
    "part1={\"East\": units[0].clip(min=0), \"South\":units[1].clip(min=0),\n",
    "       \"West\":(-units[0]).clip(min=0), \"North\":(-units[1]).clip(min=0)}\n",
    "part2= {\"East\": unitsp2[0].clip(min=0), \"South\":unitsp2[1].clip(min=0), \n",
    "        \"West\":(-unitsp2[0]).clip(min=0), \"North\":(-unitsp2[1]).clip(min=0)}\n",
    "\n",
    "print(\"Part1:\\n\"+str(part1)+\"\\nDistance=\"+str(count)+\"\\n\")\n",
    "print(\"Part2:\\n\"+str(part2)+\"\\nDistance=\"+str(count2)+\"\\n\")"
   ]
  },
  {
   "cell_type": "code",
   "execution_count": 2,
   "metadata": {
    "scrolled": true
   },
   "outputs": [
    {
     "name": "stdout",
     "output_type": "stream",
     "text": [
      "Part1:\n",
      "{'East': 667416, 'South': 1260294, 'West': 0, 'North': 0}\n",
      "Distance=1927710\n",
      "\n",
      "Part2:\n",
      "{'East': 0, 'South': 923991090767, 'West': 1256456901064, 'North': 0}\n",
      "Distance=2180447991831\n",
      "\n"
     ]
    }
   ],
   "source": [
    "import numpy as np\n",
    "\n",
    "face=np.array([\"E\",\"S\",\"W\",\"N\"])\n",
    "moves={\"E\":np.array([1,0]),\n",
    "      \"S\":np.array([0,1]),\n",
    "      \"W\":np.array([-1,0]),\n",
    "      \"N\":np.array([0,-1])}\n",
    "turn={'L':-1,'R':1}\n",
    "\n",
    "units,unitsp2=np.array([0,0],dtype=np.int64),np.array([0,0],dtype=np.int64)\n",
    "wayPoint=np.array([10,-1],dtype=np.int64)\n",
    "\n",
    "def generate_instructionsList(name):\n",
    "    seat_list=open(name).read().splitlines()\n",
    "    return np.array([ (sub[0],sub[1:]) for sub in seat_list],dtype='U2,i8')\n",
    "\n",
    "def turnTo(action,value,current_direction,turn):\n",
    "    current_direction+= int((value*turn[action])/90)\n",
    "    return current_direction\n",
    "\n",
    "def read_instruction(action,value,current_direction):\n",
    "    global face, units\n",
    "    if action=='F':\n",
    "        units=np.add(moves[face[current_direction%4]]*value,units)\n",
    "    elif action in ['L','R']:\n",
    "        current_direction=turnTo(action,value,current_direction,turn)\n",
    "    else:\n",
    "        units=np.add(moves[action]*value,units)\n",
    "    return current_direction\n",
    "\n",
    "def rotateWaypoint(wayPoint,degree,turn,action):\n",
    "    degree=(turn[action]*degree)%4\n",
    "    for i in range(degree):\n",
    "        first=wayPoint[1]*(-1)\n",
    "        second=wayPoint[0]\n",
    "        wayPoint=np.array([first,second],dtype=np.int64)\n",
    "    return wayPoint\n",
    "\n",
    "def read_instructionP2(action,value,current_direction):\n",
    "    global face,unitsp2,wayPoint,turn\n",
    "    \n",
    "    if action=='F':\n",
    "            unitsp2=np.add(wayPoint*value,unitsp2)\n",
    "    elif action in ['L','R']:\n",
    "        wayPoint=rotateWaypoint(wayPoint,value//90,turn,action)\n",
    "    else:\n",
    "        wayPoint=np.add(moves[action]*value,wayPoint)\n",
    "    return current_direction\n",
    "\n",
    "def day12(instructionsList,read_inst):\n",
    "    current_direction=0\n",
    "    for i,(action,value) in enumerate(instructionsList):\n",
    "        current_direction=read_inst(action,value,current_direction)\n",
    "    return current_direction\n",
    "\n",
    "instructionsList=generate_instructionsList(\"bigboy.txt\")\n",
    "day12(instructionsList,read_instruction),day12(instructionsList,read_instructionP2)\n",
    "count,count2= np.sum(np.absolute(units),dtype=np.int64),np.sum(np.absolute(unitsp2),dtype=np.int64)\n",
    "\n",
    "part1={\"East\": units[0].clip(min=0), \"South\":units[1].clip(min=0),\n",
    "       \"West\":(-units[0]).clip(min=0), \"North\":(-units[1]).clip(min=0)}\n",
    "part2= {\"East\": unitsp2[0].clip(min=0), \"South\":unitsp2[1].clip(min=0), \n",
    "        \"West\":(-unitsp2[0]).clip(min=0), \"North\":(-unitsp2[1]).clip(min=0)}\n",
    "\n",
    "print(\"Part1:\\n\"+str(part1)+\"\\nDistance=\"+str(count)+\"\\n\")\n",
    "print(\"Part2:\\n\"+str(part2)+\"\\nDistance=\"+str(count2)+\"\\n\")"
   ]
  },
  {
   "cell_type": "code",
   "execution_count": 10,
   "metadata": {},
   "outputs": [
    {
     "name": "stdout",
     "output_type": "stream",
     "text": [
      "[1968516664  573122127]\n",
      "2541638791\n"
     ]
    },
    {
     "data": {
      "text/plain": [
       "2541638791"
      ]
     },
     "execution_count": 10,
     "metadata": {},
     "output_type": "execute_result"
    }
   ],
   "source": [
    "print(unitsp2)\n",
    "print(1968516664+573122127)\n",
    "np.sum(np.absolute(unitsp2.clip(min=0)),dtype=np.int64)"
   ]
  },
  {
   "cell_type": "code",
   "execution_count": 3,
   "metadata": {},
   "outputs": [
    {
     "name": "stdout",
     "output_type": "stream",
     "text": [
      "         12857783 function calls in 37.010 seconds\n",
      "\n",
      "   Ordered by: standard name\n",
      "\n",
      "   ncalls  tottime  percall  cumtime  percall filename:lineno(function)\n",
      "  2857779    2.319    0.000    2.319    0.000 <ipython-input-2-3791d0211bee>:17(turnTo)\n",
      " 10000000   18.590    0.000   20.909    0.000 <ipython-input-2-3791d0211bee>:21(read_instruction)\n",
      "        1   16.101   16.101   37.010   37.010 <ipython-input-2-3791d0211bee>:49(day12)\n",
      "        1    0.000    0.000   37.010   37.010 <string>:1(<module>)\n",
      "        1    0.000    0.000   37.010   37.010 {built-in method builtins.exec}\n",
      "        1    0.000    0.000    0.000    0.000 {method 'disable' of '_lsprof.Profiler' objects}\n",
      "\n",
      "\n",
      "         18571930 function calls in 48.078 seconds\n",
      "\n",
      "   Ordered by: standard name\n",
      "\n",
      "   ncalls  tottime  percall  cumtime  percall filename:lineno(function)\n",
      "  2857779    6.312    0.000   11.796    0.000 <ipython-input-2-3791d0211bee>:31(rotateWaypoint)\n",
      " 10000000   19.728    0.000   31.524    0.000 <ipython-input-2-3791d0211bee>:39(read_instructionP2)\n",
      "        1   16.553   16.553   48.078   48.078 <ipython-input-2-3791d0211bee>:49(day12)\n",
      "        1    0.000    0.000   48.078   48.078 <string>:1(<module>)\n",
      "        1    0.000    0.000   48.078   48.078 {built-in method builtins.exec}\n",
      "  5714147    5.484    0.000    5.484    0.000 {built-in method numpy.array}\n",
      "        1    0.000    0.000    0.000    0.000 {method 'disable' of '_lsprof.Profiler' objects}\n",
      "\n",
      "\n"
     ]
    }
   ],
   "source": [
    "import cProfile\n",
    "face=[\"E\",\"S\",\"W\",\"N\"]\n",
    "moves={\"E\":np.array([1,0]),\n",
    "      \"S\":np.array([0,1]),\n",
    "      \"W\":np.array([-1,0]),\n",
    "      \"N\":np.array([0,-1])}\n",
    "turn={'L':-1,'R':1}\n",
    "\n",
    "units,unitsp2=np.array([0,0],dtype=np.int64),np.array([0,0],dtype=np.int64)\n",
    "wayPoint=np.array([10,-1],dtype=np.int64)\n",
    "\n",
    "cProfile.run('day12(instructionsList,read_instruction)')\n",
    "cProfile.run('day12(instructionsList,read_instructionP2)')"
   ]
  }
 ],
 "metadata": {
  "kernelspec": {
   "display_name": "Python 3",
   "language": "python",
   "name": "python3"
  },
  "language_info": {
   "codemirror_mode": {
    "name": "ipython",
    "version": 3
   },
   "file_extension": ".py",
   "mimetype": "text/x-python",
   "name": "python",
   "nbconvert_exporter": "python",
   "pygments_lexer": "ipython3",
   "version": "3.7.4"
  }
 },
 "nbformat": 4,
 "nbformat_minor": 2
}
