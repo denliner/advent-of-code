{
 "cells": [
  {
   "cell_type": "code",
   "execution_count": 24,
   "metadata": {},
   "outputs": [
    {
     "name": "stdout",
     "output_type": "stream",
     "text": [
      "5\n",
      "28\n",
      "8416\n",
      "276.75550612434745\n",
      "Part 1:\n",
      "2277\n",
      "Part 2:\n",
      "37024595836928\n"
     ]
    }
   ],
   "source": [
    "import numpy as np\n",
    "\n",
    "def generate_list(name):\n",
    "    return list(map(int,open(name).read().splitlines()))\n",
    "\n",
    "def getDifference(l_joins):\n",
    "    diff=[0,0,1]\n",
    "    sorted_joins=sorted(l_joins)\n",
    "    verticles=set([0])\n",
    "    current_join=0\n",
    "    for i in range(len(l_joins)):\n",
    "        #print(current_join)\n",
    "        #print(sorted_joins[i])\n",
    "        difference=sorted_joins[i]-current_join\n",
    "        #print(difference)\n",
    "        #print(\"\\n\\n\")\n",
    "        if((difference)<=3):\n",
    "            diff[difference-1]+=1\n",
    "            current_join=sorted_joins[i]\n",
    "            verticles.add(current_join)\n",
    "        else:\n",
    "            break\n",
    "    return current_join,diff,verticles\n",
    "\n",
    "def create_grah(l_adapters):\n",
    "    graph=dict()\n",
    "    l_adapters_list=np.array(list(l_adapters))\n",
    "    length=len(l_adapters)\n",
    "    i=0\n",
    "    for current_verticle in l_adapters:\n",
    "        edges=set()\n",
    "        for j in range(i+1,length):\n",
    "            v=l_adapters_list[j]\n",
    "            if((v-current_verticle)<=3 and (v-current_verticle)>0):\n",
    "                edges.add(v)\n",
    "            else:\n",
    "                break\n",
    "        graph[current_verticle]={\"edges\":edges}\n",
    "        i+=1\n",
    "    return graph\n",
    "                \n",
    "def getPath(u,v,graph,memory):\n",
    "    n_path=0\n",
    "    if u in memory:\n",
    "        return memory[u]\n",
    "    for verticle in graph[u][\"edges\"]:\n",
    "        if verticle==v:\n",
    "            n_path+=1\n",
    "        else:\n",
    "            n_path+=getPath(verticle,v,graph,memory)\n",
    "    memory[u]=n_path\n",
    "    return n_path\n",
    "\n",
    "d=getDifference(generate_list(\"input.txt\"))\n",
    "print(list(d[2])[3])\n",
    "print((sys.getsizeof(list(d[2])[3])))\n",
    "print((sys.getsizeof(d[2])))\n",
    "\n",
    "print((sys.getsizeof(d[2])*37024595836928)/(1024 ** 5))\n",
    "print(\"Part 1:\")\n",
    "print(d[1][0]*d[1][2])\n",
    "graph=create_grah(d[2])\n",
    "memory={}\n",
    "nbPath=getPath(0,d[0],graph,memory)\n",
    "print(\"Part 2:\")\n",
    "print(nbPath)\n"
   ]
  },
  {
   "cell_type": "code",
   "execution_count": 9,
   "metadata": {},
   "outputs": [
    {
     "name": "stdout",
     "output_type": "stream",
     "text": [
      "3000\n"
     ]
    }
   ],
   "source": [
    "import sys\n",
    "print(sys.getrecursionlimit()) #3000\n",
    "sys.setrecursionlimit(30000)"
   ]
  },
  {
   "cell_type": "code",
   "execution_count": 10,
   "metadata": {},
   "outputs": [
    {
     "name": "stdout",
     "output_type": "stream",
     "text": [
      "         116 function calls in 0.000 seconds\n",
      "\n",
      "   Ordered by: standard name\n",
      "\n",
      "   ncalls  tottime  percall  cumtime  percall filename:lineno(function)\n",
      "        1    0.000    0.000    0.000    0.000 <ipython-input-8-cb55afcb6a8e>:3(generate_list)\n",
      "        1    0.000    0.000    0.000    0.000 <ipython-input-8-cb55afcb6a8e>:6(getDifference)\n",
      "        1    0.000    0.000    0.000    0.000 <string>:1(<module>)\n",
      "        1    0.000    0.000    0.000    0.000 _bootlocale.py:11(getpreferredencoding)\n",
      "        1    0.000    0.000    0.000    0.000 codecs.py:260(__init__)\n",
      "        1    0.000    0.000    0.000    0.000 cp1252.py:22(decode)\n",
      "        1    0.000    0.000    0.000    0.000 {built-in method _codecs.charmap_decode}\n",
      "        1    0.000    0.000    0.000    0.000 {built-in method _locale._getdefaultlocale}\n",
      "        1    0.000    0.000    0.000    0.000 {built-in method builtins.exec}\n",
      "        1    0.000    0.000    0.000    0.000 {built-in method builtins.len}\n",
      "        1    0.000    0.000    0.000    0.000 {built-in method builtins.sorted}\n",
      "        1    0.000    0.000    0.000    0.000 {built-in method io.open}\n",
      "      101    0.000    0.000    0.000    0.000 {method 'add' of 'set' objects}\n",
      "        1    0.000    0.000    0.000    0.000 {method 'disable' of '_lsprof.Profiler' objects}\n",
      "        1    0.000    0.000    0.000    0.000 {method 'read' of '_io.TextIOWrapper' objects}\n",
      "        1    0.000    0.000    0.000    0.000 {method 'splitlines' of 'str' objects}\n",
      "\n",
      "\n",
      "2277\n",
      "         181 function calls in 0.000 seconds\n",
      "\n",
      "   Ordered by: standard name\n",
      "\n",
      "   ncalls  tottime  percall  cumtime  percall filename:lineno(function)\n",
      "        1    0.000    0.000    0.000    0.000 <ipython-input-8-cb55afcb6a8e>:25(create_grah)\n",
      "        1    0.000    0.000    0.000    0.000 <string>:1(<module>)\n",
      "        1    0.000    0.000    0.000    0.000 {built-in method builtins.exec}\n",
      "        1    0.000    0.000    0.000    0.000 {built-in method builtins.len}\n",
      "        1    0.000    0.000    0.000    0.000 {built-in method numpy.array}\n",
      "      175    0.000    0.000    0.000    0.000 {method 'add' of 'set' objects}\n",
      "        1    0.000    0.000    0.000    0.000 {method 'disable' of '_lsprof.Profiler' objects}\n",
      "\n",
      "\n",
      "         176 function calls (4 primitive calls) in 0.000 seconds\n",
      "\n",
      "   Ordered by: standard name\n",
      "\n",
      "   ncalls  tottime  percall  cumtime  percall filename:lineno(function)\n",
      "    173/1    0.000    0.000    0.000    0.000 <ipython-input-8-cb55afcb6a8e>:42(getPath)\n",
      "        1    0.000    0.000    0.000    0.000 <string>:1(<module>)\n",
      "        1    0.000    0.000    0.000    0.000 {built-in method builtins.exec}\n",
      "        1    0.000    0.000    0.000    0.000 {method 'disable' of '_lsprof.Profiler' objects}\n",
      "\n",
      "\n",
      "37024595836928\n"
     ]
    }
   ],
   "source": [
    "import cProfile\n",
    "\n",
    "#databench=generate_list('d16py1.txt')\n",
    "cProfile.run('d=getDifference(generate_list(\"input.txt\"))')\n",
    "print(d[1][0]*d[1][2])\n",
    "cProfile.run(\"graph=create_grah(d[2])\")\n",
    "memory={}\n",
    "cProfile.run(\"nbPath=getPath(0,d[0],graph,memory)\")\n",
    "print(nbPath)"
   ]
  },
  {
   "cell_type": "code",
   "execution_count": 22,
   "metadata": {},
   "outputs": [
    {
     "data": {
      "text/plain": [
       "[[1, 2], [3, 4], [5, 6], [7, 8]]"
      ]
     },
     "execution_count": 22,
     "metadata": {},
     "output_type": "execute_result"
    }
   ],
   "source": [
    "a=[[1,2],[3,4]]\n",
    "b=[[5,6],[7,8]]\n",
    "a+b"
   ]
  }
 ],
 "metadata": {
  "kernelspec": {
   "display_name": "Python 3",
   "language": "python",
   "name": "python3"
  },
  "language_info": {
   "codemirror_mode": {
    "name": "ipython",
    "version": 3
   },
   "file_extension": ".py",
   "mimetype": "text/x-python",
   "name": "python",
   "nbconvert_exporter": "python",
   "pygments_lexer": "ipython3",
   "version": "3.9.0"
  }
 },
 "nbformat": 4,
 "nbformat_minor": 2
}
